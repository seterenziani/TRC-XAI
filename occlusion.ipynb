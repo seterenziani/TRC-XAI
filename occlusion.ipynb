{
 "cells": [
  {
   "cell_type": "markdown",
   "metadata": {
    "id": "pMhiaGWWUVT4"
   },
   "source": [
    "## Installs"
   ]
  },
  {
   "cell_type": "code",
   "execution_count": 1,
   "metadata": {
    "colab": {
     "base_uri": "https://localhost:8080/"
    },
    "executionInfo": {
     "elapsed": 61149,
     "status": "ok",
     "timestamp": 1715617412889,
     "user": {
      "displayName": "Sofia Terenziani",
      "userId": "07918956272317491448"
     },
     "user_tz": -120
    },
    "id": "eXpgEa6yURfF",
    "outputId": "a361b4c0-6376-4e5e-d06e-686ae790415e"
   },
   "outputs": [
    {
     "name": "stdout",
     "output_type": "stream",
     "text": [
      "Collecting captum\n",
      "  Downloading captum-0.7.0-py3-none-any.whl (1.3 MB)\n",
      "\u001b[2K     \u001b[90m━━━━━━━━━━━━━━━━━━━━━━━━━━━━━━━━━━━━━━━━\u001b[0m \u001b[32m1.3/1.3 MB\u001b[0m \u001b[31m9.7 MB/s\u001b[0m eta \u001b[36m0:00:00\u001b[0m\n",
      "\u001b[?25hRequirement already satisfied: matplotlib in /usr/local/lib/python3.10/dist-packages (from captum) (3.7.1)\n",
      "Requirement already satisfied: numpy in /usr/local/lib/python3.10/dist-packages (from captum) (1.25.2)\n",
      "Requirement already satisfied: torch>=1.6 in /usr/local/lib/python3.10/dist-packages (from captum) (2.2.1+cu121)\n",
      "Requirement already satisfied: tqdm in /usr/local/lib/python3.10/dist-packages (from captum) (4.66.4)\n",
      "Requirement already satisfied: filelock in /usr/local/lib/python3.10/dist-packages (from torch>=1.6->captum) (3.14.0)\n",
      "Requirement already satisfied: typing-extensions>=4.8.0 in /usr/local/lib/python3.10/dist-packages (from torch>=1.6->captum) (4.11.0)\n",
      "Requirement already satisfied: sympy in /usr/local/lib/python3.10/dist-packages (from torch>=1.6->captum) (1.12)\n",
      "Requirement already satisfied: networkx in /usr/local/lib/python3.10/dist-packages (from torch>=1.6->captum) (3.3)\n",
      "Requirement already satisfied: jinja2 in /usr/local/lib/python3.10/dist-packages (from torch>=1.6->captum) (3.1.4)\n",
      "Requirement already satisfied: fsspec in /usr/local/lib/python3.10/dist-packages (from torch>=1.6->captum) (2023.6.0)\n",
      "Collecting nvidia-cuda-nvrtc-cu12==12.1.105 (from torch>=1.6->captum)\n",
      "  Using cached nvidia_cuda_nvrtc_cu12-12.1.105-py3-none-manylinux1_x86_64.whl (23.7 MB)\n",
      "Collecting nvidia-cuda-runtime-cu12==12.1.105 (from torch>=1.6->captum)\n",
      "  Using cached nvidia_cuda_runtime_cu12-12.1.105-py3-none-manylinux1_x86_64.whl (823 kB)\n",
      "Collecting nvidia-cuda-cupti-cu12==12.1.105 (from torch>=1.6->captum)\n",
      "  Using cached nvidia_cuda_cupti_cu12-12.1.105-py3-none-manylinux1_x86_64.whl (14.1 MB)\n",
      "Collecting nvidia-cudnn-cu12==8.9.2.26 (from torch>=1.6->captum)\n",
      "  Using cached nvidia_cudnn_cu12-8.9.2.26-py3-none-manylinux1_x86_64.whl (731.7 MB)\n",
      "Collecting nvidia-cublas-cu12==12.1.3.1 (from torch>=1.6->captum)\n",
      "  Using cached nvidia_cublas_cu12-12.1.3.1-py3-none-manylinux1_x86_64.whl (410.6 MB)\n",
      "Collecting nvidia-cufft-cu12==11.0.2.54 (from torch>=1.6->captum)\n",
      "  Using cached nvidia_cufft_cu12-11.0.2.54-py3-none-manylinux1_x86_64.whl (121.6 MB)\n",
      "Collecting nvidia-curand-cu12==10.3.2.106 (from torch>=1.6->captum)\n",
      "  Using cached nvidia_curand_cu12-10.3.2.106-py3-none-manylinux1_x86_64.whl (56.5 MB)\n",
      "Collecting nvidia-cusolver-cu12==11.4.5.107 (from torch>=1.6->captum)\n",
      "  Using cached nvidia_cusolver_cu12-11.4.5.107-py3-none-manylinux1_x86_64.whl (124.2 MB)\n",
      "Collecting nvidia-cusparse-cu12==12.1.0.106 (from torch>=1.6->captum)\n",
      "  Using cached nvidia_cusparse_cu12-12.1.0.106-py3-none-manylinux1_x86_64.whl (196.0 MB)\n",
      "Collecting nvidia-nccl-cu12==2.19.3 (from torch>=1.6->captum)\n",
      "  Using cached nvidia_nccl_cu12-2.19.3-py3-none-manylinux1_x86_64.whl (166.0 MB)\n",
      "Collecting nvidia-nvtx-cu12==12.1.105 (from torch>=1.6->captum)\n",
      "  Using cached nvidia_nvtx_cu12-12.1.105-py3-none-manylinux1_x86_64.whl (99 kB)\n",
      "Requirement already satisfied: triton==2.2.0 in /usr/local/lib/python3.10/dist-packages (from torch>=1.6->captum) (2.2.0)\n",
      "Collecting nvidia-nvjitlink-cu12 (from nvidia-cusolver-cu12==11.4.5.107->torch>=1.6->captum)\n",
      "  Using cached nvidia_nvjitlink_cu12-12.4.127-py3-none-manylinux2014_x86_64.whl (21.1 MB)\n",
      "Requirement already satisfied: contourpy>=1.0.1 in /usr/local/lib/python3.10/dist-packages (from matplotlib->captum) (1.2.1)\n",
      "Requirement already satisfied: cycler>=0.10 in /usr/local/lib/python3.10/dist-packages (from matplotlib->captum) (0.12.1)\n",
      "Requirement already satisfied: fonttools>=4.22.0 in /usr/local/lib/python3.10/dist-packages (from matplotlib->captum) (4.51.0)\n",
      "Requirement already satisfied: kiwisolver>=1.0.1 in /usr/local/lib/python3.10/dist-packages (from matplotlib->captum) (1.4.5)\n",
      "Requirement already satisfied: packaging>=20.0 in /usr/local/lib/python3.10/dist-packages (from matplotlib->captum) (24.0)\n",
      "Requirement already satisfied: pillow>=6.2.0 in /usr/local/lib/python3.10/dist-packages (from matplotlib->captum) (9.4.0)\n",
      "Requirement already satisfied: pyparsing>=2.3.1 in /usr/local/lib/python3.10/dist-packages (from matplotlib->captum) (3.1.2)\n",
      "Requirement already satisfied: python-dateutil>=2.7 in /usr/local/lib/python3.10/dist-packages (from matplotlib->captum) (2.8.2)\n",
      "Requirement already satisfied: six>=1.5 in /usr/local/lib/python3.10/dist-packages (from python-dateutil>=2.7->matplotlib->captum) (1.16.0)\n",
      "Requirement already satisfied: MarkupSafe>=2.0 in /usr/local/lib/python3.10/dist-packages (from jinja2->torch>=1.6->captum) (2.1.5)\n",
      "Requirement already satisfied: mpmath>=0.19 in /usr/local/lib/python3.10/dist-packages (from sympy->torch>=1.6->captum) (1.3.0)\n",
      "Installing collected packages: nvidia-nvtx-cu12, nvidia-nvjitlink-cu12, nvidia-nccl-cu12, nvidia-curand-cu12, nvidia-cufft-cu12, nvidia-cuda-runtime-cu12, nvidia-cuda-nvrtc-cu12, nvidia-cuda-cupti-cu12, nvidia-cublas-cu12, nvidia-cusparse-cu12, nvidia-cudnn-cu12, nvidia-cusolver-cu12, captum\n",
      "Successfully installed captum-0.7.0 nvidia-cublas-cu12-12.1.3.1 nvidia-cuda-cupti-cu12-12.1.105 nvidia-cuda-nvrtc-cu12-12.1.105 nvidia-cuda-runtime-cu12-12.1.105 nvidia-cudnn-cu12-8.9.2.26 nvidia-cufft-cu12-11.0.2.54 nvidia-curand-cu12-10.3.2.106 nvidia-cusolver-cu12-11.4.5.107 nvidia-cusparse-cu12-12.1.0.106 nvidia-nccl-cu12-2.19.3 nvidia-nvjitlink-cu12-12.4.127 nvidia-nvtx-cu12-12.1.105\n"
     ]
    }
   ],
   "source": [
    "!pip install captum"
   ]
  },
  {
   "cell_type": "code",
   "execution_count": 1,
   "metadata": {
    "colab": {
     "base_uri": "https://localhost:8080/"
    },
    "executionInfo": {
     "elapsed": 8020,
     "status": "ok",
     "timestamp": 1715617420902,
     "user": {
      "displayName": "Sofia Terenziani",
      "userId": "07918956272317491448"
     },
     "user_tz": -120
    },
    "id": "DsKvR39sUXIw",
    "outputId": "2b734539-4c0f-4e39-f6bb-48cd352f7c91"
   },
   "outputs": [],
   "source": [
    "#!pip install datasets"
   ]
  },
  {
   "cell_type": "markdown",
   "metadata": {
    "id": "rPFsPhtzUZId"
   },
   "source": [
    "## Imports"
   ]
  },
  {
   "cell_type": "code",
   "execution_count": 3,
   "metadata": {
    "executionInfo": {
     "elapsed": 412,
     "status": "ok",
     "timestamp": 1715617421293,
     "user": {
      "displayName": "Sofia Terenziani",
      "userId": "07918956272317491448"
     },
     "user_tz": -120
    },
    "id": "TnUnOEUOUbkd"
   },
   "outputs": [],
   "source": [
    "import pandas as pd"
   ]
  },
  {
   "cell_type": "code",
   "execution_count": 4,
   "metadata": {
    "executionInfo": {
     "elapsed": 2700,
     "status": "ok",
     "timestamp": 1715617423991,
     "user": {
      "displayName": "Sofia Terenziani",
      "userId": "07918956272317491448"
     },
     "user_tz": -120
    },
    "id": "ZP-as_3BUmTh"
   },
   "outputs": [],
   "source": [
    "import torch\n",
    "import torch.nn as nn\n",
    "from torch.nn.functional import softmax"
   ]
  },
  {
   "cell_type": "code",
   "execution_count": 5,
   "metadata": {
    "executionInfo": {
     "elapsed": 4,
     "status": "ok",
     "timestamp": 1715617423991,
     "user": {
      "displayName": "Sofia Terenziani",
      "userId": "07918956272317491448"
     },
     "user_tz": -120
    },
    "id": "Vs8-lvaSUrLS"
   },
   "outputs": [],
   "source": [
    "from captum.attr import Occlusion\n",
    "from captum.attr import visualization as viz"
   ]
  },
  {
   "cell_type": "code",
   "execution_count": 6,
   "metadata": {
    "executionInfo": {
     "elapsed": 1460,
     "status": "ok",
     "timestamp": 1715617425447,
     "user": {
      "displayName": "Sofia Terenziani",
      "userId": "07918956272317491448"
     },
     "user_tz": -120
    },
    "id": "ru15rRbgUegM"
   },
   "outputs": [],
   "source": [
    "from transformers import AutoTokenizer, BertForSequenceClassification\n",
    "from transformers import BertTokenizer, BertModel"
   ]
  },
  {
   "cell_type": "code",
   "execution_count": 7,
   "metadata": {
    "executionInfo": {
     "elapsed": 5,
     "status": "ok",
     "timestamp": 1715617425447,
     "user": {
      "displayName": "Sofia Terenziani",
      "userId": "07918956272317491448"
     },
     "user_tz": -120
    },
    "id": "ex0t1t9jdIMY"
   },
   "outputs": [],
   "source": [
    "import re"
   ]
  },
  {
   "cell_type": "code",
   "execution_count": null,
   "metadata": {},
   "outputs": [],
   "source": [
    "import itertools"
   ]
  },
  {
   "cell_type": "code",
   "execution_count": 9,
   "metadata": {
    "executionInfo": {
     "elapsed": 5,
     "status": "ok",
     "timestamp": 1715617443141,
     "user": {
      "displayName": "Sofia Terenziani",
      "userId": "07918956272317491448"
     },
     "user_tz": -120
    },
    "id": "dC9BWJl4VDkT"
   },
   "outputs": [],
   "source": [
    "device = torch.device('cuda' if torch.cuda.is_available() else 'cpu')"
   ]
  },
  {
   "cell_type": "code",
   "execution_count": null,
   "metadata": {},
   "outputs": [],
   "source": [
    "import os \n",
    "directory = \"occlusion\"\n",
    "parent_dir = \"results\"\n",
    "path = os.path.join(parent_dir, directory) "
   ]
  },
  {
   "cell_type": "markdown",
   "metadata": {
    "id": "4z83vRMqUxXi"
   },
   "source": [
    "## Import Model"
   ]
  },
  {
   "cell_type": "code",
   "execution_count": null,
   "metadata": {
    "id": "XcCZSpOiU25L"
   },
   "outputs": [],
   "source": [
    "import sys\n",
    "sys.path.append('model/code-bert/')\n",
    "from temporal_relation_classification import TemporalRelationClassification\n",
    "from temporal_relation_classification_config import TemporalRelationClassificationConfig"
   ]
  },
  {
   "cell_type": "code",
   "execution_count": null,
   "metadata": {
    "colab": {
     "base_uri": "https://localhost:8080/",
     "height": 226,
     "referenced_widgets": [
      "fd23e9e528fa4b7a9e8049038fb7224c",
      "61e9811c1723424db84b6b858799f1fb",
      "aca889a7b0114ab3b04160c8c5780108",
      "c725403dd8274daeafa7782d31f58444",
      "687a8450a00b482eaaad35bb6677a8a1",
      "34300480e0114f5cbc93eb725100a070",
      "4b8f1e7853114b96b14c6bbdde5c4e48",
      "5b9bffa0a7d541b98c6f8f54b8ea2e1d",
      "e282ba40eb064f91bf24eb4300562d79",
      "55591f0df40a429188d62b55096e1aaf",
      "7aaacc47ff97419aab44035c2c4fb2c2",
      "147f3ce03eb742adad02ae6444f2c62e",
      "84c70f85343a4bf88724d3d478551068",
      "e58e20d757a349eba27ac11d184e0c72",
      "0ee0f319e62b4528b640f8c1cfe8d877",
      "6e1f0234cd9e4b9180717aaeae64415e",
      "cbc149014b3941f18c3757af1885ab3e",
      "f97e0b41dfcf4194ad0ecea732f59d15",
      "af3f7df33453462da5b028ae2bd9c82b",
      "3332f7ea69fb48c3a78c22f503ea68ab",
      "50f60dcebf8045749a75ee22e92aac37",
      "60c4782eb1364a2eb5194b559ea0f972"
     ]
    },
    "executionInfo": {
     "elapsed": 17645,
     "status": "ok",
     "timestamp": 1715003247072,
     "user": {
      "displayName": "Sofia Terenziani",
      "userId": "07918956272317491448"
     },
     "user_tz": -120
    },
    "id": "y0xqQxMyU4j6",
    "outputId": "995bac8b-4045-4b46-b085-58a48f4d3f62"
   },
   "outputs": [
    {
     "name": "stderr",
     "output_type": "stream",
     "text": [
      "/usr/local/lib/python3.10/dist-packages/huggingface_hub/utils/_token.py:88: UserWarning: \n",
      "The secret `HF_TOKEN` does not exist in your Colab secrets.\n",
      "To authenticate with the Hugging Face Hub, create a token in your settings tab (https://huggingface.co/settings/tokens), set it as secret in your Google Colab and restart your session.\n",
      "You will be able to reuse this secret in all of your notebooks.\n",
      "Please note that authentication is recommended but still optional to access public models or datasets.\n",
      "  warnings.warn(\n"
     ]
    },
    {
     "data": {
      "application/vnd.jupyter.widget-view+json": {
       "model_id": "fd23e9e528fa4b7a9e8049038fb7224c",
       "version_major": 2,
       "version_minor": 0
      },
      "text/plain": [
       "config.json:   0%|          | 0.00/570 [00:00<?, ?B/s]"
      ]
     },
     "metadata": {},
     "output_type": "display_data"
    },
    {
     "data": {
      "application/vnd.jupyter.widget-view+json": {
       "model_id": "147f3ce03eb742adad02ae6444f2c62e",
       "version_major": 2,
       "version_minor": 0
      },
      "text/plain": [
       "model.safetensors:   0%|          | 0.00/440M [00:00<?, ?B/s]"
      ]
     },
     "metadata": {},
     "output_type": "display_data"
    },
    {
     "name": "stderr",
     "output_type": "stream",
     "text": [
      "Special tokens have been added in the vocabulary, make sure the associated word embeddings are fine-tuned or trained.\n"
     ]
    }
   ],
   "source": [
    "model_path = \"saved_models/bert-base-uncased-saved-model\"\n",
    "model = TemporalRelationClassification.from_pretrained(model_path)\n",
    "tokenizer = AutoTokenizer.from_pretrained(model_path)"
   ]
  },
  {
   "cell_type": "code",
   "execution_count": null,
   "metadata": {
    "colab": {
     "base_uri": "https://localhost:8080/"
    },
    "executionInfo": {
     "elapsed": 245,
     "status": "ok",
     "timestamp": 1715003252675,
     "user": {
      "displayName": "Sofia Terenziani",
      "userId": "07918956272317491448"
     },
     "user_tz": -120
    },
    "id": "LtsNHdKBU7SN",
    "outputId": "29a03921-ad81-42d5-9237-90aa6a8033a9"
   },
   "outputs": [
    {
     "data": {
      "text/plain": [
       "Embedding(30526, 768)"
      ]
     },
     "execution_count": 19,
     "metadata": {},
     "output_type": "execute_result"
    }
   ],
   "source": [
    "model.resize_token_embeddings(len(tokenizer))"
   ]
  },
  {
   "cell_type": "markdown",
   "metadata": {
    "id": "c0tyDGa8VMi5"
   },
   "source": [
    "## Initialise Model"
   ]
  },
  {
   "cell_type": "code",
   "execution_count": null,
   "metadata": {
    "colab": {
     "base_uri": "https://localhost:8080/"
    },
    "executionInfo": {
     "elapsed": 510,
     "status": "ok",
     "timestamp": 1715006315594,
     "user": {
      "displayName": "Sofia Terenziani",
      "userId": "07918956272317491448"
     },
     "user_tz": -120
    },
    "id": "MUCfcDcQVKx0",
    "outputId": "3a5c69b8-9e72-4e29-e23c-0034b7abfff5"
   },
   "outputs": [
    {
     "data": {
      "text/plain": [
       "TemporalRelationClassification(\n",
       "  (bert): BertModel(\n",
       "    (embeddings): BertEmbeddings(\n",
       "      (word_embeddings): Embedding(30526, 768)\n",
       "      (position_embeddings): Embedding(512, 768)\n",
       "      (token_type_embeddings): Embedding(2, 768)\n",
       "      (LayerNorm): LayerNorm((768,), eps=1e-12, elementwise_affine=True)\n",
       "      (dropout): Dropout(p=0.1, inplace=False)\n",
       "    )\n",
       "    (encoder): BertEncoder(\n",
       "      (layer): ModuleList(\n",
       "        (0-11): 12 x BertLayer(\n",
       "          (attention): BertAttention(\n",
       "            (self): BertSelfAttention(\n",
       "              (query): Linear(in_features=768, out_features=768, bias=True)\n",
       "              (key): Linear(in_features=768, out_features=768, bias=True)\n",
       "              (value): Linear(in_features=768, out_features=768, bias=True)\n",
       "              (dropout): Dropout(p=0.1, inplace=False)\n",
       "            )\n",
       "            (output): BertSelfOutput(\n",
       "              (dense): Linear(in_features=768, out_features=768, bias=True)\n",
       "              (LayerNorm): LayerNorm((768,), eps=1e-12, elementwise_affine=True)\n",
       "              (dropout): Dropout(p=0.1, inplace=False)\n",
       "            )\n",
       "          )\n",
       "          (intermediate): BertIntermediate(\n",
       "            (dense): Linear(in_features=768, out_features=3072, bias=True)\n",
       "            (intermediate_act_fn): GELUActivation()\n",
       "          )\n",
       "          (output): BertOutput(\n",
       "            (dense): Linear(in_features=3072, out_features=768, bias=True)\n",
       "            (LayerNorm): LayerNorm((768,), eps=1e-12, elementwise_affine=True)\n",
       "            (dropout): Dropout(p=0.1, inplace=False)\n",
       "          )\n",
       "        )\n",
       "      )\n",
       "    )\n",
       "    (pooler): BertPooler(\n",
       "      (dense): Linear(in_features=768, out_features=768, bias=True)\n",
       "      (activation): Tanh()\n",
       "    )\n",
       "  )\n",
       "  (dropout): Dropout(p=0.1, inplace=False)\n",
       "  (classifier): Linear(in_features=768, out_features=4, bias=True)\n",
       "  (post_transformer_1): Sequential(\n",
       "    (0): Linear(in_features=768, out_features=768, bias=True)\n",
       "    (1): Dropout(p=0.1, inplace=False)\n",
       "  )\n",
       "  (post_transformer_2): Sequential(\n",
       "    (0): Linear(in_features=768, out_features=768, bias=True)\n",
       "    (1): Dropout(p=0.1, inplace=False)\n",
       "  )\n",
       "  (relation_representation): Sequential(\n",
       "    (0): Linear(in_features=1536, out_features=768, bias=True)\n",
       "    (1): Dropout(p=0.1, inplace=False)\n",
       "  )\n",
       "  (classification_layer): Linear(in_features=768, out_features=4, bias=True)\n",
       ")"
      ]
     },
     "execution_count": 57,
     "metadata": {},
     "output_type": "execute_result"
    }
   ],
   "source": [
    "model.to(device)"
   ]
  },
  {
   "cell_type": "code",
   "execution_count": null,
   "metadata": {
    "colab": {
     "base_uri": "https://localhost:8080/"
    },
    "executionInfo": {
     "elapsed": 5,
     "status": "ok",
     "timestamp": 1715006315594,
     "user": {
      "displayName": "Sofia Terenziani",
      "userId": "07918956272317491448"
     },
     "user_tz": -120
    },
    "id": "JyFIfspPU-6d",
    "outputId": "90c29889-e2c8-4566-f943-67f6ad06f3db"
   },
   "outputs": [
    {
     "data": {
      "text/plain": [
       "TemporalRelationClassification(\n",
       "  (bert): BertModel(\n",
       "    (embeddings): BertEmbeddings(\n",
       "      (word_embeddings): Embedding(30526, 768)\n",
       "      (position_embeddings): Embedding(512, 768)\n",
       "      (token_type_embeddings): Embedding(2, 768)\n",
       "      (LayerNorm): LayerNorm((768,), eps=1e-12, elementwise_affine=True)\n",
       "      (dropout): Dropout(p=0.1, inplace=False)\n",
       "    )\n",
       "    (encoder): BertEncoder(\n",
       "      (layer): ModuleList(\n",
       "        (0-11): 12 x BertLayer(\n",
       "          (attention): BertAttention(\n",
       "            (self): BertSelfAttention(\n",
       "              (query): Linear(in_features=768, out_features=768, bias=True)\n",
       "              (key): Linear(in_features=768, out_features=768, bias=True)\n",
       "              (value): Linear(in_features=768, out_features=768, bias=True)\n",
       "              (dropout): Dropout(p=0.1, inplace=False)\n",
       "            )\n",
       "            (output): BertSelfOutput(\n",
       "              (dense): Linear(in_features=768, out_features=768, bias=True)\n",
       "              (LayerNorm): LayerNorm((768,), eps=1e-12, elementwise_affine=True)\n",
       "              (dropout): Dropout(p=0.1, inplace=False)\n",
       "            )\n",
       "          )\n",
       "          (intermediate): BertIntermediate(\n",
       "            (dense): Linear(in_features=768, out_features=3072, bias=True)\n",
       "            (intermediate_act_fn): GELUActivation()\n",
       "          )\n",
       "          (output): BertOutput(\n",
       "            (dense): Linear(in_features=3072, out_features=768, bias=True)\n",
       "            (LayerNorm): LayerNorm((768,), eps=1e-12, elementwise_affine=True)\n",
       "            (dropout): Dropout(p=0.1, inplace=False)\n",
       "          )\n",
       "        )\n",
       "      )\n",
       "    )\n",
       "    (pooler): BertPooler(\n",
       "      (dense): Linear(in_features=768, out_features=768, bias=True)\n",
       "      (activation): Tanh()\n",
       "    )\n",
       "  )\n",
       "  (dropout): Dropout(p=0.1, inplace=False)\n",
       "  (classifier): Linear(in_features=768, out_features=4, bias=True)\n",
       "  (post_transformer_1): Sequential(\n",
       "    (0): Linear(in_features=768, out_features=768, bias=True)\n",
       "    (1): Dropout(p=0.1, inplace=False)\n",
       "  )\n",
       "  (post_transformer_2): Sequential(\n",
       "    (0): Linear(in_features=768, out_features=768, bias=True)\n",
       "    (1): Dropout(p=0.1, inplace=False)\n",
       "  )\n",
       "  (relation_representation): Sequential(\n",
       "    (0): Linear(in_features=1536, out_features=768, bias=True)\n",
       "    (1): Dropout(p=0.1, inplace=False)\n",
       "  )\n",
       "  (classification_layer): Linear(in_features=768, out_features=4, bias=True)\n",
       ")"
      ]
     },
     "execution_count": 58,
     "metadata": {},
     "output_type": "execute_result"
    }
   ],
   "source": [
    "model.eval()"
   ]
  },
  {
   "cell_type": "markdown",
   "metadata": {
    "id": "fF_4S3yvVdNw"
   },
   "source": [
    "## Import Dataset"
   ]
  },
  {
   "cell_type": "code",
   "execution_count": null,
   "metadata": {
    "id": "NpXGyPwtVA4K"
   },
   "outputs": [],
   "source": [
    "original = pd.read_csv('data/annotated/partitions.csv')\n",
    "counterfactual = pd.read_csv('data/annotated/counterfactuals.csv')"
   ]
  },
  {
   "cell_type": "markdown",
   "metadata": {
    "id": "Fc-Y8uJEu6-u"
   },
   "source": [
    "## Process Original"
   ]
  },
  {
   "cell_type": "code",
   "execution_count": null,
   "metadata": {
    "id": "SiZAnRVAbu2L"
   },
   "outputs": [],
   "source": [
    "label_mapping = {\n",
    "    'BEFORE': 0,\n",
    "    'AFTER': 1,\n",
    "    'EQUAL': 2,\n",
    "    'VAGUE': 3\n",
    "}"
   ]
  },
  {
   "cell_type": "code",
   "execution_count": null,
   "metadata": {
    "id": "DsDjNEl_bnhz"
   },
   "outputs": [],
   "source": [
    "def tokenize(text):\n",
    "    return tokenizer(text, max_length=508, truncation=True, return_tensors='pt')\n",
    "\n",
    "def annotate_text(row):\n",
    "    context = row['context']\n",
    "    eventA = re.escape(row['eventA'])\n",
    "    eventB = re.escape(row['eventB'])\n",
    "\n",
    "    # Make sure the longer event is replaced first if they overlap\n",
    "    if len(eventA) > len(eventB):\n",
    "        context = re.sub(eventA, f\"[a1]{row['eventA']}[/a1]\", context)\n",
    "        context = re.sub(eventB, f\"[a2]{row['eventB']}[/a2]\", context)\n",
    "    else:\n",
    "        context = re.sub(eventB, f\"[a2]{row['eventB']}[/a2]\", context)\n",
    "        context = re.sub(eventA, f\"[a1]{row['eventA']}[/a1]\", context)\n",
    "\n",
    "    return context"
   ]
  },
  {
   "cell_type": "code",
   "execution_count": null,
   "metadata": {
    "id": "rtHewSvwbvff"
   },
   "outputs": [],
   "source": [
    "original['label'] = original['label_temp'].map(label_mapping)"
   ]
  },
  {
   "cell_type": "code",
   "execution_count": null,
   "metadata": {
    "id": "LNzA0CGvcGiG"
   },
   "outputs": [],
   "source": [
    "original['annotated_context'] = original.apply(annotate_text, axis=1)"
   ]
  },
  {
   "cell_type": "code",
   "execution_count": null,
   "metadata": {
    "id": "p723eu1KdabS"
   },
   "outputs": [],
   "source": [
    "def tokenize_and_extract_ids(text):\n",
    "    max_length_value = 508\n",
    "    inputs = tokenizer(text, truncation=True, max_length=max_length_value, return_tensors=\"pt\")\n",
    "    return inputs['input_ids'][0].tolist()\n",
    "\n",
    "required_ids = {30522, 30523, 30524, 30525}\n",
    "def check_required_ids(input_ids, required_ids):\n",
    "    input_set = set(input_ids)\n",
    "    return required_ids.issubset(input_set)"
   ]
  },
  {
   "cell_type": "code",
   "execution_count": null,
   "metadata": {
    "id": "EuRPdjGBcjPI"
   },
   "outputs": [],
   "source": [
    "# Apply the function to each row in the DataFrame and create a new column\n",
    "original['input_ids'] = original['annotated_context'].apply(tokenize_and_extract_ids)"
   ]
  },
  {
   "cell_type": "code",
   "execution_count": null,
   "metadata": {
    "id": "6pNCXzVtLREq"
   },
   "outputs": [],
   "source": [
    "def string_to_list(s):\n",
    "    return [token.strip() for token in s.strip('{}').split(',')]\n",
    "\n",
    "original['pos_partition'] = original['pos_partition'].apply(string_to_list)"
   ]
  },
  {
   "cell_type": "code",
   "execution_count": null,
   "metadata": {
    "id": "R20N67RtKhuM"
   },
   "outputs": [],
   "source": [
    "def calculate_neg_partition(row):\n",
    "    context_tokens = set(row['context'].split())\n",
    "    pos_tokens = set(row['pos_partition'])\n",
    "    neg_tokens = context_tokens - pos_tokens\n",
    "    return neg_tokens\n",
    "\n",
    "original['neg_partition'] = original.apply(calculate_neg_partition, axis=1)\n",
    "original['neg_partition'] = original['neg_partition'].apply(list)"
   ]
  },
  {
   "cell_type": "markdown",
   "metadata": {
    "id": "OsqJ3lCgvB-R"
   },
   "source": [
    "## Process Counterfactuals"
   ]
  },
  {
   "cell_type": "code",
   "execution_count": null,
   "metadata": {
    "id": "EZinzZxNvB-R"
   },
   "outputs": [],
   "source": [
    "label_mapping = {\n",
    "    'BEFORE': 0,\n",
    "    'AFTER': 1,\n",
    "    'EQUAL': 2,\n",
    "    'VAGUE': 3\n",
    "}"
   ]
  },
  {
   "cell_type": "code",
   "execution_count": null,
   "metadata": {
    "id": "5ORiWVIPvB-R"
   },
   "outputs": [],
   "source": [
    "def tokenize(text):\n",
    "    return tokenizer(text, max_length=508, truncation=True, return_tensors='pt')\n",
    "\n",
    "def annotate_text(row):\n",
    "    context = row['counterfactual']\n",
    "    eventA = re.escape(row['eventA'])\n",
    "    eventB = re.escape(row['eventB'])\n",
    "\n",
    "    # Make sure the longer event is replaced first if they overlap\n",
    "    if len(eventA) > len(eventB):\n",
    "        context = re.sub(eventA, f\"[a1]{row['eventA']}[/a1]\", context)\n",
    "        context = re.sub(eventB, f\"[a2]{row['eventB']}[/a2]\", context)\n",
    "    else:\n",
    "        context = re.sub(eventB, f\"[a2]{row['eventB']}[/a2]\", context)\n",
    "        context = re.sub(eventA, f\"[a1]{row['eventA']}[/a1]\", context)\n",
    "\n",
    "    return context"
   ]
  },
  {
   "cell_type": "code",
   "execution_count": null,
   "metadata": {
    "id": "C04iFB50vB-S"
   },
   "outputs": [],
   "source": [
    "counterfactual['label'] = counterfactual['new_temp'].map(label_mapping)"
   ]
  },
  {
   "cell_type": "code",
   "execution_count": null,
   "metadata": {
    "id": "XWblnrxWvB-S"
   },
   "outputs": [],
   "source": [
    "counterfactual['annotated_context'] = counterfactual.apply(annotate_text, axis=1)"
   ]
  },
  {
   "cell_type": "code",
   "execution_count": null,
   "metadata": {
    "id": "0Zh3Gs29vB-S"
   },
   "outputs": [],
   "source": [
    "def tokenize_and_extract_ids(text):\n",
    "    max_length_value = 508\n",
    "    inputs = tokenizer(text, truncation=True, max_length=max_length_value, return_tensors=\"pt\")\n",
    "    return inputs['input_ids'][0].tolist()\n",
    "\n",
    "counterfactual['input_ids'] = counterfactual['annotated_context'].apply(tokenize_and_extract_ids)"
   ]
  },
  {
   "cell_type": "code",
   "execution_count": null,
   "metadata": {
    "id": "tDXh332WvB-U"
   },
   "outputs": [],
   "source": [
    "def string_to_list(s):\n",
    "    return [token.strip() for token in s.strip('{}').split(',')]\n",
    "\n",
    "counterfactual['pos_partition'] = counterfactual['pos_partition'].apply(string_to_list)"
   ]
  },
  {
   "cell_type": "markdown",
   "metadata": {
    "id": "r5Q5vrfTbcDa"
   },
   "source": [
    "## Occlusion Function"
   ]
  },
  {
   "cell_type": "code",
   "execution_count": null,
   "metadata": {
    "id": "Vfg5nB38lcBJ"
   },
   "outputs": [],
   "source": [
    "def occlusion_sensitivity(model, input_ids, attention_mask, tokenizer):\n",
    "    model.eval()\n",
    "\n",
    "    with torch.no_grad():\n",
    "        original_logits = model(input_ids=input_ids, attention_mask=attention_mask)[0]\n",
    "        original_probs = torch.softmax(original_logits, dim=-1)\n",
    "\n",
    "    attention = []\n",
    "    special_token_ids = [30522, 30523, 30524, 30525]  # Adjust as needed\n",
    "    mask_token_id = tokenizer.convert_tokens_to_ids('[MASK]')\n",
    "    for index in range(1, input_ids.size(1)):  # Adjust if you need to skip different tokens\n",
    "        if input_ids[0, index].item() in special_token_ids:\n",
    "            continue\n",
    "        occluded_input_ids = input_ids.clone()\n",
    "        occluded_input_ids[0, index] = mask_token_id  # Ensure device match\n",
    "\n",
    "        with torch.no_grad():\n",
    "            occluded_logits = model(input_ids=occluded_input_ids, attention_mask=attention_mask)[0]\n",
    "            occluded_probs = torch.softmax(occluded_logits, dim=-1)\n",
    "\n",
    "        prob_change = torch.abs(original_probs - occluded_probs)\n",
    "        attention.append(prob_change.cpu().numpy().tolist())  # Move back to CPU if necessary for further processing\n",
    "\n",
    "    return attention"
   ]
  },
  {
   "cell_type": "code",
   "execution_count": null,
   "metadata": {
    "id": "e-JRno0AnGKf"
   },
   "outputs": [],
   "source": [
    "def tokenisation(text, tokenizer, device='cuda'):\n",
    "    special_tokens_dict = {'additional_special_tokens': ['[a1]', '[/a1]', '[a2]', '[/a2]']}\n",
    "    tokenizer = AutoTokenizer.from_pretrained('bert-base-uncased')\n",
    "    tokenizer.add_special_tokens(special_tokens_dict)\n",
    "\n",
    "    encoded_input = tokenizer(text, max_length=508, truncation=True, padding='max_length', return_tensors='pt')\n",
    "    input_ids = encoded_input['input_ids'].to(device)\n",
    "    attention_mask = encoded_input.get('attention_mask', None).to(device) if encoded_input.get('attention_mask', None) is not None else None\n",
    "    token_type_ids = encoded_input.get('token_type_ids', None).to(device) if encoded_input.get('token_type_ids', None) is not None else None\n",
    "    return input_ids, attention_mask, token_type_ids\n"
   ]
  },
  {
   "cell_type": "markdown",
   "metadata": {},
   "source": [
    "## Calculate Occlusion Original"
   ]
  },
  {
   "cell_type": "code",
   "execution_count": null,
   "metadata": {
    "colab": {
     "base_uri": "https://localhost:8080/"
    },
    "executionInfo": {
     "elapsed": 1137195,
     "status": "ok",
     "timestamp": 1715007653404,
     "user": {
      "displayName": "Sofia Terenziani",
      "userId": "07918956272317491448"
     },
     "user_tz": -120
    },
    "id": "A-GHD-Fdo8iu",
    "outputId": "d47c0d85-60c5-455e-b225-c7b1f7dc6e3f"
   },
   "outputs": [
    {
     "name": "stdout",
     "output_type": "stream",
     "text": [
      "0\n",
      "1\n",
      "2\n",
      "3\n",
      "4\n",
      "5\n",
      "6\n",
      "7\n",
      "8\n",
      "9\n",
      "10\n",
      "11\n",
      "12\n",
      "13\n",
      "14\n",
      "15\n",
      "16\n",
      "17\n",
      "18\n",
      "19\n",
      "20\n",
      "21\n",
      "22\n",
      "23\n",
      "24\n",
      "25\n",
      "26\n",
      "27\n",
      "28\n",
      "29\n",
      "30\n",
      "31\n",
      "32\n",
      "33\n",
      "34\n",
      "35\n",
      "36\n",
      "37\n",
      "38\n",
      "39\n",
      "40\n",
      "41\n",
      "42\n",
      "43\n",
      "44\n",
      "45\n",
      "46\n",
      "47\n",
      "48\n",
      "49\n",
      "50\n",
      "51\n",
      "52\n",
      "53\n",
      "54\n",
      "55\n",
      "56\n",
      "57\n",
      "58\n",
      "59\n",
      "60\n",
      "61\n",
      "62\n",
      "63\n",
      "64\n",
      "65\n",
      "66\n",
      "67\n",
      "68\n",
      "69\n",
      "70\n",
      "71\n",
      "72\n",
      "73\n",
      "74\n",
      "75\n",
      "76\n",
      "77\n",
      "78\n",
      "79\n",
      "80\n",
      "81\n",
      "82\n",
      "83\n",
      "84\n",
      "85\n",
      "86\n",
      "87\n",
      "88\n",
      "89\n",
      "90\n",
      "91\n",
      "92\n",
      "93\n",
      "94\n",
      "95\n",
      "96\n",
      "97\n",
      "98\n",
      "99\n",
      "100\n",
      "101\n",
      "102\n",
      "103\n",
      "104\n",
      "105\n",
      "106\n",
      "107\n",
      "108\n",
      "109\n",
      "110\n",
      "111\n",
      "112\n",
      "113\n",
      "114\n",
      "115\n",
      "116\n",
      "117\n",
      "118\n",
      "119\n",
      "120\n",
      "121\n",
      "122\n",
      "123\n",
      "124\n",
      "125\n",
      "126\n",
      "127\n",
      "128\n",
      "129\n",
      "130\n",
      "131\n",
      "132\n",
      "133\n",
      "134\n",
      "135\n",
      "136\n",
      "137\n",
      "138\n",
      "139\n",
      "140\n",
      "141\n",
      "142\n",
      "143\n",
      "144\n",
      "145\n",
      "146\n",
      "147\n",
      "148\n",
      "149\n",
      "150\n",
      "151\n",
      "152\n",
      "153\n",
      "154\n",
      "155\n",
      "156\n",
      "157\n",
      "158\n",
      "159\n",
      "160\n",
      "161\n",
      "162\n",
      "163\n",
      "164\n",
      "165\n",
      "166\n",
      "167\n",
      "168\n",
      "169\n",
      "170\n",
      "171\n",
      "172\n",
      "173\n",
      "174\n",
      "175\n",
      "176\n",
      "177\n",
      "178\n",
      "179\n",
      "180\n",
      "181\n",
      "182\n",
      "183\n",
      "184\n",
      "185\n",
      "186\n",
      "187\n",
      "188\n",
      "189\n",
      "190\n",
      "191\n",
      "192\n",
      "193\n",
      "194\n",
      "195\n"
     ]
    }
   ],
   "source": [
    "occlusion_details_original = []\n",
    "for index, row in original_filtered.iterrows():\n",
    "    print(index)\n",
    "    text = row['annotated_context']\n",
    "    input_ids, attention_mask, token_type_ids = tokenisation(text, tokenizer, device)\n",
    "    attributions = occlusion_sensitivity(model, input_ids, attention_mask, tokenizer)\n",
    "    flattened_attributions = list(itertools.chain.from_iterable(attributions))\n",
    "\n",
    "    tokens = tokenizer.convert_ids_to_tokens(input_ids[0])\n",
    "    word_attributions = list(zip(tokens, flattened_attributions))\n",
    "\n",
    "    occlusion_details_original.append({\n",
    "        \"index\": index,\n",
    "        \"text\": text,\n",
    "        \"word_attributions\": word_attributions\n",
    "    })"
   ]
  },
  {
   "cell_type": "code",
   "execution_count": null,
   "metadata": {
    "colab": {
     "base_uri": "https://localhost:8080/"
    },
    "executionInfo": {
     "elapsed": 254,
     "status": "ok",
     "timestamp": 1715007653657,
     "user": {
      "displayName": "Sofia Terenziani",
      "userId": "07918956272317491448"
     },
     "user_tz": -120
    },
    "id": "ArckaPBOWI6V",
    "outputId": "1bca41fc-b651-425a-bb1e-dbb963c27b8e"
   },
   "outputs": [
    {
     "name": "stdout",
     "output_type": "stream",
     "text": [
      "     index                                               text  \\\n",
      "0        0  Israeli Prime Minister Benjamin Netanyahu apol...   \n",
      "1        1  Israeli Prime Minister Benjamin Netanyahu apol...   \n",
      "2        2  Israeli Prime Minister Benjamin Netanyahu apol...   \n",
      "3        3  Israeli Prime Minister Benjamin Netanyahu apol...   \n",
      "4        4  Israeli Prime Minister Benjamin Netanyahu apol...   \n",
      "..     ...                                                ...   \n",
      "191    191  The FAA on Friday announced it will close 149 ...   \n",
      "192    192  The flu season is winding down, and it has kil...   \n",
      "193    193  Our digital age is all about bits, those preci...   \n",
      "194    194  A Cyprus exit from the euro union, if it comes...   \n",
      "195    195  Israel's prime minister has apologised to Turk...   \n",
      "\n",
      "                                     word_attributions  \n",
      "0    [([CLS], [0.00022900104522705078, 9.1499103405...  \n",
      "1    [([CLS], [0.0, 9.868547934399358e-16, 7.659872...  \n",
      "2    [([CLS], [8.606988899373391e-09, 0.00252905860...  \n",
      "3    [([CLS], [8.206833650159506e-13, 5.20073808729...  \n",
      "4    [([CLS], [0.0001717209815979004, 1.55469592755...  \n",
      "..                                                 ...  \n",
      "191  [([CLS], [0.0007083415985107422, 1.75064600131...  \n",
      "192  [([CLS], [0.0, 8.575761251674522e-17, 2.196014...  \n",
      "193  [([CLS], [0.0037949085235595703, 6.72368332743...  \n",
      "194  [([CLS], [0.00895480066537857, 0.0034647248685...  \n",
      "195  [([CLS], [2.3365020751953125e-05, 4.7326519195...  \n",
      "\n",
      "[196 rows x 3 columns]\n"
     ]
    }
   ],
   "source": [
    "occlusion_original_df = pd.DataFrame(occlusion_details_original)\n",
    "print(occlusion_original_df)"
   ]
  },
  {
   "cell_type": "code",
   "execution_count": null,
   "metadata": {
    "id": "GWPJ_DtRWPIi"
   },
   "outputs": [],
   "source": [
    "original['index'] = original.index\n",
    "occlusion_original_df['index'] =  occlusion_original_df.index\n",
    "original = original.reset_index(drop=True)"
   ]
  },
  {
   "cell_type": "code",
   "execution_count": null,
   "metadata": {
    "colab": {
     "base_uri": "https://localhost:8080/"
    },
    "executionInfo": {
     "elapsed": 399,
     "status": "ok",
     "timestamp": 1715007654054,
     "user": {
      "displayName": "Sofia Terenziani",
      "userId": "07918956272317491448"
     },
     "user_tz": -120
    },
    "id": "fPNIQXgeWSG6",
    "outputId": "ac6c84a1-a787-48d4-c2e8-a95d6ff5f3d9"
   },
   "outputs": [
    {
     "name": "stdout",
     "output_type": "stream",
     "text": [
      "     index                                               text  \\\n",
      "0        0  Israeli Prime Minister Benjamin Netanyahu apol...   \n",
      "1        1  Israeli Prime Minister Benjamin Netanyahu apol...   \n",
      "2        2  Israeli Prime Minister Benjamin Netanyahu apol...   \n",
      "3        3  Israeli Prime Minister Benjamin Netanyahu apol...   \n",
      "4        4  Israeli Prime Minister Benjamin Netanyahu apol...   \n",
      "..     ...                                                ...   \n",
      "191    191  The FAA on Friday announced it will close 149 ...   \n",
      "192    192  The flu season is winding down, and it has kil...   \n",
      "193    193  Our digital age is all about bits, those preci...   \n",
      "194    194  A Cyprus exit from the euro union, if it comes...   \n",
      "195    195  Israel's prime minister has apologised to Turk...   \n",
      "\n",
      "                                     word_attributions  label  \n",
      "0    [([CLS], [0.00022900104522705078, 9.1499103405...      1  \n",
      "1    [([CLS], [0.0, 9.868547934399358e-16, 7.659872...      0  \n",
      "2    [([CLS], [8.606988899373391e-09, 0.00252905860...      1  \n",
      "3    [([CLS], [8.206833650159506e-13, 5.20073808729...      1  \n",
      "4    [([CLS], [0.0001717209815979004, 1.55469592755...      0  \n",
      "..                                                 ...    ...  \n",
      "191  [([CLS], [0.0007083415985107422, 1.75064600131...      0  \n",
      "192  [([CLS], [0.0, 8.575761251674522e-17, 2.196014...      0  \n",
      "193  [([CLS], [0.0037949085235595703, 6.72368332743...      3  \n",
      "194  [([CLS], [0.00895480066537857, 0.0034647248685...      3  \n",
      "195  [([CLS], [2.3365020751953125e-05, 4.7326519195...      3  \n",
      "\n",
      "[196 rows x 4 columns]\n"
     ]
    }
   ],
   "source": [
    "occlusion_original_df['label'] = original['label']\n",
    "print(occlusion_original_df)"
   ]
  },
  {
   "cell_type": "code",
   "execution_count": null,
   "metadata": {
    "id": "9eqrRLHNWTnc"
   },
   "outputs": [],
   "source": [
    "occlusion_original_df.to_csv('results/occlusion/occlusion-og-bert-base.csv', index=False)"
   ]
  },
  {
   "cell_type": "markdown",
   "metadata": {
    "id": "uf1G17kjvh0f"
   },
   "source": [
    "## Calculate Occlusion Counterfactuals"
   ]
  },
  {
   "cell_type": "code",
   "execution_count": null,
   "metadata": {
    "colab": {
     "base_uri": "https://localhost:8080/"
    },
    "executionInfo": {
     "elapsed": 1140108,
     "status": "ok",
     "timestamp": 1715008857577,
     "user": {
      "displayName": "Sofia Terenziani",
      "userId": "07918956272317491448"
     },
     "user_tz": -120
    },
    "id": "309S_Jc1vh0g",
    "outputId": "d12becd5-4289-451e-cd65-067ba7e32eb3"
   },
   "outputs": [
    {
     "name": "stdout",
     "output_type": "stream",
     "text": [
      "0\n",
      "1\n",
      "2\n",
      "3\n",
      "4\n",
      "5\n",
      "6\n",
      "7\n",
      "8\n",
      "9\n",
      "10\n",
      "11\n",
      "12\n",
      "13\n",
      "14\n",
      "15\n",
      "16\n",
      "17\n",
      "18\n",
      "19\n",
      "20\n",
      "21\n",
      "22\n",
      "23\n",
      "24\n",
      "25\n",
      "26\n",
      "27\n",
      "28\n",
      "29\n",
      "30\n",
      "31\n",
      "32\n",
      "33\n",
      "34\n",
      "35\n",
      "36\n",
      "37\n",
      "38\n",
      "39\n",
      "40\n",
      "41\n",
      "42\n",
      "43\n",
      "44\n",
      "45\n",
      "46\n",
      "47\n",
      "48\n",
      "49\n",
      "50\n",
      "51\n",
      "52\n",
      "53\n",
      "54\n",
      "55\n",
      "56\n",
      "57\n",
      "58\n",
      "59\n",
      "60\n",
      "61\n",
      "62\n",
      "63\n",
      "64\n",
      "65\n",
      "66\n",
      "67\n",
      "68\n",
      "69\n",
      "70\n",
      "71\n",
      "72\n",
      "73\n",
      "74\n",
      "75\n",
      "76\n",
      "77\n",
      "78\n",
      "79\n",
      "80\n",
      "81\n",
      "82\n",
      "83\n",
      "84\n",
      "85\n",
      "86\n",
      "87\n",
      "88\n",
      "89\n",
      "90\n",
      "91\n",
      "92\n",
      "93\n",
      "94\n",
      "95\n",
      "96\n",
      "97\n",
      "98\n",
      "99\n",
      "100\n",
      "101\n",
      "102\n",
      "103\n",
      "104\n",
      "105\n",
      "106\n",
      "107\n",
      "108\n",
      "109\n",
      "110\n",
      "111\n",
      "112\n",
      "113\n",
      "114\n",
      "115\n",
      "116\n",
      "117\n",
      "118\n",
      "119\n",
      "120\n",
      "121\n",
      "122\n",
      "123\n",
      "124\n",
      "125\n",
      "126\n",
      "127\n",
      "128\n",
      "129\n",
      "130\n",
      "131\n",
      "132\n",
      "133\n",
      "134\n",
      "135\n",
      "136\n",
      "137\n",
      "138\n",
      "139\n",
      "140\n",
      "141\n",
      "142\n",
      "143\n",
      "144\n",
      "145\n",
      "146\n",
      "147\n",
      "148\n",
      "149\n",
      "150\n",
      "151\n",
      "152\n",
      "153\n",
      "154\n",
      "155\n",
      "156\n",
      "157\n",
      "158\n",
      "159\n",
      "160\n",
      "161\n",
      "162\n",
      "163\n",
      "164\n",
      "165\n",
      "166\n",
      "167\n",
      "168\n",
      "169\n",
      "170\n",
      "171\n",
      "172\n",
      "173\n",
      "174\n",
      "175\n",
      "176\n",
      "177\n",
      "178\n",
      "179\n",
      "180\n",
      "181\n",
      "182\n",
      "183\n",
      "184\n",
      "185\n",
      "186\n",
      "187\n",
      "188\n",
      "189\n",
      "190\n",
      "191\n",
      "192\n",
      "193\n",
      "194\n",
      "195\n"
     ]
    }
   ],
   "source": [
    "occlusion_details_counterfactuals = []\n",
    "for index, row in counterfactuals.iterrows():\n",
    "    print(index)\n",
    "    text = row['annotated_context']\n",
    "    input_ids, attention_mask, token_type_ids = tokenisation(text, tokenizer, device)\n",
    "    attributions = occlusion_sensitivity(model, input_ids, attention_mask, tokenizer)\n",
    "    flattened_attributions = list(itertools.chain.from_iterable(attributions))\n",
    "\n",
    "    tokens = tokenizer.convert_ids_to_tokens(input_ids[0])\n",
    "    word_attributions = list(zip(tokens, flattened_attributions))\n",
    "\n",
    "    occlusion_details_original.append({\n",
    "        \"index\": index,\n",
    "        \"text\": text,\n",
    "        \"word_attributions\": word_attributions\n",
    "    })"
   ]
  },
  {
   "cell_type": "code",
   "execution_count": null,
   "metadata": {
    "colab": {
     "base_uri": "https://localhost:8080/"
    },
    "executionInfo": {
     "elapsed": 15,
     "status": "ok",
     "timestamp": 1715008857578,
     "user": {
      "displayName": "Sofia Terenziani",
      "userId": "07918956272317491448"
     },
     "user_tz": -120
    },
    "id": "1-fYrwiswWI9",
    "outputId": "6a9c95da-0522-4850-fb65-7fdbe6c8f33f"
   },
   "outputs": [
    {
     "name": "stdout",
     "output_type": "stream",
     "text": [
      "     index                                               text  \\\n",
      "0        0  Israeli Prime Minister Benjamin Netanyahu apol...   \n",
      "1        1  Israeli Prime Minister Benjamin Netanyahu apol...   \n",
      "2        2  Israeli Prime Minister Benjamin Netanyahu apol...   \n",
      "3        3  Israeli Prime Minister Benjamin Netanyahu apol...   \n",
      "4        4  Israeli Prime Minister Benjamin Netanyahu apol...   \n",
      "..     ...                                                ...   \n",
      "191    191  The FAA on Friday announced it will close 149 ...   \n",
      "192    192  The flu season is winding down, and it has kil...   \n",
      "193    193  Our digital age is all about bits, those preci...   \n",
      "194    194  A Cyprus exit from the euro union, if it comes...   \n",
      "195    195  Israel's prime minister has apologised to Turk...   \n",
      "\n",
      "                                     word_attributions  \n",
      "0    [([CLS], [0.00023305416107177734, 9.1402625912...  \n",
      "1    [([CLS], [0.0, 2.722094231595629e-19, 8.990336...  \n",
      "2    [([CLS], [7.249158443300985e-06, 0.02413415908...  \n",
      "3    [([CLS], [8.256535646150587e-13, 0.00025666505...  \n",
      "4    [([CLS], [0.0, 7.976175275814512e-12, 3.168808...  \n",
      "..                                                 ...  \n",
      "191  [([CLS], [0.06005144119262695, 1.5915619933082...  \n",
      "192  [([CLS], [0.0011274931021034718, 0.00286144018...  \n",
      "193  [([CLS], [6.689147298200482e-16, 0.0, 5.284112...  \n",
      "194  [([CLS], [1.1920928955078125e-07, 3.6066372111...  \n",
      "195  [([CLS], [0.004068389069288969, 0.005965709686...  \n",
      "\n",
      "[196 rows x 3 columns]\n"
     ]
    }
   ],
   "source": [
    "occlusion_counter_df = pd.DataFrame(occlusion_details_original)\n",
    "print(occlusion_counter_df)"
   ]
  },
  {
   "cell_type": "code",
   "execution_count": null,
   "metadata": {
    "id": "Vi-Lt4yvwc2N"
   },
   "outputs": [],
   "source": [
    "counterfactuals['index'] = df_counter_fintered.index\n",
    "occlusion_counter_df['index'] =  occlusion_counter_df.index\n",
    "counterfactuals = counterfactuals.reset_index(drop=True)"
   ]
  },
  {
   "cell_type": "code",
   "execution_count": null,
   "metadata": {
    "colab": {
     "base_uri": "https://localhost:8080/"
    },
    "executionInfo": {
     "elapsed": 442,
     "status": "ok",
     "timestamp": 1715008858006,
     "user": {
      "displayName": "Sofia Terenziani",
      "userId": "07918956272317491448"
     },
     "user_tz": -120
    },
    "id": "ITPa0Xj5wc2O",
    "outputId": "050c1c00-6f9f-443b-b453-7e2d3f4109a9"
   },
   "outputs": [
    {
     "name": "stdout",
     "output_type": "stream",
     "text": [
      "     index                                               text  \\\n",
      "0        0  Israeli Prime Minister Benjamin Netanyahu apol...   \n",
      "1        1  Israeli Prime Minister Benjamin Netanyahu apol...   \n",
      "2        2  Israeli Prime Minister Benjamin Netanyahu apol...   \n",
      "3        3  Israeli Prime Minister Benjamin Netanyahu apol...   \n",
      "4        4  Israeli Prime Minister Benjamin Netanyahu apol...   \n",
      "..     ...                                                ...   \n",
      "191    191  The FAA on Friday announced it will close 149 ...   \n",
      "192    192  The flu season is winding down, and it has kil...   \n",
      "193    193  Our digital age is all about bits, those preci...   \n",
      "194    194  A Cyprus exit from the euro union, if it comes...   \n",
      "195    195  Israel's prime minister has apologised to Turk...   \n",
      "\n",
      "                                     word_attributions  label  \n",
      "0    [([CLS], [0.00023305416107177734, 9.1402625912...      0  \n",
      "1    [([CLS], [0.0, 2.722094231595629e-19, 8.990336...      1  \n",
      "2    [([CLS], [7.249158443300985e-06, 0.02413415908...      0  \n",
      "3    [([CLS], [8.256535646150587e-13, 0.00025666505...      0  \n",
      "4    [([CLS], [0.0, 7.976175275814512e-12, 3.168808...      1  \n",
      "..                                                 ...    ...  \n",
      "191  [([CLS], [0.06005144119262695, 1.5915619933082...      1  \n",
      "192  [([CLS], [0.0011274931021034718, 0.00286144018...      1  \n",
      "193  [([CLS], [6.689147298200482e-16, 0.0, 5.284112...      0  \n",
      "194  [([CLS], [1.1920928955078125e-07, 3.6066372111...      0  \n",
      "195  [([CLS], [0.004068389069288969, 0.005965709686...      1  \n",
      "\n",
      "[196 rows x 4 columns]\n"
     ]
    }
   ],
   "source": [
    "occlusion_counter_df['label'] = counterfactuals['label']\n",
    "print(occlusion_counter_df)"
   ]
  },
  {
   "cell_type": "code",
   "execution_count": null,
   "metadata": {
    "id": "tAZbWGWiwc2O"
   },
   "outputs": [],
   "source": [
    "occlusion_counter_df.to_csv('results/occlusion/occlusion-cf-bert-base.csv', index=False)"
   ]
  },
  {
   "cell_type": "code",
   "execution_count": 19,
   "metadata": {
    "executionInfo": {
     "elapsed": 2401,
     "status": "ok",
     "timestamp": 1715617754893,
     "user": {
      "displayName": "Sofia Terenziani",
      "userId": "07918956272317491448"
     },
     "user_tz": -120
    },
    "id": "uc3QEyNoxz9Q"
   },
   "outputs": [],
   "source": [
    "import ast\n",
    "occlusion_counter_df['word_attributions'] = occlusion_counter_df['word_attributions'].apply(lambda x: ast.literal_eval(x.replace(\"('[\", \"(\\\"[\").replace(\"]',\", \"]\\\",\").replace(\")']\", \")]\")))"
   ]
  },
  {
   "cell_type": "markdown",
   "metadata": {
    "id": "Ts-Fvy5axjFz"
   },
   "source": [
    "## Visualise Instance"
   ]
  },
  {
   "cell_type": "code",
   "execution_count": 31,
   "metadata": {
    "colab": {
     "base_uri": "https://localhost:8080/",
     "height": 324
    },
    "executionInfo": {
     "elapsed": 9,
     "status": "ok",
     "timestamp": 1715617958360,
     "user": {
      "displayName": "Sofia Terenziani",
      "userId": "07918956272317491448"
     },
     "user_tz": -120
    },
    "id": "qmqKcUOd7bUT",
    "outputId": "6ccca266-62f0-469a-ed34-07076fc79388"
   },
   "outputs": [
    {
     "data": {
      "text/html": [
       "<p><b>Attributions:</b><br><span style='background-color:rgb(240,255,240); padding: 0 2px;'>[CLS]</span> <span style='background-color:rgb(219,255,219); padding: 0 2px;'>in</span> <span style='background-color:rgb(229,255,229); padding: 0 2px;'>competitions</span> <span style='background-color:rgb(222,255,222); padding: 0 2px;'>against</span> <span style='background-color:rgb(230,255,230); padding: 0 2px;'>the</span> <span style='background-color:rgb(231,255,231); padding: 0 2px;'>clock</span> <span style='background-color:rgb(240,255,240); padding: 0 2px;'>,</span> <span style='background-color:rgb(242,255,242); padding: 0 2px;'>some</span> <span style='background-color:rgb(240,255,240); padding: 0 2px;'>athletes</span> <span style='background-color:rgb(249,255,249); padding: 0 2px;'>display</span> <span style='background-color:rgb(205,255,205); padding: 0 2px;'>an</span> <span style='background-color:rgb(253,255,253); padding: 0 2px;'>ability</span> <span style='background-color:rgb(240,255,240); padding: 0 2px;'>to</span> <span style='background-color:rgb(219,255,219); padding: 0 2px;'>seize</span> <span style='background-color:rgb(243,255,243); padding: 0 2px;'>control</span> <span style='background-color:rgb(246,255,246); padding: 0 2px;'>.</span> <span style='background-color:rgb(233,255,233); padding: 0 2px;'>think</span> <span style='background-color:rgb(236,255,236); padding: 0 2px;'>of</span> <span style='background-color:rgb(253,255,253); padding: 0 2px;'>the</span> <span style='background-color:rgb(252,255,252); padding: 0 2px;'>clark</span> <span style='background-color:rgb(230,255,230); padding: 0 2px;'>-</span> <span style='background-color:rgb(253,255,253); padding: 0 2px;'>kent</span> <span style='background-color:rgb(251,255,251); padding: 0 2px;'>-</span> <span style='background-color:rgb(241,255,241); padding: 0 2px;'>to</span> <span style='background-color:rgb(201,255,201); padding: 0 2px;'>-</span> <span style='background-color:rgb(237,255,237); padding: 0 2px;'>superman</span> <span style='background-color:rgb(213,255,213); padding: 0 2px;'>routines</span> <span style='background-color:rgb(241,255,241); padding: 0 2px;'>that</span> <span style='background-color:rgb(241,255,241); padding: 0 2px;'>john</span> <span style='background-color:rgb(236,255,236); padding: 0 2px;'>el</span> <span style='background-color:rgb(219,255,219); padding: 0 2px;'>##way</span> <span style='background-color:rgb(232,255,232); padding: 0 2px;'>and</span> <span style='background-color:rgb(227,255,227); padding: 0 2px;'>michael</span> <span style='background-color:rgb(233,255,233); padding: 0 2px;'>jordan</span> <span style='background-color:rgb(224,255,224); padding: 0 2px;'>often</span> <span style='background-color:rgb(227,255,227); padding: 0 2px;'>pulled</span> <span style='background-color:rgb(211,255,211); padding: 0 2px;'>in</span> <span style='background-color:rgb(232,255,232); padding: 0 2px;'>the</span> <span style='background-color:rgb(222,255,222); padding: 0 2px;'>final</span> <span style='background-color:rgb(223,255,223); padding: 0 2px;'>seconds</span> <span style='background-color:rgb(226,255,226); padding: 0 2px;'>.</span> <span style='background-color:rgb(234,255,234); padding: 0 2px;'>but</span> <span style='background-color:rgb(225,255,225); padding: 0 2px;'>ira</span> <span style='background-color:rgb(220,255,220); padding: 0 2px;'>##m</span> <span style='background-color:rgb(235,255,235); padding: 0 2px;'>leon</span> <span style='background-color:rgb(218,255,218); padding: 0 2px;'>stands</span> <span style='background-color:rgb(216,255,216); padding: 0 2px;'>on</span> <span style='background-color:rgb(245,255,245); padding: 0 2px;'>the</span> <span style='background-color:rgb(239,255,239); padding: 0 2px;'>side</span> <span style='background-color:rgb(227,255,227); padding: 0 2px;'>##lines</span> <span style='background-color:rgb(233,255,233); padding: 0 2px;'>of</span> <span style='background-color:rgb(229,255,229); padding: 0 2px;'>his</span> <span style='background-color:rgb(228,255,228); padding: 0 2px;'>own</span> <span style='background-color:rgb(243,255,243); padding: 0 2px;'>race</span> <span style='background-color:rgb(235,255,235); padding: 0 2px;'>against</span> <span style='background-color:rgb(212,255,212); padding: 0 2px;'>time</span> <span style='background-color:rgb(248,255,248); padding: 0 2px;'>.</span> <span style='background-color:rgb(241,255,241); padding: 0 2px;'>lodged</span> <span style='background-color:rgb(248,255,248); padding: 0 2px;'>in</span> <span style='background-color:rgb(235,255,235); padding: 0 2px;'>his</span> <span style='background-color:rgb(236,255,236); padding: 0 2px;'>brain</span> <span style='background-color:rgb(244,255,244); padding: 0 2px;'>is</span> <span style='background-color:rgb(250,255,250); padding: 0 2px;'>an</span> <span style='background-color:rgb(249,255,249); padding: 0 2px;'>un</span> <span style='background-color:rgb(244,255,244); padding: 0 2px;'>##tre</span> <span style='background-color:rgb(242,255,242); padding: 0 2px;'>##atable</span> <span style='background-color:rgb(242,255,242); padding: 0 2px;'>and</span> <span style='background-color:rgb(227,255,227); padding: 0 2px;'>in</span> <span style='background-color:rgb(254,255,254); padding: 0 2px;'>##oper</span> <span style='background-color:rgb(212,255,212); padding: 0 2px;'>##able</span> <span style='background-color:rgb(233,255,233); padding: 0 2px;'>cancer</span> <span style='background-color:rgb(244,255,244); padding: 0 2px;'>##ous</span> <span style='background-color:rgb(253,255,253); padding: 0 2px;'>tumor</span> <span style='background-color:rgb(231,255,231); padding: 0 2px;'>that</span> <span style='background-color:rgb(220,255,220); padding: 0 2px;'>statistics</span> <span style='background-color:rgb(194,255,194); padding: 0 2px;'>suggest</span> <span style='background-color:rgb(253,255,253); padding: 0 2px;'>will</span> <span style='background-color:rgb(245,255,245); padding: 0 2px;'>kill</span> <span style='background-color:rgb(222,255,222); padding: 0 2px;'>him</span> <span style='background-color:rgb(236,255,236); padding: 0 2px;'>before</span> <span style='background-color:rgb(249,255,249); padding: 0 2px;'>he</span> <span style='background-color:rgb(241,255,241); padding: 0 2px;'>is</span> <span style='background-color:rgb(244,255,244); padding: 0 2px;'>40</span> <span style='background-color:rgb(235,255,235); padding: 0 2px;'>,</span> <span style='background-color:rgb(210,255,210); padding: 0 2px;'>eight</span> <span style='background-color:rgb(234,255,234); padding: 0 2px;'>years</span> <span style='background-color:rgb(174,255,174); padding: 0 2px;'>from</span> <span style='background-color:rgb(210,255,210); padding: 0 2px;'>now</span> <span style='background-color:rgb(201,255,201); padding: 0 2px;'>.</span> <span style='background-color:rgb(181,255,181); padding: 0 2px;'>medical</span> <span style='background-color:rgb(201,255,201); padding: 0 2px;'>science</span> <span style='background-color:rgb(212,255,212); padding: 0 2px;'>is</span> <span style='background-color:rgb(198,255,198); padding: 0 2px;'>advancing</span> <span style='background-color:rgb(190,255,190); padding: 0 2px;'>at</span> <span style='background-color:rgb(179,255,179); padding: 0 2px;'>a</span> <span style='background-color:rgb(169,255,169); padding: 0 2px;'>rate</span> <span style='background-color:rgb(182,255,182); padding: 0 2px;'>that</span> <span style='background-color:rgb(200,255,200); padding: 0 2px;'>doesn</span> <span style='background-color:rgb(188,255,188); padding: 0 2px;'>'</span> <span style='background-color:rgb(196,255,196); padding: 0 2px;'>t</span> <span style='background-color:rgb(209,255,209); padding: 0 2px;'>pre</span> <span style='background-color:rgb(183,255,183); padding: 0 2px;'>##cl</span> <span style='background-color:rgb(184,255,184); padding: 0 2px;'>##ude</span> <span style='background-color:rgb(155,255,155); padding: 0 2px;'>the</span> <span style='background-color:rgb(179,255,179); padding: 0 2px;'>development</span> <span style='background-color:rgb(160,255,160); padding: 0 2px;'>of</span> <span style='background-color:rgb(145,255,145); padding: 0 2px;'>a</span> <span style='background-color:rgb(170,255,170); padding: 0 2px;'>treatment</span> <span style='background-color:rgb(166,255,166); padding: 0 2px;'>,</span> <span style='background-color:rgb(176,255,176); padding: 0 2px;'>but</span> <span style='background-color:rgb(207,255,207); padding: 0 2px;'>it</span> <span style='background-color:rgb(193,255,193); padding: 0 2px;'>'</span> <span style='background-color:rgb(170,255,170); padding: 0 2px;'>s</span> <span style='background-color:rgb(149,255,149); padding: 0 2px;'>not</span> <span style='background-color:rgb(166,255,166); padding: 0 2px;'>clear</span> <span style='background-color:rgb(148,255,148); padding: 0 2px;'>if</span> <span style='background-color:rgb(175,255,175); padding: 0 2px;'>it</span> <span style='background-color:rgb(146,255,146); padding: 0 2px;'>will</span> <span style='background-color:rgb(178,255,178); padding: 0 2px;'>come</span> <span style='background-color:rgb(128,255,128); padding: 0 2px;'>in</span> <span style='background-color:rgb(195,255,195); padding: 0 2px;'>time</span> <span style='background-color:rgb(174,255,174); padding: 0 2px;'>.</span> <span style='background-color:rgb(187,255,187); padding: 0 2px;'>\"</span> <span style='background-color:rgb(178,255,178); padding: 0 2px;'>no</span> <span style='background-color:rgb(164,255,164); padding: 0 2px;'>one</span> <span style='background-color:rgb(189,255,189); padding: 0 2px;'>knows</span> <span style='background-color:rgb(160,255,160); padding: 0 2px;'>what</span> <span style='background-color:rgb(221,255,221); padding: 0 2px;'>technology</span> <span style='background-color:rgb(195,255,195); padding: 0 2px;'>will</span> <span style='background-color:rgb(160,255,160); padding: 0 2px;'>be</span> <span style='background-color:rgb(214,255,214); padding: 0 2px;'>available</span> <span style='background-color:rgb(222,255,222); padding: 0 2px;'>in</span> <span style='background-color:rgb(229,255,229); padding: 0 2px;'>five</span> <span style='background-color:rgb(225,255,225); padding: 0 2px;'>years</span> <span style='background-color:rgb(232,255,232); padding: 0 2px;'>,</span> <span style='background-color:rgb(228,255,228); padding: 0 2px;'>\"</span> <span style='background-color:rgb(207,255,207); padding: 0 2px;'>said</span> <span style='background-color:rgb(200,255,200); padding: 0 2px;'>allan</span> <span style='background-color:rgb(203,255,203); padding: 0 2px;'>friedman</span> <span style='background-color:rgb(223,255,223); padding: 0 2px;'>,</span> <span style='background-color:rgb(206,255,206); padding: 0 2px;'>duke</span> <span style='background-color:rgb(230,255,230); padding: 0 2px;'>university</span> <span style='background-color:rgb(222,255,222); padding: 0 2px;'>hospital</span> <span style='background-color:rgb(234,255,234); padding: 0 2px;'>ne</span> <span style='background-color:rgb(248,255,248); padding: 0 2px;'>##uro</span> <span style='background-color:rgb(232,255,232); padding: 0 2px;'>##sur</span> <span style='background-color:rgb(224,255,224); padding: 0 2px;'>##ge</span> <span style='background-color:rgb(202,255,202); padding: 0 2px;'>##on</span> <span style='background-color:rgb(227,255,227); padding: 0 2px;'>in</span> <span style='background-color:rgb(216,255,216); padding: 0 2px;'>chief</span> <span style='background-color:rgb(233,255,233); padding: 0 2px;'>,</span> <span style='background-color:rgb(220,255,220); padding: 0 2px;'>who</span> <span style='background-color:rgb(196,255,196); padding: 0 2px;'>in</span> <span style='background-color:rgb(210,255,210); padding: 0 2px;'>2011</span> <span style='background-color:rgb(219,255,219); padding: 0 2px;'>removed</span> <span style='background-color:rgb(242,255,242); padding: 0 2px;'>as</span> <span style='background-color:rgb(223,255,223); padding: 0 2px;'>much</span> <span style='background-color:rgb(249,255,249); padding: 0 2px;'>of</span> <span style='background-color:rgb(230,255,230); padding: 0 2px;'>leon</span> <span style='background-color:rgb(239,255,239); padding: 0 2px;'>'</span> <span style='background-color:rgb(198,255,198); padding: 0 2px;'>s</span> <span style='background-color:rgb(195,255,195); padding: 0 2px;'>brain</span> <span style='background-color:rgb(217,255,217); padding: 0 2px;'>tumor</span> <span style='background-color:rgb(200,255,200); padding: 0 2px;'>as</span> <span style='background-color:rgb(207,255,207); padding: 0 2px;'>possible</span> <span style='background-color:rgb(227,255,227); padding: 0 2px;'>.</span> <span style='background-color:rgb(218,255,218); padding: 0 2px;'>the</span> <span style='background-color:rgb(226,255,226); padding: 0 2px;'>torment</span> <span style='background-color:rgb(218,255,218); padding: 0 2px;'>of</span> <span style='background-color:rgb(221,255,221); padding: 0 2px;'>enduring</span> <span style='background-color:rgb(229,255,229); padding: 0 2px;'>that</span> <span style='background-color:rgb(210,255,210); padding: 0 2px;'>wait</span> <span style='background-color:rgb(213,255,213); padding: 0 2px;'>can</span> <span style='background-color:rgb(221,255,221); padding: 0 2px;'>paste</span> <span style='background-color:rgb(211,255,211); padding: 0 2px;'>a</span> <span style='background-color:rgb(228,255,228); padding: 0 2px;'>cancer</span> <span style='background-color:rgb(219,255,219); padding: 0 2px;'>patient</span> <span style='background-color:rgb(207,255,207); padding: 0 2px;'>to</span> <span style='background-color:rgb(209,255,209); padding: 0 2px;'>the</span> <span style='background-color:rgb(209,255,209); padding: 0 2px;'>couch</span> <span style='background-color:rgb(208,255,208); padding: 0 2px;'>,</span> <span style='background-color:rgb(236,255,236); padding: 0 2px;'>a</span> <span style='background-color:rgb(206,255,206); padding: 0 2px;'>surrender</span> <span style='background-color:rgb(219,255,219); padding: 0 2px;'>heavily</span> <span style='background-color:rgb(224,255,224); padding: 0 2px;'>associated</span> <span style='background-color:rgb(232,255,232); padding: 0 2px;'>with</span> <span style='background-color:rgb(234,255,234); padding: 0 2px;'>dead</span> <span style='background-color:rgb(233,255,233); padding: 0 2px;'>##lier</span> <span style='background-color:rgb(228,255,228); padding: 0 2px;'>outcomes</span> <span style='background-color:rgb(231,255,231); padding: 0 2px;'>.</span> <span style='background-color:rgb(255,255,255); padding: 0 2px;'>some</span> <span style='background-color:rgb(232,255,232); padding: 0 2px;'>seek</span> <span style='background-color:rgb(245,255,245); padding: 0 2px;'>escape</span> <span style='background-color:rgb(236,255,236); padding: 0 2px;'>in</span> <span style='background-color:rgb(223,255,223); padding: 0 2px;'>their</span> <span style='background-color:rgb(237,255,237); padding: 0 2px;'>careers</span> <span style='background-color:rgb(234,255,234); padding: 0 2px;'>,</span> <span style='background-color:rgb(247,255,247); padding: 0 2px;'>but</span> <span style='background-color:rgb(240,255,240); padding: 0 2px;'>that</span> <span style='background-color:rgb(238,255,238); padding: 0 2px;'>is</span> <span style='background-color:rgb(226,255,226); padding: 0 2px;'>no</span> <span style='background-color:rgb(234,255,234); padding: 0 2px;'>longer</span> <span style='background-color:rgb(229,255,229); padding: 0 2px;'>an</span> <span style='background-color:rgb(253,255,253); padding: 0 2px;'>option</span> <span style='background-color:rgb(242,255,242); padding: 0 2px;'>for</span> <span style='background-color:rgb(239,255,239); padding: 0 2px;'>leon</span> <span style='background-color:rgb(253,255,253); padding: 0 2px;'>,</span> <span style='background-color:rgb(252,255,252); padding: 0 2px;'>who</span> <span style='background-color:rgb(234,255,234); padding: 0 2px;'>early</span> <span style='background-color:rgb(252,255,252); padding: 0 2px;'>this</span> <span style='background-color:rgb(232,255,232); padding: 0 2px;'>year</span> <span style='background-color:rgb(235,255,235); padding: 0 2px;'>was</span> <span style='background-color:rgb(237,255,237); padding: 0 2px;'>forced</span> <span style='background-color:rgb(240,255,240); padding: 0 2px;'>to</span> <span style='background-color:rgb(253,255,253); padding: 0 2px;'>step</span> <span style='background-color:rgb(237,255,237); padding: 0 2px;'>down</span> <span style='background-color:rgb(237,255,237); padding: 0 2px;'>as</span> <span style='background-color:rgb(244,255,244); padding: 0 2px;'>a</span> <span style='background-color:rgb(254,255,254); padding: 0 2px;'>juvenile</span> <span style='background-color:rgb(245,255,245); padding: 0 2px;'>probation</span> <span style='background-color:rgb(244,255,244); padding: 0 2px;'>officer</span> <span style='background-color:rgb(251,255,251); padding: 0 2px;'>in</span> <span style='background-color:rgb(250,255,250); padding: 0 2px;'>travis</span> <span style='background-color:rgb(238,255,238); padding: 0 2px;'>county</span> <span style='background-color:rgb(236,255,236); padding: 0 2px;'>,</span> <span style='background-color:rgb(242,255,242); padding: 0 2px;'>texas</span> <span style='background-color:rgb(246,255,246); padding: 0 2px;'>,</span> <span style='background-color:rgb(234,255,234); padding: 0 2px;'>a</span> <span style='background-color:rgb(252,255,252); padding: 0 2px;'>position</span> <span style='background-color:rgb(230,255,230); padding: 0 2px;'>he</span> <span style='background-color:rgb(243,255,243); padding: 0 2px;'>had</span> <span style='background-color:rgb(240,255,240); padding: 0 2px;'>held</span> <span style='background-color:rgb(250,255,250); padding: 0 2px;'>for</span> <span style='background-color:rgb(252,255,252); padding: 0 2px;'>almost</span> <span style='background-color:rgb(239,255,239); padding: 0 2px;'>seven</span> <span style='background-color:rgb(221,255,221); padding: 0 2px;'>years</span> <span style='background-color:rgb(240,255,240); padding: 0 2px;'>.</span> <span style='background-color:rgb(245,255,245); padding: 0 2px;'>his</span> <span style='background-color:rgb(222,255,222); padding: 0 2px;'>thinking</span> <span style='background-color:rgb(236,255,236); padding: 0 2px;'>is</span> <span style='background-color:rgb(232,255,232); padding: 0 2px;'>no</span> <span style='background-color:rgb(236,255,236); padding: 0 2px;'>longer</span> <span style='background-color:rgb(241,255,241); padding: 0 2px;'>clear</span> <span style='background-color:rgb(238,255,238); padding: 0 2px;'>,</span> <span style='background-color:rgb(239,255,239); padding: 0 2px;'>said</span> <span style='background-color:rgb(221,255,221); padding: 0 2px;'>leon</span> <span style='background-color:rgb(215,255,215); padding: 0 2px;'>,</span> <span style='background-color:rgb(227,255,227); padding: 0 2px;'>adding</span> <span style='background-color:rgb(219,255,219); padding: 0 2px;'>,</span> <span style='background-color:rgb(233,255,233); padding: 0 2px;'>\"</span> <span style='background-color:rgb(217,255,217); padding: 0 2px;'>i</span> <span style='background-color:rgb(231,255,231); padding: 0 2px;'>was</span> <span style='background-color:rgb(226,255,226); padding: 0 2px;'>making</span> <span style='background-color:rgb(236,255,236); padding: 0 2px;'>too</span> <span style='background-color:rgb(243,255,243); padding: 0 2px;'>many</span> <span style='background-color:rgb(225,255,225); padding: 0 2px;'>mistakes</span> <span style='background-color:rgb(233,255,233); padding: 0 2px;'>on</span> <span style='background-color:rgb(239,255,239); padding: 0 2px;'>the</span> <span style='background-color:rgb(226,255,226); padding: 0 2px;'>stand</span> <span style='background-color:rgb(233,255,233); padding: 0 2px;'>.</span> <span style='background-color:rgb(244,255,244); padding: 0 2px;'>\"</span> <span style='background-color:rgb(226,255,226); padding: 0 2px;'>but</span> <span style='background-color:rgb(221,255,221); padding: 0 2px;'>leon</span> <span style='background-color:rgb(254,255,254); padding: 0 2px;'>can</span> <span style='background-color:rgb(215,255,215); padding: 0 2px;'>still</span> <span style='background-color:rgb(233,255,233); padding: 0 2px;'>run</span> <span style='background-color:rgb(236,255,236); padding: 0 2px;'>.</span> <span style='background-color:rgb(212,255,212); padding: 0 2px;'>two</span> <span style='background-color:rgb(249,255,249); padding: 0 2px;'>years</span> <span style='background-color:rgb(230,255,230); padding: 0 2px;'>after</span> <span style='background-color:rgb(243,255,243); padding: 0 2px;'>his</span> <span style='background-color:rgb(187,255,187); padding: 0 2px;'>brain</span> <span style='background-color:rgb(187,255,187); padding: 0 2px;'>-</span> <span style='background-color:rgb(215,255,215); padding: 0 2px;'>cancer</span> <span style='background-color:rgb(213,255,213); padding: 0 2px;'>diagnosis</span> <span style='background-color:rgb(205,255,205); padding: 0 2px;'>,</span> <span style='background-color:rgb(231,255,231); padding: 0 2px;'>he</span> <span style='background-color:rgb(236,255,236); padding: 0 2px;'>recently</span> <span style='background-color:rgb(252,255,252); padding: 0 2px;'>ran</span> <span style='background-color:rgb(224,255,224); padding: 0 2px;'>a</span> <span style='background-color:rgb(253,255,253); padding: 0 2px;'>sub</span> <span style='background-color:rgb(242,255,242); padding: 0 2px;'>-</span> <span style='background-color:rgb(229,255,229); padding: 0 2px;'>five</span> <span style='background-color:rgb(252,255,252); padding: 0 2px;'>-</span> <span style='background-color:rgb(184,255,184); padding: 0 2px;'>minute</span> <span style='background-color:rgb(233,255,233); padding: 0 2px;'>mile</span> <span style='background-color:rgb(223,255,223); padding: 0 2px;'>for</span> <span style='background-color:rgb(245,255,245); padding: 0 2px;'>the</span> <span style='background-color:rgb(250,255,250); padding: 0 2px;'>first</span> <span style='background-color:rgb(225,255,225); padding: 0 2px;'>time</span> <span style='background-color:rgb(214,255,214); padding: 0 2px;'>since</span> <span style='background-color:rgb(247,255,247); padding: 0 2px;'>high</span> <span style='background-color:rgb(245,255,245); padding: 0 2px;'>school</span> <span style='background-color:rgb(227,255,227); padding: 0 2px;'>.</span> <span style='background-color:rgb(220,255,220); padding: 0 2px;'>what</span> <span style='background-color:rgb(230,255,230); padding: 0 2px;'>has</span> <span style='background-color:rgb(231,255,231); padding: 0 2px;'>startled</span> <span style='background-color:rgb(249,255,249); padding: 0 2px;'>the</span> <span style='background-color:rgb(227,255,227); padding: 0 2px;'>medical</span> <span style='background-color:rgb(241,255,241); padding: 0 2px;'>community</span> <span style='background-color:rgb(244,255,244); padding: 0 2px;'>even</span> <span style='background-color:rgb(241,255,241); padding: 0 2px;'>more</span> <span style='background-color:rgb(205,255,205); padding: 0 2px;'>is</span> <span style='background-color:rgb(242,255,242); padding: 0 2px;'>what</span> <span style='background-color:rgb(183,255,183); padding: 0 2px;'>leon</span> <span style='background-color:rgb(102,255,102); padding: 0 2px;'>did</span> <span style='background-color:rgb(248,255,248); padding: 0 2px;'>this</span> <span style='background-color:rgb(215,255,215); padding: 0 2px;'>month</span> <span style='background-color:rgb(227,255,227); padding: 0 2px;'>in</span> <span style='background-color:rgb(224,255,224); padding: 0 2px;'>beaumont</span> <span style='background-color:rgb(248,255,248); padding: 0 2px;'>,</span> <span style='background-color:rgb(221,255,221); padding: 0 2px;'>texas</span> <span style='background-color:rgb(198,255,198); padding: 0 2px;'>.</span> <span style='background-color:rgb(154,255,154); padding: 0 2px;'>he</span> <span style='background-color:rgb(176,255,176); padding: 0 2px;'>[a1]</span> <span style='background-color:rgb(189,255,189); padding: 0 2px;'>won</span> <span style='background-color:rgb(145,255,145); padding: 0 2px;'>[/a1]</span> <span style='background-color:rgb(128,255,128); padding: 0 2px;'>the</span> <span style='background-color:rgb(250,255,250); padding: 0 2px;'>gus</span> <span style='background-color:rgb(220,255,220); padding: 0 2px;'>##her</span> <span style='background-color:rgb(206,255,206); padding: 0 2px;'>marathon</span> <span style='background-color:rgb(219,255,219); padding: 0 2px;'>,</span> <span style='background-color:rgb(211,255,211); padding: 0 2px;'>finishing</span> <span style='background-color:rgb(217,255,217); padding: 0 2px;'>in</span> <span style='background-color:rgb(254,255,254); padding: 0 2px;'>3</span> <span style='background-color:rgb(213,255,213); padding: 0 2px;'>:</span> <span style='background-color:rgb(252,255,252); padding: 0 2px;'>07</span> <span style='background-color:rgb(219,255,219); padding: 0 2px;'>:</span> <span style='background-color:rgb(150,255,150); padding: 0 2px;'>35</span> <span style='background-color:rgb(183,255,183); padding: 0 2px;'>.</span> <span style='background-color:rgb(187,255,187); padding: 0 2px;'>that</span> <span style='background-color:rgb(158,255,158); padding: 0 2px;'>was</span> <span style='background-color:rgb(38,255,38); padding: 0 2px;'>one</span> <span style='background-color:rgb(253,255,253); padding: 0 2px;'>second</span> <span style='background-color:rgb(-36,255,-36); padding: 0 2px;'>slower</span> <span style='background-color:rgb(-948,255,-948); padding: 0 2px;'>than</span> <span style='background-color:rgb(114,255,114); padding: 0 2px;'>his</span> <span style='background-color:rgb(204,255,204); padding: 0 2px;'>personal</span> <span style='background-color:rgb(252,255,252); padding: 0 2px;'>record</span> <span style='background-color:rgb(209,255,209); padding: 0 2px;'>in</span> <span style='background-color:rgb(245,255,245); padding: 0 2px;'>the</span> <span style='background-color:rgb(202,255,202); padding: 0 2px;'>26</span> <span style='background-color:rgb(207,255,207); padding: 0 2px;'>.</span> <span style='background-color:rgb(145,255,145); padding: 0 2px;'>2</span> <span style='background-color:rgb(87,255,87); padding: 0 2px;'>-</span> <span style='background-color:rgb(-1245,255,-1245); padding: 0 2px;'>mile</span> <span style='background-color:rgb(212,255,212); padding: 0 2px;'>event</span> <span style='background-color:rgb(108,255,108); padding: 0 2px;'>,</span> <span style='background-color:rgb(227,255,227); padding: 0 2px;'>[a2]</span> <span style='background-color:rgb(160,255,160); padding: 0 2px;'>set</span> <span style='background-color:rgb(237,255,237); padding: 0 2px;'>[/a2]</span> <span style='background-color:rgb(178,255,178); padding: 0 2px;'>days</span> <span style='background-color:rgb(131,255,131); padding: 0 2px;'>before</span> <span style='background-color:rgb(234,255,234); padding: 0 2px;'>he</span> <span style='background-color:rgb(196,255,196); padding: 0 2px;'>underwent</span> <span style='background-color:rgb(250,255,250); padding: 0 2px;'>brain</span> <span style='background-color:rgb(-100,255,-100); padding: 0 2px;'>surgery</span> <span style='background-color:rgb(255,255,255); padding: 0 2px;'>in</span> <span style='background-color:rgb(255,255,255); padding: 0 2px;'>early</span> <span style='background-color:rgb(255,255,255); padding: 0 2px;'>2011</span> <span style='background-color:rgb(255,255,255); padding: 0 2px;'>.</span> <span style='background-color:rgb(255,255,255); padding: 0 2px;'>[SEP]</span> <span style='background-color:rgb(255,255,255); padding: 0 2px;'>[PAD]</span> <span style='background-color:rgb(255,255,255); padding: 0 2px;'>[PAD]</span> <span style='background-color:rgb(255,255,255); padding: 0 2px;'>[PAD]</span> <span style='background-color:rgb(255,255,255); padding: 0 2px;'>[PAD]</span> <span style='background-color:rgb(255,255,255); padding: 0 2px;'>[PAD]</span> <span style='background-color:rgb(255,255,255); padding: 0 2px;'>[PAD]</span> <span style='background-color:rgb(255,255,255); padding: 0 2px;'>[PAD]</span> <span style='background-color:rgb(255,255,255); padding: 0 2px;'>[PAD]</span> <span style='background-color:rgb(255,255,255); padding: 0 2px;'>[PAD]</span> <span style='background-color:rgb(255,255,255); padding: 0 2px;'>[PAD]</span> <span style='background-color:rgb(255,255,255); padding: 0 2px;'>[PAD]</span> <span style='background-color:rgb(255,255,255); padding: 0 2px;'>[PAD]</span> <span style='background-color:rgb(255,255,255); padding: 0 2px;'>[PAD]</span> <span style='background-color:rgb(255,255,255); padding: 0 2px;'>[PAD]</span> <span style='background-color:rgb(255,255,255); padding: 0 2px;'>[PAD]</span> <span style='background-color:rgb(255,255,255); padding: 0 2px;'>[PAD]</span> <span style='background-color:rgb(255,255,255); padding: 0 2px;'>[PAD]</span> <span style='background-color:rgb(255,255,255); padding: 0 2px;'>[PAD]</span> <span style='background-color:rgb(255,255,255); padding: 0 2px;'>[PAD]</span> <span style='background-color:rgb(255,255,255); padding: 0 2px;'>[PAD]</span> <span style='background-color:rgb(255,255,255); padding: 0 2px;'>[PAD]</span> <span style='background-color:rgb(255,255,255); padding: 0 2px;'>[PAD]</span> <span style='background-color:rgb(255,255,255); padding: 0 2px;'>[PAD]</span> <span style='background-color:rgb(255,255,255); padding: 0 2px;'>[PAD]</span> <span style='background-color:rgb(255,255,255); padding: 0 2px;'>[PAD]</span> <span style='background-color:rgb(255,255,255); padding: 0 2px;'>[PAD]</span> <span style='background-color:rgb(255,255,255); padding: 0 2px;'>[PAD]</span> <span style='background-color:rgb(255,255,255); padding: 0 2px;'>[PAD]</span> <span style='background-color:rgb(255,255,255); padding: 0 2px;'>[PAD]</span> <span style='background-color:rgb(255,255,255); padding: 0 2px;'>[PAD]</span> <span style='background-color:rgb(255,255,255); padding: 0 2px;'>[PAD]</span> <span style='background-color:rgb(255,255,255); padding: 0 2px;'>[PAD]</span> <span style='background-color:rgb(255,255,255); padding: 0 2px;'>[PAD]</span> <span style='background-color:rgb(255,255,255); padding: 0 2px;'>[PAD]</span> <span style='background-color:rgb(255,255,255); padding: 0 2px;'>[PAD]</span> <span style='background-color:rgb(255,255,255); padding: 0 2px;'>[PAD]</span> <span style='background-color:rgb(255,255,255); padding: 0 2px;'>[PAD]</span> <span style='background-color:rgb(255,255,255); padding: 0 2px;'>[PAD]</span> <span style='background-color:rgb(255,255,255); padding: 0 2px;'>[PAD]</span> <span style='background-color:rgb(255,255,255); padding: 0 2px;'>[PAD]</span> <span style='background-color:rgb(255,255,255); padding: 0 2px;'>[PAD]</span> <span style='background-color:rgb(255,255,255); padding: 0 2px;'>[PAD]</span> <span style='background-color:rgb(255,255,255); padding: 0 2px;'>[PAD]</span> <span style='background-color:rgb(255,255,255); padding: 0 2px;'>[PAD]</span> <span style='background-color:rgb(255,255,255); padding: 0 2px;'>[PAD]</span> <span style='background-color:rgb(255,255,255); padding: 0 2px;'>[PAD]</span> <span style='background-color:rgb(255,255,255); padding: 0 2px;'>[PAD]</span> <span style='background-color:rgb(255,255,255); padding: 0 2px;'>[PAD]</span> <span style='background-color:rgb(255,255,255); padding: 0 2px;'>[PAD]</span> <span style='background-color:rgb(255,255,255); padding: 0 2px;'>[PAD]</span> <span style='background-color:rgb(255,255,255); padding: 0 2px;'>[PAD]</span> <span style='background-color:rgb(255,255,255); padding: 0 2px;'>[PAD]</span> <span style='background-color:rgb(255,255,255); padding: 0 2px;'>[PAD]</span> <span style='background-color:rgb(255,255,255); padding: 0 2px;'>[PAD]</span> <span style='background-color:rgb(255,255,255); padding: 0 2px;'>[PAD]</span> <span style='background-color:rgb(255,255,255); padding: 0 2px;'>[PAD]</span> <span style='background-color:rgb(255,255,255); padding: 0 2px;'>[PAD]</span> <span style='background-color:rgb(255,255,255); padding: 0 2px;'>[PAD]</span> <span style='background-color:rgb(255,255,255); padding: 0 2px;'>[PAD]</span> <span style='background-color:rgb(255,255,255); padding: 0 2px;'>[PAD]</span> <span style='background-color:rgb(255,255,255); padding: 0 2px;'>[PAD]</span> <span style='background-color:rgb(255,255,255); padding: 0 2px;'>[PAD]</span> <span style='background-color:rgb(255,255,255); padding: 0 2px;'>[PAD]</span> <span style='background-color:rgb(255,255,255); padding: 0 2px;'>[PAD]</span> <span style='background-color:rgb(255,255,255); padding: 0 2px;'>[PAD]</span> <span style='background-color:rgb(255,255,255); padding: 0 2px;'>[PAD]</span> <span style='background-color:rgb(255,255,255); padding: 0 2px;'>[PAD]</span> <span style='background-color:rgb(255,255,255); padding: 0 2px;'>[PAD]</span> <span style='background-color:rgb(255,255,255); padding: 0 2px;'>[PAD]</span> <span style='background-color:rgb(255,255,255); padding: 0 2px;'>[PAD]</span> <span style='background-color:rgb(255,255,255); padding: 0 2px;'>[PAD]</span> <span style='background-color:rgb(255,255,255); padding: 0 2px;'>[PAD]</span> <span style='background-color:rgb(255,255,255); padding: 0 2px;'>[PAD]</span> <span style='background-color:rgb(255,255,255); padding: 0 2px;'>[PAD]</span> <span style='background-color:rgb(255,255,255); padding: 0 2px;'>[PAD]</span> <span style='background-color:rgb(255,255,255); padding: 0 2px;'>[PAD]</span> <span style='background-color:rgb(255,255,255); padding: 0 2px;'>[PAD]</span> <span style='background-color:rgb(255,255,255); padding: 0 2px;'>[PAD]</span> <span style='background-color:rgb(255,255,255); padding: 0 2px;'>[PAD]</span> <span style='background-color:rgb(255,255,255); padding: 0 2px;'>[PAD]</span> <span style='background-color:rgb(255,255,255); padding: 0 2px;'>[PAD]</span> <span style='background-color:rgb(255,255,255); padding: 0 2px;'>[PAD]</span> <span style='background-color:rgb(255,255,255); padding: 0 2px;'>[PAD]</span> <span style='background-color:rgb(255,255,255); padding: 0 2px;'>[PAD]</span> <span style='background-color:rgb(255,255,255); padding: 0 2px;'>[PAD]</span> <span style='background-color:rgb(255,255,255); padding: 0 2px;'>[PAD]</span> <span style='background-color:rgb(255,255,255); padding: 0 2px;'>[PAD]</span> <span style='background-color:rgb(255,255,255); padding: 0 2px;'>[PAD]</span> <span style='background-color:rgb(255,255,255); padding: 0 2px;'>[PAD]</span> <span style='background-color:rgb(255,255,255); padding: 0 2px;'>[PAD]</span> <span style='background-color:rgb(255,255,255); padding: 0 2px;'>[PAD]</span> <span style='background-color:rgb(255,255,255); padding: 0 2px;'>[PAD]</span> <span style='background-color:rgb(255,255,255); padding: 0 2px;'>[PAD]</span> <span style='background-color:rgb(255,255,255); padding: 0 2px;'>[PAD]</span> <span style='background-color:rgb(255,255,255); padding: 0 2px;'>[PAD]</span> <span style='background-color:rgb(255,255,255); padding: 0 2px;'>[PAD]</span> <span style='background-color:rgb(255,255,255); padding: 0 2px;'>[PAD]</span> <span style='background-color:rgb(255,255,255); padding: 0 2px;'>[PAD]</span> <span style='background-color:rgb(255,255,255); padding: 0 2px;'>[PAD]</span> <span style='background-color:rgb(255,255,255); padding: 0 2px;'>[PAD]</span> <span style='background-color:rgb(255,255,255); padding: 0 2px;'>[PAD]</span> <span style='background-color:rgb(255,255,255); padding: 0 2px;'>[PAD]</span> <span style='background-color:rgb(255,255,255); padding: 0 2px;'>[PAD]</span> <span style='background-color:rgb(255,255,255); padding: 0 2px;'>[PAD]</span> <span style='background-color:rgb(255,255,255); padding: 0 2px;'>[PAD]</span> <span style='background-color:rgb(255,255,255); padding: 0 2px;'>[PAD]</span> <span style='background-color:rgb(255,255,255); padding: 0 2px;'>[PAD]</span> <span style='background-color:rgb(255,255,255); padding: 0 2px;'>[PAD]</span> <span style='background-color:rgb(255,255,255); padding: 0 2px;'>[PAD]</span> <span style='background-color:rgb(255,255,255); padding: 0 2px;'>[PAD]</span> <span style='background-color:rgb(255,255,255); padding: 0 2px;'>[PAD]</span> <span style='background-color:rgb(255,255,255); padding: 0 2px;'>[PAD]</span> <span style='background-color:rgb(255,255,255); padding: 0 2px;'>[PAD]</span> <span style='background-color:rgb(255,255,255); padding: 0 2px;'>[PAD]</span> <span style='background-color:rgb(255,255,255); padding: 0 2px;'>[PAD]</span> <span style='background-color:rgb(255,255,255); padding: 0 2px;'>[PAD]</span> <span style='background-color:rgb(255,255,255); padding: 0 2px;'>[PAD]</span> <span style='background-color:rgb(255,255,255); padding: 0 2px;'>[PAD]</span> <span style='background-color:rgb(255,255,255); padding: 0 2px;'>[PAD]</span> <span style='background-color:rgb(255,255,255); padding: 0 2px;'>[PAD]</span> <span style='background-color:rgb(255,255,255); padding: 0 2px;'>[PAD]</span> <span style='background-color:rgb(255,255,255); padding: 0 2px;'>[PAD]</span> <span style='background-color:rgb(255,255,255); padding: 0 2px;'>[PAD]</span> <span style='background-color:rgb(255,255,255); padding: 0 2px;'>[PAD]</span> <span style='background-color:rgb(255,255,255); padding: 0 2px;'>[PAD]</span> <span style='background-color:rgb(255,255,255); padding: 0 2px;'>[PAD]</span> <span style='background-color:rgb(255,255,255); padding: 0 2px;'>[PAD]</span> <span style='background-color:rgb(255,255,255); padding: 0 2px;'>[PAD]</span> <span style='background-color:rgb(255,255,255); padding: 0 2px;'>[PAD]</span> <span style='background-color:rgb(255,255,255); padding: 0 2px;'>[PAD]</span> <span style='background-color:rgb(255,255,255); padding: 0 2px;'>[PAD]</span> <span style='background-color:rgb(255,255,255); padding: 0 2px;'>[PAD]</span> <span style='background-color:rgb(255,255,255); padding: 0 2px;'>[PAD]</span> <span style='background-color:rgb(255,255,255); padding: 0 2px;'>[PAD]</span> <span style='background-color:rgb(255,255,255); padding: 0 2px;'>[PAD]</span> <span style='background-color:rgb(255,255,255); padding: 0 2px;'>[PAD]</span> <span style='background-color:rgb(255,255,255); padding: 0 2px;'>[PAD]</span> <span style='background-color:rgb(255,255,255); padding: 0 2px;'>[PAD]</span> <span style='background-color:rgb(255,255,255); padding: 0 2px;'>[PAD]</span> <span style='background-color:rgb(255,255,255); padding: 0 2px;'>[PAD]</span> <span style='background-color:rgb(255,255,255); padding: 0 2px;'>[PAD]</span> </p>"
      ],
      "text/plain": [
       "<IPython.core.display.HTML object>"
      ]
     },
     "metadata": {},
     "output_type": "display_data"
    }
   ],
   "source": [
    "from IPython.display import HTML, display\n",
    "import pandas as pd\n",
    "\n",
    "# Assuming df is your DataFrame\n",
    "# Select the instance (row) you want to visualize, here we select the first row\n",
    "instance = occlusion_counter_df.loc[159, 'word_attributions']\n",
    "\n",
    "# Extract tokens and their corresponding attribution scores\n",
    "# Let's assume attributions are stored as list of tuples (token, [attr1, attr2,...])\n",
    "tokens, raw_attributions = zip(*instance)\n",
    "\n",
    "# Since each token might have multiple attribution scores, let's simplify by averaging them\n",
    "attributions = [sum(attrs)/len(attrs) for attrs in raw_attributions]\n",
    "\n",
    "# Define the visualization function\n",
    "def visualize_attributions(tokens, attributions):\n",
    "    # Normalize attributions for visualization\n",
    "    attributions = [float(i) for i in attributions]  # Ensure attributions are float\n",
    "    min_attribution = min(attributions)\n",
    "    max_attribution = max(attributions)\n",
    "\n",
    "    # Create HTML string to display colored text\n",
    "    html_string = \"<p><b>Attributions:</b><br>\"\n",
    "    for token, attr in zip(tokens, attributions):\n",
    "        intensity = int(1500 * abs(attr) / max(abs(min_attribution), abs(max_attribution)))\n",
    "        color = f\"rgb(255,{1500-intensity},{1-intensity})\" if attr < 0 else f\"rgb({255-intensity},255,{255-intensity})\"\n",
    "        html_string += f\"<span style='background-color:{color}; padding: 0 2px;'>{token}</span> \"\n",
    "\n",
    "    html_string += \"</p>\"\n",
    "    display(HTML(html_string))\n",
    "\n",
    "# Call the function with extracted tokens and their attributions\n",
    "visualize_attributions(tokens, attributions)\n"
   ]
  },
  {
   "cell_type": "code",
   "execution_count": 34,
   "metadata": {
    "colab": {
     "base_uri": "https://localhost:8080/",
     "height": 324
    },
    "executionInfo": {
     "elapsed": 272,
     "status": "ok",
     "timestamp": 1715618676210,
     "user": {
      "displayName": "Sofia Terenziani",
      "userId": "07918956272317491448"
     },
     "user_tz": -120
    },
    "id": "ETs-Pups1r_y",
    "outputId": "aab56ebc-cef2-4b00-a968-bf65d3c7d0ef"
   },
   "outputs": [
    {
     "data": {
      "text/html": [
       "<p><b>Attributions:</b><br><span style='background-color:rgb(179, 255, 179); padding: 0 2px;'>[CLS]</span> <span style='background-color:rgb(176, 255, 176); padding: 0 2px;'>in</span> <span style='background-color:rgb(178, 255, 178); padding: 0 2px;'>competitions</span> <span style='background-color:rgb(177, 255, 177); padding: 0 2px;'>against</span> <span style='background-color:rgb(178, 255, 178); padding: 0 2px;'>the</span> <span style='background-color:rgb(178, 255, 178); padding: 0 2px;'>clock</span> <span style='background-color:rgb(179, 255, 179); padding: 0 2px;'>,</span> <span style='background-color:rgb(179, 255, 179); padding: 0 2px;'>some</span> <span style='background-color:rgb(179, 255, 179); padding: 0 2px;'>athletes</span> <span style='background-color:rgb(180, 255, 180); padding: 0 2px;'>display</span> <span style='background-color:rgb(175, 255, 175); padding: 0 2px;'>an</span> <span style='background-color:rgb(180, 255, 180); padding: 0 2px;'>ability</span> <span style='background-color:rgb(179, 255, 179); padding: 0 2px;'>to</span> <span style='background-color:rgb(176, 255, 176); padding: 0 2px;'>seize</span> <span style='background-color:rgb(179, 255, 179); padding: 0 2px;'>control</span> <span style='background-color:rgb(180, 255, 180); padding: 0 2px;'>.</span> <span style='background-color:rgb(178, 255, 178); padding: 0 2px;'>think</span> <span style='background-color:rgb(178, 255, 178); padding: 0 2px;'>of</span> <span style='background-color:rgb(180, 255, 180); padding: 0 2px;'>the</span> <span style='background-color:rgb(180, 255, 180); padding: 0 2px;'>clark</span> <span style='background-color:rgb(178, 255, 178); padding: 0 2px;'>-</span> <span style='background-color:rgb(180, 255, 180); padding: 0 2px;'>kent</span> <span style='background-color:rgb(180, 255, 180); padding: 0 2px;'>-</span> <span style='background-color:rgb(179, 255, 179); padding: 0 2px;'>to</span> <span style='background-color:rgb(174, 255, 174); padding: 0 2px;'>-</span> <span style='background-color:rgb(178, 255, 178); padding: 0 2px;'>superman</span> <span style='background-color:rgb(176, 255, 176); padding: 0 2px;'>routines</span> <span style='background-color:rgb(179, 255, 179); padding: 0 2px;'>that</span> <span style='background-color:rgb(179, 255, 179); padding: 0 2px;'>john</span> <span style='background-color:rgb(178, 255, 178); padding: 0 2px;'>el</span> <span style='background-color:rgb(176, 255, 176); padding: 0 2px;'>##way</span> <span style='background-color:rgb(178, 255, 178); padding: 0 2px;'>and</span> <span style='background-color:rgb(178, 255, 178); padding: 0 2px;'>michael</span> <span style='background-color:rgb(178, 255, 178); padding: 0 2px;'>jordan</span> <span style='background-color:rgb(177, 255, 177); padding: 0 2px;'>often</span> <span style='background-color:rgb(178, 255, 178); padding: 0 2px;'>pulled</span> <span style='background-color:rgb(176, 255, 176); padding: 0 2px;'>in</span> <span style='background-color:rgb(178, 255, 178); padding: 0 2px;'>the</span> <span style='background-color:rgb(177, 255, 177); padding: 0 2px;'>final</span> <span style='background-color:rgb(177, 255, 177); padding: 0 2px;'>seconds</span> <span style='background-color:rgb(177, 255, 177); padding: 0 2px;'>.</span> <span style='background-color:rgb(178, 255, 178); padding: 0 2px;'>but</span> <span style='background-color:rgb(177, 255, 177); padding: 0 2px;'>ira</span> <span style='background-color:rgb(176, 255, 176); padding: 0 2px;'>##m</span> <span style='background-color:rgb(178, 255, 178); padding: 0 2px;'>leon</span> <span style='background-color:rgb(176, 255, 176); padding: 0 2px;'>stands</span> <span style='background-color:rgb(176, 255, 176); padding: 0 2px;'>on</span> <span style='background-color:rgb(180, 255, 180); padding: 0 2px;'>the</span> <span style='background-color:rgb(179, 255, 179); padding: 0 2px;'>side</span> <span style='background-color:rgb(178, 255, 178); padding: 0 2px;'>##lines</span> <span style='background-color:rgb(178, 255, 178); padding: 0 2px;'>of</span> <span style='background-color:rgb(178, 255, 178); padding: 0 2px;'>his</span> <span style='background-color:rgb(178, 255, 178); padding: 0 2px;'>own</span> <span style='background-color:rgb(179, 255, 179); padding: 0 2px;'>race</span> <span style='background-color:rgb(178, 255, 178); padding: 0 2px;'>against</span> <span style='background-color:rgb(176, 255, 176); padding: 0 2px;'>time</span> <span style='background-color:rgb(180, 255, 180); padding: 0 2px;'>.</span> <span style='background-color:rgb(179, 255, 179); padding: 0 2px;'>lodged</span> <span style='background-color:rgb(180, 255, 180); padding: 0 2px;'>in</span> <span style='background-color:rgb(178, 255, 178); padding: 0 2px;'>his</span> <span style='background-color:rgb(178, 255, 178); padding: 0 2px;'>brain</span> <span style='background-color:rgb(179, 255, 179); padding: 0 2px;'>is</span> <span style='background-color:rgb(180, 255, 180); padding: 0 2px;'>an</span> <span style='background-color:rgb(180, 255, 180); padding: 0 2px;'>un</span> <span style='background-color:rgb(179, 255, 179); padding: 0 2px;'>##tre</span> <span style='background-color:rgb(179, 255, 179); padding: 0 2px;'>##atable</span> <span style='background-color:rgb(179, 255, 179); padding: 0 2px;'>and</span> <span style='background-color:rgb(178, 255, 178); padding: 0 2px;'>in</span> <span style='background-color:rgb(180, 255, 180); padding: 0 2px;'>##oper</span> <span style='background-color:rgb(176, 255, 176); padding: 0 2px;'>##able</span> <span style='background-color:rgb(178, 255, 178); padding: 0 2px;'>cancer</span> <span style='background-color:rgb(179, 255, 179); padding: 0 2px;'>##ous</span> <span style='background-color:rgb(180, 255, 180); padding: 0 2px;'>tumor</span> <span style='background-color:rgb(178, 255, 178); padding: 0 2px;'>that</span> <span style='background-color:rgb(176, 255, 176); padding: 0 2px;'>statistics</span> <span style='background-color:rgb(173, 255, 173); padding: 0 2px;'>suggest</span> <span style='background-color:rgb(180, 255, 180); padding: 0 2px;'>will</span> <span style='background-color:rgb(180, 255, 180); padding: 0 2px;'>kill</span> <span style='background-color:rgb(177, 255, 177); padding: 0 2px;'>him</span> <span style='background-color:rgb(178, 255, 178); padding: 0 2px;'>before</span> <span style='background-color:rgb(180, 255, 180); padding: 0 2px;'>he</span> <span style='background-color:rgb(179, 255, 179); padding: 0 2px;'>is</span> <span style='background-color:rgb(180, 255, 180); padding: 0 2px;'>40</span> <span style='background-color:rgb(178, 255, 178); padding: 0 2px;'>,</span> <span style='background-color:rgb(176, 255, 176); padding: 0 2px;'>eight</span> <span style='background-color:rgb(178, 255, 178); padding: 0 2px;'>years</span> <span style='background-color:rgb(171, 255, 171); padding: 0 2px;'>from</span> <span style='background-color:rgb(176, 255, 176); padding: 0 2px;'>now</span> <span style='background-color:rgb(174, 255, 174); padding: 0 2px;'>.</span> <span style='background-color:rgb(172, 255, 172); padding: 0 2px;'>medical</span> <span style='background-color:rgb(174, 255, 174); padding: 0 2px;'>science</span> <span style='background-color:rgb(176, 255, 176); padding: 0 2px;'>is</span> <span style='background-color:rgb(174, 255, 174); padding: 0 2px;'>advancing</span> <span style='background-color:rgb(173, 255, 173); padding: 0 2px;'>at</span> <span style='background-color:rgb(172, 255, 172); padding: 0 2px;'>a</span> <span style='background-color:rgb(171, 255, 171); padding: 0 2px;'>rate</span> <span style='background-color:rgb(172, 255, 172); padding: 0 2px;'>that</span> <span style='background-color:rgb(174, 255, 174); padding: 0 2px;'>doesn</span> <span style='background-color:rgb(173, 255, 173); padding: 0 2px;'>'</span> <span style='background-color:rgb(173, 255, 173); padding: 0 2px;'>t</span> <span style='background-color:rgb(176, 255, 176); padding: 0 2px;'>pre</span> <span style='background-color:rgb(172, 255, 172); padding: 0 2px;'>##cl</span> <span style='background-color:rgb(172, 255, 172); padding: 0 2px;'>##ude</span> <span style='background-color:rgb(169, 255, 169); padding: 0 2px;'>the</span> <span style='background-color:rgb(171, 255, 171); padding: 0 2px;'>development</span> <span style='background-color:rgb(169, 255, 169); padding: 0 2px;'>of</span> <span style='background-color:rgb(168, 255, 168); padding: 0 2px;'>a</span> <span style='background-color:rgb(171, 255, 171); padding: 0 2px;'>treatment</span> <span style='background-color:rgb(170, 255, 170); padding: 0 2px;'>,</span> <span style='background-color:rgb(171, 255, 171); padding: 0 2px;'>but</span> <span style='background-color:rgb(175, 255, 175); padding: 0 2px;'>it</span> <span style='background-color:rgb(173, 255, 173); padding: 0 2px;'>'</span> <span style='background-color:rgb(171, 255, 171); padding: 0 2px;'>s</span> <span style='background-color:rgb(168, 255, 168); padding: 0 2px;'>not</span> <span style='background-color:rgb(170, 255, 170); padding: 0 2px;'>clear</span> <span style='background-color:rgb(168, 255, 168); padding: 0 2px;'>if</span> <span style='background-color:rgb(171, 255, 171); padding: 0 2px;'>it</span> <span style='background-color:rgb(168, 255, 168); padding: 0 2px;'>will</span> <span style='background-color:rgb(171, 255, 171); padding: 0 2px;'>come</span> <span style='background-color:rgb(166, 255, 166); padding: 0 2px;'>in</span> <span style='background-color:rgb(173, 255, 173); padding: 0 2px;'>time</span> <span style='background-color:rgb(171, 255, 171); padding: 0 2px;'>.</span> <span style='background-color:rgb(173, 255, 173); padding: 0 2px;'>\"</span> <span style='background-color:rgb(171, 255, 171); padding: 0 2px;'>no</span> <span style='background-color:rgb(170, 255, 170); padding: 0 2px;'>one</span> <span style='background-color:rgb(173, 255, 173); padding: 0 2px;'>knows</span> <span style='background-color:rgb(169, 255, 169); padding: 0 2px;'>what</span> <span style='background-color:rgb(177, 255, 177); padding: 0 2px;'>technology</span> <span style='background-color:rgb(173, 255, 173); padding: 0 2px;'>will</span> <span style='background-color:rgb(169, 255, 169); padding: 0 2px;'>be</span> <span style='background-color:rgb(176, 255, 176); padding: 0 2px;'>available</span> <span style='background-color:rgb(177, 255, 177); padding: 0 2px;'>in</span> <span style='background-color:rgb(178, 255, 178); padding: 0 2px;'>five</span> <span style='background-color:rgb(177, 255, 177); padding: 0 2px;'>years</span> <span style='background-color:rgb(178, 255, 178); padding: 0 2px;'>,</span> <span style='background-color:rgb(178, 255, 178); padding: 0 2px;'>\"</span> <span style='background-color:rgb(175, 255, 175); padding: 0 2px;'>said</span> <span style='background-color:rgb(174, 255, 174); padding: 0 2px;'>allan</span> <span style='background-color:rgb(175, 255, 175); padding: 0 2px;'>friedman</span> <span style='background-color:rgb(177, 255, 177); padding: 0 2px;'>,</span> <span style='background-color:rgb(175, 255, 175); padding: 0 2px;'>duke</span> <span style='background-color:rgb(178, 255, 178); padding: 0 2px;'>university</span> <span style='background-color:rgb(177, 255, 177); padding: 0 2px;'>hospital</span> <span style='background-color:rgb(178, 255, 178); padding: 0 2px;'>ne</span> <span style='background-color:rgb(180, 255, 180); padding: 0 2px;'>##uro</span> <span style='background-color:rgb(178, 255, 178); padding: 0 2px;'>##sur</span> <span style='background-color:rgb(177, 255, 177); padding: 0 2px;'>##ge</span> <span style='background-color:rgb(174, 255, 174); padding: 0 2px;'>##on</span> <span style='background-color:rgb(178, 255, 178); padding: 0 2px;'>in</span> <span style='background-color:rgb(176, 255, 176); padding: 0 2px;'>chief</span> <span style='background-color:rgb(178, 255, 178); padding: 0 2px;'>,</span> <span style='background-color:rgb(176, 255, 176); padding: 0 2px;'>who</span> <span style='background-color:rgb(173, 255, 173); padding: 0 2px;'>in</span> <span style='background-color:rgb(176, 255, 176); padding: 0 2px;'>2011</span> <span style='background-color:rgb(176, 255, 176); padding: 0 2px;'>removed</span> <span style='background-color:rgb(179, 255, 179); padding: 0 2px;'>as</span> <span style='background-color:rgb(177, 255, 177); padding: 0 2px;'>much</span> <span style='background-color:rgb(180, 255, 180); padding: 0 2px;'>of</span> <span style='background-color:rgb(178, 255, 178); padding: 0 2px;'>leon</span> <span style='background-color:rgb(179, 255, 179); padding: 0 2px;'>'</span> <span style='background-color:rgb(174, 255, 174); padding: 0 2px;'>s</span> <span style='background-color:rgb(173, 255, 173); padding: 0 2px;'>brain</span> <span style='background-color:rgb(176, 255, 176); padding: 0 2px;'>tumor</span> <span style='background-color:rgb(174, 255, 174); padding: 0 2px;'>as</span> <span style='background-color:rgb(175, 255, 175); padding: 0 2px;'>possible</span> <span style='background-color:rgb(178, 255, 178); padding: 0 2px;'>.</span> <span style='background-color:rgb(176, 255, 176); padding: 0 2px;'>the</span> <span style='background-color:rgb(177, 255, 177); padding: 0 2px;'>torment</span> <span style='background-color:rgb(176, 255, 176); padding: 0 2px;'>of</span> <span style='background-color:rgb(177, 255, 177); padding: 0 2px;'>enduring</span> <span style='background-color:rgb(178, 255, 178); padding: 0 2px;'>that</span> <span style='background-color:rgb(176, 255, 176); padding: 0 2px;'>wait</span> <span style='background-color:rgb(176, 255, 176); padding: 0 2px;'>can</span> <span style='background-color:rgb(177, 255, 177); padding: 0 2px;'>paste</span> <span style='background-color:rgb(176, 255, 176); padding: 0 2px;'>a</span> <span style='background-color:rgb(178, 255, 178); padding: 0 2px;'>cancer</span> <span style='background-color:rgb(176, 255, 176); padding: 0 2px;'>patient</span> <span style='background-color:rgb(175, 255, 175); padding: 0 2px;'>to</span> <span style='background-color:rgb(176, 255, 176); padding: 0 2px;'>the</span> <span style='background-color:rgb(176, 255, 176); padding: 0 2px;'>couch</span> <span style='background-color:rgb(175, 255, 175); padding: 0 2px;'>,</span> <span style='background-color:rgb(178, 255, 178); padding: 0 2px;'>a</span> <span style='background-color:rgb(175, 255, 175); padding: 0 2px;'>surrender</span> <span style='background-color:rgb(176, 255, 176); padding: 0 2px;'>heavily</span> <span style='background-color:rgb(177, 255, 177); padding: 0 2px;'>associated</span> <span style='background-color:rgb(178, 255, 178); padding: 0 2px;'>with</span> <span style='background-color:rgb(178, 255, 178); padding: 0 2px;'>dead</span> <span style='background-color:rgb(178, 255, 178); padding: 0 2px;'>##lier</span> <span style='background-color:rgb(178, 255, 178); padding: 0 2px;'>outcomes</span> <span style='background-color:rgb(178, 255, 178); padding: 0 2px;'>.</span> <span style='background-color:rgb(180, 255, 180); padding: 0 2px;'>some</span> <span style='background-color:rgb(178, 255, 178); padding: 0 2px;'>seek</span> <span style='background-color:rgb(180, 255, 180); padding: 0 2px;'>escape</span> <span style='background-color:rgb(178, 255, 178); padding: 0 2px;'>in</span> <span style='background-color:rgb(177, 255, 177); padding: 0 2px;'>their</span> <span style='background-color:rgb(178, 255, 178); padding: 0 2px;'>careers</span> <span style='background-color:rgb(178, 255, 178); padding: 0 2px;'>,</span> <span style='background-color:rgb(180, 255, 180); padding: 0 2px;'>but</span> <span style='background-color:rgb(179, 255, 179); padding: 0 2px;'>that</span> <span style='background-color:rgb(178, 255, 178); padding: 0 2px;'>is</span> <span style='background-color:rgb(177, 255, 177); padding: 0 2px;'>no</span> <span style='background-color:rgb(178, 255, 178); padding: 0 2px;'>longer</span> <span style='background-color:rgb(178, 255, 178); padding: 0 2px;'>an</span> <span style='background-color:rgb(180, 255, 180); padding: 0 2px;'>option</span> <span style='background-color:rgb(179, 255, 179); padding: 0 2px;'>for</span> <span style='background-color:rgb(179, 255, 179); padding: 0 2px;'>leon</span> <span style='background-color:rgb(180, 255, 180); padding: 0 2px;'>,</span> <span style='background-color:rgb(180, 255, 180); padding: 0 2px;'>who</span> <span style='background-color:rgb(178, 255, 178); padding: 0 2px;'>early</span> <span style='background-color:rgb(180, 255, 180); padding: 0 2px;'>this</span> <span style='background-color:rgb(178, 255, 178); padding: 0 2px;'>year</span> <span style='background-color:rgb(178, 255, 178); padding: 0 2px;'>was</span> <span style='background-color:rgb(178, 255, 178); padding: 0 2px;'>forced</span> <span style='background-color:rgb(179, 255, 179); padding: 0 2px;'>to</span> <span style='background-color:rgb(180, 255, 180); padding: 0 2px;'>step</span> <span style='background-color:rgb(178, 255, 178); padding: 0 2px;'>down</span> <span style='background-color:rgb(178, 255, 178); padding: 0 2px;'>as</span> <span style='background-color:rgb(180, 255, 180); padding: 0 2px;'>a</span> <span style='background-color:rgb(180, 255, 180); padding: 0 2px;'>juvenile</span> <span style='background-color:rgb(180, 255, 180); padding: 0 2px;'>probation</span> <span style='background-color:rgb(179, 255, 179); padding: 0 2px;'>officer</span> <span style='background-color:rgb(180, 255, 180); padding: 0 2px;'>in</span> <span style='background-color:rgb(180, 255, 180); padding: 0 2px;'>travis</span> <span style='background-color:rgb(179, 255, 179); padding: 0 2px;'>county</span> <span style='background-color:rgb(178, 255, 178); padding: 0 2px;'>,</span> <span style='background-color:rgb(179, 255, 179); padding: 0 2px;'>texas</span> <span style='background-color:rgb(180, 255, 180); padding: 0 2px;'>,</span> <span style='background-color:rgb(178, 255, 178); padding: 0 2px;'>a</span> <span style='background-color:rgb(180, 255, 180); padding: 0 2px;'>position</span> <span style='background-color:rgb(178, 255, 178); padding: 0 2px;'>he</span> <span style='background-color:rgb(179, 255, 179); padding: 0 2px;'>had</span> <span style='background-color:rgb(179, 255, 179); padding: 0 2px;'>held</span> <span style='background-color:rgb(180, 255, 180); padding: 0 2px;'>for</span> <span style='background-color:rgb(180, 255, 180); padding: 0 2px;'>almost</span> <span style='background-color:rgb(179, 255, 179); padding: 0 2px;'>seven</span> <span style='background-color:rgb(177, 255, 177); padding: 0 2px;'>years</span> <span style='background-color:rgb(179, 255, 179); padding: 0 2px;'>.</span> <span style='background-color:rgb(180, 255, 180); padding: 0 2px;'>his</span> <span style='background-color:rgb(177, 255, 177); padding: 0 2px;'>thinking</span> <span style='background-color:rgb(178, 255, 178); padding: 0 2px;'>is</span> <span style='background-color:rgb(178, 255, 178); padding: 0 2px;'>no</span> <span style='background-color:rgb(178, 255, 178); padding: 0 2px;'>longer</span> <span style='background-color:rgb(179, 255, 179); padding: 0 2px;'>clear</span> <span style='background-color:rgb(179, 255, 179); padding: 0 2px;'>,</span> <span style='background-color:rgb(179, 255, 179); padding: 0 2px;'>said</span> <span style='background-color:rgb(177, 255, 177); padding: 0 2px;'>leon</span> <span style='background-color:rgb(176, 255, 176); padding: 0 2px;'>,</span> <span style='background-color:rgb(178, 255, 178); padding: 0 2px;'>adding</span> <span style='background-color:rgb(176, 255, 176); padding: 0 2px;'>,</span> <span style='background-color:rgb(178, 255, 178); padding: 0 2px;'>\"</span> <span style='background-color:rgb(176, 255, 176); padding: 0 2px;'>i</span> <span style='background-color:rgb(178, 255, 178); padding: 0 2px;'>was</span> <span style='background-color:rgb(177, 255, 177); padding: 0 2px;'>making</span> <span style='background-color:rgb(178, 255, 178); padding: 0 2px;'>too</span> <span style='background-color:rgb(179, 255, 179); padding: 0 2px;'>many</span> <span style='background-color:rgb(177, 255, 177); padding: 0 2px;'>mistakes</span> <span style='background-color:rgb(178, 255, 178); padding: 0 2px;'>on</span> <span style='background-color:rgb(179, 255, 179); padding: 0 2px;'>the</span> <span style='background-color:rgb(178, 255, 178); padding: 0 2px;'>stand</span> <span style='background-color:rgb(178, 255, 178); padding: 0 2px;'>.</span> <span style='background-color:rgb(180, 255, 180); padding: 0 2px;'>\"</span> <span style='background-color:rgb(177, 255, 177); padding: 0 2px;'>but</span> <span style='background-color:rgb(177, 255, 177); padding: 0 2px;'>leon</span> <span style='background-color:rgb(180, 255, 180); padding: 0 2px;'>can</span> <span style='background-color:rgb(176, 255, 176); padding: 0 2px;'>still</span> <span style='background-color:rgb(178, 255, 178); padding: 0 2px;'>run</span> <span style='background-color:rgb(178, 255, 178); padding: 0 2px;'>.</span> <span style='background-color:rgb(176, 255, 176); padding: 0 2px;'>two</span> <span style='background-color:rgb(180, 255, 180); padding: 0 2px;'>years</span> <span style='background-color:rgb(178, 255, 178); padding: 0 2px;'>after</span> <span style='background-color:rgb(179, 255, 179); padding: 0 2px;'>his</span> <span style='background-color:rgb(173, 255, 173); padding: 0 2px;'>brain</span> <span style='background-color:rgb(173, 255, 173); padding: 0 2px;'>-</span> <span style='background-color:rgb(176, 255, 176); padding: 0 2px;'>cancer</span> <span style='background-color:rgb(176, 255, 176); padding: 0 2px;'>diagnosis</span> <span style='background-color:rgb(175, 255, 175); padding: 0 2px;'>,</span> <span style='background-color:rgb(178, 255, 178); padding: 0 2px;'>he</span> <span style='background-color:rgb(178, 255, 178); padding: 0 2px;'>recently</span> <span style='background-color:rgb(180, 255, 180); padding: 0 2px;'>ran</span> <span style='background-color:rgb(177, 255, 177); padding: 0 2px;'>a</span> <span style='background-color:rgb(180, 255, 180); padding: 0 2px;'>sub</span> <span style='background-color:rgb(179, 255, 179); padding: 0 2px;'>-</span> <span style='background-color:rgb(178, 255, 178); padding: 0 2px;'>five</span> <span style='background-color:rgb(180, 255, 180); padding: 0 2px;'>-</span> <span style='background-color:rgb(172, 255, 172); padding: 0 2px;'>minute</span> <span style='background-color:rgb(178, 255, 178); padding: 0 2px;'>mile</span> <span style='background-color:rgb(177, 255, 177); padding: 0 2px;'>for</span> <span style='background-color:rgb(180, 255, 180); padding: 0 2px;'>the</span> <span style='background-color:rgb(180, 255, 180); padding: 0 2px;'>first</span> <span style='background-color:rgb(177, 255, 177); padding: 0 2px;'>time</span> <span style='background-color:rgb(176, 255, 176); padding: 0 2px;'>since</span> <span style='background-color:rgb(180, 255, 180); padding: 0 2px;'>high</span> <span style='background-color:rgb(180, 255, 180); padding: 0 2px;'>school</span> <span style='background-color:rgb(178, 255, 178); padding: 0 2px;'>.</span> <span style='background-color:rgb(176, 255, 176); padding: 0 2px;'>what</span> <span style='background-color:rgb(178, 255, 178); padding: 0 2px;'>has</span> <span style='background-color:rgb(178, 255, 178); padding: 0 2px;'>startled</span> <span style='background-color:rgb(180, 255, 180); padding: 0 2px;'>the</span> <span style='background-color:rgb(178, 255, 178); padding: 0 2px;'>medical</span> <span style='background-color:rgb(179, 255, 179); padding: 0 2px;'>community</span> <span style='background-color:rgb(180, 255, 180); padding: 0 2px;'>even</span> <span style='background-color:rgb(179, 255, 179); padding: 0 2px;'>more</span> <span style='background-color:rgb(175, 255, 175); padding: 0 2px;'>is</span> <span style='background-color:rgb(179, 255, 179); padding: 0 2px;'>what</span> <span style='background-color:rgb(172, 255, 172); padding: 0 2px;'>leon</span> <span style='background-color:rgb(162, 255, 162); padding: 0 2px;'>did</span> <span style='background-color:rgb(180, 255, 180); padding: 0 2px;'>this</span> <span style='background-color:rgb(176, 255, 176); padding: 0 2px;'>month</span> <span style='background-color:rgb(178, 255, 178); padding: 0 2px;'>in</span> <span style='background-color:rgb(177, 255, 177); padding: 0 2px;'>beaumont</span> <span style='background-color:rgb(180, 255, 180); padding: 0 2px;'>,</span> <span style='background-color:rgb(177, 255, 177); padding: 0 2px;'>texas</span> <span style='background-color:rgb(174, 255, 174); padding: 0 2px;'>.</span> <span style='background-color:rgb(169, 255, 169); padding: 0 2px;'>he</span> <span style='background-color:rgb(171, 255, 171); padding: 0 2px;'>[a1]</span> <span style='background-color:rgb(173, 255, 173); padding: 0 2px;'>won</span> <span style='background-color:rgb(168, 255, 168); padding: 0 2px;'>[/a1]</span> <span style='background-color:rgb(166, 255, 166); padding: 0 2px;'>the</span> <span style='background-color:rgb(180, 255, 180); padding: 0 2px;'>gus</span> <span style='background-color:rgb(176, 255, 176); padding: 0 2px;'>##her</span> <span style='background-color:rgb(175, 255, 175); padding: 0 2px;'>marathon</span> <span style='background-color:rgb(176, 255, 176); padding: 0 2px;'>,</span> <span style='background-color:rgb(176, 255, 176); padding: 0 2px;'>finishing</span> <span style='background-color:rgb(176, 255, 176); padding: 0 2px;'>in</span> <span style='background-color:rgb(180, 255, 180); padding: 0 2px;'>3</span> <span style='background-color:rgb(176, 255, 176); padding: 0 2px;'>:</span> <span style='background-color:rgb(180, 255, 180); padding: 0 2px;'>07</span> <span style='background-color:rgb(176, 255, 176); padding: 0 2px;'>:</span> <span style='background-color:rgb(169, 255, 169); padding: 0 2px;'>35</span> <span style='background-color:rgb(172, 255, 172); padding: 0 2px;'>.</span> <span style='background-color:rgb(173, 255, 173); padding: 0 2px;'>that</span> <span style='background-color:rgb(169, 255, 169); padding: 0 2px;'>was</span> <span style='background-color:rgb(155, 255, 155); padding: 0 2px;'>one</span> <span style='background-color:rgb(180, 255, 180); padding: 0 2px;'>second</span> <span style='background-color:rgb(146, 255, 146); padding: 0 2px;'>slower</span> <span style='background-color:rgb(38, 255, 38); padding: 0 2px;'>than</span> <span style='background-color:rgb(164, 255, 164); padding: 0 2px;'>his</span> <span style='background-color:rgb(175, 255, 175); padding: 0 2px;'>personal</span> <span style='background-color:rgb(180, 255, 180); padding: 0 2px;'>record</span> <span style='background-color:rgb(176, 255, 176); padding: 0 2px;'>in</span> <span style='background-color:rgb(180, 255, 180); padding: 0 2px;'>the</span> <span style='background-color:rgb(174, 255, 174); padding: 0 2px;'>26</span> <span style='background-color:rgb(175, 255, 175); padding: 0 2px;'>.</span> <span style='background-color:rgb(168, 255, 168); padding: 0 2px;'>2</span> <span style='background-color:rgb(161, 255, 161); padding: 0 2px;'>-</span> <span style='background-color:rgb(2, 255, 2); padding: 0 2px;'>mile</span> <span style='background-color:rgb(176, 255, 176); padding: 0 2px;'>event</span> <span style='background-color:rgb(163, 255, 163); padding: 0 2px;'>,</span> <span style='background-color:rgb(178, 255, 178); padding: 0 2px;'>[a2]</span> <span style='background-color:rgb(169, 255, 169); padding: 0 2px;'>set</span> <span style='background-color:rgb(178, 255, 178); padding: 0 2px;'>[/a2]</span> <span style='background-color:rgb(171, 255, 171); padding: 0 2px;'>days</span> <span style='background-color:rgb(166, 255, 166); padding: 0 2px;'>before</span> <span style='background-color:rgb(178, 255, 178); padding: 0 2px;'>he</span> <span style='background-color:rgb(173, 255, 173); padding: 0 2px;'>underwent</span> <span style='background-color:rgb(180, 255, 180); padding: 0 2px;'>brain</span> <span style='background-color:rgb(138, 255, 138); padding: 0 2px;'>surgery</span> <span style='background-color:rgb(180, 255, 180); padding: 0 2px;'>in</span> <span style='background-color:rgb(180, 255, 180); padding: 0 2px;'>early</span> <span style='background-color:rgb(180, 255, 180); padding: 0 2px;'>2011</span> <span style='background-color:rgb(180, 255, 180); padding: 0 2px;'>.</span> <span style='background-color:rgb(180, 255, 180); padding: 0 2px;'>[SEP]</span> <span style='background-color:rgb(180, 255, 180); padding: 0 2px;'>[PAD]</span> <span style='background-color:rgb(180, 255, 180); padding: 0 2px;'>[PAD]</span> <span style='background-color:rgb(180, 255, 180); padding: 0 2px;'>[PAD]</span> <span style='background-color:rgb(180, 255, 180); padding: 0 2px;'>[PAD]</span> <span style='background-color:rgb(180, 255, 180); padding: 0 2px;'>[PAD]</span> <span style='background-color:rgb(180, 255, 180); padding: 0 2px;'>[PAD]</span> <span style='background-color:rgb(180, 255, 180); padding: 0 2px;'>[PAD]</span> <span style='background-color:rgb(180, 255, 180); padding: 0 2px;'>[PAD]</span> <span style='background-color:rgb(180, 255, 180); padding: 0 2px;'>[PAD]</span> <span style='background-color:rgb(180, 255, 180); padding: 0 2px;'>[PAD]</span> <span style='background-color:rgb(180, 255, 180); padding: 0 2px;'>[PAD]</span> <span style='background-color:rgb(180, 255, 180); padding: 0 2px;'>[PAD]</span> <span style='background-color:rgb(180, 255, 180); padding: 0 2px;'>[PAD]</span> <span style='background-color:rgb(180, 255, 180); padding: 0 2px;'>[PAD]</span> <span style='background-color:rgb(180, 255, 180); padding: 0 2px;'>[PAD]</span> <span style='background-color:rgb(180, 255, 180); padding: 0 2px;'>[PAD]</span> <span style='background-color:rgb(180, 255, 180); padding: 0 2px;'>[PAD]</span> <span style='background-color:rgb(180, 255, 180); padding: 0 2px;'>[PAD]</span> <span style='background-color:rgb(180, 255, 180); padding: 0 2px;'>[PAD]</span> <span style='background-color:rgb(180, 255, 180); padding: 0 2px;'>[PAD]</span> <span style='background-color:rgb(180, 255, 180); padding: 0 2px;'>[PAD]</span> <span style='background-color:rgb(180, 255, 180); padding: 0 2px;'>[PAD]</span> <span style='background-color:rgb(180, 255, 180); padding: 0 2px;'>[PAD]</span> <span style='background-color:rgb(180, 255, 180); padding: 0 2px;'>[PAD]</span> <span style='background-color:rgb(180, 255, 180); padding: 0 2px;'>[PAD]</span> <span style='background-color:rgb(180, 255, 180); padding: 0 2px;'>[PAD]</span> <span style='background-color:rgb(180, 255, 180); padding: 0 2px;'>[PAD]</span> <span style='background-color:rgb(180, 255, 180); padding: 0 2px;'>[PAD]</span> <span style='background-color:rgb(180, 255, 180); padding: 0 2px;'>[PAD]</span> <span style='background-color:rgb(180, 255, 180); padding: 0 2px;'>[PAD]</span> <span style='background-color:rgb(180, 255, 180); padding: 0 2px;'>[PAD]</span> <span style='background-color:rgb(180, 255, 180); padding: 0 2px;'>[PAD]</span> <span style='background-color:rgb(180, 255, 180); padding: 0 2px;'>[PAD]</span> <span style='background-color:rgb(180, 255, 180); padding: 0 2px;'>[PAD]</span> <span style='background-color:rgb(180, 255, 180); padding: 0 2px;'>[PAD]</span> <span style='background-color:rgb(180, 255, 180); padding: 0 2px;'>[PAD]</span> <span style='background-color:rgb(180, 255, 180); padding: 0 2px;'>[PAD]</span> <span style='background-color:rgb(180, 255, 180); padding: 0 2px;'>[PAD]</span> <span style='background-color:rgb(180, 255, 180); padding: 0 2px;'>[PAD]</span> <span style='background-color:rgb(180, 255, 180); padding: 0 2px;'>[PAD]</span> <span style='background-color:rgb(180, 255, 180); padding: 0 2px;'>[PAD]</span> <span style='background-color:rgb(180, 255, 180); padding: 0 2px;'>[PAD]</span> <span style='background-color:rgb(180, 255, 180); padding: 0 2px;'>[PAD]</span> <span style='background-color:rgb(180, 255, 180); padding: 0 2px;'>[PAD]</span> <span style='background-color:rgb(180, 255, 180); padding: 0 2px;'>[PAD]</span> <span style='background-color:rgb(180, 255, 180); padding: 0 2px;'>[PAD]</span> <span style='background-color:rgb(180, 255, 180); padding: 0 2px;'>[PAD]</span> <span style='background-color:rgb(180, 255, 180); padding: 0 2px;'>[PAD]</span> <span style='background-color:rgb(180, 255, 180); padding: 0 2px;'>[PAD]</span> <span style='background-color:rgb(180, 255, 180); padding: 0 2px;'>[PAD]</span> <span style='background-color:rgb(180, 255, 180); padding: 0 2px;'>[PAD]</span> <span style='background-color:rgb(180, 255, 180); padding: 0 2px;'>[PAD]</span> <span style='background-color:rgb(180, 255, 180); padding: 0 2px;'>[PAD]</span> <span style='background-color:rgb(180, 255, 180); padding: 0 2px;'>[PAD]</span> <span style='background-color:rgb(180, 255, 180); padding: 0 2px;'>[PAD]</span> <span style='background-color:rgb(180, 255, 180); padding: 0 2px;'>[PAD]</span> <span style='background-color:rgb(180, 255, 180); padding: 0 2px;'>[PAD]</span> <span style='background-color:rgb(180, 255, 180); padding: 0 2px;'>[PAD]</span> <span style='background-color:rgb(180, 255, 180); padding: 0 2px;'>[PAD]</span> <span style='background-color:rgb(180, 255, 180); padding: 0 2px;'>[PAD]</span> <span style='background-color:rgb(180, 255, 180); padding: 0 2px;'>[PAD]</span> <span style='background-color:rgb(180, 255, 180); padding: 0 2px;'>[PAD]</span> <span style='background-color:rgb(180, 255, 180); padding: 0 2px;'>[PAD]</span> <span style='background-color:rgb(180, 255, 180); padding: 0 2px;'>[PAD]</span> <span style='background-color:rgb(180, 255, 180); padding: 0 2px;'>[PAD]</span> <span style='background-color:rgb(180, 255, 180); padding: 0 2px;'>[PAD]</span> <span style='background-color:rgb(180, 255, 180); padding: 0 2px;'>[PAD]</span> <span style='background-color:rgb(180, 255, 180); padding: 0 2px;'>[PAD]</span> <span style='background-color:rgb(180, 255, 180); padding: 0 2px;'>[PAD]</span> <span style='background-color:rgb(180, 255, 180); padding: 0 2px;'>[PAD]</span> <span style='background-color:rgb(180, 255, 180); padding: 0 2px;'>[PAD]</span> <span style='background-color:rgb(180, 255, 180); padding: 0 2px;'>[PAD]</span> <span style='background-color:rgb(180, 255, 180); padding: 0 2px;'>[PAD]</span> <span style='background-color:rgb(180, 255, 180); padding: 0 2px;'>[PAD]</span> <span style='background-color:rgb(180, 255, 180); padding: 0 2px;'>[PAD]</span> <span style='background-color:rgb(180, 255, 180); padding: 0 2px;'>[PAD]</span> <span style='background-color:rgb(180, 255, 180); padding: 0 2px;'>[PAD]</span> <span style='background-color:rgb(180, 255, 180); padding: 0 2px;'>[PAD]</span> <span style='background-color:rgb(180, 255, 180); padding: 0 2px;'>[PAD]</span> <span style='background-color:rgb(180, 255, 180); padding: 0 2px;'>[PAD]</span> <span style='background-color:rgb(180, 255, 180); padding: 0 2px;'>[PAD]</span> <span style='background-color:rgb(180, 255, 180); padding: 0 2px;'>[PAD]</span> <span style='background-color:rgb(180, 255, 180); padding: 0 2px;'>[PAD]</span> <span style='background-color:rgb(180, 255, 180); padding: 0 2px;'>[PAD]</span> <span style='background-color:rgb(180, 255, 180); padding: 0 2px;'>[PAD]</span> <span style='background-color:rgb(180, 255, 180); padding: 0 2px;'>[PAD]</span> <span style='background-color:rgb(180, 255, 180); padding: 0 2px;'>[PAD]</span> <span style='background-color:rgb(180, 255, 180); padding: 0 2px;'>[PAD]</span> <span style='background-color:rgb(180, 255, 180); padding: 0 2px;'>[PAD]</span> <span style='background-color:rgb(180, 255, 180); padding: 0 2px;'>[PAD]</span> <span style='background-color:rgb(180, 255, 180); padding: 0 2px;'>[PAD]</span> <span style='background-color:rgb(180, 255, 180); padding: 0 2px;'>[PAD]</span> <span style='background-color:rgb(180, 255, 180); padding: 0 2px;'>[PAD]</span> <span style='background-color:rgb(180, 255, 180); padding: 0 2px;'>[PAD]</span> <span style='background-color:rgb(180, 255, 180); padding: 0 2px;'>[PAD]</span> <span style='background-color:rgb(180, 255, 180); padding: 0 2px;'>[PAD]</span> <span style='background-color:rgb(180, 255, 180); padding: 0 2px;'>[PAD]</span> <span style='background-color:rgb(180, 255, 180); padding: 0 2px;'>[PAD]</span> <span style='background-color:rgb(180, 255, 180); padding: 0 2px;'>[PAD]</span> <span style='background-color:rgb(180, 255, 180); padding: 0 2px;'>[PAD]</span> <span style='background-color:rgb(180, 255, 180); padding: 0 2px;'>[PAD]</span> <span style='background-color:rgb(180, 255, 180); padding: 0 2px;'>[PAD]</span> <span style='background-color:rgb(180, 255, 180); padding: 0 2px;'>[PAD]</span> <span style='background-color:rgb(180, 255, 180); padding: 0 2px;'>[PAD]</span> <span style='background-color:rgb(180, 255, 180); padding: 0 2px;'>[PAD]</span> <span style='background-color:rgb(180, 255, 180); padding: 0 2px;'>[PAD]</span> <span style='background-color:rgb(180, 255, 180); padding: 0 2px;'>[PAD]</span> <span style='background-color:rgb(180, 255, 180); padding: 0 2px;'>[PAD]</span> <span style='background-color:rgb(180, 255, 180); padding: 0 2px;'>[PAD]</span> <span style='background-color:rgb(180, 255, 180); padding: 0 2px;'>[PAD]</span> <span style='background-color:rgb(180, 255, 180); padding: 0 2px;'>[PAD]</span> <span style='background-color:rgb(180, 255, 180); padding: 0 2px;'>[PAD]</span> <span style='background-color:rgb(180, 255, 180); padding: 0 2px;'>[PAD]</span> <span style='background-color:rgb(180, 255, 180); padding: 0 2px;'>[PAD]</span> <span style='background-color:rgb(180, 255, 180); padding: 0 2px;'>[PAD]</span> <span style='background-color:rgb(180, 255, 180); padding: 0 2px;'>[PAD]</span> <span style='background-color:rgb(180, 255, 180); padding: 0 2px;'>[PAD]</span> <span style='background-color:rgb(180, 255, 180); padding: 0 2px;'>[PAD]</span> <span style='background-color:rgb(180, 255, 180); padding: 0 2px;'>[PAD]</span> <span style='background-color:rgb(180, 255, 180); padding: 0 2px;'>[PAD]</span> <span style='background-color:rgb(180, 255, 180); padding: 0 2px;'>[PAD]</span> <span style='background-color:rgb(180, 255, 180); padding: 0 2px;'>[PAD]</span> <span style='background-color:rgb(180, 255, 180); padding: 0 2px;'>[PAD]</span> <span style='background-color:rgb(180, 255, 180); padding: 0 2px;'>[PAD]</span> <span style='background-color:rgb(180, 255, 180); padding: 0 2px;'>[PAD]</span> <span style='background-color:rgb(180, 255, 180); padding: 0 2px;'>[PAD]</span> <span style='background-color:rgb(180, 255, 180); padding: 0 2px;'>[PAD]</span> <span style='background-color:rgb(180, 255, 180); padding: 0 2px;'>[PAD]</span> <span style='background-color:rgb(180, 255, 180); padding: 0 2px;'>[PAD]</span> <span style='background-color:rgb(180, 255, 180); padding: 0 2px;'>[PAD]</span> <span style='background-color:rgb(180, 255, 180); padding: 0 2px;'>[PAD]</span> <span style='background-color:rgb(180, 255, 180); padding: 0 2px;'>[PAD]</span> <span style='background-color:rgb(180, 255, 180); padding: 0 2px;'>[PAD]</span> <span style='background-color:rgb(180, 255, 180); padding: 0 2px;'>[PAD]</span> <span style='background-color:rgb(180, 255, 180); padding: 0 2px;'>[PAD]</span> <span style='background-color:rgb(180, 255, 180); padding: 0 2px;'>[PAD]</span> <span style='background-color:rgb(180, 255, 180); padding: 0 2px;'>[PAD]</span> <span style='background-color:rgb(180, 255, 180); padding: 0 2px;'>[PAD]</span> <span style='background-color:rgb(180, 255, 180); padding: 0 2px;'>[PAD]</span> <span style='background-color:rgb(180, 255, 180); padding: 0 2px;'>[PAD]</span> <span style='background-color:rgb(180, 255, 180); padding: 0 2px;'>[PAD]</span> </p>"
      ],
      "text/plain": [
       "<IPython.core.display.HTML object>"
      ]
     },
     "metadata": {},
     "output_type": "display_data"
    }
   ],
   "source": [
    "from IPython.display import HTML, display\n",
    "\n",
    "def visualize_attributions(tokens, attributions):\n",
    "    # Normalize attributions for visualization\n",
    "    attributions = [float(i) for i in attributions]  # Ensure attributions are float\n",
    "    min_attribution = min(attributions)\n",
    "    max_attribution = max(attributions)\n",
    "\n",
    "    # Create HTML string to display colored text\n",
    "    html_string = \"<p><b>Attributions:</b><br>\"\n",
    "    for token, attr in zip(tokens, attributions):\n",
    "        intensity = int(255 * abs(attr) / max(abs(min_attribution), abs(max_attribution)))\n",
    "        if attr < 0:\n",
    "            # Red for negative attributions\n",
    "            color = f\"rgb(255, {1500 - intensity}, {1500 - intensity})\"\n",
    "        else:\n",
    "            # Softer green for positive attributions\n",
    "            color = f\"rgb({180 - int(0.7 * intensity)}, 255, {180 - int(0.7 * intensity)})\"\n",
    "\n",
    "        html_string += f\"<span style='background-color:{color}; padding: 0 2px;'>{token}</span> \"\n",
    "\n",
    "    html_string += \"</p>\"\n",
    "    display(HTML(html_string))\n",
    "\n",
    "# Assuming you have already extracted tokens and their attributions\n",
    "# Example usage:\n",
    "visualize_attributions(tokens, attributions)"
   ]
  },
  {
   "cell_type": "code",
   "execution_count": null,
   "metadata": {
    "colab": {
     "base_uri": "https://localhost:8080/"
    },
    "executionInfo": {
     "elapsed": 399,
     "status": "ok",
     "timestamp": 1714230636987,
     "user": {
      "displayName": "Sofia Terenziani",
      "userId": "07918956272317491448"
     },
     "user_tz": -120
    },
    "id": "DRNmOQexGaJX",
    "outputId": "348860ad-e154-4e0e-c9ad-cc6d3273911e"
   },
   "outputs": [
    {
     "name": "stdout",
     "output_type": "stream",
     "text": [
      "1\n",
      "AFTER\n",
      "seemed\n",
      "yield\n"
     ]
    }
   ],
   "source": [
    "print(occlusion_df['label'][0])\n",
    "print(df_filtered['label_temp'][0])\n",
    "print(df_filtered['eventA'][0])\n",
    "print(df_filtered['eventB'][0])"
   ]
  },
  {
   "cell_type": "markdown",
   "metadata": {
    "id": "pQubagDRI_rg"
   },
   "source": [
    "## Calculate Significance Score"
   ]
  },
  {
   "cell_type": "code",
   "execution_count": null,
   "metadata": {
    "id": "7SzbZnqzGhYY"
   },
   "outputs": [],
   "source": [
    "df = pd.read_csv('/content/drive/My Drive/XAI/data/annotated/matres-partitions.csv')"
   ]
  },
  {
   "cell_type": "code",
   "execution_count": null,
   "metadata": {
    "id": "nBtcX-5bJFRQ"
   },
   "outputs": [],
   "source": []
  }
 ],
 "metadata": {
  "accelerator": "GPU",
  "colab": {
   "authorship_tag": "ABX9TyOZCtaVKk8e5ALrvNYdPIJi",
   "gpuType": "A100",
   "machine_shape": "hm",
   "provenance": []
  },
  "kernelspec": {
   "display_name": "Python 3 (ipykernel)",
   "language": "python",
   "name": "python3"
  },
  "language_info": {
   "codemirror_mode": {
    "name": "ipython",
    "version": 3
   },
   "file_extension": ".py",
   "mimetype": "text/x-python",
   "name": "python",
   "nbconvert_exporter": "python",
   "pygments_lexer": "ipython3",
   "version": "3.11.5"
  },
  "widgets": {
   "application/vnd.jupyter.widget-state+json": {
    "0ee0f319e62b4528b640f8c1cfe8d877": {
     "model_module": "@jupyter-widgets/controls",
     "model_module_version": "1.5.0",
     "model_name": "HTMLModel",
     "state": {
      "_dom_classes": [],
      "_model_module": "@jupyter-widgets/controls",
      "_model_module_version": "1.5.0",
      "_model_name": "HTMLModel",
      "_view_count": null,
      "_view_module": "@jupyter-widgets/controls",
      "_view_module_version": "1.5.0",
      "_view_name": "HTMLView",
      "description": "",
      "description_tooltip": null,
      "layout": "IPY_MODEL_50f60dcebf8045749a75ee22e92aac37",
      "placeholder": "​",
      "style": "IPY_MODEL_60c4782eb1364a2eb5194b559ea0f972",
      "value": " 440M/440M [00:02&lt;00:00, 201MB/s]"
     }
    },
    "147f3ce03eb742adad02ae6444f2c62e": {
     "model_module": "@jupyter-widgets/controls",
     "model_module_version": "1.5.0",
     "model_name": "HBoxModel",
     "state": {
      "_dom_classes": [],
      "_model_module": "@jupyter-widgets/controls",
      "_model_module_version": "1.5.0",
      "_model_name": "HBoxModel",
      "_view_count": null,
      "_view_module": "@jupyter-widgets/controls",
      "_view_module_version": "1.5.0",
      "_view_name": "HBoxView",
      "box_style": "",
      "children": [
       "IPY_MODEL_84c70f85343a4bf88724d3d478551068",
       "IPY_MODEL_e58e20d757a349eba27ac11d184e0c72",
       "IPY_MODEL_0ee0f319e62b4528b640f8c1cfe8d877"
      ],
      "layout": "IPY_MODEL_6e1f0234cd9e4b9180717aaeae64415e"
     }
    },
    "3332f7ea69fb48c3a78c22f503ea68ab": {
     "model_module": "@jupyter-widgets/controls",
     "model_module_version": "1.5.0",
     "model_name": "ProgressStyleModel",
     "state": {
      "_model_module": "@jupyter-widgets/controls",
      "_model_module_version": "1.5.0",
      "_model_name": "ProgressStyleModel",
      "_view_count": null,
      "_view_module": "@jupyter-widgets/base",
      "_view_module_version": "1.2.0",
      "_view_name": "StyleView",
      "bar_color": null,
      "description_width": ""
     }
    },
    "34300480e0114f5cbc93eb725100a070": {
     "model_module": "@jupyter-widgets/base",
     "model_module_version": "1.2.0",
     "model_name": "LayoutModel",
     "state": {
      "_model_module": "@jupyter-widgets/base",
      "_model_module_version": "1.2.0",
      "_model_name": "LayoutModel",
      "_view_count": null,
      "_view_module": "@jupyter-widgets/base",
      "_view_module_version": "1.2.0",
      "_view_name": "LayoutView",
      "align_content": null,
      "align_items": null,
      "align_self": null,
      "border": null,
      "bottom": null,
      "display": null,
      "flex": null,
      "flex_flow": null,
      "grid_area": null,
      "grid_auto_columns": null,
      "grid_auto_flow": null,
      "grid_auto_rows": null,
      "grid_column": null,
      "grid_gap": null,
      "grid_row": null,
      "grid_template_areas": null,
      "grid_template_columns": null,
      "grid_template_rows": null,
      "height": null,
      "justify_content": null,
      "justify_items": null,
      "left": null,
      "margin": null,
      "max_height": null,
      "max_width": null,
      "min_height": null,
      "min_width": null,
      "object_fit": null,
      "object_position": null,
      "order": null,
      "overflow": null,
      "overflow_x": null,
      "overflow_y": null,
      "padding": null,
      "right": null,
      "top": null,
      "visibility": null,
      "width": null
     }
    },
    "4b8f1e7853114b96b14c6bbdde5c4e48": {
     "model_module": "@jupyter-widgets/controls",
     "model_module_version": "1.5.0",
     "model_name": "DescriptionStyleModel",
     "state": {
      "_model_module": "@jupyter-widgets/controls",
      "_model_module_version": "1.5.0",
      "_model_name": "DescriptionStyleModel",
      "_view_count": null,
      "_view_module": "@jupyter-widgets/base",
      "_view_module_version": "1.2.0",
      "_view_name": "StyleView",
      "description_width": ""
     }
    },
    "50f60dcebf8045749a75ee22e92aac37": {
     "model_module": "@jupyter-widgets/base",
     "model_module_version": "1.2.0",
     "model_name": "LayoutModel",
     "state": {
      "_model_module": "@jupyter-widgets/base",
      "_model_module_version": "1.2.0",
      "_model_name": "LayoutModel",
      "_view_count": null,
      "_view_module": "@jupyter-widgets/base",
      "_view_module_version": "1.2.0",
      "_view_name": "LayoutView",
      "align_content": null,
      "align_items": null,
      "align_self": null,
      "border": null,
      "bottom": null,
      "display": null,
      "flex": null,
      "flex_flow": null,
      "grid_area": null,
      "grid_auto_columns": null,
      "grid_auto_flow": null,
      "grid_auto_rows": null,
      "grid_column": null,
      "grid_gap": null,
      "grid_row": null,
      "grid_template_areas": null,
      "grid_template_columns": null,
      "grid_template_rows": null,
      "height": null,
      "justify_content": null,
      "justify_items": null,
      "left": null,
      "margin": null,
      "max_height": null,
      "max_width": null,
      "min_height": null,
      "min_width": null,
      "object_fit": null,
      "object_position": null,
      "order": null,
      "overflow": null,
      "overflow_x": null,
      "overflow_y": null,
      "padding": null,
      "right": null,
      "top": null,
      "visibility": null,
      "width": null
     }
    },
    "55591f0df40a429188d62b55096e1aaf": {
     "model_module": "@jupyter-widgets/base",
     "model_module_version": "1.2.0",
     "model_name": "LayoutModel",
     "state": {
      "_model_module": "@jupyter-widgets/base",
      "_model_module_version": "1.2.0",
      "_model_name": "LayoutModel",
      "_view_count": null,
      "_view_module": "@jupyter-widgets/base",
      "_view_module_version": "1.2.0",
      "_view_name": "LayoutView",
      "align_content": null,
      "align_items": null,
      "align_self": null,
      "border": null,
      "bottom": null,
      "display": null,
      "flex": null,
      "flex_flow": null,
      "grid_area": null,
      "grid_auto_columns": null,
      "grid_auto_flow": null,
      "grid_auto_rows": null,
      "grid_column": null,
      "grid_gap": null,
      "grid_row": null,
      "grid_template_areas": null,
      "grid_template_columns": null,
      "grid_template_rows": null,
      "height": null,
      "justify_content": null,
      "justify_items": null,
      "left": null,
      "margin": null,
      "max_height": null,
      "max_width": null,
      "min_height": null,
      "min_width": null,
      "object_fit": null,
      "object_position": null,
      "order": null,
      "overflow": null,
      "overflow_x": null,
      "overflow_y": null,
      "padding": null,
      "right": null,
      "top": null,
      "visibility": null,
      "width": null
     }
    },
    "5b9bffa0a7d541b98c6f8f54b8ea2e1d": {
     "model_module": "@jupyter-widgets/base",
     "model_module_version": "1.2.0",
     "model_name": "LayoutModel",
     "state": {
      "_model_module": "@jupyter-widgets/base",
      "_model_module_version": "1.2.0",
      "_model_name": "LayoutModel",
      "_view_count": null,
      "_view_module": "@jupyter-widgets/base",
      "_view_module_version": "1.2.0",
      "_view_name": "LayoutView",
      "align_content": null,
      "align_items": null,
      "align_self": null,
      "border": null,
      "bottom": null,
      "display": null,
      "flex": null,
      "flex_flow": null,
      "grid_area": null,
      "grid_auto_columns": null,
      "grid_auto_flow": null,
      "grid_auto_rows": null,
      "grid_column": null,
      "grid_gap": null,
      "grid_row": null,
      "grid_template_areas": null,
      "grid_template_columns": null,
      "grid_template_rows": null,
      "height": null,
      "justify_content": null,
      "justify_items": null,
      "left": null,
      "margin": null,
      "max_height": null,
      "max_width": null,
      "min_height": null,
      "min_width": null,
      "object_fit": null,
      "object_position": null,
      "order": null,
      "overflow": null,
      "overflow_x": null,
      "overflow_y": null,
      "padding": null,
      "right": null,
      "top": null,
      "visibility": null,
      "width": null
     }
    },
    "60c4782eb1364a2eb5194b559ea0f972": {
     "model_module": "@jupyter-widgets/controls",
     "model_module_version": "1.5.0",
     "model_name": "DescriptionStyleModel",
     "state": {
      "_model_module": "@jupyter-widgets/controls",
      "_model_module_version": "1.5.0",
      "_model_name": "DescriptionStyleModel",
      "_view_count": null,
      "_view_module": "@jupyter-widgets/base",
      "_view_module_version": "1.2.0",
      "_view_name": "StyleView",
      "description_width": ""
     }
    },
    "61e9811c1723424db84b6b858799f1fb": {
     "model_module": "@jupyter-widgets/controls",
     "model_module_version": "1.5.0",
     "model_name": "HTMLModel",
     "state": {
      "_dom_classes": [],
      "_model_module": "@jupyter-widgets/controls",
      "_model_module_version": "1.5.0",
      "_model_name": "HTMLModel",
      "_view_count": null,
      "_view_module": "@jupyter-widgets/controls",
      "_view_module_version": "1.5.0",
      "_view_name": "HTMLView",
      "description": "",
      "description_tooltip": null,
      "layout": "IPY_MODEL_34300480e0114f5cbc93eb725100a070",
      "placeholder": "​",
      "style": "IPY_MODEL_4b8f1e7853114b96b14c6bbdde5c4e48",
      "value": "config.json: 100%"
     }
    },
    "687a8450a00b482eaaad35bb6677a8a1": {
     "model_module": "@jupyter-widgets/base",
     "model_module_version": "1.2.0",
     "model_name": "LayoutModel",
     "state": {
      "_model_module": "@jupyter-widgets/base",
      "_model_module_version": "1.2.0",
      "_model_name": "LayoutModel",
      "_view_count": null,
      "_view_module": "@jupyter-widgets/base",
      "_view_module_version": "1.2.0",
      "_view_name": "LayoutView",
      "align_content": null,
      "align_items": null,
      "align_self": null,
      "border": null,
      "bottom": null,
      "display": null,
      "flex": null,
      "flex_flow": null,
      "grid_area": null,
      "grid_auto_columns": null,
      "grid_auto_flow": null,
      "grid_auto_rows": null,
      "grid_column": null,
      "grid_gap": null,
      "grid_row": null,
      "grid_template_areas": null,
      "grid_template_columns": null,
      "grid_template_rows": null,
      "height": null,
      "justify_content": null,
      "justify_items": null,
      "left": null,
      "margin": null,
      "max_height": null,
      "max_width": null,
      "min_height": null,
      "min_width": null,
      "object_fit": null,
      "object_position": null,
      "order": null,
      "overflow": null,
      "overflow_x": null,
      "overflow_y": null,
      "padding": null,
      "right": null,
      "top": null,
      "visibility": null,
      "width": null
     }
    },
    "6e1f0234cd9e4b9180717aaeae64415e": {
     "model_module": "@jupyter-widgets/base",
     "model_module_version": "1.2.0",
     "model_name": "LayoutModel",
     "state": {
      "_model_module": "@jupyter-widgets/base",
      "_model_module_version": "1.2.0",
      "_model_name": "LayoutModel",
      "_view_count": null,
      "_view_module": "@jupyter-widgets/base",
      "_view_module_version": "1.2.0",
      "_view_name": "LayoutView",
      "align_content": null,
      "align_items": null,
      "align_self": null,
      "border": null,
      "bottom": null,
      "display": null,
      "flex": null,
      "flex_flow": null,
      "grid_area": null,
      "grid_auto_columns": null,
      "grid_auto_flow": null,
      "grid_auto_rows": null,
      "grid_column": null,
      "grid_gap": null,
      "grid_row": null,
      "grid_template_areas": null,
      "grid_template_columns": null,
      "grid_template_rows": null,
      "height": null,
      "justify_content": null,
      "justify_items": null,
      "left": null,
      "margin": null,
      "max_height": null,
      "max_width": null,
      "min_height": null,
      "min_width": null,
      "object_fit": null,
      "object_position": null,
      "order": null,
      "overflow": null,
      "overflow_x": null,
      "overflow_y": null,
      "padding": null,
      "right": null,
      "top": null,
      "visibility": null,
      "width": null
     }
    },
    "7aaacc47ff97419aab44035c2c4fb2c2": {
     "model_module": "@jupyter-widgets/controls",
     "model_module_version": "1.5.0",
     "model_name": "DescriptionStyleModel",
     "state": {
      "_model_module": "@jupyter-widgets/controls",
      "_model_module_version": "1.5.0",
      "_model_name": "DescriptionStyleModel",
      "_view_count": null,
      "_view_module": "@jupyter-widgets/base",
      "_view_module_version": "1.2.0",
      "_view_name": "StyleView",
      "description_width": ""
     }
    },
    "84c70f85343a4bf88724d3d478551068": {
     "model_module": "@jupyter-widgets/controls",
     "model_module_version": "1.5.0",
     "model_name": "HTMLModel",
     "state": {
      "_dom_classes": [],
      "_model_module": "@jupyter-widgets/controls",
      "_model_module_version": "1.5.0",
      "_model_name": "HTMLModel",
      "_view_count": null,
      "_view_module": "@jupyter-widgets/controls",
      "_view_module_version": "1.5.0",
      "_view_name": "HTMLView",
      "description": "",
      "description_tooltip": null,
      "layout": "IPY_MODEL_cbc149014b3941f18c3757af1885ab3e",
      "placeholder": "​",
      "style": "IPY_MODEL_f97e0b41dfcf4194ad0ecea732f59d15",
      "value": "model.safetensors: 100%"
     }
    },
    "aca889a7b0114ab3b04160c8c5780108": {
     "model_module": "@jupyter-widgets/controls",
     "model_module_version": "1.5.0",
     "model_name": "FloatProgressModel",
     "state": {
      "_dom_classes": [],
      "_model_module": "@jupyter-widgets/controls",
      "_model_module_version": "1.5.0",
      "_model_name": "FloatProgressModel",
      "_view_count": null,
      "_view_module": "@jupyter-widgets/controls",
      "_view_module_version": "1.5.0",
      "_view_name": "ProgressView",
      "bar_style": "success",
      "description": "",
      "description_tooltip": null,
      "layout": "IPY_MODEL_5b9bffa0a7d541b98c6f8f54b8ea2e1d",
      "max": 570,
      "min": 0,
      "orientation": "horizontal",
      "style": "IPY_MODEL_e282ba40eb064f91bf24eb4300562d79",
      "value": 570
     }
    },
    "af3f7df33453462da5b028ae2bd9c82b": {
     "model_module": "@jupyter-widgets/base",
     "model_module_version": "1.2.0",
     "model_name": "LayoutModel",
     "state": {
      "_model_module": "@jupyter-widgets/base",
      "_model_module_version": "1.2.0",
      "_model_name": "LayoutModel",
      "_view_count": null,
      "_view_module": "@jupyter-widgets/base",
      "_view_module_version": "1.2.0",
      "_view_name": "LayoutView",
      "align_content": null,
      "align_items": null,
      "align_self": null,
      "border": null,
      "bottom": null,
      "display": null,
      "flex": null,
      "flex_flow": null,
      "grid_area": null,
      "grid_auto_columns": null,
      "grid_auto_flow": null,
      "grid_auto_rows": null,
      "grid_column": null,
      "grid_gap": null,
      "grid_row": null,
      "grid_template_areas": null,
      "grid_template_columns": null,
      "grid_template_rows": null,
      "height": null,
      "justify_content": null,
      "justify_items": null,
      "left": null,
      "margin": null,
      "max_height": null,
      "max_width": null,
      "min_height": null,
      "min_width": null,
      "object_fit": null,
      "object_position": null,
      "order": null,
      "overflow": null,
      "overflow_x": null,
      "overflow_y": null,
      "padding": null,
      "right": null,
      "top": null,
      "visibility": null,
      "width": null
     }
    },
    "c725403dd8274daeafa7782d31f58444": {
     "model_module": "@jupyter-widgets/controls",
     "model_module_version": "1.5.0",
     "model_name": "HTMLModel",
     "state": {
      "_dom_classes": [],
      "_model_module": "@jupyter-widgets/controls",
      "_model_module_version": "1.5.0",
      "_model_name": "HTMLModel",
      "_view_count": null,
      "_view_module": "@jupyter-widgets/controls",
      "_view_module_version": "1.5.0",
      "_view_name": "HTMLView",
      "description": "",
      "description_tooltip": null,
      "layout": "IPY_MODEL_55591f0df40a429188d62b55096e1aaf",
      "placeholder": "​",
      "style": "IPY_MODEL_7aaacc47ff97419aab44035c2c4fb2c2",
      "value": " 570/570 [00:00&lt;00:00, 48.8kB/s]"
     }
    },
    "cbc149014b3941f18c3757af1885ab3e": {
     "model_module": "@jupyter-widgets/base",
     "model_module_version": "1.2.0",
     "model_name": "LayoutModel",
     "state": {
      "_model_module": "@jupyter-widgets/base",
      "_model_module_version": "1.2.0",
      "_model_name": "LayoutModel",
      "_view_count": null,
      "_view_module": "@jupyter-widgets/base",
      "_view_module_version": "1.2.0",
      "_view_name": "LayoutView",
      "align_content": null,
      "align_items": null,
      "align_self": null,
      "border": null,
      "bottom": null,
      "display": null,
      "flex": null,
      "flex_flow": null,
      "grid_area": null,
      "grid_auto_columns": null,
      "grid_auto_flow": null,
      "grid_auto_rows": null,
      "grid_column": null,
      "grid_gap": null,
      "grid_row": null,
      "grid_template_areas": null,
      "grid_template_columns": null,
      "grid_template_rows": null,
      "height": null,
      "justify_content": null,
      "justify_items": null,
      "left": null,
      "margin": null,
      "max_height": null,
      "max_width": null,
      "min_height": null,
      "min_width": null,
      "object_fit": null,
      "object_position": null,
      "order": null,
      "overflow": null,
      "overflow_x": null,
      "overflow_y": null,
      "padding": null,
      "right": null,
      "top": null,
      "visibility": null,
      "width": null
     }
    },
    "e282ba40eb064f91bf24eb4300562d79": {
     "model_module": "@jupyter-widgets/controls",
     "model_module_version": "1.5.0",
     "model_name": "ProgressStyleModel",
     "state": {
      "_model_module": "@jupyter-widgets/controls",
      "_model_module_version": "1.5.0",
      "_model_name": "ProgressStyleModel",
      "_view_count": null,
      "_view_module": "@jupyter-widgets/base",
      "_view_module_version": "1.2.0",
      "_view_name": "StyleView",
      "bar_color": null,
      "description_width": ""
     }
    },
    "e58e20d757a349eba27ac11d184e0c72": {
     "model_module": "@jupyter-widgets/controls",
     "model_module_version": "1.5.0",
     "model_name": "FloatProgressModel",
     "state": {
      "_dom_classes": [],
      "_model_module": "@jupyter-widgets/controls",
      "_model_module_version": "1.5.0",
      "_model_name": "FloatProgressModel",
      "_view_count": null,
      "_view_module": "@jupyter-widgets/controls",
      "_view_module_version": "1.5.0",
      "_view_name": "ProgressView",
      "bar_style": "success",
      "description": "",
      "description_tooltip": null,
      "layout": "IPY_MODEL_af3f7df33453462da5b028ae2bd9c82b",
      "max": 440449768,
      "min": 0,
      "orientation": "horizontal",
      "style": "IPY_MODEL_3332f7ea69fb48c3a78c22f503ea68ab",
      "value": 440449768
     }
    },
    "f97e0b41dfcf4194ad0ecea732f59d15": {
     "model_module": "@jupyter-widgets/controls",
     "model_module_version": "1.5.0",
     "model_name": "DescriptionStyleModel",
     "state": {
      "_model_module": "@jupyter-widgets/controls",
      "_model_module_version": "1.5.0",
      "_model_name": "DescriptionStyleModel",
      "_view_count": null,
      "_view_module": "@jupyter-widgets/base",
      "_view_module_version": "1.2.0",
      "_view_name": "StyleView",
      "description_width": ""
     }
    },
    "fd23e9e528fa4b7a9e8049038fb7224c": {
     "model_module": "@jupyter-widgets/controls",
     "model_module_version": "1.5.0",
     "model_name": "HBoxModel",
     "state": {
      "_dom_classes": [],
      "_model_module": "@jupyter-widgets/controls",
      "_model_module_version": "1.5.0",
      "_model_name": "HBoxModel",
      "_view_count": null,
      "_view_module": "@jupyter-widgets/controls",
      "_view_module_version": "1.5.0",
      "_view_name": "HBoxView",
      "box_style": "",
      "children": [
       "IPY_MODEL_61e9811c1723424db84b6b858799f1fb",
       "IPY_MODEL_aca889a7b0114ab3b04160c8c5780108",
       "IPY_MODEL_c725403dd8274daeafa7782d31f58444"
      ],
      "layout": "IPY_MODEL_687a8450a00b482eaaad35bb6677a8a1"
     }
    }
   }
  }
 },
 "nbformat": 4,
 "nbformat_minor": 1
}
