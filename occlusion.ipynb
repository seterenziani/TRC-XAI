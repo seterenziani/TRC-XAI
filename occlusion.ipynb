{
 "cells": [
  {
   "cell_type": "markdown",
   "metadata": {
    "id": "pMhiaGWWUVT4"
   },
   "source": [
    "## Installs"
   ]
  },
  {
   "cell_type": "code",
   "execution_count": null,
   "metadata": {
    "colab": {
     "base_uri": "https://localhost:8080/"
    },
    "executionInfo": {
     "elapsed": 61149,
     "status": "ok",
     "timestamp": 1715617412889,
     "user": {
      "displayName": "Sofia Terenziani",
      "userId": "07918956272317491448"
     },
     "user_tz": -120
    },
    "id": "eXpgEa6yURfF",
    "outputId": "a361b4c0-6376-4e5e-d06e-686ae790415e"
   },
   "outputs": [],
   "source": [
    "!pip install captum"
   ]
  },
  {
   "cell_type": "code",
   "execution_count": null,
   "metadata": {
    "colab": {
     "base_uri": "https://localhost:8080/"
    },
    "executionInfo": {
     "elapsed": 8020,
     "status": "ok",
     "timestamp": 1715617420902,
     "user": {
      "displayName": "Sofia Terenziani",
      "userId": "07918956272317491448"
     },
     "user_tz": -120
    },
    "id": "DsKvR39sUXIw",
    "outputId": "2b734539-4c0f-4e39-f6bb-48cd352f7c91"
   },
   "outputs": [],
   "source": [
    "#!pip install datasets"
   ]
  },
  {
   "cell_type": "markdown",
   "metadata": {
    "id": "rPFsPhtzUZId"
   },
   "source": [
    "## Imports"
   ]
  },
  {
   "cell_type": "code",
   "execution_count": null,
   "metadata": {
    "executionInfo": {
     "elapsed": 412,
     "status": "ok",
     "timestamp": 1715617421293,
     "user": {
      "displayName": "Sofia Terenziani",
      "userId": "07918956272317491448"
     },
     "user_tz": -120
    },
    "id": "TnUnOEUOUbkd"
   },
   "outputs": [],
   "source": [
    "import pandas as pd"
   ]
  },
  {
   "cell_type": "code",
   "execution_count": null,
   "metadata": {
    "executionInfo": {
     "elapsed": 2700,
     "status": "ok",
     "timestamp": 1715617423991,
     "user": {
      "displayName": "Sofia Terenziani",
      "userId": "07918956272317491448"
     },
     "user_tz": -120
    },
    "id": "ZP-as_3BUmTh"
   },
   "outputs": [],
   "source": [
    "import torch\n",
    "import torch.nn as nn\n",
    "from torch.nn.functional import softmax"
   ]
  },
  {
   "cell_type": "code",
   "execution_count": null,
   "metadata": {
    "executionInfo": {
     "elapsed": 4,
     "status": "ok",
     "timestamp": 1715617423991,
     "user": {
      "displayName": "Sofia Terenziani",
      "userId": "07918956272317491448"
     },
     "user_tz": -120
    },
    "id": "Vs8-lvaSUrLS"
   },
   "outputs": [],
   "source": [
    "from captum.attr import Occlusion\n",
    "from captum.attr import visualization as viz"
   ]
  },
  {
   "cell_type": "code",
   "execution_count": null,
   "metadata": {
    "executionInfo": {
     "elapsed": 1460,
     "status": "ok",
     "timestamp": 1715617425447,
     "user": {
      "displayName": "Sofia Terenziani",
      "userId": "07918956272317491448"
     },
     "user_tz": -120
    },
    "id": "ru15rRbgUegM"
   },
   "outputs": [],
   "source": [
    "from transformers import AutoTokenizer, BertForSequenceClassification\n",
    "from transformers import BertTokenizer, BertModel"
   ]
  },
  {
   "cell_type": "code",
   "execution_count": null,
   "metadata": {
    "executionInfo": {
     "elapsed": 5,
     "status": "ok",
     "timestamp": 1715617425447,
     "user": {
      "displayName": "Sofia Terenziani",
      "userId": "07918956272317491448"
     },
     "user_tz": -120
    },
    "id": "ex0t1t9jdIMY"
   },
   "outputs": [],
   "source": [
    "import re"
   ]
  },
  {
   "cell_type": "code",
   "execution_count": null,
   "metadata": {},
   "outputs": [],
   "source": [
    "import itertools"
   ]
  },
  {
   "cell_type": "code",
   "execution_count": null,
   "metadata": {
    "executionInfo": {
     "elapsed": 5,
     "status": "ok",
     "timestamp": 1715617443141,
     "user": {
      "displayName": "Sofia Terenziani",
      "userId": "07918956272317491448"
     },
     "user_tz": -120
    },
    "id": "dC9BWJl4VDkT"
   },
   "outputs": [],
   "source": [
    "device = torch.device('cuda' if torch.cuda.is_available() else 'cpu')"
   ]
  },
  {
   "cell_type": "code",
   "execution_count": null,
   "metadata": {},
   "outputs": [],
   "source": [
    "import os \n",
    "directory = \"occlusion\"\n",
    "parent_dir = \"results\"\n",
    "path = os.path.join(parent_dir, directory) "
   ]
  },
  {
   "cell_type": "markdown",
   "metadata": {
    "id": "4z83vRMqUxXi"
   },
   "source": [
    "## Import Model"
   ]
  },
  {
   "cell_type": "code",
   "execution_count": null,
   "metadata": {
    "id": "XcCZSpOiU25L"
   },
   "outputs": [],
   "source": [
    "import sys\n",
    "sys.path.append('model/code-bert/')\n",
    "from temporal_relation_classification import TemporalRelationClassification\n",
    "from temporal_relation_classification_config import TemporalRelationClassificationConfig"
   ]
  },
  {
   "cell_type": "code",
   "execution_count": null,
   "metadata": {
    "colab": {
     "base_uri": "https://localhost:8080/",
     "height": 226,
     "referenced_widgets": [
      "fd23e9e528fa4b7a9e8049038fb7224c",
      "61e9811c1723424db84b6b858799f1fb",
      "aca889a7b0114ab3b04160c8c5780108",
      "c725403dd8274daeafa7782d31f58444",
      "687a8450a00b482eaaad35bb6677a8a1",
      "34300480e0114f5cbc93eb725100a070",
      "4b8f1e7853114b96b14c6bbdde5c4e48",
      "5b9bffa0a7d541b98c6f8f54b8ea2e1d",
      "e282ba40eb064f91bf24eb4300562d79",
      "55591f0df40a429188d62b55096e1aaf",
      "7aaacc47ff97419aab44035c2c4fb2c2",
      "147f3ce03eb742adad02ae6444f2c62e",
      "84c70f85343a4bf88724d3d478551068",
      "e58e20d757a349eba27ac11d184e0c72",
      "0ee0f319e62b4528b640f8c1cfe8d877",
      "6e1f0234cd9e4b9180717aaeae64415e",
      "cbc149014b3941f18c3757af1885ab3e",
      "f97e0b41dfcf4194ad0ecea732f59d15",
      "af3f7df33453462da5b028ae2bd9c82b",
      "3332f7ea69fb48c3a78c22f503ea68ab",
      "50f60dcebf8045749a75ee22e92aac37",
      "60c4782eb1364a2eb5194b559ea0f972"
     ]
    },
    "executionInfo": {
     "elapsed": 17645,
     "status": "ok",
     "timestamp": 1715003247072,
     "user": {
      "displayName": "Sofia Terenziani",
      "userId": "07918956272317491448"
     },
     "user_tz": -120
    },
    "id": "y0xqQxMyU4j6",
    "outputId": "995bac8b-4045-4b46-b085-58a48f4d3f62"
   },
   "outputs": [],
   "source": [
    "model_path = \"saved_models/bert-base-uncased-saved-model\"\n",
    "model = TemporalRelationClassification.from_pretrained(model_path)\n",
    "tokenizer = AutoTokenizer.from_pretrained(model_path)"
   ]
  },
  {
   "cell_type": "code",
   "execution_count": null,
   "metadata": {
    "colab": {
     "base_uri": "https://localhost:8080/"
    },
    "executionInfo": {
     "elapsed": 245,
     "status": "ok",
     "timestamp": 1715003252675,
     "user": {
      "displayName": "Sofia Terenziani",
      "userId": "07918956272317491448"
     },
     "user_tz": -120
    },
    "id": "LtsNHdKBU7SN",
    "outputId": "29a03921-ad81-42d5-9237-90aa6a8033a9"
   },
   "outputs": [],
   "source": [
    "model.resize_token_embeddings(len(tokenizer))"
   ]
  },
  {
   "cell_type": "markdown",
   "metadata": {
    "id": "c0tyDGa8VMi5"
   },
   "source": [
    "## Initialise Model"
   ]
  },
  {
   "cell_type": "code",
   "execution_count": null,
   "metadata": {
    "colab": {
     "base_uri": "https://localhost:8080/"
    },
    "executionInfo": {
     "elapsed": 510,
     "status": "ok",
     "timestamp": 1715006315594,
     "user": {
      "displayName": "Sofia Terenziani",
      "userId": "07918956272317491448"
     },
     "user_tz": -120
    },
    "id": "MUCfcDcQVKx0",
    "outputId": "3a5c69b8-9e72-4e29-e23c-0034b7abfff5"
   },
   "outputs": [],
   "source": [
    "model.to(device)"
   ]
  },
  {
   "cell_type": "code",
   "execution_count": null,
   "metadata": {
    "colab": {
     "base_uri": "https://localhost:8080/"
    },
    "executionInfo": {
     "elapsed": 5,
     "status": "ok",
     "timestamp": 1715006315594,
     "user": {
      "displayName": "Sofia Terenziani",
      "userId": "07918956272317491448"
     },
     "user_tz": -120
    },
    "id": "JyFIfspPU-6d",
    "outputId": "90c29889-e2c8-4566-f943-67f6ad06f3db"
   },
   "outputs": [],
   "source": [
    "model.eval()"
   ]
  },
  {
   "cell_type": "markdown",
   "metadata": {
    "id": "fF_4S3yvVdNw"
   },
   "source": [
    "## Import Dataset"
   ]
  },
  {
   "cell_type": "code",
   "execution_count": null,
   "metadata": {
    "id": "NpXGyPwtVA4K"
   },
   "outputs": [],
   "source": [
    "original = pd.read_csv('data/annotated/partitions.csv')\n",
    "counterfactual = pd.read_csv('data/annotated/counterfactuals.csv')"
   ]
  },
  {
   "cell_type": "markdown",
   "metadata": {
    "id": "Fc-Y8uJEu6-u"
   },
   "source": [
    "## Process Original"
   ]
  },
  {
   "cell_type": "code",
   "execution_count": null,
   "metadata": {
    "id": "SiZAnRVAbu2L"
   },
   "outputs": [],
   "source": [
    "label_mapping = {\n",
    "    'BEFORE': 0,\n",
    "    'AFTER': 1,\n",
    "    'EQUAL': 2,\n",
    "    'VAGUE': 3\n",
    "}"
   ]
  },
  {
   "cell_type": "code",
   "execution_count": null,
   "metadata": {
    "id": "DsDjNEl_bnhz"
   },
   "outputs": [],
   "source": [
    "def tokenize(text):\n",
    "    return tokenizer(text, max_length=508, truncation=True, return_tensors='pt')\n",
    "\n",
    "def annotate_text(row):\n",
    "    context = row['context']\n",
    "    eventA = re.escape(row['eventA'])\n",
    "    eventB = re.escape(row['eventB'])\n",
    "\n",
    "    # Make sure the longer event is replaced first if they overlap\n",
    "    if len(eventA) > len(eventB):\n",
    "        context = re.sub(eventA, f\"[a1]{row['eventA']}[/a1]\", context)\n",
    "        context = re.sub(eventB, f\"[a2]{row['eventB']}[/a2]\", context)\n",
    "    else:\n",
    "        context = re.sub(eventB, f\"[a2]{row['eventB']}[/a2]\", context)\n",
    "        context = re.sub(eventA, f\"[a1]{row['eventA']}[/a1]\", context)\n",
    "\n",
    "    return context"
   ]
  },
  {
   "cell_type": "code",
   "execution_count": null,
   "metadata": {
    "id": "rtHewSvwbvff"
   },
   "outputs": [],
   "source": [
    "original['label'] = original['label_temp'].map(label_mapping)"
   ]
  },
  {
   "cell_type": "code",
   "execution_count": null,
   "metadata": {
    "id": "LNzA0CGvcGiG"
   },
   "outputs": [],
   "source": [
    "original['annotated_context'] = original.apply(annotate_text, axis=1)"
   ]
  },
  {
   "cell_type": "code",
   "execution_count": null,
   "metadata": {
    "id": "p723eu1KdabS"
   },
   "outputs": [],
   "source": [
    "def tokenize_and_extract_ids(text):\n",
    "    max_length_value = 508\n",
    "    inputs = tokenizer(text, truncation=True, max_length=max_length_value, return_tensors=\"pt\")\n",
    "    return inputs['input_ids'][0].tolist()\n",
    "\n",
    "required_ids = {30522, 30523, 30524, 30525}\n",
    "def check_required_ids(input_ids, required_ids):\n",
    "    input_set = set(input_ids)\n",
    "    return required_ids.issubset(input_set)"
   ]
  },
  {
   "cell_type": "code",
   "execution_count": null,
   "metadata": {
    "id": "EuRPdjGBcjPI"
   },
   "outputs": [],
   "source": [
    "# Apply the function to each row in the DataFrame and create a new column\n",
    "original['input_ids'] = original['annotated_context'].apply(tokenize_and_extract_ids)"
   ]
  },
  {
   "cell_type": "code",
   "execution_count": null,
   "metadata": {
    "id": "6pNCXzVtLREq"
   },
   "outputs": [],
   "source": [
    "def string_to_list(s):\n",
    "    return [token.strip() for token in s.strip('{}').split(',')]\n",
    "\n",
    "original['pos_partition'] = original['pos_partition'].apply(string_to_list)"
   ]
  },
  {
   "cell_type": "code",
   "execution_count": null,
   "metadata": {
    "id": "R20N67RtKhuM"
   },
   "outputs": [],
   "source": [
    "def calculate_neg_partition(row):\n",
    "    context_tokens = set(row['context'].split())\n",
    "    pos_tokens = set(row['pos_partition'])\n",
    "    neg_tokens = context_tokens - pos_tokens\n",
    "    return neg_tokens\n",
    "\n",
    "original['neg_partition'] = original.apply(calculate_neg_partition, axis=1)\n",
    "original['neg_partition'] = original['neg_partition'].apply(list)"
   ]
  },
  {
   "cell_type": "markdown",
   "metadata": {
    "id": "OsqJ3lCgvB-R"
   },
   "source": [
    "## Process Counterfactuals"
   ]
  },
  {
   "cell_type": "code",
   "execution_count": null,
   "metadata": {
    "id": "EZinzZxNvB-R"
   },
   "outputs": [],
   "source": [
    "label_mapping = {\n",
    "    'BEFORE': 0,\n",
    "    'AFTER': 1,\n",
    "    'EQUAL': 2,\n",
    "    'VAGUE': 3\n",
    "}"
   ]
  },
  {
   "cell_type": "code",
   "execution_count": null,
   "metadata": {
    "id": "5ORiWVIPvB-R"
   },
   "outputs": [],
   "source": [
    "def tokenize(text):\n",
    "    return tokenizer(text, max_length=508, truncation=True, return_tensors='pt')\n",
    "\n",
    "def annotate_text(row):\n",
    "    context = row['counterfactual']\n",
    "    eventA = re.escape(row['eventA'])\n",
    "    eventB = re.escape(row['eventB'])\n",
    "\n",
    "    # Make sure the longer event is replaced first if they overlap\n",
    "    if len(eventA) > len(eventB):\n",
    "        context = re.sub(eventA, f\"[a1]{row['eventA']}[/a1]\", context)\n",
    "        context = re.sub(eventB, f\"[a2]{row['eventB']}[/a2]\", context)\n",
    "    else:\n",
    "        context = re.sub(eventB, f\"[a2]{row['eventB']}[/a2]\", context)\n",
    "        context = re.sub(eventA, f\"[a1]{row['eventA']}[/a1]\", context)\n",
    "\n",
    "    return context"
   ]
  },
  {
   "cell_type": "code",
   "execution_count": null,
   "metadata": {
    "id": "C04iFB50vB-S"
   },
   "outputs": [],
   "source": [
    "counterfactual['label'] = counterfactual['new_temp'].map(label_mapping)"
   ]
  },
  {
   "cell_type": "code",
   "execution_count": null,
   "metadata": {
    "id": "XWblnrxWvB-S"
   },
   "outputs": [],
   "source": [
    "counterfactual['annotated_context'] = counterfactual.apply(annotate_text, axis=1)"
   ]
  },
  {
   "cell_type": "code",
   "execution_count": null,
   "metadata": {
    "id": "0Zh3Gs29vB-S"
   },
   "outputs": [],
   "source": [
    "def tokenize_and_extract_ids(text):\n",
    "    max_length_value = 508\n",
    "    inputs = tokenizer(text, truncation=True, max_length=max_length_value, return_tensors=\"pt\")\n",
    "    return inputs['input_ids'][0].tolist()\n",
    "\n",
    "counterfactual['input_ids'] = counterfactual['annotated_context'].apply(tokenize_and_extract_ids)"
   ]
  },
  {
   "cell_type": "code",
   "execution_count": null,
   "metadata": {
    "id": "tDXh332WvB-U"
   },
   "outputs": [],
   "source": [
    "def string_to_list(s):\n",
    "    return [token.strip() for token in s.strip('{}').split(',')]\n",
    "\n",
    "counterfactual['pos_partition'] = counterfactual['pos_partition'].apply(string_to_list)"
   ]
  },
  {
   "cell_type": "markdown",
   "metadata": {
    "id": "r5Q5vrfTbcDa"
   },
   "source": [
    "## Occlusion Function"
   ]
  },
  {
   "cell_type": "code",
   "execution_count": null,
   "metadata": {
    "id": "Vfg5nB38lcBJ"
   },
   "outputs": [],
   "source": [
    "def occlusion_sensitivity(model, input_ids, attention_mask, tokenizer):\n",
    "    model.eval()\n",
    "\n",
    "    with torch.no_grad():\n",
    "        original_logits = model(input_ids=input_ids, attention_mask=attention_mask)[0]\n",
    "        original_probs = torch.softmax(original_logits, dim=-1)\n",
    "\n",
    "    attention = []\n",
    "    special_token_ids = [30522, 30523, 30524, 30525]  # Adjust as needed\n",
    "    mask_token_id = tokenizer.convert_tokens_to_ids('[MASK]')\n",
    "    for index in range(1, input_ids.size(1)):  # Adjust if you need to skip different tokens\n",
    "        if input_ids[0, index].item() in special_token_ids:\n",
    "            continue\n",
    "        occluded_input_ids = input_ids.clone()\n",
    "        occluded_input_ids[0, index] = mask_token_id  # Ensure device match\n",
    "\n",
    "        with torch.no_grad():\n",
    "            occluded_logits = model(input_ids=occluded_input_ids, attention_mask=attention_mask)[0]\n",
    "            occluded_probs = torch.softmax(occluded_logits, dim=-1)\n",
    "\n",
    "        prob_change = torch.abs(original_probs - occluded_probs)\n",
    "        attention.append(prob_change.cpu().numpy().tolist())  # Move back to CPU if necessary for further processing\n",
    "\n",
    "    return attention"
   ]
  },
  {
   "cell_type": "code",
   "execution_count": null,
   "metadata": {
    "id": "e-JRno0AnGKf"
   },
   "outputs": [],
   "source": [
    "def tokenisation(text, tokenizer, device='cuda'):\n",
    "    special_tokens_dict = {'additional_special_tokens': ['[a1]', '[/a1]', '[a2]', '[/a2]']}\n",
    "    tokenizer = AutoTokenizer.from_pretrained('bert-base-uncased')\n",
    "    tokenizer.add_special_tokens(special_tokens_dict)\n",
    "\n",
    "    encoded_input = tokenizer(text, max_length=508, truncation=True, padding='max_length', return_tensors='pt')\n",
    "    input_ids = encoded_input['input_ids'].to(device)\n",
    "    attention_mask = encoded_input.get('attention_mask', None).to(device) if encoded_input.get('attention_mask', None) is not None else None\n",
    "    token_type_ids = encoded_input.get('token_type_ids', None).to(device) if encoded_input.get('token_type_ids', None) is not None else None\n",
    "    return input_ids, attention_mask, token_type_ids\n"
   ]
  },
  {
   "cell_type": "markdown",
   "metadata": {},
   "source": [
    "## Calculate Occlusion Original"
   ]
  },
  {
   "cell_type": "code",
   "execution_count": null,
   "metadata": {
    "colab": {
     "base_uri": "https://localhost:8080/"
    },
    "executionInfo": {
     "elapsed": 1137195,
     "status": "ok",
     "timestamp": 1715007653404,
     "user": {
      "displayName": "Sofia Terenziani",
      "userId": "07918956272317491448"
     },
     "user_tz": -120
    },
    "id": "A-GHD-Fdo8iu",
    "outputId": "d47c0d85-60c5-455e-b225-c7b1f7dc6e3f"
   },
   "outputs": [],
   "source": [
    "occlusion_details_original = []\n",
    "for index, row in original_filtered.iterrows():\n",
    "    print(index)\n",
    "    text = row['annotated_context']\n",
    "    input_ids, attention_mask, token_type_ids = tokenisation(text, tokenizer, device)\n",
    "    attributions = occlusion_sensitivity(model, input_ids, attention_mask, tokenizer)\n",
    "    flattened_attributions = list(itertools.chain.from_iterable(attributions))\n",
    "\n",
    "    tokens = tokenizer.convert_ids_to_tokens(input_ids[0])\n",
    "    word_attributions = list(zip(tokens, flattened_attributions))\n",
    "\n",
    "    occlusion_details_original.append({\n",
    "        \"index\": index,\n",
    "        \"text\": text,\n",
    "        \"word_attributions\": word_attributions\n",
    "    })"
   ]
  },
  {
   "cell_type": "code",
   "execution_count": null,
   "metadata": {
    "colab": {
     "base_uri": "https://localhost:8080/"
    },
    "executionInfo": {
     "elapsed": 254,
     "status": "ok",
     "timestamp": 1715007653657,
     "user": {
      "displayName": "Sofia Terenziani",
      "userId": "07918956272317491448"
     },
     "user_tz": -120
    },
    "id": "ArckaPBOWI6V",
    "outputId": "1bca41fc-b651-425a-bb1e-dbb963c27b8e"
   },
   "outputs": [],
   "source": [
    "occlusion_original_df = pd.DataFrame(occlusion_details_original)\n",
    "print(occlusion_original_df)"
   ]
  },
  {
   "cell_type": "code",
   "execution_count": null,
   "metadata": {
    "id": "GWPJ_DtRWPIi"
   },
   "outputs": [],
   "source": [
    "original['index'] = original.index\n",
    "occlusion_original_df['index'] =  occlusion_original_df.index\n",
    "original = original.reset_index(drop=True)"
   ]
  },
  {
   "cell_type": "code",
   "execution_count": null,
   "metadata": {
    "colab": {
     "base_uri": "https://localhost:8080/"
    },
    "executionInfo": {
     "elapsed": 399,
     "status": "ok",
     "timestamp": 1715007654054,
     "user": {
      "displayName": "Sofia Terenziani",
      "userId": "07918956272317491448"
     },
     "user_tz": -120
    },
    "id": "fPNIQXgeWSG6",
    "outputId": "ac6c84a1-a787-48d4-c2e8-a95d6ff5f3d9"
   },
   "outputs": [],
   "source": [
    "occlusion_original_df['label'] = original['label']\n",
    "print(occlusion_original_df)"
   ]
  },
  {
   "cell_type": "code",
   "execution_count": null,
   "metadata": {
    "id": "9eqrRLHNWTnc"
   },
   "outputs": [],
   "source": [
    "occlusion_original_df.to_csv('results/occlusion/occlusion-og-bert-base.csv', index=False)"
   ]
  },
  {
   "cell_type": "markdown",
   "metadata": {
    "id": "uf1G17kjvh0f"
   },
   "source": [
    "## Calculate Occlusion Counterfactuals"
   ]
  },
  {
   "cell_type": "code",
   "execution_count": null,
   "metadata": {
    "colab": {
     "base_uri": "https://localhost:8080/"
    },
    "executionInfo": {
     "elapsed": 1140108,
     "status": "ok",
     "timestamp": 1715008857577,
     "user": {
      "displayName": "Sofia Terenziani",
      "userId": "07918956272317491448"
     },
     "user_tz": -120
    },
    "id": "309S_Jc1vh0g",
    "outputId": "d12becd5-4289-451e-cd65-067ba7e32eb3"
   },
   "outputs": [],
   "source": [
    "occlusion_details_counterfactuals = []\n",
    "for index, row in counterfactuals.iterrows():\n",
    "    print(index)\n",
    "    text = row['annotated_context']\n",
    "    input_ids, attention_mask, token_type_ids = tokenisation(text, tokenizer, device)\n",
    "    attributions = occlusion_sensitivity(model, input_ids, attention_mask, tokenizer)\n",
    "    flattened_attributions = list(itertools.chain.from_iterable(attributions))\n",
    "\n",
    "    tokens = tokenizer.convert_ids_to_tokens(input_ids[0])\n",
    "    word_attributions = list(zip(tokens, flattened_attributions))\n",
    "\n",
    "    occlusion_details_original.append({\n",
    "        \"index\": index,\n",
    "        \"text\": text,\n",
    "        \"word_attributions\": word_attributions\n",
    "    })"
   ]
  },
  {
   "cell_type": "code",
   "execution_count": null,
   "metadata": {
    "colab": {
     "base_uri": "https://localhost:8080/"
    },
    "executionInfo": {
     "elapsed": 15,
     "status": "ok",
     "timestamp": 1715008857578,
     "user": {
      "displayName": "Sofia Terenziani",
      "userId": "07918956272317491448"
     },
     "user_tz": -120
    },
    "id": "1-fYrwiswWI9",
    "outputId": "6a9c95da-0522-4850-fb65-7fdbe6c8f33f"
   },
   "outputs": [],
   "source": [
    "occlusion_counter_df = pd.DataFrame(occlusion_details_original)\n",
    "print(occlusion_counter_df)"
   ]
  },
  {
   "cell_type": "code",
   "execution_count": null,
   "metadata": {
    "id": "Vi-Lt4yvwc2N"
   },
   "outputs": [],
   "source": [
    "counterfactuals['index'] = df_counter_fintered.index\n",
    "occlusion_counter_df['index'] =  occlusion_counter_df.index\n",
    "counterfactuals = counterfactuals.reset_index(drop=True)"
   ]
  },
  {
   "cell_type": "code",
   "execution_count": null,
   "metadata": {
    "colab": {
     "base_uri": "https://localhost:8080/"
    },
    "executionInfo": {
     "elapsed": 442,
     "status": "ok",
     "timestamp": 1715008858006,
     "user": {
      "displayName": "Sofia Terenziani",
      "userId": "07918956272317491448"
     },
     "user_tz": -120
    },
    "id": "ITPa0Xj5wc2O",
    "outputId": "050c1c00-6f9f-443b-b453-7e2d3f4109a9"
   },
   "outputs": [],
   "source": [
    "occlusion_counter_df['label'] = counterfactuals['label']\n",
    "print(occlusion_counter_df)"
   ]
  },
  {
   "cell_type": "code",
   "execution_count": null,
   "metadata": {
    "id": "tAZbWGWiwc2O"
   },
   "outputs": [],
   "source": [
    "occlusion_counter_df.to_csv('results/occlusion/occlusion-cf-bert-base.csv', index=False)"
   ]
  },
  {
   "cell_type": "code",
   "execution_count": null,
   "metadata": {
    "executionInfo": {
     "elapsed": 2401,
     "status": "ok",
     "timestamp": 1715617754893,
     "user": {
      "displayName": "Sofia Terenziani",
      "userId": "07918956272317491448"
     },
     "user_tz": -120
    },
    "id": "uc3QEyNoxz9Q"
   },
   "outputs": [],
   "source": [
    "import ast\n",
    "occlusion_counter_df['word_attributions'] = occlusion_counter_df['word_attributions'].apply(lambda x: ast.literal_eval(x.replace(\"('[\", \"(\\\"[\").replace(\"]',\", \"]\\\",\").replace(\")']\", \")]\")))"
   ]
  },
  {
   "cell_type": "markdown",
   "metadata": {
    "id": "Ts-Fvy5axjFz"
   },
   "source": [
    "## Visualise Instance"
   ]
  },
  {
   "cell_type": "code",
   "execution_count": null,
   "metadata": {
    "colab": {
     "base_uri": "https://localhost:8080/",
     "height": 324
    },
    "executionInfo": {
     "elapsed": 9,
     "status": "ok",
     "timestamp": 1715617958360,
     "user": {
      "displayName": "Sofia Terenziani",
      "userId": "07918956272317491448"
     },
     "user_tz": -120
    },
    "id": "qmqKcUOd7bUT",
    "outputId": "6ccca266-62f0-469a-ed34-07076fc79388"
   },
   "outputs": [],
   "source": [
    "from IPython.display import HTML, display\n",
    "import pandas as pd\n",
    "\n",
    "instance = occlusion_counter_df.loc[159, 'word_attributions']\n",
    "tokens, raw_attributions = zip(*instance)\n",
    "attributions = [sum(attrs)/len(attrs) for attrs in raw_attributions]\n",
    "\n",
    "def visualize_attributions(tokens, attributions):\n",
    "    attributions = [float(i) for i in attributions]  \n",
    "    min_attribution = min(attributions)\n",
    "    max_attribution = max(attributions)\n",
    "\n",
    "    html_string = \"<p><b>Attributions:</b><br>\"\n",
    "    for token, attr in zip(tokens, attributions):\n",
    "        intensity = int(1500 * abs(attr) / max(abs(min_attribution), abs(max_attribution)))\n",
    "        color = f\"rgb(255,{1500-intensity},{1-intensity})\" if attr < 0 else f\"rgb({255-intensity},255,{255-intensity})\"\n",
    "        html_string += f\"<span style='background-color:{color}; padding: 0 2px;'>{token}</span> \"\n",
    "\n",
    "    html_string += \"</p>\"\n",
    "    display(HTML(html_string))\n",
    "\n",
    "visualize_attributions(tokens, attributions)"
   ]
  }
 ],
 "metadata": {
  "accelerator": "GPU",
  "colab": {
   "authorship_tag": "ABX9TyOZCtaVKk8e5ALrvNYdPIJi",
   "gpuType": "A100",
   "machine_shape": "hm",
   "provenance": []
  },
  "kernelspec": {
   "display_name": "Python 3 (ipykernel)",
   "language": "python",
   "name": "python3"
  },
  "language_info": {
   "codemirror_mode": {
    "name": "ipython",
    "version": 3
   },
   "file_extension": ".py",
   "mimetype": "text/x-python",
   "name": "python",
   "nbconvert_exporter": "python",
   "pygments_lexer": "ipython3",
   "version": "3.11.5"
  },
  "widgets": {
   "application/vnd.jupyter.widget-state+json": {
    "0ee0f319e62b4528b640f8c1cfe8d877": {
     "model_module": "@jupyter-widgets/controls",
     "model_module_version": "1.5.0",
     "model_name": "HTMLModel",
     "state": {
      "_dom_classes": [],
      "_model_module": "@jupyter-widgets/controls",
      "_model_module_version": "1.5.0",
      "_model_name": "HTMLModel",
      "_view_count": null,
      "_view_module": "@jupyter-widgets/controls",
      "_view_module_version": "1.5.0",
      "_view_name": "HTMLView",
      "description": "",
      "description_tooltip": null,
      "layout": "IPY_MODEL_50f60dcebf8045749a75ee22e92aac37",
      "placeholder": "​",
      "style": "IPY_MODEL_60c4782eb1364a2eb5194b559ea0f972",
      "value": " 440M/440M [00:02&lt;00:00, 201MB/s]"
     }
    },
    "147f3ce03eb742adad02ae6444f2c62e": {
     "model_module": "@jupyter-widgets/controls",
     "model_module_version": "1.5.0",
     "model_name": "HBoxModel",
     "state": {
      "_dom_classes": [],
      "_model_module": "@jupyter-widgets/controls",
      "_model_module_version": "1.5.0",
      "_model_name": "HBoxModel",
      "_view_count": null,
      "_view_module": "@jupyter-widgets/controls",
      "_view_module_version": "1.5.0",
      "_view_name": "HBoxView",
      "box_style": "",
      "children": [
       "IPY_MODEL_84c70f85343a4bf88724d3d478551068",
       "IPY_MODEL_e58e20d757a349eba27ac11d184e0c72",
       "IPY_MODEL_0ee0f319e62b4528b640f8c1cfe8d877"
      ],
      "layout": "IPY_MODEL_6e1f0234cd9e4b9180717aaeae64415e"
     }
    },
    "3332f7ea69fb48c3a78c22f503ea68ab": {
     "model_module": "@jupyter-widgets/controls",
     "model_module_version": "1.5.0",
     "model_name": "ProgressStyleModel",
     "state": {
      "_model_module": "@jupyter-widgets/controls",
      "_model_module_version": "1.5.0",
      "_model_name": "ProgressStyleModel",
      "_view_count": null,
      "_view_module": "@jupyter-widgets/base",
      "_view_module_version": "1.2.0",
      "_view_name": "StyleView",
      "bar_color": null,
      "description_width": ""
     }
    },
    "34300480e0114f5cbc93eb725100a070": {
     "model_module": "@jupyter-widgets/base",
     "model_module_version": "1.2.0",
     "model_name": "LayoutModel",
     "state": {
      "_model_module": "@jupyter-widgets/base",
      "_model_module_version": "1.2.0",
      "_model_name": "LayoutModel",
      "_view_count": null,
      "_view_module": "@jupyter-widgets/base",
      "_view_module_version": "1.2.0",
      "_view_name": "LayoutView",
      "align_content": null,
      "align_items": null,
      "align_self": null,
      "border": null,
      "bottom": null,
      "display": null,
      "flex": null,
      "flex_flow": null,
      "grid_area": null,
      "grid_auto_columns": null,
      "grid_auto_flow": null,
      "grid_auto_rows": null,
      "grid_column": null,
      "grid_gap": null,
      "grid_row": null,
      "grid_template_areas": null,
      "grid_template_columns": null,
      "grid_template_rows": null,
      "height": null,
      "justify_content": null,
      "justify_items": null,
      "left": null,
      "margin": null,
      "max_height": null,
      "max_width": null,
      "min_height": null,
      "min_width": null,
      "object_fit": null,
      "object_position": null,
      "order": null,
      "overflow": null,
      "overflow_x": null,
      "overflow_y": null,
      "padding": null,
      "right": null,
      "top": null,
      "visibility": null,
      "width": null
     }
    },
    "4b8f1e7853114b96b14c6bbdde5c4e48": {
     "model_module": "@jupyter-widgets/controls",
     "model_module_version": "1.5.0",
     "model_name": "DescriptionStyleModel",
     "state": {
      "_model_module": "@jupyter-widgets/controls",
      "_model_module_version": "1.5.0",
      "_model_name": "DescriptionStyleModel",
      "_view_count": null,
      "_view_module": "@jupyter-widgets/base",
      "_view_module_version": "1.2.0",
      "_view_name": "StyleView",
      "description_width": ""
     }
    },
    "50f60dcebf8045749a75ee22e92aac37": {
     "model_module": "@jupyter-widgets/base",
     "model_module_version": "1.2.0",
     "model_name": "LayoutModel",
     "state": {
      "_model_module": "@jupyter-widgets/base",
      "_model_module_version": "1.2.0",
      "_model_name": "LayoutModel",
      "_view_count": null,
      "_view_module": "@jupyter-widgets/base",
      "_view_module_version": "1.2.0",
      "_view_name": "LayoutView",
      "align_content": null,
      "align_items": null,
      "align_self": null,
      "border": null,
      "bottom": null,
      "display": null,
      "flex": null,
      "flex_flow": null,
      "grid_area": null,
      "grid_auto_columns": null,
      "grid_auto_flow": null,
      "grid_auto_rows": null,
      "grid_column": null,
      "grid_gap": null,
      "grid_row": null,
      "grid_template_areas": null,
      "grid_template_columns": null,
      "grid_template_rows": null,
      "height": null,
      "justify_content": null,
      "justify_items": null,
      "left": null,
      "margin": null,
      "max_height": null,
      "max_width": null,
      "min_height": null,
      "min_width": null,
      "object_fit": null,
      "object_position": null,
      "order": null,
      "overflow": null,
      "overflow_x": null,
      "overflow_y": null,
      "padding": null,
      "right": null,
      "top": null,
      "visibility": null,
      "width": null
     }
    },
    "55591f0df40a429188d62b55096e1aaf": {
     "model_module": "@jupyter-widgets/base",
     "model_module_version": "1.2.0",
     "model_name": "LayoutModel",
     "state": {
      "_model_module": "@jupyter-widgets/base",
      "_model_module_version": "1.2.0",
      "_model_name": "LayoutModel",
      "_view_count": null,
      "_view_module": "@jupyter-widgets/base",
      "_view_module_version": "1.2.0",
      "_view_name": "LayoutView",
      "align_content": null,
      "align_items": null,
      "align_self": null,
      "border": null,
      "bottom": null,
      "display": null,
      "flex": null,
      "flex_flow": null,
      "grid_area": null,
      "grid_auto_columns": null,
      "grid_auto_flow": null,
      "grid_auto_rows": null,
      "grid_column": null,
      "grid_gap": null,
      "grid_row": null,
      "grid_template_areas": null,
      "grid_template_columns": null,
      "grid_template_rows": null,
      "height": null,
      "justify_content": null,
      "justify_items": null,
      "left": null,
      "margin": null,
      "max_height": null,
      "max_width": null,
      "min_height": null,
      "min_width": null,
      "object_fit": null,
      "object_position": null,
      "order": null,
      "overflow": null,
      "overflow_x": null,
      "overflow_y": null,
      "padding": null,
      "right": null,
      "top": null,
      "visibility": null,
      "width": null
     }
    },
    "5b9bffa0a7d541b98c6f8f54b8ea2e1d": {
     "model_module": "@jupyter-widgets/base",
     "model_module_version": "1.2.0",
     "model_name": "LayoutModel",
     "state": {
      "_model_module": "@jupyter-widgets/base",
      "_model_module_version": "1.2.0",
      "_model_name": "LayoutModel",
      "_view_count": null,
      "_view_module": "@jupyter-widgets/base",
      "_view_module_version": "1.2.0",
      "_view_name": "LayoutView",
      "align_content": null,
      "align_items": null,
      "align_self": null,
      "border": null,
      "bottom": null,
      "display": null,
      "flex": null,
      "flex_flow": null,
      "grid_area": null,
      "grid_auto_columns": null,
      "grid_auto_flow": null,
      "grid_auto_rows": null,
      "grid_column": null,
      "grid_gap": null,
      "grid_row": null,
      "grid_template_areas": null,
      "grid_template_columns": null,
      "grid_template_rows": null,
      "height": null,
      "justify_content": null,
      "justify_items": null,
      "left": null,
      "margin": null,
      "max_height": null,
      "max_width": null,
      "min_height": null,
      "min_width": null,
      "object_fit": null,
      "object_position": null,
      "order": null,
      "overflow": null,
      "overflow_x": null,
      "overflow_y": null,
      "padding": null,
      "right": null,
      "top": null,
      "visibility": null,
      "width": null
     }
    },
    "60c4782eb1364a2eb5194b559ea0f972": {
     "model_module": "@jupyter-widgets/controls",
     "model_module_version": "1.5.0",
     "model_name": "DescriptionStyleModel",
     "state": {
      "_model_module": "@jupyter-widgets/controls",
      "_model_module_version": "1.5.0",
      "_model_name": "DescriptionStyleModel",
      "_view_count": null,
      "_view_module": "@jupyter-widgets/base",
      "_view_module_version": "1.2.0",
      "_view_name": "StyleView",
      "description_width": ""
     }
    },
    "61e9811c1723424db84b6b858799f1fb": {
     "model_module": "@jupyter-widgets/controls",
     "model_module_version": "1.5.0",
     "model_name": "HTMLModel",
     "state": {
      "_dom_classes": [],
      "_model_module": "@jupyter-widgets/controls",
      "_model_module_version": "1.5.0",
      "_model_name": "HTMLModel",
      "_view_count": null,
      "_view_module": "@jupyter-widgets/controls",
      "_view_module_version": "1.5.0",
      "_view_name": "HTMLView",
      "description": "",
      "description_tooltip": null,
      "layout": "IPY_MODEL_34300480e0114f5cbc93eb725100a070",
      "placeholder": "​",
      "style": "IPY_MODEL_4b8f1e7853114b96b14c6bbdde5c4e48",
      "value": "config.json: 100%"
     }
    },
    "687a8450a00b482eaaad35bb6677a8a1": {
     "model_module": "@jupyter-widgets/base",
     "model_module_version": "1.2.0",
     "model_name": "LayoutModel",
     "state": {
      "_model_module": "@jupyter-widgets/base",
      "_model_module_version": "1.2.0",
      "_model_name": "LayoutModel",
      "_view_count": null,
      "_view_module": "@jupyter-widgets/base",
      "_view_module_version": "1.2.0",
      "_view_name": "LayoutView",
      "align_content": null,
      "align_items": null,
      "align_self": null,
      "border": null,
      "bottom": null,
      "display": null,
      "flex": null,
      "flex_flow": null,
      "grid_area": null,
      "grid_auto_columns": null,
      "grid_auto_flow": null,
      "grid_auto_rows": null,
      "grid_column": null,
      "grid_gap": null,
      "grid_row": null,
      "grid_template_areas": null,
      "grid_template_columns": null,
      "grid_template_rows": null,
      "height": null,
      "justify_content": null,
      "justify_items": null,
      "left": null,
      "margin": null,
      "max_height": null,
      "max_width": null,
      "min_height": null,
      "min_width": null,
      "object_fit": null,
      "object_position": null,
      "order": null,
      "overflow": null,
      "overflow_x": null,
      "overflow_y": null,
      "padding": null,
      "right": null,
      "top": null,
      "visibility": null,
      "width": null
     }
    },
    "6e1f0234cd9e4b9180717aaeae64415e": {
     "model_module": "@jupyter-widgets/base",
     "model_module_version": "1.2.0",
     "model_name": "LayoutModel",
     "state": {
      "_model_module": "@jupyter-widgets/base",
      "_model_module_version": "1.2.0",
      "_model_name": "LayoutModel",
      "_view_count": null,
      "_view_module": "@jupyter-widgets/base",
      "_view_module_version": "1.2.0",
      "_view_name": "LayoutView",
      "align_content": null,
      "align_items": null,
      "align_self": null,
      "border": null,
      "bottom": null,
      "display": null,
      "flex": null,
      "flex_flow": null,
      "grid_area": null,
      "grid_auto_columns": null,
      "grid_auto_flow": null,
      "grid_auto_rows": null,
      "grid_column": null,
      "grid_gap": null,
      "grid_row": null,
      "grid_template_areas": null,
      "grid_template_columns": null,
      "grid_template_rows": null,
      "height": null,
      "justify_content": null,
      "justify_items": null,
      "left": null,
      "margin": null,
      "max_height": null,
      "max_width": null,
      "min_height": null,
      "min_width": null,
      "object_fit": null,
      "object_position": null,
      "order": null,
      "overflow": null,
      "overflow_x": null,
      "overflow_y": null,
      "padding": null,
      "right": null,
      "top": null,
      "visibility": null,
      "width": null
     }
    },
    "7aaacc47ff97419aab44035c2c4fb2c2": {
     "model_module": "@jupyter-widgets/controls",
     "model_module_version": "1.5.0",
     "model_name": "DescriptionStyleModel",
     "state": {
      "_model_module": "@jupyter-widgets/controls",
      "_model_module_version": "1.5.0",
      "_model_name": "DescriptionStyleModel",
      "_view_count": null,
      "_view_module": "@jupyter-widgets/base",
      "_view_module_version": "1.2.0",
      "_view_name": "StyleView",
      "description_width": ""
     }
    },
    "84c70f85343a4bf88724d3d478551068": {
     "model_module": "@jupyter-widgets/controls",
     "model_module_version": "1.5.0",
     "model_name": "HTMLModel",
     "state": {
      "_dom_classes": [],
      "_model_module": "@jupyter-widgets/controls",
      "_model_module_version": "1.5.0",
      "_model_name": "HTMLModel",
      "_view_count": null,
      "_view_module": "@jupyter-widgets/controls",
      "_view_module_version": "1.5.0",
      "_view_name": "HTMLView",
      "description": "",
      "description_tooltip": null,
      "layout": "IPY_MODEL_cbc149014b3941f18c3757af1885ab3e",
      "placeholder": "​",
      "style": "IPY_MODEL_f97e0b41dfcf4194ad0ecea732f59d15",
      "value": "model.safetensors: 100%"
     }
    },
    "aca889a7b0114ab3b04160c8c5780108": {
     "model_module": "@jupyter-widgets/controls",
     "model_module_version": "1.5.0",
     "model_name": "FloatProgressModel",
     "state": {
      "_dom_classes": [],
      "_model_module": "@jupyter-widgets/controls",
      "_model_module_version": "1.5.0",
      "_model_name": "FloatProgressModel",
      "_view_count": null,
      "_view_module": "@jupyter-widgets/controls",
      "_view_module_version": "1.5.0",
      "_view_name": "ProgressView",
      "bar_style": "success",
      "description": "",
      "description_tooltip": null,
      "layout": "IPY_MODEL_5b9bffa0a7d541b98c6f8f54b8ea2e1d",
      "max": 570,
      "min": 0,
      "orientation": "horizontal",
      "style": "IPY_MODEL_e282ba40eb064f91bf24eb4300562d79",
      "value": 570
     }
    },
    "af3f7df33453462da5b028ae2bd9c82b": {
     "model_module": "@jupyter-widgets/base",
     "model_module_version": "1.2.0",
     "model_name": "LayoutModel",
     "state": {
      "_model_module": "@jupyter-widgets/base",
      "_model_module_version": "1.2.0",
      "_model_name": "LayoutModel",
      "_view_count": null,
      "_view_module": "@jupyter-widgets/base",
      "_view_module_version": "1.2.0",
      "_view_name": "LayoutView",
      "align_content": null,
      "align_items": null,
      "align_self": null,
      "border": null,
      "bottom": null,
      "display": null,
      "flex": null,
      "flex_flow": null,
      "grid_area": null,
      "grid_auto_columns": null,
      "grid_auto_flow": null,
      "grid_auto_rows": null,
      "grid_column": null,
      "grid_gap": null,
      "grid_row": null,
      "grid_template_areas": null,
      "grid_template_columns": null,
      "grid_template_rows": null,
      "height": null,
      "justify_content": null,
      "justify_items": null,
      "left": null,
      "margin": null,
      "max_height": null,
      "max_width": null,
      "min_height": null,
      "min_width": null,
      "object_fit": null,
      "object_position": null,
      "order": null,
      "overflow": null,
      "overflow_x": null,
      "overflow_y": null,
      "padding": null,
      "right": null,
      "top": null,
      "visibility": null,
      "width": null
     }
    },
    "c725403dd8274daeafa7782d31f58444": {
     "model_module": "@jupyter-widgets/controls",
     "model_module_version": "1.5.0",
     "model_name": "HTMLModel",
     "state": {
      "_dom_classes": [],
      "_model_module": "@jupyter-widgets/controls",
      "_model_module_version": "1.5.0",
      "_model_name": "HTMLModel",
      "_view_count": null,
      "_view_module": "@jupyter-widgets/controls",
      "_view_module_version": "1.5.0",
      "_view_name": "HTMLView",
      "description": "",
      "description_tooltip": null,
      "layout": "IPY_MODEL_55591f0df40a429188d62b55096e1aaf",
      "placeholder": "​",
      "style": "IPY_MODEL_7aaacc47ff97419aab44035c2c4fb2c2",
      "value": " 570/570 [00:00&lt;00:00, 48.8kB/s]"
     }
    },
    "cbc149014b3941f18c3757af1885ab3e": {
     "model_module": "@jupyter-widgets/base",
     "model_module_version": "1.2.0",
     "model_name": "LayoutModel",
     "state": {
      "_model_module": "@jupyter-widgets/base",
      "_model_module_version": "1.2.0",
      "_model_name": "LayoutModel",
      "_view_count": null,
      "_view_module": "@jupyter-widgets/base",
      "_view_module_version": "1.2.0",
      "_view_name": "LayoutView",
      "align_content": null,
      "align_items": null,
      "align_self": null,
      "border": null,
      "bottom": null,
      "display": null,
      "flex": null,
      "flex_flow": null,
      "grid_area": null,
      "grid_auto_columns": null,
      "grid_auto_flow": null,
      "grid_auto_rows": null,
      "grid_column": null,
      "grid_gap": null,
      "grid_row": null,
      "grid_template_areas": null,
      "grid_template_columns": null,
      "grid_template_rows": null,
      "height": null,
      "justify_content": null,
      "justify_items": null,
      "left": null,
      "margin": null,
      "max_height": null,
      "max_width": null,
      "min_height": null,
      "min_width": null,
      "object_fit": null,
      "object_position": null,
      "order": null,
      "overflow": null,
      "overflow_x": null,
      "overflow_y": null,
      "padding": null,
      "right": null,
      "top": null,
      "visibility": null,
      "width": null
     }
    },
    "e282ba40eb064f91bf24eb4300562d79": {
     "model_module": "@jupyter-widgets/controls",
     "model_module_version": "1.5.0",
     "model_name": "ProgressStyleModel",
     "state": {
      "_model_module": "@jupyter-widgets/controls",
      "_model_module_version": "1.5.0",
      "_model_name": "ProgressStyleModel",
      "_view_count": null,
      "_view_module": "@jupyter-widgets/base",
      "_view_module_version": "1.2.0",
      "_view_name": "StyleView",
      "bar_color": null,
      "description_width": ""
     }
    },
    "e58e20d757a349eba27ac11d184e0c72": {
     "model_module": "@jupyter-widgets/controls",
     "model_module_version": "1.5.0",
     "model_name": "FloatProgressModel",
     "state": {
      "_dom_classes": [],
      "_model_module": "@jupyter-widgets/controls",
      "_model_module_version": "1.5.0",
      "_model_name": "FloatProgressModel",
      "_view_count": null,
      "_view_module": "@jupyter-widgets/controls",
      "_view_module_version": "1.5.0",
      "_view_name": "ProgressView",
      "bar_style": "success",
      "description": "",
      "description_tooltip": null,
      "layout": "IPY_MODEL_af3f7df33453462da5b028ae2bd9c82b",
      "max": 440449768,
      "min": 0,
      "orientation": "horizontal",
      "style": "IPY_MODEL_3332f7ea69fb48c3a78c22f503ea68ab",
      "value": 440449768
     }
    },
    "f97e0b41dfcf4194ad0ecea732f59d15": {
     "model_module": "@jupyter-widgets/controls",
     "model_module_version": "1.5.0",
     "model_name": "DescriptionStyleModel",
     "state": {
      "_model_module": "@jupyter-widgets/controls",
      "_model_module_version": "1.5.0",
      "_model_name": "DescriptionStyleModel",
      "_view_count": null,
      "_view_module": "@jupyter-widgets/base",
      "_view_module_version": "1.2.0",
      "_view_name": "StyleView",
      "description_width": ""
     }
    },
    "fd23e9e528fa4b7a9e8049038fb7224c": {
     "model_module": "@jupyter-widgets/controls",
     "model_module_version": "1.5.0",
     "model_name": "HBoxModel",
     "state": {
      "_dom_classes": [],
      "_model_module": "@jupyter-widgets/controls",
      "_model_module_version": "1.5.0",
      "_model_name": "HBoxModel",
      "_view_count": null,
      "_view_module": "@jupyter-widgets/controls",
      "_view_module_version": "1.5.0",
      "_view_name": "HBoxView",
      "box_style": "",
      "children": [
       "IPY_MODEL_61e9811c1723424db84b6b858799f1fb",
       "IPY_MODEL_aca889a7b0114ab3b04160c8c5780108",
       "IPY_MODEL_c725403dd8274daeafa7782d31f58444"
      ],
      "layout": "IPY_MODEL_687a8450a00b482eaaad35bb6677a8a1"
     }
    }
   }
  }
 },
 "nbformat": 4,
 "nbformat_minor": 1
}
