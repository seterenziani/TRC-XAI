{
 "cells": [
  {
   "cell_type": "markdown",
   "metadata": {
    "id": "pMhiaGWWUVT4"
   },
   "source": [
    "## Installs"
   ]
  },
  {
   "cell_type": "code",
   "execution_count": null,
   "metadata": {
    "colab": {
     "base_uri": "https://localhost:8080/"
    },
    "executionInfo": {
     "elapsed": 54500,
     "status": "ok",
     "timestamp": 1715002875358,
     "user": {
      "displayName": "Sofia Terenziani",
      "userId": "07918956272317491448"
     },
     "user_tz": -120
    },
    "id": "eXpgEa6yURfF",
    "outputId": "7fd6b39b-657d-411d-b73a-5bb93d67145e"
   },
   "outputs": [
    {
     "name": "stdout",
     "output_type": "stream",
     "text": [
      "Collecting captum\n",
      "  Downloading captum-0.7.0-py3-none-any.whl (1.3 MB)\n",
      "\u001b[2K     \u001b[90m━━━━━━━━━━━━━━━━━━━━━━━━━━━━━━━━━━━━━━━━\u001b[0m \u001b[32m1.3/1.3 MB\u001b[0m \u001b[31m9.7 MB/s\u001b[0m eta \u001b[36m0:00:00\u001b[0m\n",
      "\u001b[?25hRequirement already satisfied: matplotlib in /usr/local/lib/python3.10/dist-packages (from captum) (3.7.1)\n",
      "Requirement already satisfied: numpy in /usr/local/lib/python3.10/dist-packages (from captum) (1.25.2)\n",
      "Requirement already satisfied: torch>=1.6 in /usr/local/lib/python3.10/dist-packages (from captum) (2.2.1+cu121)\n",
      "Requirement already satisfied: tqdm in /usr/local/lib/python3.10/dist-packages (from captum) (4.66.2)\n",
      "Requirement already satisfied: filelock in /usr/local/lib/python3.10/dist-packages (from torch>=1.6->captum) (3.14.0)\n",
      "Requirement already satisfied: typing-extensions>=4.8.0 in /usr/local/lib/python3.10/dist-packages (from torch>=1.6->captum) (4.11.0)\n",
      "Requirement already satisfied: sympy in /usr/local/lib/python3.10/dist-packages (from torch>=1.6->captum) (1.12)\n",
      "Requirement already satisfied: networkx in /usr/local/lib/python3.10/dist-packages (from torch>=1.6->captum) (3.3)\n",
      "Requirement already satisfied: jinja2 in /usr/local/lib/python3.10/dist-packages (from torch>=1.6->captum) (3.1.3)\n",
      "Requirement already satisfied: fsspec in /usr/local/lib/python3.10/dist-packages (from torch>=1.6->captum) (2023.6.0)\n",
      "Collecting nvidia-cuda-nvrtc-cu12==12.1.105 (from torch>=1.6->captum)\n",
      "  Using cached nvidia_cuda_nvrtc_cu12-12.1.105-py3-none-manylinux1_x86_64.whl (23.7 MB)\n",
      "Collecting nvidia-cuda-runtime-cu12==12.1.105 (from torch>=1.6->captum)\n",
      "  Using cached nvidia_cuda_runtime_cu12-12.1.105-py3-none-manylinux1_x86_64.whl (823 kB)\n",
      "Collecting nvidia-cuda-cupti-cu12==12.1.105 (from torch>=1.6->captum)\n",
      "  Using cached nvidia_cuda_cupti_cu12-12.1.105-py3-none-manylinux1_x86_64.whl (14.1 MB)\n",
      "Collecting nvidia-cudnn-cu12==8.9.2.26 (from torch>=1.6->captum)\n",
      "  Using cached nvidia_cudnn_cu12-8.9.2.26-py3-none-manylinux1_x86_64.whl (731.7 MB)\n",
      "Collecting nvidia-cublas-cu12==12.1.3.1 (from torch>=1.6->captum)\n",
      "  Using cached nvidia_cublas_cu12-12.1.3.1-py3-none-manylinux1_x86_64.whl (410.6 MB)\n",
      "Collecting nvidia-cufft-cu12==11.0.2.54 (from torch>=1.6->captum)\n",
      "  Using cached nvidia_cufft_cu12-11.0.2.54-py3-none-manylinux1_x86_64.whl (121.6 MB)\n",
      "Collecting nvidia-curand-cu12==10.3.2.106 (from torch>=1.6->captum)\n",
      "  Using cached nvidia_curand_cu12-10.3.2.106-py3-none-manylinux1_x86_64.whl (56.5 MB)\n",
      "Collecting nvidia-cusolver-cu12==11.4.5.107 (from torch>=1.6->captum)\n",
      "  Using cached nvidia_cusolver_cu12-11.4.5.107-py3-none-manylinux1_x86_64.whl (124.2 MB)\n",
      "Collecting nvidia-cusparse-cu12==12.1.0.106 (from torch>=1.6->captum)\n",
      "  Using cached nvidia_cusparse_cu12-12.1.0.106-py3-none-manylinux1_x86_64.whl (196.0 MB)\n",
      "Collecting nvidia-nccl-cu12==2.19.3 (from torch>=1.6->captum)\n",
      "  Using cached nvidia_nccl_cu12-2.19.3-py3-none-manylinux1_x86_64.whl (166.0 MB)\n",
      "Collecting nvidia-nvtx-cu12==12.1.105 (from torch>=1.6->captum)\n",
      "  Using cached nvidia_nvtx_cu12-12.1.105-py3-none-manylinux1_x86_64.whl (99 kB)\n",
      "Requirement already satisfied: triton==2.2.0 in /usr/local/lib/python3.10/dist-packages (from torch>=1.6->captum) (2.2.0)\n",
      "Collecting nvidia-nvjitlink-cu12 (from nvidia-cusolver-cu12==11.4.5.107->torch>=1.6->captum)\n",
      "  Using cached nvidia_nvjitlink_cu12-12.4.127-py3-none-manylinux2014_x86_64.whl (21.1 MB)\n",
      "Requirement already satisfied: contourpy>=1.0.1 in /usr/local/lib/python3.10/dist-packages (from matplotlib->captum) (1.2.1)\n",
      "Requirement already satisfied: cycler>=0.10 in /usr/local/lib/python3.10/dist-packages (from matplotlib->captum) (0.12.1)\n",
      "Requirement already satisfied: fonttools>=4.22.0 in /usr/local/lib/python3.10/dist-packages (from matplotlib->captum) (4.51.0)\n",
      "Requirement already satisfied: kiwisolver>=1.0.1 in /usr/local/lib/python3.10/dist-packages (from matplotlib->captum) (1.4.5)\n",
      "Requirement already satisfied: packaging>=20.0 in /usr/local/lib/python3.10/dist-packages (from matplotlib->captum) (24.0)\n",
      "Requirement already satisfied: pillow>=6.2.0 in /usr/local/lib/python3.10/dist-packages (from matplotlib->captum) (9.4.0)\n",
      "Requirement already satisfied: pyparsing>=2.3.1 in /usr/local/lib/python3.10/dist-packages (from matplotlib->captum) (3.1.2)\n",
      "Requirement already satisfied: python-dateutil>=2.7 in /usr/local/lib/python3.10/dist-packages (from matplotlib->captum) (2.8.2)\n",
      "Requirement already satisfied: six>=1.5 in /usr/local/lib/python3.10/dist-packages (from python-dateutil>=2.7->matplotlib->captum) (1.16.0)\n",
      "Requirement already satisfied: MarkupSafe>=2.0 in /usr/local/lib/python3.10/dist-packages (from jinja2->torch>=1.6->captum) (2.1.5)\n",
      "Requirement already satisfied: mpmath>=0.19 in /usr/local/lib/python3.10/dist-packages (from sympy->torch>=1.6->captum) (1.3.0)\n",
      "Installing collected packages: nvidia-nvtx-cu12, nvidia-nvjitlink-cu12, nvidia-nccl-cu12, nvidia-curand-cu12, nvidia-cufft-cu12, nvidia-cuda-runtime-cu12, nvidia-cuda-nvrtc-cu12, nvidia-cuda-cupti-cu12, nvidia-cublas-cu12, nvidia-cusparse-cu12, nvidia-cudnn-cu12, nvidia-cusolver-cu12, captum\n",
      "Successfully installed captum-0.7.0 nvidia-cublas-cu12-12.1.3.1 nvidia-cuda-cupti-cu12-12.1.105 nvidia-cuda-nvrtc-cu12-12.1.105 nvidia-cuda-runtime-cu12-12.1.105 nvidia-cudnn-cu12-8.9.2.26 nvidia-cufft-cu12-11.0.2.54 nvidia-curand-cu12-10.3.2.106 nvidia-cusolver-cu12-11.4.5.107 nvidia-cusparse-cu12-12.1.0.106 nvidia-nccl-cu12-2.19.3 nvidia-nvjitlink-cu12-12.4.127 nvidia-nvtx-cu12-12.1.105\n"
     ]
    }
   ],
   "source": [
    "!pip install captum"
   ]
  },
  {
   "cell_type": "code",
   "execution_count": 1,
   "metadata": {
    "colab": {
     "base_uri": "https://localhost:8080/"
    },
    "executionInfo": {
     "elapsed": 7062,
     "status": "ok",
     "timestamp": 1715002882414,
     "user": {
      "displayName": "Sofia Terenziani",
      "userId": "07918956272317491448"
     },
     "user_tz": -120
    },
    "id": "DsKvR39sUXIw",
    "outputId": "15223ceb-0771-42b1-9f89-663202e2d0f8"
   },
   "outputs": [],
   "source": [
    "#!pip install datasets"
   ]
  },
  {
   "cell_type": "markdown",
   "metadata": {
    "id": "rPFsPhtzUZId"
   },
   "source": [
    "## Imports"
   ]
  },
  {
   "cell_type": "code",
   "execution_count": null,
   "metadata": {
    "id": "FQzjFGHRTS_o"
   },
   "outputs": [],
   "source": [
    "import pandas as pd"
   ]
  },
  {
   "cell_type": "code",
   "execution_count": null,
   "metadata": {
    "id": "8aLVCDC0UTYH"
   },
   "outputs": [],
   "source": [
    "from transformers import AutoTokenizer, BertForSequenceClassification\n",
    "from torch.utils.data import TensorDataset, DataLoader, RandomSampler, SequentialSampler\n",
    "import torch\n",
    "from captum.attr import LayerIntegratedGradients\n",
    "from captum.attr import visualization as viz"
   ]
  },
  {
   "cell_type": "code",
   "execution_count": null,
   "metadata": {
    "id": "6qTQ44M2FfBq"
   },
   "outputs": [],
   "source": [
    "import torch\n",
    "import torch.nn as nn"
   ]
  },
  {
   "cell_type": "code",
   "execution_count": null,
   "metadata": {
    "id": "tyv7bTWdvB9Y"
   },
   "outputs": [],
   "source": [
    "import re"
   ]
  },
  {
   "cell_type": "code",
   "execution_count": null,
   "metadata": {
    "id": "FSyuPXa72AeR"
   },
   "outputs": [],
   "source": [
    "from datasets import load_dataset, DatasetDict, Dataset"
   ]
  },
  {
   "cell_type": "code",
   "execution_count": null,
   "metadata": {},
   "outputs": [],
   "source": [
    "import os \n",
    "directory = \"gradients\"\n",
    "parent_dir = \"results\"\n",
    "path = os.path.join(parent_dir, directory) "
   ]
  },
  {
   "cell_type": "markdown",
   "metadata": {
    "id": "7uM3XfAFnqoS"
   },
   "source": [
    "## Import Model"
   ]
  },
  {
   "cell_type": "code",
   "execution_count": null,
   "metadata": {
    "id": "r82C1xLXd4Xp"
   },
   "outputs": [],
   "source": [
    "import sys\n",
    "sys.path.append('model/code-bert/')\n",
    "from temporal_relation_classification import TemporalRelationClassification\n",
    "from temporal_relation_classification_config import TemporalRelationClassificationConfig"
   ]
  },
  {
   "cell_type": "code",
   "execution_count": null,
   "metadata": {
    "colab": {
     "base_uri": "https://localhost:8080/",
     "height": 262,
     "referenced_widgets": [
      "06802104db944743acba34f29683a6ad",
      "e690f0a1004a43de910b969f300fbe3e",
      "336c6193533e4723b1129bd382b6ac42",
      "c9585e1e147e48c080acd16bb22ba5f8",
      "e9c710c5607c478382eccb13f5e14f91",
      "8baf020e794e40c2a907b1c0ffea586c",
      "3409217788b4493c8a7dd93883a8bdd2",
      "2d3371bc9d944cad897afad21eac4809",
      "4a455270fd2c434c96729363d8dd3d29",
      "d52d3fc4efa440aca23a37bcbb6d7b84",
      "f096f4323c754bbdba4c68f25187e218",
      "08035fd7b283445ebe059534aebedd72",
      "36514668b5064a768b15b10eee1fbadc",
      "dbef01a9327741e7ae8339a903b1ba16",
      "d4c8277dcccb4914827cf4a9884d9d49",
      "37680d81a870499090851efcbd54fe30",
      "54850ba116a04a97bc996154a8c68bf8",
      "558658772b7a47a9a8cd49c4d5bff70a",
      "eb509ea5b4554ae59d55b7ef23473a6a",
      "10e057c028604dc9b0ebf6cb0d560751",
      "bf34783fbc3c44bf8b14404abf5d0bd0",
      "06f8b1e44d714e0c8a4e4222b7dcf8a3"
     ]
    },
    "executionInfo": {
     "elapsed": 13559,
     "status": "ok",
     "timestamp": 1715002932789,
     "user": {
      "displayName": "Sofia Terenziani",
      "userId": "07918956272317491448"
     },
     "user_tz": -120
    },
    "id": "BVfUyF0pCVsC",
    "outputId": "c1797aeb-3363-4bb8-f15e-6fb8eb87f5c0"
   },
   "outputs": [
    {
     "name": "stderr",
     "output_type": "stream",
     "text": [
      "/usr/local/lib/python3.10/dist-packages/huggingface_hub/file_download.py:1132: FutureWarning: `resume_download` is deprecated and will be removed in version 1.0.0. Downloads always resume when possible. If you want to force a new download, use `force_download=True`.\n",
      "  warnings.warn(\n",
      "/usr/local/lib/python3.10/dist-packages/huggingface_hub/utils/_token.py:89: UserWarning: \n",
      "The secret `HF_TOKEN` does not exist in your Colab secrets.\n",
      "To authenticate with the Hugging Face Hub, create a token in your settings tab (https://huggingface.co/settings/tokens), set it as secret in your Google Colab and restart your session.\n",
      "You will be able to reuse this secret in all of your notebooks.\n",
      "Please note that authentication is recommended but still optional to access public models or datasets.\n",
      "  warnings.warn(\n"
     ]
    },
    {
     "data": {
      "application/vnd.jupyter.widget-view+json": {
       "model_id": "06802104db944743acba34f29683a6ad",
       "version_major": 2,
       "version_minor": 0
      },
      "text/plain": [
       "config.json:   0%|          | 0.00/570 [00:00<?, ?B/s]"
      ]
     },
     "metadata": {},
     "output_type": "display_data"
    },
    {
     "data": {
      "application/vnd.jupyter.widget-view+json": {
       "model_id": "08035fd7b283445ebe059534aebedd72",
       "version_major": 2,
       "version_minor": 0
      },
      "text/plain": [
       "model.safetensors:   0%|          | 0.00/440M [00:00<?, ?B/s]"
      ]
     },
     "metadata": {},
     "output_type": "display_data"
    },
    {
     "name": "stderr",
     "output_type": "stream",
     "text": [
      "Special tokens have been added in the vocabulary, make sure the associated word embeddings are fine-tuned or trained.\n"
     ]
    }
   ],
   "source": [
    "model_path = \"saved_models/bert-base-uncased-saved-model\"\n",
    "model = TemporalRelationClassification.from_pretrained(model_path)\n",
    "tokenizer = AutoTokenizer.from_pretrained(model_path)"
   ]
  },
  {
   "cell_type": "code",
   "execution_count": null,
   "metadata": {
    "colab": {
     "base_uri": "https://localhost:8080/"
    },
    "executionInfo": {
     "elapsed": 6,
     "status": "ok",
     "timestamp": 1715002934892,
     "user": {
      "displayName": "Sofia Terenziani",
      "userId": "07918956272317491448"
     },
     "user_tz": -120
    },
    "id": "aAP9CQCrDOdA",
    "outputId": "f90bad05-cd24-4726-dbeb-b7837ad09345"
   },
   "outputs": [
    {
     "data": {
      "text/plain": [
       "Embedding(30526, 768)"
      ]
     },
     "execution_count": 12,
     "metadata": {},
     "output_type": "execute_result"
    }
   ],
   "source": [
    "model.resize_token_embeddings(len(tokenizer))"
   ]
  },
  {
   "cell_type": "markdown",
   "metadata": {
    "id": "hdVAbx_m1Z4R"
   },
   "source": [
    "## Initialise Model"
   ]
  },
  {
   "cell_type": "code",
   "execution_count": null,
   "metadata": {
    "id": "_75D5QgI1cAl"
   },
   "outputs": [],
   "source": [
    "device = torch.device(\"cuda\" if torch.cuda.is_available() else \"cpu\")"
   ]
  },
  {
   "cell_type": "code",
   "execution_count": null,
   "metadata": {
    "colab": {
     "base_uri": "https://localhost:8080/"
    },
    "executionInfo": {
     "elapsed": 5,
     "status": "ok",
     "timestamp": 1715002937360,
     "user": {
      "displayName": "Sofia Terenziani",
      "userId": "07918956272317491448"
     },
     "user_tz": -120
    },
    "id": "Cjzt72GDxS3k",
    "outputId": "ed807c5b-fbe7-4f95-f91f-2c97ec13b430"
   },
   "outputs": [
    {
     "data": {
      "text/plain": [
       "TemporalRelationClassification(\n",
       "  (bert): BertModel(\n",
       "    (embeddings): BertEmbeddings(\n",
       "      (word_embeddings): Embedding(30526, 768)\n",
       "      (position_embeddings): Embedding(512, 768)\n",
       "      (token_type_embeddings): Embedding(2, 768)\n",
       "      (LayerNorm): LayerNorm((768,), eps=1e-12, elementwise_affine=True)\n",
       "      (dropout): Dropout(p=0.1, inplace=False)\n",
       "    )\n",
       "    (encoder): BertEncoder(\n",
       "      (layer): ModuleList(\n",
       "        (0-11): 12 x BertLayer(\n",
       "          (attention): BertAttention(\n",
       "            (self): BertSelfAttention(\n",
       "              (query): Linear(in_features=768, out_features=768, bias=True)\n",
       "              (key): Linear(in_features=768, out_features=768, bias=True)\n",
       "              (value): Linear(in_features=768, out_features=768, bias=True)\n",
       "              (dropout): Dropout(p=0.1, inplace=False)\n",
       "            )\n",
       "            (output): BertSelfOutput(\n",
       "              (dense): Linear(in_features=768, out_features=768, bias=True)\n",
       "              (LayerNorm): LayerNorm((768,), eps=1e-12, elementwise_affine=True)\n",
       "              (dropout): Dropout(p=0.1, inplace=False)\n",
       "            )\n",
       "          )\n",
       "          (intermediate): BertIntermediate(\n",
       "            (dense): Linear(in_features=768, out_features=3072, bias=True)\n",
       "            (intermediate_act_fn): GELUActivation()\n",
       "          )\n",
       "          (output): BertOutput(\n",
       "            (dense): Linear(in_features=3072, out_features=768, bias=True)\n",
       "            (LayerNorm): LayerNorm((768,), eps=1e-12, elementwise_affine=True)\n",
       "            (dropout): Dropout(p=0.1, inplace=False)\n",
       "          )\n",
       "        )\n",
       "      )\n",
       "    )\n",
       "    (pooler): BertPooler(\n",
       "      (dense): Linear(in_features=768, out_features=768, bias=True)\n",
       "      (activation): Tanh()\n",
       "    )\n",
       "  )\n",
       "  (dropout): Dropout(p=0.1, inplace=False)\n",
       "  (classifier): Linear(in_features=768, out_features=4, bias=True)\n",
       "  (post_transformer_1): Sequential(\n",
       "    (0): Linear(in_features=768, out_features=768, bias=True)\n",
       "    (1): Dropout(p=0.1, inplace=False)\n",
       "  )\n",
       "  (post_transformer_2): Sequential(\n",
       "    (0): Linear(in_features=768, out_features=768, bias=True)\n",
       "    (1): Dropout(p=0.1, inplace=False)\n",
       "  )\n",
       "  (relation_representation): Sequential(\n",
       "    (0): Linear(in_features=1536, out_features=768, bias=True)\n",
       "    (1): Dropout(p=0.1, inplace=False)\n",
       "  )\n",
       "  (classification_layer): Linear(in_features=768, out_features=4, bias=True)\n",
       ")"
      ]
     },
     "execution_count": 15,
     "metadata": {},
     "output_type": "execute_result"
    }
   ],
   "source": [
    "model.to(device)"
   ]
  },
  {
   "cell_type": "code",
   "execution_count": null,
   "metadata": {
    "colab": {
     "base_uri": "https://localhost:8080/"
    },
    "executionInfo": {
     "elapsed": 3,
     "status": "ok",
     "timestamp": 1715002937360,
     "user": {
      "displayName": "Sofia Terenziani",
      "userId": "07918956272317491448"
     },
     "user_tz": -120
    },
    "id": "uqk4w8OC1eXi",
    "outputId": "a70edc2c-c1bf-4a7d-9866-c57f57308ed0"
   },
   "outputs": [
    {
     "data": {
      "text/plain": [
       "TemporalRelationClassification(\n",
       "  (bert): BertModel(\n",
       "    (embeddings): BertEmbeddings(\n",
       "      (word_embeddings): Embedding(30526, 768)\n",
       "      (position_embeddings): Embedding(512, 768)\n",
       "      (token_type_embeddings): Embedding(2, 768)\n",
       "      (LayerNorm): LayerNorm((768,), eps=1e-12, elementwise_affine=True)\n",
       "      (dropout): Dropout(p=0.1, inplace=False)\n",
       "    )\n",
       "    (encoder): BertEncoder(\n",
       "      (layer): ModuleList(\n",
       "        (0-11): 12 x BertLayer(\n",
       "          (attention): BertAttention(\n",
       "            (self): BertSelfAttention(\n",
       "              (query): Linear(in_features=768, out_features=768, bias=True)\n",
       "              (key): Linear(in_features=768, out_features=768, bias=True)\n",
       "              (value): Linear(in_features=768, out_features=768, bias=True)\n",
       "              (dropout): Dropout(p=0.1, inplace=False)\n",
       "            )\n",
       "            (output): BertSelfOutput(\n",
       "              (dense): Linear(in_features=768, out_features=768, bias=True)\n",
       "              (LayerNorm): LayerNorm((768,), eps=1e-12, elementwise_affine=True)\n",
       "              (dropout): Dropout(p=0.1, inplace=False)\n",
       "            )\n",
       "          )\n",
       "          (intermediate): BertIntermediate(\n",
       "            (dense): Linear(in_features=768, out_features=3072, bias=True)\n",
       "            (intermediate_act_fn): GELUActivation()\n",
       "          )\n",
       "          (output): BertOutput(\n",
       "            (dense): Linear(in_features=3072, out_features=768, bias=True)\n",
       "            (LayerNorm): LayerNorm((768,), eps=1e-12, elementwise_affine=True)\n",
       "            (dropout): Dropout(p=0.1, inplace=False)\n",
       "          )\n",
       "        )\n",
       "      )\n",
       "    )\n",
       "    (pooler): BertPooler(\n",
       "      (dense): Linear(in_features=768, out_features=768, bias=True)\n",
       "      (activation): Tanh()\n",
       "    )\n",
       "  )\n",
       "  (dropout): Dropout(p=0.1, inplace=False)\n",
       "  (classifier): Linear(in_features=768, out_features=4, bias=True)\n",
       "  (post_transformer_1): Sequential(\n",
       "    (0): Linear(in_features=768, out_features=768, bias=True)\n",
       "    (1): Dropout(p=0.1, inplace=False)\n",
       "  )\n",
       "  (post_transformer_2): Sequential(\n",
       "    (0): Linear(in_features=768, out_features=768, bias=True)\n",
       "    (1): Dropout(p=0.1, inplace=False)\n",
       "  )\n",
       "  (relation_representation): Sequential(\n",
       "    (0): Linear(in_features=1536, out_features=768, bias=True)\n",
       "    (1): Dropout(p=0.1, inplace=False)\n",
       "  )\n",
       "  (classification_layer): Linear(in_features=768, out_features=4, bias=True)\n",
       ")"
      ]
     },
     "execution_count": 16,
     "metadata": {},
     "output_type": "execute_result"
    }
   ],
   "source": [
    "model.eval()"
   ]
  },
  {
   "cell_type": "markdown",
   "metadata": {
    "id": "fF_4S3yvVdNw"
   },
   "source": [
    "## Import Dataset"
   ]
  },
  {
   "cell_type": "code",
   "execution_count": 119,
   "metadata": {
    "executionInfo": {
     "elapsed": 265,
     "status": "ok",
     "timestamp": 1715006089526,
     "user": {
      "displayName": "Sofia Terenziani",
      "userId": "07918956272317491448"
     },
     "user_tz": -120
    },
    "id": "NpXGyPwtVA4K"
   },
   "outputs": [],
   "source": [
    "original = pd.read_csv('data/annotated/original.csv')\n",
    "counterfactuals = pd.read_csv('data/annotated/counterfactuals.csv')"
   ]
  },
  {
   "cell_type": "markdown",
   "metadata": {
    "id": "KuQ14riRecTZ"
   },
   "source": [
    "## Compute Gradients Original"
   ]
  },
  {
   "cell_type": "code",
   "execution_count": 138,
   "metadata": {
    "executionInfo": {
     "elapsed": 3,
     "status": "ok",
     "timestamp": 1715006113046,
     "user": {
      "displayName": "Sofia Terenziani",
      "userId": "07918956272317491448"
     },
     "user_tz": -120
    },
    "id": "LwrdFuNggkoQ"
   },
   "outputs": [],
   "source": [
    "import re\n",
    "def annotate_text(row, column):\n",
    "    context = row['context']\n",
    "    eventA = re.escape(row['eventA'])\n",
    "    eventB = re.escape(row['eventB'])\n",
    "\n",
    "    # Make sure the longer event is replaced first if they overlap\n",
    "    if len(eventA) > len(eventB):\n",
    "        context = re.sub(eventA, f\"[a1]{row['eventA']}[/a1]\", context)\n",
    "        context = re.sub(eventB, f\"[a2]{row['eventB']}[/a2]\", context)\n",
    "    else:\n",
    "        context = re.sub(eventB, f\"[a2]{row['eventB']}[/a2]\", context)\n",
    "        context = re.sub(eventA, f\"[a1]{row['eventB']}[/a1]\", context)\n",
    "\n",
    "    return context"
   ]
  },
  {
   "cell_type": "code",
   "execution_count": 139,
   "metadata": {
    "executionInfo": {
     "elapsed": 2,
     "status": "ok",
     "timestamp": 1715006113393,
     "user": {
      "displayName": "Sofia Terenziani",
      "userId": "07918956272317491448"
     },
     "user_tz": -120
    },
    "id": "56TNhXYeee64"
   },
   "outputs": [],
   "source": [
    "original['annotated_context'] = original.apply(lambda row: annotate_text(row, 'context'), axis=1)"
   ]
  },
  {
   "cell_type": "code",
   "execution_count": 140,
   "metadata": {
    "executionInfo": {
     "elapsed": 2,
     "status": "ok",
     "timestamp": 1715006113744,
     "user": {
      "displayName": "Sofia Terenziani",
      "userId": "07918956272317491448"
     },
     "user_tz": -120
    },
    "id": "_KAj5cCW_YX4"
   },
   "outputs": [],
   "source": [
    "from datasets import Dataset, DatasetDict\n",
    "dataset = DatasetDict({\n",
    "    \"original\": Dataset.from_pandas(original),\n",
    "})"
   ]
  },
  {
   "cell_type": "code",
   "execution_count": 141,
   "metadata": {
    "executionInfo": {
     "elapsed": 274,
     "status": "ok",
     "timestamp": 1715006114436,
     "user": {
      "displayName": "Sofia Terenziani",
      "userId": "07918956272317491448"
     },
     "user_tz": -120
    },
    "id": "uIV6JEKRtYSl"
   },
   "outputs": [],
   "source": [
    "from transformers import DataCollatorWithPadding\n",
    "data_collator = DataCollatorWithPadding(tokenizer=tokenizer)\n",
    "tokenizer_class = str(type(tokenizer)).strip(\"><'\").split('.')[-1]"
   ]
  },
  {
   "cell_type": "code",
   "execution_count": 142,
   "metadata": {
    "colab": {
     "base_uri": "https://localhost:8080/",
     "height": 49,
     "referenced_widgets": [
      "0b1ee6054779429d9ad7512bee854337",
      "a1ec74b4f4804de2b43e517e7f7a332e",
      "cac94e975e3f4d33b132784c35244f85",
      "7940e26ae6e94d01b8bdaed062299631",
      "0dd9f680c3a345459c863dd79ff6fe70",
      "3ad16e92d7cf412799fdefe7e731a5fb",
      "b7e97f6a99734ec295a7a5ec05f4f335",
      "fd9f60466fda4f2ebad97c2fbc58be27",
      "19b6e92ae6ac4bec88c9d75d49bb5cc2",
      "334964d6e8bc47d2a7fab7667e0cdbbb",
      "097709770f48452ba1418486bec0f0b8"
     ]
    },
    "executionInfo": {
     "elapsed": 6,
     "status": "ok",
     "timestamp": 1715006114857,
     "user": {
      "displayName": "Sofia Terenziani",
      "userId": "07918956272317491448"
     },
     "user_tz": -120
    },
    "id": "drJJcbV2tl9l",
    "outputId": "d5800186-691d-492e-c77e-03f35cfefc2b"
   },
   "outputs": [
    {
     "data": {
      "application/vnd.jupyter.widget-view+json": {
       "model_id": "0b1ee6054779429d9ad7512bee854337",
       "version_major": 2,
       "version_minor": 0
      },
      "text/plain": [
       "Map:   0%|          | 0/204 [00:00<?, ? examples/s]"
      ]
     },
     "metadata": {},
     "output_type": "display_data"
    }
   ],
   "source": [
    "def preprocess_function(examples):\n",
    "  max_length_value = 508\n",
    "  return tokenizer(examples[\"annotated_context\"], truncation=True, max_length=max_length_value)\n",
    "\n",
    "tokenized_datasets = dataset.map(preprocess_function, batched=True)"
   ]
  },
  {
   "cell_type": "code",
   "execution_count": 145,
   "metadata": {
    "executionInfo": {
     "elapsed": 3,
     "status": "ok",
     "timestamp": 1715006117530,
     "user": {
      "displayName": "Sofia Terenziani",
      "userId": "07918956272317491448"
     },
     "user_tz": -120
    },
    "id": "eGP9RHctedtw"
   },
   "outputs": [],
   "source": [
    "def predict(inputs, token_type_ids):\n",
    "    output = model(inputs, token_type_ids=token_type_ids)\n",
    "    logits = output[0]\n",
    "    max_logits = logits.max(dim=1).values\n",
    "    return max_logits"
   ]
  },
  {
   "cell_type": "code",
   "execution_count": 146,
   "metadata": {
    "executionInfo": {
     "elapsed": 2,
     "status": "ok",
     "timestamp": 1715006118908,
     "user": {
      "displayName": "Sofia Terenziani",
      "userId": "07918956272317491448"
     },
     "user_tz": -120
    },
    "id": "avTjVPVkhN9H"
   },
   "outputs": [],
   "source": [
    "def create_baseline(input_ids, attention_mask):\n",
    "    baseline_attention_mask = torch.ones_like(attention_mask).to(device)\n",
    "    baseline_input_ids = torch.zeros_like(input_ids).to(device)\n",
    "\n",
    "    special_token_ids = {30522, 30523, 30524, 30525}\n",
    "    special_tokens_mask = torch.isin(input_ids, torch.tensor(list(special_token_ids), device=device))\n",
    "    baseline_input_ids[special_tokens_mask] = input_ids[special_tokens_mask]\n",
    "    return baseline_input_ids, baseline_attention_mask #baseline_token_type_ids"
   ]
  },
  {
   "cell_type": "code",
   "execution_count": 147,
   "metadata": {
    "executionInfo": {
     "elapsed": 2,
     "status": "ok",
     "timestamp": 1715006119171,
     "user": {
      "displayName": "Sofia Terenziani",
      "userId": "07918956272317491448"
     },
     "user_tz": -120
    },
    "id": "rddskbZ1fbsQ"
   },
   "outputs": [],
   "source": [
    "lig = LayerIntegratedGradients(predict, model.bert.embeddings)"
   ]
  },
  {
   "cell_type": "code",
   "execution_count": 148,
   "metadata": {
    "executionInfo": {
     "elapsed": 3,
     "status": "ok",
     "timestamp": 1715006120481,
     "user": {
      "displayName": "Sofia Terenziani",
      "userId": "07918956272317491448"
     },
     "user_tz": -120
    },
    "id": "jQcko6g4gzFJ"
   },
   "outputs": [],
   "source": [
    "def gradient_sensitivity(model, input_ids, attention_mask):\n",
    "    model.eval()\n",
    "    baseline_input_ids, baseline_attention_mask = create_baseline(input_ids, attention_mask)\n",
    "\n",
    "    attributions, delta = lig.attribute(inputs=(input_ids, attention_mask),\n",
    "                                         baselines=(baseline_input_ids, baseline_attention_mask),\n",
    "                                         n_steps=10,  \n",
    "                                         return_convergence_delta=True)\n",
    "\n",
    "    attributions = attributions.sum(dim=-1).squeeze(0)  \n",
    "    attributions = attributions / torch.norm(attributions) \n",
    "\n",
    "    return attributions  "
   ]
  },
  {
   "cell_type": "code",
   "execution_count": 149,
   "metadata": {
    "executionInfo": {
     "elapsed": 3,
     "status": "ok",
     "timestamp": 1715006120741,
     "user": {
      "displayName": "Sofia Terenziani",
      "userId": "07918956272317491448"
     },
     "user_tz": -120
    },
    "id": "rDuLLvWqlFQs"
   },
   "outputs": [],
   "source": [
    "def tokenisation(text, tokenizer, device='cuda'):\n",
    "    special_tokens_dict = {'additional_special_tokens': ['[a1]', '[/a1]', '[a2]', '[/a2]']}\n",
    "    tokenizer = AutoTokenizer.from_pretrained('bert-base-uncased')\n",
    "    tokenizer.add_special_tokens(special_tokens_dict)\n",
    "\n",
    "    encoded_input = tokenizer(text, max_length=508, truncation=True, padding='max_length', return_tensors='pt')\n",
    "    input_ids = encoded_input['input_ids'].to(device)\n",
    "    attention_mask = encoded_input.get('attention_mask', None).to(device) if encoded_input.get('attention_mask', None) is not None else None\n",
    "    token_type_ids = encoded_input.get('token_type_ids', None).to(device) if encoded_input.get('token_type_ids', None) is not None else None\n",
    "    return input_ids, attention_mask, token_type_ids"
   ]
  },
  {
   "cell_type": "code",
   "execution_count": 150,
   "metadata": {
    "colab": {
     "base_uri": "https://localhost:8080/"
    },
    "executionInfo": {
     "elapsed": 2590208,
     "status": "ok",
     "timestamp": 1715008713959,
     "user": {
      "displayName": "Sofia Terenziani",
      "userId": "07918956272317491448"
     },
     "user_tz": -120
    },
    "id": "Nid5goYqiBRE",
    "outputId": "19f5963b-e4d8-44ad-b620-2412719fff0d"
   },
   "outputs": [
    {
     "name": "stdout",
     "output_type": "stream",
     "text": [
      "0\n"
     ]
    },
    {
     "name": "stderr",
     "output_type": "stream",
     "text": [
      "/usr/local/lib/python3.10/dist-packages/huggingface_hub/file_download.py:1132: FutureWarning: `resume_download` is deprecated and will be removed in version 1.0.0. Downloads always resume when possible. If you want to force a new download, use `force_download=True`.\n",
      "  warnings.warn(\n"
     ]
    },
    {
     "name": "stdout",
     "output_type": "stream",
     "text": [
      "1\n",
      "2\n",
      "3\n",
      "4\n",
      "5\n",
      "6\n",
      "7\n",
      "8\n",
      "9\n",
      "10\n",
      "11\n",
      "12\n",
      "13\n",
      "14\n",
      "15\n",
      "16\n",
      "17\n",
      "18\n",
      "19\n",
      "20\n",
      "21\n",
      "22\n",
      "23\n",
      "24\n",
      "25\n",
      "26\n",
      "27\n",
      "28\n",
      "29\n",
      "30\n",
      "31\n",
      "32\n",
      "33\n",
      "34\n",
      "35\n",
      "36\n",
      "37\n",
      "38\n",
      "39\n",
      "40\n",
      "41\n",
      "42\n",
      "43\n",
      "44\n",
      "45\n",
      "46\n",
      "47\n",
      "48\n",
      "49\n",
      "50\n",
      "51\n",
      "52\n",
      "53\n",
      "54\n",
      "55\n",
      "56\n",
      "57\n",
      "58\n",
      "59\n",
      "60\n",
      "61\n",
      "62\n",
      "63\n",
      "64\n",
      "65\n",
      "66\n",
      "67\n",
      "68\n",
      "69\n",
      "70\n",
      "71\n",
      "72\n",
      "73\n",
      "74\n",
      "75\n",
      "76\n",
      "77\n",
      "78\n",
      "79\n",
      "80\n",
      "81\n",
      "82\n",
      "83\n",
      "84\n",
      "85\n",
      "86\n",
      "87\n",
      "88\n",
      "89\n",
      "90\n",
      "91\n",
      "92\n",
      "93\n",
      "94\n",
      "95\n",
      "96\n",
      "97\n",
      "98\n",
      "99\n",
      "100\n",
      "101\n",
      "102\n",
      "103\n",
      "104\n",
      "105\n",
      "106\n",
      "107\n",
      "108\n",
      "109\n",
      "110\n",
      "111\n",
      "112\n",
      "113\n",
      "114\n",
      "115\n",
      "116\n",
      "117\n",
      "118\n",
      "119\n",
      "120\n",
      "121\n",
      "122\n",
      "123\n",
      "124\n",
      "125\n",
      "126\n",
      "127\n",
      "128\n",
      "129\n",
      "130\n",
      "131\n",
      "132\n",
      "133\n",
      "134\n",
      "135\n",
      "136\n",
      "137\n",
      "138\n",
      "139\n",
      "140\n",
      "141\n",
      "142\n",
      "143\n",
      "144\n",
      "145\n",
      "146\n",
      "147\n",
      "148\n",
      "149\n",
      "150\n",
      "151\n",
      "152\n",
      "153\n",
      "154\n",
      "155\n",
      "156\n",
      "157\n",
      "158\n",
      "159\n",
      "160\n",
      "161\n",
      "162\n",
      "163\n",
      "164\n",
      "165\n",
      "166\n",
      "167\n",
      "168\n",
      "169\n",
      "170\n",
      "171\n",
      "172\n",
      "173\n",
      "174\n",
      "175\n",
      "176\n",
      "177\n",
      "178\n",
      "179\n",
      "180\n",
      "181\n",
      "182\n",
      "183\n",
      "184\n",
      "185\n",
      "186\n",
      "187\n",
      "188\n",
      "189\n",
      "190\n",
      "191\n",
      "192\n",
      "193\n",
      "194\n",
      "195\n"
     ]
    }
   ],
   "source": [
    "gradients_details = []\n",
    "for index, row in original.iterrows():\n",
    "    print(index)\n",
    "    text = row['annotated_context']\n",
    "    input_ids, attention_mask, token_type_ids = tokenisation(text, tokenizer, device)\n",
    "    attributions = gradient_sensitivity(model, input_ids, attention_mask)\n",
    "    attributions_list = attributions.detach().cpu().numpy().tolist()\n",
    "    tokens = tokenizer.convert_ids_to_tokens(input_ids[0])\n",
    "    word_attributions = list(zip(tokens, attributions_list))  # Ensure this pairs tokens with their attributions correctly\n",
    "\n",
    "    gradients_details.append({\n",
    "        \"index\": index,\n",
    "        \"text\": text,\n",
    "        \"word_attributions\": word_attributions\n",
    "    })\n"
   ]
  },
  {
   "cell_type": "code",
   "execution_count": 151,
   "metadata": {
    "colab": {
     "base_uri": "https://localhost:8080/"
    },
    "executionInfo": {
     "elapsed": 5,
     "status": "ok",
     "timestamp": 1715008713960,
     "user": {
      "displayName": "Sofia Terenziani",
      "userId": "07918956272317491448"
     },
     "user_tz": -120
    },
    "id": "NNnqrfKbgv2-",
    "outputId": "c7a313b6-e67f-4a71-d2ff-7d00aa7f1daa"
   },
   "outputs": [
    {
     "name": "stdout",
     "output_type": "stream",
     "text": [
      "     index                                               text  \\\n",
      "0        0  Israeli Prime Minister Benjamin Netanyahu apol...   \n",
      "1        1  Israeli Prime Minister Benjamin Netanyahu apol...   \n",
      "2        2  Israeli Prime Minister Benjamin Netanyahu apol...   \n",
      "3        3  Israeli Prime Minister Benjamin Netanyahu apol...   \n",
      "4        4  Israeli Prime Minister Benjamin Netanyahu apol...   \n",
      "..     ...                                                ...   \n",
      "191    191  The FAA on Friday announced it will close 149 ...   \n",
      "192    192  The flu season is winding down, and it has kil...   \n",
      "193    193  Our digital age is all about bits, those preci...   \n",
      "194    194  A Cyprus exit from the euro union, if it comes...   \n",
      "195    195  Israel's prime minister has apologised to Turk...   \n",
      "\n",
      "                                     word_attributions  \n",
      "0    [([CLS], 0.003622958006703595), (israeli, 0.00...  \n",
      "1    [([CLS], -0.07436703143894202), (israeli, 0.00...  \n",
      "2    [([CLS], 0.06415117608911086), (israeli, -0.00...  \n",
      "3    [([CLS], -8.768554787517192e-05), (israeli, 0....  \n",
      "4    [([CLS], 0.06668479837941632), (israeli, -0.00...  \n",
      "..                                                 ...  \n",
      "191  [([CLS], -0.05888852305138561), (the, 0.027093...  \n",
      "192  [([CLS], 0.019929387855471603), (the, -0.00916...  \n",
      "193  [([CLS], -0.004891323094304612), (our, -0.0028...  \n",
      "194  [([CLS], 0.010607459717725356), (a, -0.0033772...  \n",
      "195  [([CLS], -0.024347618910761332), (israel, 8.23...  \n",
      "\n",
      "[196 rows x 3 columns]\n"
     ]
    }
   ],
   "source": [
    "gradients_df = pd.DataFrame(gradients_details)\n",
    "print(gradients_df)"
   ]
  },
  {
   "cell_type": "code",
   "execution_count": 152,
   "metadata": {
    "executionInfo": {
     "elapsed": 4,
     "status": "ok",
     "timestamp": 1715008713960,
     "user": {
      "displayName": "Sofia Terenziani",
      "userId": "07918956272317491448"
     },
     "user_tz": -120
    },
    "id": "pniLr5RUhT6Z"
   },
   "outputs": [],
   "source": [
    "original['index'] = original.index\n",
    "gradients_df['index'] =  gradients_df.index\n",
    "original = original.reset_index(drop=True)\n",
    "gradients_df['label'] = df_filtered['label']"
   ]
  },
  {
   "cell_type": "code",
   "execution_count": 154,
   "metadata": {
    "executionInfo": {
     "elapsed": 274,
     "status": "ok",
     "timestamp": 1715008714231,
     "user": {
      "displayName": "Sofia Terenziani",
      "userId": "07918956272317491448"
     },
     "user_tz": -120
    },
    "id": "tBfMJkczhT6b"
   },
   "outputs": [],
   "source": [
    "gradients_df.to_csv('results/gradients/gradients-og-bert-base.csv', index=False)"
   ]
  },
  {
   "cell_type": "markdown",
   "metadata": {
    "id": "HxdGrJSYuAkS"
   },
   "source": []
  },
  {
   "cell_type": "markdown",
   "metadata": {
    "id": "kxLhgjwTuAv4"
   },
   "source": [
    "## Compute Gradients Counterfactuals"
   ]
  },
  {
   "cell_type": "code",
   "execution_count": 155,
   "metadata": {
    "executionInfo": {
     "elapsed": 11,
     "status": "ok",
     "timestamp": 1715008714232,
     "user": {
      "displayName": "Sofia Terenziani",
      "userId": "07918956272317491448"
     },
     "user_tz": -120
    },
    "id": "LhKzjuuHuAv4"
   },
   "outputs": [],
   "source": [
    "import re\n",
    "def annotate_text(row, column):\n",
    "    context = row['counterfactual']\n",
    "    eventA = re.escape(row['eventA'])\n",
    "    eventB = re.escape(row['eventB'])\n",
    "\n",
    "    # Make sure the longer event is replaced first if they overlap\n",
    "    if len(eventA) > len(eventB):\n",
    "        context = re.sub(eventA, f\"[a1]{row['eventA']}[/a1]\", context)\n",
    "        context = re.sub(eventB, f\"[a2]{row['eventB']}[/a2]\", context)\n",
    "    else:\n",
    "        context = re.sub(eventB, f\"[a2]{row['eventB']}[/a2]\", context)\n",
    "        context = re.sub(eventA, f\"[a1]{row['eventB']}[/a1]\", context)\n",
    "\n",
    "    return context"
   ]
  },
  {
   "cell_type": "code",
   "execution_count": 156,
   "metadata": {
    "executionInfo": {
     "elapsed": 10,
     "status": "ok",
     "timestamp": 1715008714232,
     "user": {
      "displayName": "Sofia Terenziani",
      "userId": "07918956272317491448"
     },
     "user_tz": -120
    },
    "id": "6po_4V6KuAv5"
   },
   "outputs": [],
   "source": [
    "counterfactuals['annotated_context'] = counterfactuals.apply(lambda row: annotate_text(row, 'counterfactual'), axis=1)"
   ]
  },
  {
   "cell_type": "code",
   "execution_count": 157,
   "metadata": {
    "executionInfo": {
     "elapsed": 9,
     "status": "ok",
     "timestamp": 1715008714232,
     "user": {
      "displayName": "Sofia Terenziani",
      "userId": "07918956272317491448"
     },
     "user_tz": -120
    },
    "id": "zL5rBO_YuAv5"
   },
   "outputs": [],
   "source": [
    "from datasets import Dataset, DatasetDict\n",
    "dataset = DatasetDict({\n",
    "    \"counterfactual\": Dataset.from_pandas(df_filtered_counterfactuals),\n",
    "})"
   ]
  },
  {
   "cell_type": "code",
   "execution_count": 158,
   "metadata": {
    "executionInfo": {
     "elapsed": 9,
     "status": "ok",
     "timestamp": 1715008714232,
     "user": {
      "displayName": "Sofia Terenziani",
      "userId": "07918956272317491448"
     },
     "user_tz": -120
    },
    "id": "Eej_uEtquAv5"
   },
   "outputs": [],
   "source": [
    "from transformers import DataCollatorWithPadding\n",
    "data_collator = DataCollatorWithPadding(tokenizer=tokenizer)\n",
    "tokenizer_class = str(type(tokenizer)).strip(\"><'\").split('.')[-1]"
   ]
  },
  {
   "cell_type": "code",
   "execution_count": 159,
   "metadata": {
    "colab": {
     "base_uri": "https://localhost:8080/",
     "height": 49,
     "referenced_widgets": [
      "4eedb5b3c66a4203a1633659f13c0735",
      "3eaa8d352bdc4f0f80e7b2073eaae7c0",
      "734c3dc94951409699838ca3c8dcf62a",
      "666bc7c948c54b57a8cdff9b5367b172",
      "97d40e7ad7e3457e95f1be7e814b082e",
      "c897e4888cce4ef294e1ae8ab7023069",
      "4fd2e0d9f6b04b03b08f0af6557c4721",
      "ad650e734f0a42278f734a54f3f2bd63",
      "3c1a8b3785b547f7b2438201c2ec139e",
      "ad24b2a0afa14168b1f8d5f2eadd52e5",
      "3b4a7190456e49689acb77ffd8133bf1"
     ]
    },
    "executionInfo": {
     "elapsed": 7,
     "status": "ok",
     "timestamp": 1715008714232,
     "user": {
      "displayName": "Sofia Terenziani",
      "userId": "07918956272317491448"
     },
     "user_tz": -120
    },
    "id": "A5oDq6bMuAv5",
    "outputId": "5e9dca14-bc72-4ee7-8163-7da14a648b05"
   },
   "outputs": [
    {
     "data": {
      "application/vnd.jupyter.widget-view+json": {
       "model_id": "4eedb5b3c66a4203a1633659f13c0735",
       "version_major": 2,
       "version_minor": 0
      },
      "text/plain": [
       "Map:   0%|          | 0/196 [00:00<?, ? examples/s]"
      ]
     },
     "metadata": {},
     "output_type": "display_data"
    }
   ],
   "source": [
    "def preprocess_function(examples):\n",
    "  max_length_value = 508\n",
    "  return tokenizer(examples[\"annotated_context\"], truncation=True, max_length=max_length_value)\n",
    "\n",
    "tokenized_datasets = dataset.map(preprocess_function, batched=True)"
   ]
  },
  {
   "cell_type": "code",
   "execution_count": 162,
   "metadata": {
    "executionInfo": {
     "elapsed": 10,
     "status": "ok",
     "timestamp": 1715008714490,
     "user": {
      "displayName": "Sofia Terenziani",
      "userId": "07918956272317491448"
     },
     "user_tz": -120
    },
    "id": "zwUga_qQuAv6"
   },
   "outputs": [],
   "source": [
    "def predict(inputs, token_type_ids):\n",
    "    output = model(inputs, token_type_ids=token_type_ids)\n",
    "    logits = output[0]\n",
    "    max_logits = logits.max(dim=1).values\n",
    "    return max_logits"
   ]
  },
  {
   "cell_type": "code",
   "execution_count": 163,
   "metadata": {
    "executionInfo": {
     "elapsed": 10,
     "status": "ok",
     "timestamp": 1715008714490,
     "user": {
      "displayName": "Sofia Terenziani",
      "userId": "07918956272317491448"
     },
     "user_tz": -120
    },
    "id": "wj6FLAY-uAv7"
   },
   "outputs": [],
   "source": [
    "def create_baseline(input_ids, attention_mask):\n",
    "    baseline_attention_mask = torch.ones_like(attention_mask).to(device)\n",
    "    #baseline_token_type_ids = torch.zeros_like(token_type_ids).to(device)\n",
    "    baseline_input_ids = torch.zeros_like(input_ids).to(device)\n",
    "\n",
    "    special_token_ids = {30522, 30523, 30524, 30525}\n",
    "    special_tokens_mask = torch.isin(input_ids, torch.tensor(list(special_token_ids), device=device))\n",
    "    baseline_input_ids[special_tokens_mask] = input_ids[special_tokens_mask]\n",
    "    return baseline_input_ids, baseline_attention_mask #baseline_token_type_ids"
   ]
  },
  {
   "cell_type": "code",
   "execution_count": 164,
   "metadata": {
    "executionInfo": {
     "elapsed": 10,
     "status": "ok",
     "timestamp": 1715008714491,
     "user": {
      "displayName": "Sofia Terenziani",
      "userId": "07918956272317491448"
     },
     "user_tz": -120
    },
    "id": "c8P8bq-MuAv7"
   },
   "outputs": [],
   "source": [
    "lig = LayerIntegratedGradients(predict, model.bert.embeddings)"
   ]
  },
  {
   "cell_type": "code",
   "execution_count": 165,
   "metadata": {
    "executionInfo": {
     "elapsed": 9,
     "status": "ok",
     "timestamp": 1715008714491,
     "user": {
      "displayName": "Sofia Terenziani",
      "userId": "07918956272317491448"
     },
     "user_tz": -120
    },
    "id": "LQF2lB0EuAv7"
   },
   "outputs": [],
   "source": [
    "def gradient_sensitivity(model, input_ids, attention_mask):\n",
    "    model.eval()\n",
    "    baseline_input_ids, baseline_attention_mask = create_baseline(input_ids, attention_mask)\n",
    "\n",
    "    attributions, delta = lig.attribute(inputs=(input_ids, attention_mask),\n",
    "                                         baselines=(baseline_input_ids, baseline_attention_mask),\n",
    "                                         n_steps=10,  # More steps for smoother integration\n",
    "                                         return_convergence_delta=True)\n",
    "    # Sum over the embedding dimension and normalize\n",
    "    attributions = attributions.sum(dim=-1).squeeze(0)  # Ensure it reduces to the number of tokens\n",
    "    attributions = attributions / torch.norm(attributions)  # Normalization\n",
    "\n",
    "    return attributions  # Convert to list for easier processing later"
   ]
  },
  {
   "cell_type": "code",
   "execution_count": 166,
   "metadata": {
    "executionInfo": {
     "elapsed": 9,
     "status": "ok",
     "timestamp": 1715008714491,
     "user": {
      "displayName": "Sofia Terenziani",
      "userId": "07918956272317491448"
     },
     "user_tz": -120
    },
    "id": "kJm5GWLruAv7"
   },
   "outputs": [],
   "source": [
    "def tokenisation(text, tokenizer, device='cuda'):\n",
    "    special_tokens_dict = {'additional_special_tokens': ['[a1]', '[/a1]', '[a2]', '[/a2]']}\n",
    "    tokenizer = AutoTokenizer.from_pretrained('bert-base-uncased')\n",
    "    tokenizer.add_special_tokens(special_tokens_dict)\n",
    "\n",
    "    encoded_input = tokenizer(text, max_length=508, truncation=True, padding='max_length', return_tensors='pt')\n",
    "    input_ids = encoded_input['input_ids'].to(device)\n",
    "    attention_mask = encoded_input.get('attention_mask', None).to(device) if encoded_input.get('attention_mask', None) is not None else None\n",
    "    token_type_ids = encoded_input.get('token_type_ids', None).to(device) if encoded_input.get('token_type_ids', None) is not None else None\n",
    "    return input_ids, attention_mask, token_type_ids"
   ]
  },
  {
   "cell_type": "code",
   "execution_count": null,
   "metadata": {
    "colab": {
     "base_uri": "https://localhost:8080/"
    },
    "id": "b-3ayX4muAv8",
    "outputId": "13982800-260c-4534-e8c2-ba3316093560"
   },
   "outputs": [
    {
     "name": "stdout",
     "output_type": "stream",
     "text": [
      "0\n"
     ]
    },
    {
     "name": "stderr",
     "output_type": "stream",
     "text": [
      "/usr/local/lib/python3.10/dist-packages/huggingface_hub/file_download.py:1132: FutureWarning: `resume_download` is deprecated and will be removed in version 1.0.0. Downloads always resume when possible. If you want to force a new download, use `force_download=True`.\n",
      "  warnings.warn(\n"
     ]
    },
    {
     "name": "stdout",
     "output_type": "stream",
     "text": [
      "1\n",
      "2\n",
      "3\n",
      "4\n",
      "5\n",
      "6\n",
      "7\n",
      "8\n",
      "9\n",
      "10\n",
      "11\n",
      "12\n",
      "13\n",
      "14\n",
      "15\n",
      "16\n",
      "17\n",
      "18\n",
      "19\n",
      "20\n",
      "21\n",
      "22\n",
      "23\n",
      "24\n",
      "25\n",
      "26\n",
      "27\n",
      "28\n",
      "29\n",
      "30\n",
      "31\n",
      "32\n",
      "33\n",
      "34\n",
      "35\n",
      "36\n",
      "37\n",
      "38\n",
      "39\n",
      "40\n",
      "41\n",
      "42\n",
      "43\n",
      "44\n",
      "45\n",
      "46\n",
      "47\n",
      "48\n",
      "49\n",
      "50\n",
      "51\n",
      "52\n",
      "53\n",
      "54\n",
      "55\n",
      "56\n",
      "57\n",
      "58\n",
      "59\n",
      "60\n",
      "61\n",
      "62\n",
      "63\n",
      "64\n",
      "65\n",
      "66\n",
      "67\n",
      "68\n",
      "69\n",
      "70\n",
      "71\n",
      "72\n",
      "73\n",
      "74\n",
      "75\n",
      "76\n",
      "77\n",
      "78\n",
      "79\n",
      "80\n",
      "81\n",
      "82\n",
      "83\n",
      "84\n",
      "85\n",
      "86\n",
      "87\n",
      "88\n",
      "89\n",
      "90\n",
      "91\n",
      "92\n",
      "93\n",
      "94\n",
      "95\n",
      "96\n",
      "97\n",
      "98\n",
      "99\n",
      "100\n",
      "101\n",
      "102\n",
      "103\n",
      "104\n",
      "105\n",
      "106\n",
      "107\n",
      "108\n",
      "109\n",
      "110\n",
      "111\n",
      "112\n",
      "113\n",
      "114\n",
      "115\n",
      "116\n",
      "117\n",
      "118\n",
      "119\n",
      "120\n",
      "121\n",
      "122\n",
      "123\n",
      "124\n",
      "125\n",
      "126\n",
      "127\n",
      "128\n",
      "129\n",
      "130\n",
      "131\n",
      "132\n",
      "133\n",
      "134\n",
      "135\n",
      "136\n",
      "137\n",
      "138\n",
      "139\n",
      "140\n",
      "141\n",
      "142\n",
      "143\n",
      "144\n",
      "145\n",
      "146\n",
      "147\n",
      "148\n",
      "149\n",
      "150\n",
      "151\n",
      "152\n",
      "153\n",
      "154\n",
      "155\n",
      "156\n",
      "157\n",
      "158\n",
      "159\n",
      "160\n",
      "161\n",
      "162\n",
      "163\n",
      "164\n",
      "165\n",
      "166\n",
      "167\n",
      "168\n",
      "169\n",
      "170\n",
      "171\n",
      "172\n",
      "173\n",
      "174\n",
      "175\n",
      "176\n",
      "177\n",
      "178\n",
      "179\n",
      "180\n",
      "181\n",
      "182\n",
      "183\n",
      "184\n",
      "185\n",
      "186\n",
      "187\n",
      "188\n",
      "189\n",
      "190\n",
      "191\n",
      "192\n",
      "193\n",
      "194\n",
      "195\n"
     ]
    }
   ],
   "source": [
    "gradients_details_counterfactuals = []\n",
    "for index, row in counterfactuals.iterrows():\n",
    "    print(index)\n",
    "    text = row['annotated_context']\n",
    "    input_ids, attention_mask, token_type_ids = tokenisation(text, tokenizer, device)\n",
    "    attributions = gradient_sensitivity(model, input_ids, attention_mask)\n",
    "    attributions_list = attributions.detach().cpu().numpy().tolist()\n",
    "    tokens = tokenizer.convert_ids_to_tokens(input_ids[0])\n",
    "    word_attributions = list(zip(tokens, attributions_list))  # Ensure this pairs tokens with their attributions correctly\n",
    "\n",
    "    gradients_details_counterfactuals.append({\n",
    "        \"index\": index,\n",
    "        \"text\": text,\n",
    "        \"word_attributions\": word_attributions\n",
    "    })\n"
   ]
  },
  {
   "cell_type": "code",
   "execution_count": null,
   "metadata": {
    "id": "v3jNW1aouAv8"
   },
   "outputs": [],
   "source": [
    "gradients_counterfactual_df = pd.DataFrame(gradients_details_counterfactuals)\n",
    "print(gradients_counterfactual_df)"
   ]
  },
  {
   "cell_type": "code",
   "execution_count": null,
   "metadata": {
    "id": "3KIGscoLuAv8"
   },
   "outputs": [],
   "source": [
    "counterfactuals['index'] = counterfactuals.index\n",
    "gradients_counterfactual_df['index'] =  gradients_counterfactual_df.index\n",
    "counterfactuals = counterfactuals.reset_index(drop=True)"
   ]
  },
  {
   "cell_type": "code",
   "execution_count": null,
   "metadata": {
    "id": "6iwKwdmyuAv8"
   },
   "outputs": [],
   "source": [
    "gradients_counterfactual_df['label'] = df_counter['label']"
   ]
  },
  {
   "cell_type": "code",
   "execution_count": null,
   "metadata": {
    "id": "ExGHrJLeuAv9"
   },
   "outputs": [],
   "source": [
    "gradients_counterfactual_df.to_csv('results/gradients/gradients-cf-bert-base.csv', index=False)"
   ]
  },
  {
   "cell_type": "markdown",
   "metadata": {
    "id": "5Uyjj051L54L"
   },
   "source": [
    "## Visualise Instance"
   ]
  },
  {
   "cell_type": "code",
   "execution_count": null,
   "metadata": {
    "colab": {
     "base_uri": "https://localhost:8080/",
     "height": 272
    },
    "executionInfo": {
     "elapsed": 6,
     "status": "ok",
     "timestamp": 1714316207232,
     "user": {
      "displayName": "Sofia Terenziani",
      "userId": "07918956272317491448"
     },
     "user_tz": -120
    },
    "id": "CbEDkrd7L7mH",
    "outputId": "8369a100-85c2-462a-8439-ccaf5eb9ebd6"
   },
   "outputs": [
    {
     "data": {
      "text/html": [
       "<p><b>Attributions:</b><br><span style='background-color:rgb(255,228,228)'>[CLS]</span> <span style='background-color:rgb(255,225,225)'>israeli</span> <span style='background-color:rgb(255,204,204)'>prime</span> <span style='background-color:rgb(255,202,202)'>minister</span> <span style='background-color:rgb(255,218,218)'>benjamin</span> <span style='background-color:rgb(255,214,214)'>net</span> <span style='background-color:rgb(255,218,218)'>##any</span> <span style='background-color:rgb(255,218,218)'>##ahu</span> <span style='background-color:rgb(255,217,217)'>apologized</span> <span style='background-color:rgb(255,231,231)'>on</span> <span style='background-color:rgb(255,222,222)'>friday</span> <span style='background-color:rgb(255,234,234)'>to</span> <span style='background-color:rgb(255,225,225)'>turkish</span> <span style='background-color:rgb(255,221,221)'>prime</span> <span style='background-color:rgb(255,224,224)'>minister</span> <span style='background-color:rgb(255,221,221)'>rec</span> <span style='background-color:rgb(255,217,217)'>##ep</span> <span style='background-color:rgb(255,217,217)'>tay</span> <span style='background-color:rgb(255,213,213)'>##yi</span> <span style='background-color:rgb(255,219,219)'>##p</span> <span style='background-color:rgb(255,215,215)'>er</span> <span style='background-color:rgb(255,214,214)'>##dog</span> <span style='background-color:rgb(255,229,229)'>##an</span> <span style='background-color:rgb(255,213,213)'>for</span> <span style='background-color:rgb(255,214,214)'>a</span> <span style='background-color:rgb(255,219,219)'>raid</span> <span style='background-color:rgb(255,209,209)'>on</span> <span style='background-color:rgb(255,216,216)'>a</span> <span style='background-color:rgb(255,224,224)'>turkish</span> <span style='background-color:rgb(255,217,217)'>flotilla</span> <span style='background-color:rgb(255,218,218)'>ship</span> <span style='background-color:rgb(255,221,221)'>,</span> <span style='background-color:rgb(255,205,205)'>a</span> <span style='background-color:rgb(255,213,213)'>move</span> <span style='background-color:rgb(255,205,205)'>that</span> <span style='background-color:rgb(255,218,218)'>will</span> <span style='background-color:rgb(255,209,209)'>help</span> <span style='background-color:rgb(255,219,219)'>restore</span> <span style='background-color:rgb(255,212,212)'>strained</span> <span style='background-color:rgb(255,212,212)'>ties</span> <span style='background-color:rgb(255,211,211)'>between</span> <span style='background-color:rgb(255,208,208)'>the</span> <span style='background-color:rgb(255,235,235)'>countries</span> <span style='background-color:rgb(255,222,222)'>.</span> <span style='background-color:rgb(255,210,210)'>the</span> <span style='background-color:rgb(255,230,230)'>call</span> <span style='background-color:rgb(255,219,219)'>,</span> <span style='background-color:rgb(255,211,211)'>which</span> <span style='background-color:rgb(255,198,198)'>happened</span> <span style='background-color:rgb(255,185,185)'>as</span> <span style='background-color:rgb(255,261,261)'>president</span> <span style='background-color:rgb(255,249,249)'>barack</span> <span style='background-color:rgb(255,159,159)'>obama</span> <span style='background-color:rgb(255,217,217)'>[a1]</span> <span style='background-color:rgb(255,0,0)'>wrapped</span> <span style='background-color:rgb(255,217,217)'>[/a1]</span> <span style='background-color:rgb(255,209,209)'>up</span> <span style='background-color:rgb(255,185,185)'>his</span> <span style='background-color:rgb(255,183,183)'>first</span> <span style='background-color:rgb(255,208,208)'>presidential</span> <span style='background-color:rgb(255,218,218)'>visit</span> <span style='background-color:rgb(255,221,221)'>to</span> <span style='background-color:rgb(255,182,182)'>israel</span> <span style='background-color:rgb(255,190,190)'>,</span> <span style='background-color:rgb(255,221,221)'>was</span> <span style='background-color:rgb(255,216,216)'>an</span> <span style='background-color:rgb(255,220,220)'>unexpected</span> <span style='background-color:rgb(255,224,224)'>outcome</span> <span style='background-color:rgb(255,222,222)'>from</span> <span style='background-color:rgb(255,217,217)'>a</span> <span style='background-color:rgb(255,213,213)'>mid</span> <span style='background-color:rgb(255,217,217)'>##ea</span> <span style='background-color:rgb(255,215,215)'>##st</span> <span style='background-color:rgb(255,221,221)'>trip</span> <span style='background-color:rgb(255,222,222)'>that</span> <span style='background-color:rgb(255,222,222)'>seemed</span> <span style='background-color:rgb(255,217,217)'>to</span> <span style='background-color:rgb(255,206,206)'>yield</span> <span style='background-color:rgb(255,223,223)'>few</span> <span style='background-color:rgb(255,205,205)'>concrete</span> <span style='background-color:rgb(255,197,197)'>steps</span> <span style='background-color:rgb(255,216,216)'>.</span> <span style='background-color:rgb(255,222,222)'>mr</span> <span style='background-color:rgb(255,254,254)'>.</span> <span style='background-color:rgb(255,200,200)'>net</span> <span style='background-color:rgb(255,214,214)'>##any</span> <span style='background-color:rgb(255,208,208)'>##ahu</span> <span style='background-color:rgb(255,194,194)'>'</span> <span style='background-color:rgb(255,167,167)'>s</span> <span style='background-color:rgb(255,52,52)'>office</span> <span style='background-color:rgb(255,217,217)'>[a2]</span> <span style='background-color:rgb(255,158,158)'>confirmed</span> <span style='background-color:rgb(255,217,217)'>[/a2]</span> <span style='background-color:rgb(255,155,155)'>that</span> <span style='background-color:rgb(255,129,129)'>the</span> <span style='background-color:rgb(255,242,242)'>israeli</span> <span style='background-color:rgb(255,259,259)'>leader</span> <span style='background-color:rgb(255,275,275)'>,</span> <span style='background-color:rgb(255,184,184)'>in</span> <span style='background-color:rgb(255,219,219)'>a</span> <span style='background-color:rgb(255,214,214)'>conversation</span> <span style='background-color:rgb(255,198,198)'>with</span> <span style='background-color:rgb(255,175,175)'>mr</span> <span style='background-color:rgb(255,300,300)'>.</span> <span style='background-color:rgb(255,229,229)'>er</span> <span style='background-color:rgb(255,222,222)'>##dog</span> <span style='background-color:rgb(255,216,216)'>##an</span> <span style='background-color:rgb(255,185,185)'>,</span> <span style='background-color:rgb(255,194,194)'>\"</span> <span style='background-color:rgb(255,223,223)'>agreed</span> <span style='background-color:rgb(255,224,224)'>to</span> <span style='background-color:rgb(255,222,222)'>restore</span> <span style='background-color:rgb(255,220,220)'>normal</span> <span style='background-color:rgb(255,218,218)'>##ization</span> <span style='background-color:rgb(255,221,221)'>between</span> <span style='background-color:rgb(255,221,221)'>israel</span> <span style='background-color:rgb(255,216,216)'>and</span> <span style='background-color:rgb(255,217,217)'>turkey</span> <span style='background-color:rgb(255,215,215)'>,</span> <span style='background-color:rgb(255,213,213)'>including</span> <span style='background-color:rgb(255,215,215)'>the</span> <span style='background-color:rgb(255,219,219)'>dispatch</span> <span style='background-color:rgb(255,226,226)'>of</span> <span style='background-color:rgb(255,220,220)'>ambassadors</span> <span style='background-color:rgb(255,219,219)'>and</span> <span style='background-color:rgb(255,217,217)'>the</span> <span style='background-color:rgb(255,224,224)'>cancellation</span> <span style='background-color:rgb(255,226,226)'>of</span> <span style='background-color:rgb(255,217,217)'>legal</span> <span style='background-color:rgb(255,221,221)'>steps</span> <span style='background-color:rgb(255,218,218)'>against</span> <span style='background-color:rgb(255,218,218)'>[</span> <span style='background-color:rgb(255,219,219)'>israeli</span> <span style='background-color:rgb(255,217,217)'>defense</span> <span style='background-color:rgb(255,219,219)'>forces</span> <span style='background-color:rgb(255,219,219)'>]</span> <span style='background-color:rgb(255,219,219)'>soldiers</span> <span style='background-color:rgb(255,219,219)'>.</span> <span style='background-color:rgb(255,222,222)'>\"</span> <span style='background-color:rgb(255,219,219)'>mr</span> <span style='background-color:rgb(255,216,216)'>.</span> <span style='background-color:rgb(255,218,218)'>er</span> <span style='background-color:rgb(255,218,218)'>##dog</span> <span style='background-color:rgb(255,218,218)'>##an</span> <span style='background-color:rgb(255,219,219)'>accepted</span> <span style='background-color:rgb(255,218,218)'>the</span> <span style='background-color:rgb(255,218,218)'>israeli</span> <span style='background-color:rgb(255,221,221)'>apology</span> <span style='background-color:rgb(255,214,214)'>,</span> <span style='background-color:rgb(255,216,216)'>the</span> <span style='background-color:rgb(255,219,219)'>prime</span> <span style='background-color:rgb(255,219,219)'>minister</span> <span style='background-color:rgb(255,217,217)'>'</span> <span style='background-color:rgb(255,217,217)'>s</span> <span style='background-color:rgb(255,213,213)'>office</span> <span style='background-color:rgb(255,214,214)'>said</span> <span style='background-color:rgb(255,216,216)'>.</span> <span style='background-color:rgb(255,214,214)'>mr</span> <span style='background-color:rgb(255,214,214)'>.</span> <span style='background-color:rgb(255,218,218)'>er</span> <span style='background-color:rgb(255,217,217)'>##dog</span> <span style='background-color:rgb(255,217,217)'>##an</span> <span style='background-color:rgb(255,215,215)'>has</span> <span style='background-color:rgb(255,215,215)'>long</span> <span style='background-color:rgb(255,215,215)'>sought</span> <span style='background-color:rgb(255,216,216)'>an</span> <span style='background-color:rgb(255,217,217)'>apology</span> <span style='background-color:rgb(255,217,217)'>for</span> <span style='background-color:rgb(255,218,218)'>the</span> <span style='background-color:rgb(255,217,217)'>raid</span> <span style='background-color:rgb(255,214,214)'>in</span> <span style='background-color:rgb(255,214,214)'>may</span> <span style='background-color:rgb(255,212,212)'>2010</span> <span style='background-color:rgb(255,217,217)'>on</span> <span style='background-color:rgb(255,221,221)'>the</span> <span style='background-color:rgb(255,217,217)'>ma</span> <span style='background-color:rgb(255,218,218)'>##vi</span> <span style='background-color:rgb(255,219,219)'>mar</span> <span style='background-color:rgb(255,217,217)'>##mara</span> <span style='background-color:rgb(255,219,219)'>,</span> <span style='background-color:rgb(255,217,217)'>which</span> <span style='background-color:rgb(255,215,215)'>was</span> <span style='background-color:rgb(255,219,219)'>part</span> <span style='background-color:rgb(255,217,217)'>of</span> <span style='background-color:rgb(255,215,215)'>a</span> <span style='background-color:rgb(255,218,218)'>flotilla</span> <span style='background-color:rgb(255,214,214)'>that</span> <span style='background-color:rgb(255,215,215)'>sought</span> <span style='background-color:rgb(255,215,215)'>to</span> <span style='background-color:rgb(255,216,216)'>break</span> <span style='background-color:rgb(255,216,216)'>israel</span> <span style='background-color:rgb(255,217,217)'>'</span> <span style='background-color:rgb(255,221,221)'>s</span> <span style='background-color:rgb(255,217,217)'>blockade</span> <span style='background-color:rgb(255,220,220)'>of</span> <span style='background-color:rgb(255,215,215)'>gaza</span> <span style='background-color:rgb(255,215,215)'>.</span> <span style='background-color:rgb(255,216,216)'>an</span> <span style='background-color:rgb(255,216,216)'>israeli</span> <span style='background-color:rgb(255,219,219)'>raid</span> <span style='background-color:rgb(255,218,218)'>on</span> <span style='background-color:rgb(255,213,213)'>the</span> <span style='background-color:rgb(255,218,218)'>ship</span> <span style='background-color:rgb(255,224,224)'>left</span> <span style='background-color:rgb(255,212,212)'>nine</span> <span style='background-color:rgb(255,222,222)'>passengers</span> <span style='background-color:rgb(255,212,212)'>dead</span> <span style='background-color:rgb(255,219,219)'>,</span> <span style='background-color:rgb(255,214,214)'>all</span> <span style='background-color:rgb(255,215,215)'>of</span> <span style='background-color:rgb(255,219,219)'>them</span> <span style='background-color:rgb(255,213,213)'>turkish</span> <span style='background-color:rgb(255,218,218)'>or</span> <span style='background-color:rgb(255,218,218)'>of</span> <span style='background-color:rgb(255,217,217)'>turkish</span> <span style='background-color:rgb(255,218,218)'>descent</span> <span style='background-color:rgb(255,210,210)'>.</span> <span style='background-color:rgb(255,224,224)'>\"</span> <span style='background-color:rgb(255,218,218)'>in</span> <span style='background-color:rgb(255,214,214)'>light</span> <span style='background-color:rgb(255,217,217)'>of</span> <span style='background-color:rgb(255,215,215)'>the</span> <span style='background-color:rgb(255,215,215)'>israeli</span> <span style='background-color:rgb(255,213,213)'>investigation</span> <span style='background-color:rgb(255,219,219)'>into</span> <span style='background-color:rgb(255,216,216)'>the</span> <span style='background-color:rgb(255,221,221)'>incident</span> <span style='background-color:rgb(255,217,217)'>,</span> <span style='background-color:rgb(255,214,214)'>which</span> <span style='background-color:rgb(255,215,215)'>pointed</span> <span style='background-color:rgb(255,213,213)'>out</span> <span style='background-color:rgb(255,219,219)'>several</span> <span style='background-color:rgb(255,219,219)'>operational</span> <span style='background-color:rgb(255,221,221)'>errors</span> <span style='background-color:rgb(255,222,222)'>,</span> <span style='background-color:rgb(255,217,217)'>prime</span> <span style='background-color:rgb(255,215,215)'>minister</span> <span style='background-color:rgb(255,214,214)'>net</span> <span style='background-color:rgb(255,216,216)'>##any</span> <span style='background-color:rgb(255,209,209)'>##ahu</span> <span style='background-color:rgb(255,219,219)'>apologized</span> <span style='background-color:rgb(255,214,214)'>to</span> <span style='background-color:rgb(255,215,215)'>the</span> <span style='background-color:rgb(255,219,219)'>turkish</span> <span style='background-color:rgb(255,218,218)'>people</span> <span style='background-color:rgb(255,216,216)'>for</span> <span style='background-color:rgb(255,210,210)'>any</span> <span style='background-color:rgb(255,211,211)'>errors</span> <span style='background-color:rgb(255,215,215)'>that</span> <span style='background-color:rgb(255,218,218)'>could</span> <span style='background-color:rgb(255,217,217)'>have</span> <span style='background-color:rgb(255,216,216)'>led</span> <span style='background-color:rgb(255,216,216)'>to</span> <span style='background-color:rgb(255,214,214)'>loss</span> <span style='background-color:rgb(255,214,214)'>of</span> <span style='background-color:rgb(255,217,217)'>life</span> <span style='background-color:rgb(255,213,213)'>and</span> <span style='background-color:rgb(255,216,216)'>agreed</span> <span style='background-color:rgb(255,217,217)'>to</span> <span style='background-color:rgb(255,217,217)'>complete</span> <span style='background-color:rgb(255,220,220)'>the</span> <span style='background-color:rgb(255,219,219)'>agreement</span> <span style='background-color:rgb(255,217,217)'>on</span> <span style='background-color:rgb(255,220,220)'>compensation</span> <span style='background-color:rgb(255,213,213)'>,</span> <span style='background-color:rgb(255,211,211)'>\"</span> <span style='background-color:rgb(255,213,213)'>the</span> <span style='background-color:rgb(255,219,219)'>statement</span> <span style='background-color:rgb(255,210,210)'>said</span> <span style='background-color:rgb(255,215,215)'>.</span> <span style='background-color:rgb(255,218,218)'>mr</span> <span style='background-color:rgb(255,215,215)'>.</span> <span style='background-color:rgb(255,214,214)'>net</span> <span style='background-color:rgb(255,215,215)'>##any</span> <span style='background-color:rgb(255,214,214)'>##ahu</span> <span style='background-color:rgb(255,220,220)'>told</span> <span style='background-color:rgb(255,217,217)'>mr</span> <span style='background-color:rgb(255,221,221)'>.</span> <span style='background-color:rgb(255,218,218)'>er</span> <span style='background-color:rgb(255,217,217)'>##dog</span> <span style='background-color:rgb(255,217,217)'>##an</span> <span style='background-color:rgb(255,214,214)'>that</span> <span style='background-color:rgb(255,217,217)'>what</span> <span style='background-color:rgb(255,216,216)'>happened</span> <span style='background-color:rgb(255,222,222)'>on</span> <span style='background-color:rgb(255,219,219)'>board</span> <span style='background-color:rgb(255,217,217)'>the</span> <span style='background-color:rgb(255,218,218)'>ma</span> <span style='background-color:rgb(255,216,216)'>##vi</span> <span style='background-color:rgb(255,220,220)'>mar</span> <span style='background-color:rgb(255,213,213)'>##mara</span> <span style='background-color:rgb(255,218,218)'>was</span> <span style='background-color:rgb(255,222,222)'>\"</span> <span style='background-color:rgb(255,216,216)'>un</span> <span style='background-color:rgb(255,217,217)'>##int</span> <span style='background-color:rgb(255,217,217)'>##ent</span> <span style='background-color:rgb(255,218,218)'>##ional</span> <span style='background-color:rgb(255,210,210)'>and</span> <span style='background-color:rgb(255,219,219)'>israel</span> <span style='background-color:rgb(255,218,218)'>expresses</span> <span style='background-color:rgb(255,220,220)'>regret</span> <span style='background-color:rgb(255,218,218)'>over</span> <span style='background-color:rgb(255,217,217)'>injuries</span> <span style='background-color:rgb(255,221,221)'>and</span> <span style='background-color:rgb(255,218,218)'>loss</span> <span style='background-color:rgb(255,217,217)'>of</span> <span style='background-color:rgb(255,218,218)'>life</span> <span style='background-color:rgb(255,217,217)'>,</span> <span style='background-color:rgb(255,219,219)'>\"</span> <span style='background-color:rgb(255,217,217)'>according</span> <span style='background-color:rgb(255,220,220)'>to</span> <span style='background-color:rgb(255,218,218)'>the</span> <span style='background-color:rgb(255,219,219)'>statement</span> <span style='background-color:rgb(255,213,213)'>.</span> <span style='background-color:rgb(255,215,215)'>mr</span> <span style='background-color:rgb(255,219,219)'>.</span> <span style='background-color:rgb(255,216,216)'>obama</span> <span style='background-color:rgb(255,216,216)'>said</span> <span style='background-color:rgb(255,218,218)'>later</span> <span style='background-color:rgb(255,218,218)'>at</span> <span style='background-color:rgb(255,221,221)'>a</span> <span style='background-color:rgb(255,220,220)'>news</span> <span style='background-color:rgb(255,220,220)'>conference</span> <span style='background-color:rgb(255,219,219)'>in</span> <span style='background-color:rgb(255,218,218)'>amman</span> <span style='background-color:rgb(255,217,217)'>that</span> <span style='background-color:rgb(255,218,218)'>he</span> <span style='background-color:rgb(255,216,216)'>had</span> <span style='background-color:rgb(255,217,217)'>spoken</span> <span style='background-color:rgb(255,218,218)'>to</span> <span style='background-color:rgb(255,219,219)'>both</span> <span style='background-color:rgb(255,217,217)'>leaders</span> <span style='background-color:rgb(255,218,218)'>over</span> <span style='background-color:rgb(255,217,217)'>the</span> <span style='background-color:rgb(255,216,216)'>past</span> <span style='background-color:rgb(255,217,217)'>two</span> <span style='background-color:rgb(255,216,216)'>years</span> <span style='background-color:rgb(255,217,217)'>about</span> <span style='background-color:rgb(255,217,217)'>how</span> <span style='background-color:rgb(255,216,216)'>it</span> <span style='background-color:rgb(255,217,217)'>was</span> <span style='background-color:rgb(255,217,217)'>in</span> <span style='background-color:rgb(255,217,217)'>the</span> <span style='background-color:rgb(255,217,217)'>interests</span> <span style='background-color:rgb(255,218,218)'>of</span> <span style='background-color:rgb(255,217,217)'>both</span> <span style='background-color:rgb(255,216,216)'>countries</span> <span style='background-color:rgb(255,217,217)'>to</span> <span style='background-color:rgb(255,219,219)'>restore</span> <span style='background-color:rgb(255,218,218)'>normal</span> <span style='background-color:rgb(255,219,219)'>relations</span> <span style='background-color:rgb(255,219,219)'>.</span> <span style='background-color:rgb(255,217,217)'>he</span> <span style='background-color:rgb(255,217,217)'>said</span> <span style='background-color:rgb(255,217,217)'>he</span> <span style='background-color:rgb(255,220,220)'>discussed</span> <span style='background-color:rgb(255,217,217)'>the</span> <span style='background-color:rgb(255,217,217)'>issue</span> <span style='background-color:rgb(255,219,219)'>with</span> <span style='background-color:rgb(255,221,221)'>mr</span> <span style='background-color:rgb(255,215,215)'>.</span> <span style='background-color:rgb(255,217,217)'>net</span> <span style='background-color:rgb(255,215,215)'>##any</span> <span style='background-color:rgb(255,212,212)'>##ahu</span> <span style='background-color:rgb(255,217,217)'>during</span> <span style='background-color:rgb(255,217,217)'>his</span> <span style='background-color:rgb(255,217,217)'>visit</span> <span style='background-color:rgb(255,215,215)'>to</span> <span style='background-color:rgb(255,217,217)'>israel</span> <span style='background-color:rgb(255,212,212)'>this</span> <span style='background-color:rgb(255,216,216)'>week</span> <span style='background-color:rgb(255,215,215)'>,</span> <span style='background-color:rgb(255,218,218)'>and</span> <span style='background-color:rgb(255,219,219)'>that</span> <span style='background-color:rgb(255,219,219)'>they</span> <span style='background-color:rgb(255,217,217)'>agreed</span> <span style='background-color:rgb(255,218,218)'>the</span> <span style='background-color:rgb(255,217,217)'>timing</span> <span style='background-color:rgb(255,216,216)'>was</span> <span style='background-color:rgb(255,217,217)'>good</span> <span style='background-color:rgb(255,217,217)'>for</span> <span style='background-color:rgb(255,219,219)'>a</span> <span style='background-color:rgb(255,220,220)'>discussion</span> <span style='background-color:rgb(255,216,216)'>with</span> <span style='background-color:rgb(255,217,217)'>the</span> <span style='background-color:rgb(255,215,215)'>turkish</span> <span style='background-color:rgb(255,218,218)'>leader</span> <span style='background-color:rgb(255,217,217)'>.</span> <span style='background-color:rgb(255,219,219)'>the</span> <span style='background-color:rgb(255,218,218)'>incident</span> <span style='background-color:rgb(255,217,217)'>was</span> <span style='background-color:rgb(255,218,218)'>a</span> <span style='background-color:rgb(255,218,218)'>subject</span> <span style='background-color:rgb(255,218,218)'>of</span> <span style='background-color:rgb(255,218,218)'>talks</span> <span style='background-color:rgb(255,219,219)'>between</span> <span style='background-color:rgb(255,217,217)'>mr</span> <span style='background-color:rgb(255,215,215)'>.</span> <span style='background-color:rgb(255,218,218)'>net</span> <span style='background-color:rgb(255,216,216)'>##any</span> <span style='background-color:rgb(255,218,218)'>##ahu</span> <span style='background-color:rgb(255,222,222)'>and</span> <span style='background-color:rgb(255,218,218)'>president</span> <span style='background-color:rgb(255,215,215)'>barack</span> <span style='background-color:rgb(255,211,211)'>obama</span> <span style='background-color:rgb(255,218,218)'>during</span> <span style='background-color:rgb(255,217,217)'>the</span> <span style='background-color:rgb(255,216,216)'>president</span> <span style='background-color:rgb(255,215,215)'>'</span> <span style='background-color:rgb(255,216,216)'>s</span> <span style='background-color:rgb(255,216,216)'>trip</span> <span style='background-color:rgb(255,217,217)'>to</span> <span style='background-color:rgb(255,218,218)'>israel</span> <span style='background-color:rgb(255,218,218)'>this</span> <span style='background-color:rgb(255,216,216)'>week</span> <span style='background-color:rgb(255,212,212)'>,</span> <span style='background-color:rgb(255,210,210)'>officials</span> <span style='background-color:rgb(255,214,214)'>said</span> <span style='background-color:rgb(255,210,210)'>.</span> <span style='background-color:rgb(255,192,192)'>[SEP]</span> <span style='background-color:rgb(255,217,217)'>[PAD]</span> <span style='background-color:rgb(255,217,217)'>[PAD]</span> <span style='background-color:rgb(255,217,217)'>[PAD]</span> <span style='background-color:rgb(255,217,217)'>[PAD]</span> <span style='background-color:rgb(255,217,217)'>[PAD]</span> <span style='background-color:rgb(255,217,217)'>[PAD]</span> <span style='background-color:rgb(255,217,217)'>[PAD]</span> <span style='background-color:rgb(255,217,217)'>[PAD]</span> <span style='background-color:rgb(255,217,217)'>[PAD]</span> <span style='background-color:rgb(255,217,217)'>[PAD]</span> <span style='background-color:rgb(255,217,217)'>[PAD]</span> <span style='background-color:rgb(255,217,217)'>[PAD]</span> <span style='background-color:rgb(255,217,217)'>[PAD]</span> <span style='background-color:rgb(255,217,217)'>[PAD]</span> <span style='background-color:rgb(255,217,217)'>[PAD]</span> <span style='background-color:rgb(255,217,217)'>[PAD]</span> <span style='background-color:rgb(255,217,217)'>[PAD]</span> <span style='background-color:rgb(255,217,217)'>[PAD]</span> <span style='background-color:rgb(255,217,217)'>[PAD]</span> <span style='background-color:rgb(255,217,217)'>[PAD]</span> <span style='background-color:rgb(255,217,217)'>[PAD]</span> <span style='background-color:rgb(255,217,217)'>[PAD]</span> <span style='background-color:rgb(255,217,217)'>[PAD]</span> <span style='background-color:rgb(255,217,217)'>[PAD]</span> <span style='background-color:rgb(255,217,217)'>[PAD]</span> <span style='background-color:rgb(255,217,217)'>[PAD]</span> <span style='background-color:rgb(255,217,217)'>[PAD]</span> <span style='background-color:rgb(255,217,217)'>[PAD]</span> <span style='background-color:rgb(255,217,217)'>[PAD]</span> <span style='background-color:rgb(255,217,217)'>[PAD]</span> <span style='background-color:rgb(255,217,217)'>[PAD]</span> <span style='background-color:rgb(255,217,217)'>[PAD]</span> <span style='background-color:rgb(255,217,217)'>[PAD]</span> <span style='background-color:rgb(255,217,217)'>[PAD]</span> <span style='background-color:rgb(255,217,217)'>[PAD]</span> <span style='background-color:rgb(255,217,217)'>[PAD]</span> <span style='background-color:rgb(255,217,217)'>[PAD]</span> <span style='background-color:rgb(255,217,217)'>[PAD]</span> <span style='background-color:rgb(255,217,217)'>[PAD]</span> <span style='background-color:rgb(255,217,217)'>[PAD]</span> <span style='background-color:rgb(255,217,217)'>[PAD]</span> <span style='background-color:rgb(255,217,217)'>[PAD]</span> <span style='background-color:rgb(255,217,217)'>[PAD]</span> <span style='background-color:rgb(255,217,217)'>[PAD]</span> <span style='background-color:rgb(255,217,217)'>[PAD]</span> <span style='background-color:rgb(255,217,217)'>[PAD]</span> <span style='background-color:rgb(255,217,217)'>[PAD]</span> <span style='background-color:rgb(255,217,217)'>[PAD]</span> <span style='background-color:rgb(255,217,217)'>[PAD]</span> <span style='background-color:rgb(255,217,217)'>[PAD]</span> <span style='background-color:rgb(255,217,217)'>[PAD]</span> <span style='background-color:rgb(255,217,217)'>[PAD]</span> <span style='background-color:rgb(255,217,217)'>[PAD]</span> <span style='background-color:rgb(255,217,217)'>[PAD]</span> <span style='background-color:rgb(255,217,217)'>[PAD]</span> <span style='background-color:rgb(255,217,217)'>[PAD]</span> <span style='background-color:rgb(255,217,217)'>[PAD]</span> <span style='background-color:rgb(255,217,217)'>[PAD]</span> <span style='background-color:rgb(255,217,217)'>[PAD]</span> <span style='background-color:rgb(255,217,217)'>[PAD]</span> <span style='background-color:rgb(255,217,217)'>[PAD]</span> <span style='background-color:rgb(255,217,217)'>[PAD]</span> <span style='background-color:rgb(255,217,217)'>[PAD]</span> <span style='background-color:rgb(255,217,217)'>[PAD]</span> <span style='background-color:rgb(255,217,217)'>[PAD]</span> <span style='background-color:rgb(255,217,217)'>[PAD]</span> <span style='background-color:rgb(255,217,217)'>[PAD]</span> <span style='background-color:rgb(255,217,217)'>[PAD]</span> <span style='background-color:rgb(255,217,217)'>[PAD]</span> <span style='background-color:rgb(255,217,217)'>[PAD]</span> <span style='background-color:rgb(255,217,217)'>[PAD]</span> <span style='background-color:rgb(255,217,217)'>[PAD]</span> <span style='background-color:rgb(255,217,217)'>[PAD]</span> <span style='background-color:rgb(255,217,217)'>[PAD]</span> <span style='background-color:rgb(255,217,217)'>[PAD]</span> <span style='background-color:rgb(255,217,217)'>[PAD]</span> <span style='background-color:rgb(255,217,217)'>[PAD]</span> <span style='background-color:rgb(255,217,217)'>[PAD]</span> <span style='background-color:rgb(255,217,217)'>[PAD]</span> <span style='background-color:rgb(255,217,217)'>[PAD]</span> <span style='background-color:rgb(255,217,217)'>[PAD]</span> <span style='background-color:rgb(255,217,217)'>[PAD]</span> <span style='background-color:rgb(255,217,217)'>[PAD]</span> <span style='background-color:rgb(255,217,217)'>[PAD]</span> <span style='background-color:rgb(255,217,217)'>[PAD]</span> <span style='background-color:rgb(255,217,217)'>[PAD]</span> <span style='background-color:rgb(255,217,217)'>[PAD]</span> <span style='background-color:rgb(255,217,217)'>[PAD]</span> </p>"
      ],
      "text/plain": [
       "<IPython.core.display.HTML object>"
      ]
     },
     "metadata": {},
     "output_type": "display_data"
    }
   ],
   "source": [
    "from IPython.display import HTML, display\n",
    "import pandas as pd\n",
    "\n",
    "instance = gradients_df.loc[1, 'word_attributions']\n",
    "tokens, raw_attributions = zip(*instance)\n",
    "attributions = [ __builtins__.sum(attrs) for attrs in raw_attributions] #/len(attrs)\n",
    "\n",
    "def visualize_attributions(tokens, attributions):\n",
    "    attributions = [float(i) for i in attributions] \n",
    "    min_attribution = min(attributions)\n",
    "    max_attribution = max(attributions)\n",
    "    attributions = [(attr - min_attribution) / (max_attribution - min_attribution) for attr in attributions]\n",
    "\n",
    "    html_string = \"<p><b>Attributions:</b><br>\"\n",
    "    for token, attr in zip(tokens, attributions):\n",
    "        color = f\"{int(300 * (1 - attr))}\" \n",
    "        html_string += f\"<span style='background-color:rgb(255,{color},{color})'>{token}</span> \"\n",
    "\n",
    "    html_string += \"</p>\"\n",
    "    display(HTML(html_string))\n",
    "\n",
    "visualize_attributions(tokens, attributions)"
   ]
  }
 ],
 "metadata": {
  "accelerator": "GPU",
  "colab": {
   "authorship_tag": "ABX9TyOplXfKCl0TXLugUTuxtq6A",
   "gpuType": "T4",
   "machine_shape": "hm",
   "provenance": []
  },
  "kernelspec": {
   "display_name": "Python 3 (ipykernel)",
   "language": "python",
   "name": "python3"
  },
  "language_info": {
   "codemirror_mode": {
    "name": "ipython",
    "version": 3
   },
   "file_extension": ".py",
   "mimetype": "text/x-python",
   "name": "python",
   "nbconvert_exporter": "python",
   "pygments_lexer": "ipython3",
   "version": "3.11.5"
  },
  "widgets": {
   "application/vnd.jupyter.widget-state+json": {
    "06802104db944743acba34f29683a6ad": {
     "model_module": "@jupyter-widgets/controls",
     "model_module_version": "1.5.0",
     "model_name": "HBoxModel",
     "state": {
      "_dom_classes": [],
      "_model_module": "@jupyter-widgets/controls",
      "_model_module_version": "1.5.0",
      "_model_name": "HBoxModel",
      "_view_count": null,
      "_view_module": "@jupyter-widgets/controls",
      "_view_module_version": "1.5.0",
      "_view_name": "HBoxView",
      "box_style": "",
      "children": [
       "IPY_MODEL_e690f0a1004a43de910b969f300fbe3e",
       "IPY_MODEL_336c6193533e4723b1129bd382b6ac42",
       "IPY_MODEL_c9585e1e147e48c080acd16bb22ba5f8"
      ],
      "layout": "IPY_MODEL_e9c710c5607c478382eccb13f5e14f91"
     }
    },
    "06f8b1e44d714e0c8a4e4222b7dcf8a3": {
     "model_module": "@jupyter-widgets/controls",
     "model_module_version": "1.5.0",
     "model_name": "DescriptionStyleModel",
     "state": {
      "_model_module": "@jupyter-widgets/controls",
      "_model_module_version": "1.5.0",
      "_model_name": "DescriptionStyleModel",
      "_view_count": null,
      "_view_module": "@jupyter-widgets/base",
      "_view_module_version": "1.2.0",
      "_view_name": "StyleView",
      "description_width": ""
     }
    },
    "08035fd7b283445ebe059534aebedd72": {
     "model_module": "@jupyter-widgets/controls",
     "model_module_version": "1.5.0",
     "model_name": "HBoxModel",
     "state": {
      "_dom_classes": [],
      "_model_module": "@jupyter-widgets/controls",
      "_model_module_version": "1.5.0",
      "_model_name": "HBoxModel",
      "_view_count": null,
      "_view_module": "@jupyter-widgets/controls",
      "_view_module_version": "1.5.0",
      "_view_name": "HBoxView",
      "box_style": "",
      "children": [
       "IPY_MODEL_36514668b5064a768b15b10eee1fbadc",
       "IPY_MODEL_dbef01a9327741e7ae8339a903b1ba16",
       "IPY_MODEL_d4c8277dcccb4914827cf4a9884d9d49"
      ],
      "layout": "IPY_MODEL_37680d81a870499090851efcbd54fe30"
     }
    },
    "097709770f48452ba1418486bec0f0b8": {
     "model_module": "@jupyter-widgets/controls",
     "model_module_version": "1.5.0",
     "model_name": "DescriptionStyleModel",
     "state": {
      "_model_module": "@jupyter-widgets/controls",
      "_model_module_version": "1.5.0",
      "_model_name": "DescriptionStyleModel",
      "_view_count": null,
      "_view_module": "@jupyter-widgets/base",
      "_view_module_version": "1.2.0",
      "_view_name": "StyleView",
      "description_width": ""
     }
    },
    "0b1ee6054779429d9ad7512bee854337": {
     "model_module": "@jupyter-widgets/controls",
     "model_module_version": "1.5.0",
     "model_name": "HBoxModel",
     "state": {
      "_dom_classes": [],
      "_model_module": "@jupyter-widgets/controls",
      "_model_module_version": "1.5.0",
      "_model_name": "HBoxModel",
      "_view_count": null,
      "_view_module": "@jupyter-widgets/controls",
      "_view_module_version": "1.5.0",
      "_view_name": "HBoxView",
      "box_style": "",
      "children": [
       "IPY_MODEL_a1ec74b4f4804de2b43e517e7f7a332e",
       "IPY_MODEL_cac94e975e3f4d33b132784c35244f85",
       "IPY_MODEL_7940e26ae6e94d01b8bdaed062299631"
      ],
      "layout": "IPY_MODEL_0dd9f680c3a345459c863dd79ff6fe70"
     }
    },
    "0c88489a0836442bb989d9bda806f2d5": {
     "model_module": "@jupyter-widgets/base",
     "model_module_version": "1.2.0",
     "model_name": "LayoutModel",
     "state": {
      "_model_module": "@jupyter-widgets/base",
      "_model_module_version": "1.2.0",
      "_model_name": "LayoutModel",
      "_view_count": null,
      "_view_module": "@jupyter-widgets/base",
      "_view_module_version": "1.2.0",
      "_view_name": "LayoutView",
      "align_content": null,
      "align_items": null,
      "align_self": null,
      "border": null,
      "bottom": null,
      "display": null,
      "flex": null,
      "flex_flow": null,
      "grid_area": null,
      "grid_auto_columns": null,
      "grid_auto_flow": null,
      "grid_auto_rows": null,
      "grid_column": null,
      "grid_gap": null,
      "grid_row": null,
      "grid_template_areas": null,
      "grid_template_columns": null,
      "grid_template_rows": null,
      "height": null,
      "justify_content": null,
      "justify_items": null,
      "left": null,
      "margin": null,
      "max_height": null,
      "max_width": null,
      "min_height": null,
      "min_width": null,
      "object_fit": null,
      "object_position": null,
      "order": null,
      "overflow": null,
      "overflow_x": null,
      "overflow_y": null,
      "padding": null,
      "right": null,
      "top": null,
      "visibility": null,
      "width": null
     }
    },
    "0dd9f680c3a345459c863dd79ff6fe70": {
     "model_module": "@jupyter-widgets/base",
     "model_module_version": "1.2.0",
     "model_name": "LayoutModel",
     "state": {
      "_model_module": "@jupyter-widgets/base",
      "_model_module_version": "1.2.0",
      "_model_name": "LayoutModel",
      "_view_count": null,
      "_view_module": "@jupyter-widgets/base",
      "_view_module_version": "1.2.0",
      "_view_name": "LayoutView",
      "align_content": null,
      "align_items": null,
      "align_self": null,
      "border": null,
      "bottom": null,
      "display": null,
      "flex": null,
      "flex_flow": null,
      "grid_area": null,
      "grid_auto_columns": null,
      "grid_auto_flow": null,
      "grid_auto_rows": null,
      "grid_column": null,
      "grid_gap": null,
      "grid_row": null,
      "grid_template_areas": null,
      "grid_template_columns": null,
      "grid_template_rows": null,
      "height": null,
      "justify_content": null,
      "justify_items": null,
      "left": null,
      "margin": null,
      "max_height": null,
      "max_width": null,
      "min_height": null,
      "min_width": null,
      "object_fit": null,
      "object_position": null,
      "order": null,
      "overflow": null,
      "overflow_x": null,
      "overflow_y": null,
      "padding": null,
      "right": null,
      "top": null,
      "visibility": null,
      "width": null
     }
    },
    "10e057c028604dc9b0ebf6cb0d560751": {
     "model_module": "@jupyter-widgets/controls",
     "model_module_version": "1.5.0",
     "model_name": "ProgressStyleModel",
     "state": {
      "_model_module": "@jupyter-widgets/controls",
      "_model_module_version": "1.5.0",
      "_model_name": "ProgressStyleModel",
      "_view_count": null,
      "_view_module": "@jupyter-widgets/base",
      "_view_module_version": "1.2.0",
      "_view_name": "StyleView",
      "bar_color": null,
      "description_width": ""
     }
    },
    "19b6e92ae6ac4bec88c9d75d49bb5cc2": {
     "model_module": "@jupyter-widgets/controls",
     "model_module_version": "1.5.0",
     "model_name": "ProgressStyleModel",
     "state": {
      "_model_module": "@jupyter-widgets/controls",
      "_model_module_version": "1.5.0",
      "_model_name": "ProgressStyleModel",
      "_view_count": null,
      "_view_module": "@jupyter-widgets/base",
      "_view_module_version": "1.2.0",
      "_view_name": "StyleView",
      "bar_color": null,
      "description_width": ""
     }
    },
    "1fe6b75c6b52402bab46a4d0a40f3515": {
     "model_module": "@jupyter-widgets/controls",
     "model_module_version": "1.5.0",
     "model_name": "DescriptionStyleModel",
     "state": {
      "_model_module": "@jupyter-widgets/controls",
      "_model_module_version": "1.5.0",
      "_model_name": "DescriptionStyleModel",
      "_view_count": null,
      "_view_module": "@jupyter-widgets/base",
      "_view_module_version": "1.2.0",
      "_view_name": "StyleView",
      "description_width": ""
     }
    },
    "240586e1a3c2447c80c00d65a02dab5f": {
     "model_module": "@jupyter-widgets/controls",
     "model_module_version": "1.5.0",
     "model_name": "FloatProgressModel",
     "state": {
      "_dom_classes": [],
      "_model_module": "@jupyter-widgets/controls",
      "_model_module_version": "1.5.0",
      "_model_name": "FloatProgressModel",
      "_view_count": null,
      "_view_module": "@jupyter-widgets/controls",
      "_view_module_version": "1.5.0",
      "_view_name": "ProgressView",
      "bar_style": "success",
      "description": "",
      "description_tooltip": null,
      "layout": "IPY_MODEL_4c0d7edd2b2f4d108bc80999e6190ecf",
      "max": 196,
      "min": 0,
      "orientation": "horizontal",
      "style": "IPY_MODEL_421fdc4c88554d9d9c4207693344c7f5",
      "value": 196
     }
    },
    "2d3371bc9d944cad897afad21eac4809": {
     "model_module": "@jupyter-widgets/base",
     "model_module_version": "1.2.0",
     "model_name": "LayoutModel",
     "state": {
      "_model_module": "@jupyter-widgets/base",
      "_model_module_version": "1.2.0",
      "_model_name": "LayoutModel",
      "_view_count": null,
      "_view_module": "@jupyter-widgets/base",
      "_view_module_version": "1.2.0",
      "_view_name": "LayoutView",
      "align_content": null,
      "align_items": null,
      "align_self": null,
      "border": null,
      "bottom": null,
      "display": null,
      "flex": null,
      "flex_flow": null,
      "grid_area": null,
      "grid_auto_columns": null,
      "grid_auto_flow": null,
      "grid_auto_rows": null,
      "grid_column": null,
      "grid_gap": null,
      "grid_row": null,
      "grid_template_areas": null,
      "grid_template_columns": null,
      "grid_template_rows": null,
      "height": null,
      "justify_content": null,
      "justify_items": null,
      "left": null,
      "margin": null,
      "max_height": null,
      "max_width": null,
      "min_height": null,
      "min_width": null,
      "object_fit": null,
      "object_position": null,
      "order": null,
      "overflow": null,
      "overflow_x": null,
      "overflow_y": null,
      "padding": null,
      "right": null,
      "top": null,
      "visibility": null,
      "width": null
     }
    },
    "334964d6e8bc47d2a7fab7667e0cdbbb": {
     "model_module": "@jupyter-widgets/base",
     "model_module_version": "1.2.0",
     "model_name": "LayoutModel",
     "state": {
      "_model_module": "@jupyter-widgets/base",
      "_model_module_version": "1.2.0",
      "_model_name": "LayoutModel",
      "_view_count": null,
      "_view_module": "@jupyter-widgets/base",
      "_view_module_version": "1.2.0",
      "_view_name": "LayoutView",
      "align_content": null,
      "align_items": null,
      "align_self": null,
      "border": null,
      "bottom": null,
      "display": null,
      "flex": null,
      "flex_flow": null,
      "grid_area": null,
      "grid_auto_columns": null,
      "grid_auto_flow": null,
      "grid_auto_rows": null,
      "grid_column": null,
      "grid_gap": null,
      "grid_row": null,
      "grid_template_areas": null,
      "grid_template_columns": null,
      "grid_template_rows": null,
      "height": null,
      "justify_content": null,
      "justify_items": null,
      "left": null,
      "margin": null,
      "max_height": null,
      "max_width": null,
      "min_height": null,
      "min_width": null,
      "object_fit": null,
      "object_position": null,
      "order": null,
      "overflow": null,
      "overflow_x": null,
      "overflow_y": null,
      "padding": null,
      "right": null,
      "top": null,
      "visibility": null,
      "width": null
     }
    },
    "336c6193533e4723b1129bd382b6ac42": {
     "model_module": "@jupyter-widgets/controls",
     "model_module_version": "1.5.0",
     "model_name": "FloatProgressModel",
     "state": {
      "_dom_classes": [],
      "_model_module": "@jupyter-widgets/controls",
      "_model_module_version": "1.5.0",
      "_model_name": "FloatProgressModel",
      "_view_count": null,
      "_view_module": "@jupyter-widgets/controls",
      "_view_module_version": "1.5.0",
      "_view_name": "ProgressView",
      "bar_style": "success",
      "description": "",
      "description_tooltip": null,
      "layout": "IPY_MODEL_2d3371bc9d944cad897afad21eac4809",
      "max": 570,
      "min": 0,
      "orientation": "horizontal",
      "style": "IPY_MODEL_4a455270fd2c434c96729363d8dd3d29",
      "value": 570
     }
    },
    "3409217788b4493c8a7dd93883a8bdd2": {
     "model_module": "@jupyter-widgets/controls",
     "model_module_version": "1.5.0",
     "model_name": "DescriptionStyleModel",
     "state": {
      "_model_module": "@jupyter-widgets/controls",
      "_model_module_version": "1.5.0",
      "_model_name": "DescriptionStyleModel",
      "_view_count": null,
      "_view_module": "@jupyter-widgets/base",
      "_view_module_version": "1.2.0",
      "_view_name": "StyleView",
      "description_width": ""
     }
    },
    "36514668b5064a768b15b10eee1fbadc": {
     "model_module": "@jupyter-widgets/controls",
     "model_module_version": "1.5.0",
     "model_name": "HTMLModel",
     "state": {
      "_dom_classes": [],
      "_model_module": "@jupyter-widgets/controls",
      "_model_module_version": "1.5.0",
      "_model_name": "HTMLModel",
      "_view_count": null,
      "_view_module": "@jupyter-widgets/controls",
      "_view_module_version": "1.5.0",
      "_view_name": "HTMLView",
      "description": "",
      "description_tooltip": null,
      "layout": "IPY_MODEL_54850ba116a04a97bc996154a8c68bf8",
      "placeholder": "​",
      "style": "IPY_MODEL_558658772b7a47a9a8cd49c4d5bff70a",
      "value": "model.safetensors: 100%"
     }
    },
    "37680d81a870499090851efcbd54fe30": {
     "model_module": "@jupyter-widgets/base",
     "model_module_version": "1.2.0",
     "model_name": "LayoutModel",
     "state": {
      "_model_module": "@jupyter-widgets/base",
      "_model_module_version": "1.2.0",
      "_model_name": "LayoutModel",
      "_view_count": null,
      "_view_module": "@jupyter-widgets/base",
      "_view_module_version": "1.2.0",
      "_view_name": "LayoutView",
      "align_content": null,
      "align_items": null,
      "align_self": null,
      "border": null,
      "bottom": null,
      "display": null,
      "flex": null,
      "flex_flow": null,
      "grid_area": null,
      "grid_auto_columns": null,
      "grid_auto_flow": null,
      "grid_auto_rows": null,
      "grid_column": null,
      "grid_gap": null,
      "grid_row": null,
      "grid_template_areas": null,
      "grid_template_columns": null,
      "grid_template_rows": null,
      "height": null,
      "justify_content": null,
      "justify_items": null,
      "left": null,
      "margin": null,
      "max_height": null,
      "max_width": null,
      "min_height": null,
      "min_width": null,
      "object_fit": null,
      "object_position": null,
      "order": null,
      "overflow": null,
      "overflow_x": null,
      "overflow_y": null,
      "padding": null,
      "right": null,
      "top": null,
      "visibility": null,
      "width": null
     }
    },
    "383693ca645247279aa58f49cb569401": {
     "model_module": "@jupyter-widgets/controls",
     "model_module_version": "1.5.0",
     "model_name": "HTMLModel",
     "state": {
      "_dom_classes": [],
      "_model_module": "@jupyter-widgets/controls",
      "_model_module_version": "1.5.0",
      "_model_name": "HTMLModel",
      "_view_count": null,
      "_view_module": "@jupyter-widgets/controls",
      "_view_module_version": "1.5.0",
      "_view_name": "HTMLView",
      "description": "",
      "description_tooltip": null,
      "layout": "IPY_MODEL_ba77d9e698c24fd9b779e291b9f72d43",
      "placeholder": "​",
      "style": "IPY_MODEL_1fe6b75c6b52402bab46a4d0a40f3515",
      "value": " 204/204 [00:00&lt;00:00, 1978.25 examples/s]"
     }
    },
    "3ad16e92d7cf412799fdefe7e731a5fb": {
     "model_module": "@jupyter-widgets/base",
     "model_module_version": "1.2.0",
     "model_name": "LayoutModel",
     "state": {
      "_model_module": "@jupyter-widgets/base",
      "_model_module_version": "1.2.0",
      "_model_name": "LayoutModel",
      "_view_count": null,
      "_view_module": "@jupyter-widgets/base",
      "_view_module_version": "1.2.0",
      "_view_name": "LayoutView",
      "align_content": null,
      "align_items": null,
      "align_self": null,
      "border": null,
      "bottom": null,
      "display": null,
      "flex": null,
      "flex_flow": null,
      "grid_area": null,
      "grid_auto_columns": null,
      "grid_auto_flow": null,
      "grid_auto_rows": null,
      "grid_column": null,
      "grid_gap": null,
      "grid_row": null,
      "grid_template_areas": null,
      "grid_template_columns": null,
      "grid_template_rows": null,
      "height": null,
      "justify_content": null,
      "justify_items": null,
      "left": null,
      "margin": null,
      "max_height": null,
      "max_width": null,
      "min_height": null,
      "min_width": null,
      "object_fit": null,
      "object_position": null,
      "order": null,
      "overflow": null,
      "overflow_x": null,
      "overflow_y": null,
      "padding": null,
      "right": null,
      "top": null,
      "visibility": null,
      "width": null
     }
    },
    "3b4a7190456e49689acb77ffd8133bf1": {
     "model_module": "@jupyter-widgets/controls",
     "model_module_version": "1.5.0",
     "model_name": "DescriptionStyleModel",
     "state": {
      "_model_module": "@jupyter-widgets/controls",
      "_model_module_version": "1.5.0",
      "_model_name": "DescriptionStyleModel",
      "_view_count": null,
      "_view_module": "@jupyter-widgets/base",
      "_view_module_version": "1.2.0",
      "_view_name": "StyleView",
      "description_width": ""
     }
    },
    "3c1a8b3785b547f7b2438201c2ec139e": {
     "model_module": "@jupyter-widgets/controls",
     "model_module_version": "1.5.0",
     "model_name": "ProgressStyleModel",
     "state": {
      "_model_module": "@jupyter-widgets/controls",
      "_model_module_version": "1.5.0",
      "_model_name": "ProgressStyleModel",
      "_view_count": null,
      "_view_module": "@jupyter-widgets/base",
      "_view_module_version": "1.2.0",
      "_view_name": "StyleView",
      "bar_color": null,
      "description_width": ""
     }
    },
    "3eaa8d352bdc4f0f80e7b2073eaae7c0": {
     "model_module": "@jupyter-widgets/controls",
     "model_module_version": "1.5.0",
     "model_name": "HTMLModel",
     "state": {
      "_dom_classes": [],
      "_model_module": "@jupyter-widgets/controls",
      "_model_module_version": "1.5.0",
      "_model_name": "HTMLModel",
      "_view_count": null,
      "_view_module": "@jupyter-widgets/controls",
      "_view_module_version": "1.5.0",
      "_view_name": "HTMLView",
      "description": "",
      "description_tooltip": null,
      "layout": "IPY_MODEL_c897e4888cce4ef294e1ae8ab7023069",
      "placeholder": "​",
      "style": "IPY_MODEL_4fd2e0d9f6b04b03b08f0af6557c4721",
      "value": "Map: 100%"
     }
    },
    "421fdc4c88554d9d9c4207693344c7f5": {
     "model_module": "@jupyter-widgets/controls",
     "model_module_version": "1.5.0",
     "model_name": "ProgressStyleModel",
     "state": {
      "_model_module": "@jupyter-widgets/controls",
      "_model_module_version": "1.5.0",
      "_model_name": "ProgressStyleModel",
      "_view_count": null,
      "_view_module": "@jupyter-widgets/base",
      "_view_module_version": "1.2.0",
      "_view_name": "StyleView",
      "bar_color": null,
      "description_width": ""
     }
    },
    "441ffec8ed91408cbc17b78eec3176aa": {
     "model_module": "@jupyter-widgets/controls",
     "model_module_version": "1.5.0",
     "model_name": "HTMLModel",
     "state": {
      "_dom_classes": [],
      "_model_module": "@jupyter-widgets/controls",
      "_model_module_version": "1.5.0",
      "_model_name": "HTMLModel",
      "_view_count": null,
      "_view_module": "@jupyter-widgets/controls",
      "_view_module_version": "1.5.0",
      "_view_name": "HTMLView",
      "description": "",
      "description_tooltip": null,
      "layout": "IPY_MODEL_b6148ed0dcab413c8aa583a931f72b94",
      "placeholder": "​",
      "style": "IPY_MODEL_efea4ef139b74ae4b67af0d7997a94f9",
      "value": "Filter: 100%"
     }
    },
    "4a455270fd2c434c96729363d8dd3d29": {
     "model_module": "@jupyter-widgets/controls",
     "model_module_version": "1.5.0",
     "model_name": "ProgressStyleModel",
     "state": {
      "_model_module": "@jupyter-widgets/controls",
      "_model_module_version": "1.5.0",
      "_model_name": "ProgressStyleModel",
      "_view_count": null,
      "_view_module": "@jupyter-widgets/base",
      "_view_module_version": "1.2.0",
      "_view_name": "StyleView",
      "bar_color": null,
      "description_width": ""
     }
    },
    "4c0d7edd2b2f4d108bc80999e6190ecf": {
     "model_module": "@jupyter-widgets/base",
     "model_module_version": "1.2.0",
     "model_name": "LayoutModel",
     "state": {
      "_model_module": "@jupyter-widgets/base",
      "_model_module_version": "1.2.0",
      "_model_name": "LayoutModel",
      "_view_count": null,
      "_view_module": "@jupyter-widgets/base",
      "_view_module_version": "1.2.0",
      "_view_name": "LayoutView",
      "align_content": null,
      "align_items": null,
      "align_self": null,
      "border": null,
      "bottom": null,
      "display": null,
      "flex": null,
      "flex_flow": null,
      "grid_area": null,
      "grid_auto_columns": null,
      "grid_auto_flow": null,
      "grid_auto_rows": null,
      "grid_column": null,
      "grid_gap": null,
      "grid_row": null,
      "grid_template_areas": null,
      "grid_template_columns": null,
      "grid_template_rows": null,
      "height": null,
      "justify_content": null,
      "justify_items": null,
      "left": null,
      "margin": null,
      "max_height": null,
      "max_width": null,
      "min_height": null,
      "min_width": null,
      "object_fit": null,
      "object_position": null,
      "order": null,
      "overflow": null,
      "overflow_x": null,
      "overflow_y": null,
      "padding": null,
      "right": null,
      "top": null,
      "visibility": null,
      "width": null
     }
    },
    "4eedb5b3c66a4203a1633659f13c0735": {
     "model_module": "@jupyter-widgets/controls",
     "model_module_version": "1.5.0",
     "model_name": "HBoxModel",
     "state": {
      "_dom_classes": [],
      "_model_module": "@jupyter-widgets/controls",
      "_model_module_version": "1.5.0",
      "_model_name": "HBoxModel",
      "_view_count": null,
      "_view_module": "@jupyter-widgets/controls",
      "_view_module_version": "1.5.0",
      "_view_name": "HBoxView",
      "box_style": "",
      "children": [
       "IPY_MODEL_3eaa8d352bdc4f0f80e7b2073eaae7c0",
       "IPY_MODEL_734c3dc94951409699838ca3c8dcf62a",
       "IPY_MODEL_666bc7c948c54b57a8cdff9b5367b172"
      ],
      "layout": "IPY_MODEL_97d40e7ad7e3457e95f1be7e814b082e"
     }
    },
    "4fd2e0d9f6b04b03b08f0af6557c4721": {
     "model_module": "@jupyter-widgets/controls",
     "model_module_version": "1.5.0",
     "model_name": "DescriptionStyleModel",
     "state": {
      "_model_module": "@jupyter-widgets/controls",
      "_model_module_version": "1.5.0",
      "_model_name": "DescriptionStyleModel",
      "_view_count": null,
      "_view_module": "@jupyter-widgets/base",
      "_view_module_version": "1.2.0",
      "_view_name": "StyleView",
      "description_width": ""
     }
    },
    "54850ba116a04a97bc996154a8c68bf8": {
     "model_module": "@jupyter-widgets/base",
     "model_module_version": "1.2.0",
     "model_name": "LayoutModel",
     "state": {
      "_model_module": "@jupyter-widgets/base",
      "_model_module_version": "1.2.0",
      "_model_name": "LayoutModel",
      "_view_count": null,
      "_view_module": "@jupyter-widgets/base",
      "_view_module_version": "1.2.0",
      "_view_name": "LayoutView",
      "align_content": null,
      "align_items": null,
      "align_self": null,
      "border": null,
      "bottom": null,
      "display": null,
      "flex": null,
      "flex_flow": null,
      "grid_area": null,
      "grid_auto_columns": null,
      "grid_auto_flow": null,
      "grid_auto_rows": null,
      "grid_column": null,
      "grid_gap": null,
      "grid_row": null,
      "grid_template_areas": null,
      "grid_template_columns": null,
      "grid_template_rows": null,
      "height": null,
      "justify_content": null,
      "justify_items": null,
      "left": null,
      "margin": null,
      "max_height": null,
      "max_width": null,
      "min_height": null,
      "min_width": null,
      "object_fit": null,
      "object_position": null,
      "order": null,
      "overflow": null,
      "overflow_x": null,
      "overflow_y": null,
      "padding": null,
      "right": null,
      "top": null,
      "visibility": null,
      "width": null
     }
    },
    "555d51a35c264a4581c15affe885876b": {
     "model_module": "@jupyter-widgets/controls",
     "model_module_version": "1.5.0",
     "model_name": "ProgressStyleModel",
     "state": {
      "_model_module": "@jupyter-widgets/controls",
      "_model_module_version": "1.5.0",
      "_model_name": "ProgressStyleModel",
      "_view_count": null,
      "_view_module": "@jupyter-widgets/base",
      "_view_module_version": "1.2.0",
      "_view_name": "StyleView",
      "bar_color": null,
      "description_width": ""
     }
    },
    "558658772b7a47a9a8cd49c4d5bff70a": {
     "model_module": "@jupyter-widgets/controls",
     "model_module_version": "1.5.0",
     "model_name": "DescriptionStyleModel",
     "state": {
      "_model_module": "@jupyter-widgets/controls",
      "_model_module_version": "1.5.0",
      "_model_name": "DescriptionStyleModel",
      "_view_count": null,
      "_view_module": "@jupyter-widgets/base",
      "_view_module_version": "1.2.0",
      "_view_name": "StyleView",
      "description_width": ""
     }
    },
    "666bc7c948c54b57a8cdff9b5367b172": {
     "model_module": "@jupyter-widgets/controls",
     "model_module_version": "1.5.0",
     "model_name": "HTMLModel",
     "state": {
      "_dom_classes": [],
      "_model_module": "@jupyter-widgets/controls",
      "_model_module_version": "1.5.0",
      "_model_name": "HTMLModel",
      "_view_count": null,
      "_view_module": "@jupyter-widgets/controls",
      "_view_module_version": "1.5.0",
      "_view_name": "HTMLView",
      "description": "",
      "description_tooltip": null,
      "layout": "IPY_MODEL_ad24b2a0afa14168b1f8d5f2eadd52e5",
      "placeholder": "​",
      "style": "IPY_MODEL_3b4a7190456e49689acb77ffd8133bf1",
      "value": " 196/196 [00:00&lt;00:00, 1925.08 examples/s]"
     }
    },
    "6fc15047acf34fa3a5a435b461ed0149": {
     "model_module": "@jupyter-widgets/controls",
     "model_module_version": "1.5.0",
     "model_name": "HBoxModel",
     "state": {
      "_dom_classes": [],
      "_model_module": "@jupyter-widgets/controls",
      "_model_module_version": "1.5.0",
      "_model_name": "HBoxModel",
      "_view_count": null,
      "_view_module": "@jupyter-widgets/controls",
      "_view_module_version": "1.5.0",
      "_view_name": "HBoxView",
      "box_style": "",
      "children": [
       "IPY_MODEL_ecc0d0b6f1204d43b805c53e78163a47",
       "IPY_MODEL_8acd9298f261453a93d041f21516bdc8",
       "IPY_MODEL_383693ca645247279aa58f49cb569401"
      ],
      "layout": "IPY_MODEL_e5b37b7c3afa412cbed97740a7abc0ba"
     }
    },
    "6fdfd3b243454a49b0b60d79a000281e": {
     "model_module": "@jupyter-widgets/base",
     "model_module_version": "1.2.0",
     "model_name": "LayoutModel",
     "state": {
      "_model_module": "@jupyter-widgets/base",
      "_model_module_version": "1.2.0",
      "_model_name": "LayoutModel",
      "_view_count": null,
      "_view_module": "@jupyter-widgets/base",
      "_view_module_version": "1.2.0",
      "_view_name": "LayoutView",
      "align_content": null,
      "align_items": null,
      "align_self": null,
      "border": null,
      "bottom": null,
      "display": null,
      "flex": null,
      "flex_flow": null,
      "grid_area": null,
      "grid_auto_columns": null,
      "grid_auto_flow": null,
      "grid_auto_rows": null,
      "grid_column": null,
      "grid_gap": null,
      "grid_row": null,
      "grid_template_areas": null,
      "grid_template_columns": null,
      "grid_template_rows": null,
      "height": null,
      "justify_content": null,
      "justify_items": null,
      "left": null,
      "margin": null,
      "max_height": null,
      "max_width": null,
      "min_height": null,
      "min_width": null,
      "object_fit": null,
      "object_position": null,
      "order": null,
      "overflow": null,
      "overflow_x": null,
      "overflow_y": null,
      "padding": null,
      "right": null,
      "top": null,
      "visibility": null,
      "width": null
     }
    },
    "71aac63a8c5e4c2ba9242f5cd12e0dc2": {
     "model_module": "@jupyter-widgets/controls",
     "model_module_version": "1.5.0",
     "model_name": "DescriptionStyleModel",
     "state": {
      "_model_module": "@jupyter-widgets/controls",
      "_model_module_version": "1.5.0",
      "_model_name": "DescriptionStyleModel",
      "_view_count": null,
      "_view_module": "@jupyter-widgets/base",
      "_view_module_version": "1.2.0",
      "_view_name": "StyleView",
      "description_width": ""
     }
    },
    "734c3dc94951409699838ca3c8dcf62a": {
     "model_module": "@jupyter-widgets/controls",
     "model_module_version": "1.5.0",
     "model_name": "FloatProgressModel",
     "state": {
      "_dom_classes": [],
      "_model_module": "@jupyter-widgets/controls",
      "_model_module_version": "1.5.0",
      "_model_name": "FloatProgressModel",
      "_view_count": null,
      "_view_module": "@jupyter-widgets/controls",
      "_view_module_version": "1.5.0",
      "_view_name": "ProgressView",
      "bar_style": "success",
      "description": "",
      "description_tooltip": null,
      "layout": "IPY_MODEL_ad650e734f0a42278f734a54f3f2bd63",
      "max": 196,
      "min": 0,
      "orientation": "horizontal",
      "style": "IPY_MODEL_3c1a8b3785b547f7b2438201c2ec139e",
      "value": 196
     }
    },
    "7940e26ae6e94d01b8bdaed062299631": {
     "model_module": "@jupyter-widgets/controls",
     "model_module_version": "1.5.0",
     "model_name": "HTMLModel",
     "state": {
      "_dom_classes": [],
      "_model_module": "@jupyter-widgets/controls",
      "_model_module_version": "1.5.0",
      "_model_name": "HTMLModel",
      "_view_count": null,
      "_view_module": "@jupyter-widgets/controls",
      "_view_module_version": "1.5.0",
      "_view_name": "HTMLView",
      "description": "",
      "description_tooltip": null,
      "layout": "IPY_MODEL_334964d6e8bc47d2a7fab7667e0cdbbb",
      "placeholder": "​",
      "style": "IPY_MODEL_097709770f48452ba1418486bec0f0b8",
      "value": " 204/204 [00:00&lt;00:00, 1960.73 examples/s]"
     }
    },
    "8acd9298f261453a93d041f21516bdc8": {
     "model_module": "@jupyter-widgets/controls",
     "model_module_version": "1.5.0",
     "model_name": "FloatProgressModel",
     "state": {
      "_dom_classes": [],
      "_model_module": "@jupyter-widgets/controls",
      "_model_module_version": "1.5.0",
      "_model_name": "FloatProgressModel",
      "_view_count": null,
      "_view_module": "@jupyter-widgets/controls",
      "_view_module_version": "1.5.0",
      "_view_name": "ProgressView",
      "bar_style": "success",
      "description": "",
      "description_tooltip": null,
      "layout": "IPY_MODEL_0c88489a0836442bb989d9bda806f2d5",
      "max": 204,
      "min": 0,
      "orientation": "horizontal",
      "style": "IPY_MODEL_555d51a35c264a4581c15affe885876b",
      "value": 204
     }
    },
    "8baf020e794e40c2a907b1c0ffea586c": {
     "model_module": "@jupyter-widgets/base",
     "model_module_version": "1.2.0",
     "model_name": "LayoutModel",
     "state": {
      "_model_module": "@jupyter-widgets/base",
      "_model_module_version": "1.2.0",
      "_model_name": "LayoutModel",
      "_view_count": null,
      "_view_module": "@jupyter-widgets/base",
      "_view_module_version": "1.2.0",
      "_view_name": "LayoutView",
      "align_content": null,
      "align_items": null,
      "align_self": null,
      "border": null,
      "bottom": null,
      "display": null,
      "flex": null,
      "flex_flow": null,
      "grid_area": null,
      "grid_auto_columns": null,
      "grid_auto_flow": null,
      "grid_auto_rows": null,
      "grid_column": null,
      "grid_gap": null,
      "grid_row": null,
      "grid_template_areas": null,
      "grid_template_columns": null,
      "grid_template_rows": null,
      "height": null,
      "justify_content": null,
      "justify_items": null,
      "left": null,
      "margin": null,
      "max_height": null,
      "max_width": null,
      "min_height": null,
      "min_width": null,
      "object_fit": null,
      "object_position": null,
      "order": null,
      "overflow": null,
      "overflow_x": null,
      "overflow_y": null,
      "padding": null,
      "right": null,
      "top": null,
      "visibility": null,
      "width": null
     }
    },
    "97d40e7ad7e3457e95f1be7e814b082e": {
     "model_module": "@jupyter-widgets/base",
     "model_module_version": "1.2.0",
     "model_name": "LayoutModel",
     "state": {
      "_model_module": "@jupyter-widgets/base",
      "_model_module_version": "1.2.0",
      "_model_name": "LayoutModel",
      "_view_count": null,
      "_view_module": "@jupyter-widgets/base",
      "_view_module_version": "1.2.0",
      "_view_name": "LayoutView",
      "align_content": null,
      "align_items": null,
      "align_self": null,
      "border": null,
      "bottom": null,
      "display": null,
      "flex": null,
      "flex_flow": null,
      "grid_area": null,
      "grid_auto_columns": null,
      "grid_auto_flow": null,
      "grid_auto_rows": null,
      "grid_column": null,
      "grid_gap": null,
      "grid_row": null,
      "grid_template_areas": null,
      "grid_template_columns": null,
      "grid_template_rows": null,
      "height": null,
      "justify_content": null,
      "justify_items": null,
      "left": null,
      "margin": null,
      "max_height": null,
      "max_width": null,
      "min_height": null,
      "min_width": null,
      "object_fit": null,
      "object_position": null,
      "order": null,
      "overflow": null,
      "overflow_x": null,
      "overflow_y": null,
      "padding": null,
      "right": null,
      "top": null,
      "visibility": null,
      "width": null
     }
    },
    "a0516644c3cf4e3e9b073be67e2b5fc2": {
     "model_module": "@jupyter-widgets/controls",
     "model_module_version": "1.5.0",
     "model_name": "HBoxModel",
     "state": {
      "_dom_classes": [],
      "_model_module": "@jupyter-widgets/controls",
      "_model_module_version": "1.5.0",
      "_model_name": "HBoxModel",
      "_view_count": null,
      "_view_module": "@jupyter-widgets/controls",
      "_view_module_version": "1.5.0",
      "_view_name": "HBoxView",
      "box_style": "",
      "children": [
       "IPY_MODEL_441ffec8ed91408cbc17b78eec3176aa",
       "IPY_MODEL_240586e1a3c2447c80c00d65a02dab5f",
       "IPY_MODEL_ab8beab017fd46e1a5b4aa6c01233903"
      ],
      "layout": "IPY_MODEL_d006e4915b9c48fc94cfbfff14343ad1"
     }
    },
    "a1ec74b4f4804de2b43e517e7f7a332e": {
     "model_module": "@jupyter-widgets/controls",
     "model_module_version": "1.5.0",
     "model_name": "HTMLModel",
     "state": {
      "_dom_classes": [],
      "_model_module": "@jupyter-widgets/controls",
      "_model_module_version": "1.5.0",
      "_model_name": "HTMLModel",
      "_view_count": null,
      "_view_module": "@jupyter-widgets/controls",
      "_view_module_version": "1.5.0",
      "_view_name": "HTMLView",
      "description": "",
      "description_tooltip": null,
      "layout": "IPY_MODEL_3ad16e92d7cf412799fdefe7e731a5fb",
      "placeholder": "​",
      "style": "IPY_MODEL_b7e97f6a99734ec295a7a5ec05f4f335",
      "value": "Map: 100%"
     }
    },
    "ab8beab017fd46e1a5b4aa6c01233903": {
     "model_module": "@jupyter-widgets/controls",
     "model_module_version": "1.5.0",
     "model_name": "HTMLModel",
     "state": {
      "_dom_classes": [],
      "_model_module": "@jupyter-widgets/controls",
      "_model_module_version": "1.5.0",
      "_model_name": "HTMLModel",
      "_view_count": null,
      "_view_module": "@jupyter-widgets/controls",
      "_view_module_version": "1.5.0",
      "_view_name": "HTMLView",
      "description": "",
      "description_tooltip": null,
      "layout": "IPY_MODEL_6fdfd3b243454a49b0b60d79a000281e",
      "placeholder": "​",
      "style": "IPY_MODEL_71aac63a8c5e4c2ba9242f5cd12e0dc2",
      "value": " 196/196 [00:00&lt;00:00, 1961.13 examples/s]"
     }
    },
    "ad24b2a0afa14168b1f8d5f2eadd52e5": {
     "model_module": "@jupyter-widgets/base",
     "model_module_version": "1.2.0",
     "model_name": "LayoutModel",
     "state": {
      "_model_module": "@jupyter-widgets/base",
      "_model_module_version": "1.2.0",
      "_model_name": "LayoutModel",
      "_view_count": null,
      "_view_module": "@jupyter-widgets/base",
      "_view_module_version": "1.2.0",
      "_view_name": "LayoutView",
      "align_content": null,
      "align_items": null,
      "align_self": null,
      "border": null,
      "bottom": null,
      "display": null,
      "flex": null,
      "flex_flow": null,
      "grid_area": null,
      "grid_auto_columns": null,
      "grid_auto_flow": null,
      "grid_auto_rows": null,
      "grid_column": null,
      "grid_gap": null,
      "grid_row": null,
      "grid_template_areas": null,
      "grid_template_columns": null,
      "grid_template_rows": null,
      "height": null,
      "justify_content": null,
      "justify_items": null,
      "left": null,
      "margin": null,
      "max_height": null,
      "max_width": null,
      "min_height": null,
      "min_width": null,
      "object_fit": null,
      "object_position": null,
      "order": null,
      "overflow": null,
      "overflow_x": null,
      "overflow_y": null,
      "padding": null,
      "right": null,
      "top": null,
      "visibility": null,
      "width": null
     }
    },
    "ad650e734f0a42278f734a54f3f2bd63": {
     "model_module": "@jupyter-widgets/base",
     "model_module_version": "1.2.0",
     "model_name": "LayoutModel",
     "state": {
      "_model_module": "@jupyter-widgets/base",
      "_model_module_version": "1.2.0",
      "_model_name": "LayoutModel",
      "_view_count": null,
      "_view_module": "@jupyter-widgets/base",
      "_view_module_version": "1.2.0",
      "_view_name": "LayoutView",
      "align_content": null,
      "align_items": null,
      "align_self": null,
      "border": null,
      "bottom": null,
      "display": null,
      "flex": null,
      "flex_flow": null,
      "grid_area": null,
      "grid_auto_columns": null,
      "grid_auto_flow": null,
      "grid_auto_rows": null,
      "grid_column": null,
      "grid_gap": null,
      "grid_row": null,
      "grid_template_areas": null,
      "grid_template_columns": null,
      "grid_template_rows": null,
      "height": null,
      "justify_content": null,
      "justify_items": null,
      "left": null,
      "margin": null,
      "max_height": null,
      "max_width": null,
      "min_height": null,
      "min_width": null,
      "object_fit": null,
      "object_position": null,
      "order": null,
      "overflow": null,
      "overflow_x": null,
      "overflow_y": null,
      "padding": null,
      "right": null,
      "top": null,
      "visibility": null,
      "width": null
     }
    },
    "b6148ed0dcab413c8aa583a931f72b94": {
     "model_module": "@jupyter-widgets/base",
     "model_module_version": "1.2.0",
     "model_name": "LayoutModel",
     "state": {
      "_model_module": "@jupyter-widgets/base",
      "_model_module_version": "1.2.0",
      "_model_name": "LayoutModel",
      "_view_count": null,
      "_view_module": "@jupyter-widgets/base",
      "_view_module_version": "1.2.0",
      "_view_name": "LayoutView",
      "align_content": null,
      "align_items": null,
      "align_self": null,
      "border": null,
      "bottom": null,
      "display": null,
      "flex": null,
      "flex_flow": null,
      "grid_area": null,
      "grid_auto_columns": null,
      "grid_auto_flow": null,
      "grid_auto_rows": null,
      "grid_column": null,
      "grid_gap": null,
      "grid_row": null,
      "grid_template_areas": null,
      "grid_template_columns": null,
      "grid_template_rows": null,
      "height": null,
      "justify_content": null,
      "justify_items": null,
      "left": null,
      "margin": null,
      "max_height": null,
      "max_width": null,
      "min_height": null,
      "min_width": null,
      "object_fit": null,
      "object_position": null,
      "order": null,
      "overflow": null,
      "overflow_x": null,
      "overflow_y": null,
      "padding": null,
      "right": null,
      "top": null,
      "visibility": null,
      "width": null
     }
    },
    "b7e97f6a99734ec295a7a5ec05f4f335": {
     "model_module": "@jupyter-widgets/controls",
     "model_module_version": "1.5.0",
     "model_name": "DescriptionStyleModel",
     "state": {
      "_model_module": "@jupyter-widgets/controls",
      "_model_module_version": "1.5.0",
      "_model_name": "DescriptionStyleModel",
      "_view_count": null,
      "_view_module": "@jupyter-widgets/base",
      "_view_module_version": "1.2.0",
      "_view_name": "StyleView",
      "description_width": ""
     }
    },
    "ba77d9e698c24fd9b779e291b9f72d43": {
     "model_module": "@jupyter-widgets/base",
     "model_module_version": "1.2.0",
     "model_name": "LayoutModel",
     "state": {
      "_model_module": "@jupyter-widgets/base",
      "_model_module_version": "1.2.0",
      "_model_name": "LayoutModel",
      "_view_count": null,
      "_view_module": "@jupyter-widgets/base",
      "_view_module_version": "1.2.0",
      "_view_name": "LayoutView",
      "align_content": null,
      "align_items": null,
      "align_self": null,
      "border": null,
      "bottom": null,
      "display": null,
      "flex": null,
      "flex_flow": null,
      "grid_area": null,
      "grid_auto_columns": null,
      "grid_auto_flow": null,
      "grid_auto_rows": null,
      "grid_column": null,
      "grid_gap": null,
      "grid_row": null,
      "grid_template_areas": null,
      "grid_template_columns": null,
      "grid_template_rows": null,
      "height": null,
      "justify_content": null,
      "justify_items": null,
      "left": null,
      "margin": null,
      "max_height": null,
      "max_width": null,
      "min_height": null,
      "min_width": null,
      "object_fit": null,
      "object_position": null,
      "order": null,
      "overflow": null,
      "overflow_x": null,
      "overflow_y": null,
      "padding": null,
      "right": null,
      "top": null,
      "visibility": null,
      "width": null
     }
    },
    "bf34783fbc3c44bf8b14404abf5d0bd0": {
     "model_module": "@jupyter-widgets/base",
     "model_module_version": "1.2.0",
     "model_name": "LayoutModel",
     "state": {
      "_model_module": "@jupyter-widgets/base",
      "_model_module_version": "1.2.0",
      "_model_name": "LayoutModel",
      "_view_count": null,
      "_view_module": "@jupyter-widgets/base",
      "_view_module_version": "1.2.0",
      "_view_name": "LayoutView",
      "align_content": null,
      "align_items": null,
      "align_self": null,
      "border": null,
      "bottom": null,
      "display": null,
      "flex": null,
      "flex_flow": null,
      "grid_area": null,
      "grid_auto_columns": null,
      "grid_auto_flow": null,
      "grid_auto_rows": null,
      "grid_column": null,
      "grid_gap": null,
      "grid_row": null,
      "grid_template_areas": null,
      "grid_template_columns": null,
      "grid_template_rows": null,
      "height": null,
      "justify_content": null,
      "justify_items": null,
      "left": null,
      "margin": null,
      "max_height": null,
      "max_width": null,
      "min_height": null,
      "min_width": null,
      "object_fit": null,
      "object_position": null,
      "order": null,
      "overflow": null,
      "overflow_x": null,
      "overflow_y": null,
      "padding": null,
      "right": null,
      "top": null,
      "visibility": null,
      "width": null
     }
    },
    "c1d8831b579c4f9faf0f33bd888168eb": {
     "model_module": "@jupyter-widgets/controls",
     "model_module_version": "1.5.0",
     "model_name": "DescriptionStyleModel",
     "state": {
      "_model_module": "@jupyter-widgets/controls",
      "_model_module_version": "1.5.0",
      "_model_name": "DescriptionStyleModel",
      "_view_count": null,
      "_view_module": "@jupyter-widgets/base",
      "_view_module_version": "1.2.0",
      "_view_name": "StyleView",
      "description_width": ""
     }
    },
    "c897e4888cce4ef294e1ae8ab7023069": {
     "model_module": "@jupyter-widgets/base",
     "model_module_version": "1.2.0",
     "model_name": "LayoutModel",
     "state": {
      "_model_module": "@jupyter-widgets/base",
      "_model_module_version": "1.2.0",
      "_model_name": "LayoutModel",
      "_view_count": null,
      "_view_module": "@jupyter-widgets/base",
      "_view_module_version": "1.2.0",
      "_view_name": "LayoutView",
      "align_content": null,
      "align_items": null,
      "align_self": null,
      "border": null,
      "bottom": null,
      "display": null,
      "flex": null,
      "flex_flow": null,
      "grid_area": null,
      "grid_auto_columns": null,
      "grid_auto_flow": null,
      "grid_auto_rows": null,
      "grid_column": null,
      "grid_gap": null,
      "grid_row": null,
      "grid_template_areas": null,
      "grid_template_columns": null,
      "grid_template_rows": null,
      "height": null,
      "justify_content": null,
      "justify_items": null,
      "left": null,
      "margin": null,
      "max_height": null,
      "max_width": null,
      "min_height": null,
      "min_width": null,
      "object_fit": null,
      "object_position": null,
      "order": null,
      "overflow": null,
      "overflow_x": null,
      "overflow_y": null,
      "padding": null,
      "right": null,
      "top": null,
      "visibility": null,
      "width": null
     }
    },
    "c9585e1e147e48c080acd16bb22ba5f8": {
     "model_module": "@jupyter-widgets/controls",
     "model_module_version": "1.5.0",
     "model_name": "HTMLModel",
     "state": {
      "_dom_classes": [],
      "_model_module": "@jupyter-widgets/controls",
      "_model_module_version": "1.5.0",
      "_model_name": "HTMLModel",
      "_view_count": null,
      "_view_module": "@jupyter-widgets/controls",
      "_view_module_version": "1.5.0",
      "_view_name": "HTMLView",
      "description": "",
      "description_tooltip": null,
      "layout": "IPY_MODEL_d52d3fc4efa440aca23a37bcbb6d7b84",
      "placeholder": "​",
      "style": "IPY_MODEL_f096f4323c754bbdba4c68f25187e218",
      "value": " 570/570 [00:00&lt;00:00, 51.5kB/s]"
     }
    },
    "cac94e975e3f4d33b132784c35244f85": {
     "model_module": "@jupyter-widgets/controls",
     "model_module_version": "1.5.0",
     "model_name": "FloatProgressModel",
     "state": {
      "_dom_classes": [],
      "_model_module": "@jupyter-widgets/controls",
      "_model_module_version": "1.5.0",
      "_model_name": "FloatProgressModel",
      "_view_count": null,
      "_view_module": "@jupyter-widgets/controls",
      "_view_module_version": "1.5.0",
      "_view_name": "ProgressView",
      "bar_style": "success",
      "description": "",
      "description_tooltip": null,
      "layout": "IPY_MODEL_fd9f60466fda4f2ebad97c2fbc58be27",
      "max": 204,
      "min": 0,
      "orientation": "horizontal",
      "style": "IPY_MODEL_19b6e92ae6ac4bec88c9d75d49bb5cc2",
      "value": 204
     }
    },
    "d006e4915b9c48fc94cfbfff14343ad1": {
     "model_module": "@jupyter-widgets/base",
     "model_module_version": "1.2.0",
     "model_name": "LayoutModel",
     "state": {
      "_model_module": "@jupyter-widgets/base",
      "_model_module_version": "1.2.0",
      "_model_name": "LayoutModel",
      "_view_count": null,
      "_view_module": "@jupyter-widgets/base",
      "_view_module_version": "1.2.0",
      "_view_name": "LayoutView",
      "align_content": null,
      "align_items": null,
      "align_self": null,
      "border": null,
      "bottom": null,
      "display": null,
      "flex": null,
      "flex_flow": null,
      "grid_area": null,
      "grid_auto_columns": null,
      "grid_auto_flow": null,
      "grid_auto_rows": null,
      "grid_column": null,
      "grid_gap": null,
      "grid_row": null,
      "grid_template_areas": null,
      "grid_template_columns": null,
      "grid_template_rows": null,
      "height": null,
      "justify_content": null,
      "justify_items": null,
      "left": null,
      "margin": null,
      "max_height": null,
      "max_width": null,
      "min_height": null,
      "min_width": null,
      "object_fit": null,
      "object_position": null,
      "order": null,
      "overflow": null,
      "overflow_x": null,
      "overflow_y": null,
      "padding": null,
      "right": null,
      "top": null,
      "visibility": null,
      "width": null
     }
    },
    "d4c8277dcccb4914827cf4a9884d9d49": {
     "model_module": "@jupyter-widgets/controls",
     "model_module_version": "1.5.0",
     "model_name": "HTMLModel",
     "state": {
      "_dom_classes": [],
      "_model_module": "@jupyter-widgets/controls",
      "_model_module_version": "1.5.0",
      "_model_name": "HTMLModel",
      "_view_count": null,
      "_view_module": "@jupyter-widgets/controls",
      "_view_module_version": "1.5.0",
      "_view_name": "HTMLView",
      "description": "",
      "description_tooltip": null,
      "layout": "IPY_MODEL_bf34783fbc3c44bf8b14404abf5d0bd0",
      "placeholder": "​",
      "style": "IPY_MODEL_06f8b1e44d714e0c8a4e4222b7dcf8a3",
      "value": " 440M/440M [00:03&lt;00:00, 141MB/s]"
     }
    },
    "d52d3fc4efa440aca23a37bcbb6d7b84": {
     "model_module": "@jupyter-widgets/base",
     "model_module_version": "1.2.0",
     "model_name": "LayoutModel",
     "state": {
      "_model_module": "@jupyter-widgets/base",
      "_model_module_version": "1.2.0",
      "_model_name": "LayoutModel",
      "_view_count": null,
      "_view_module": "@jupyter-widgets/base",
      "_view_module_version": "1.2.0",
      "_view_name": "LayoutView",
      "align_content": null,
      "align_items": null,
      "align_self": null,
      "border": null,
      "bottom": null,
      "display": null,
      "flex": null,
      "flex_flow": null,
      "grid_area": null,
      "grid_auto_columns": null,
      "grid_auto_flow": null,
      "grid_auto_rows": null,
      "grid_column": null,
      "grid_gap": null,
      "grid_row": null,
      "grid_template_areas": null,
      "grid_template_columns": null,
      "grid_template_rows": null,
      "height": null,
      "justify_content": null,
      "justify_items": null,
      "left": null,
      "margin": null,
      "max_height": null,
      "max_width": null,
      "min_height": null,
      "min_width": null,
      "object_fit": null,
      "object_position": null,
      "order": null,
      "overflow": null,
      "overflow_x": null,
      "overflow_y": null,
      "padding": null,
      "right": null,
      "top": null,
      "visibility": null,
      "width": null
     }
    },
    "dbef01a9327741e7ae8339a903b1ba16": {
     "model_module": "@jupyter-widgets/controls",
     "model_module_version": "1.5.0",
     "model_name": "FloatProgressModel",
     "state": {
      "_dom_classes": [],
      "_model_module": "@jupyter-widgets/controls",
      "_model_module_version": "1.5.0",
      "_model_name": "FloatProgressModel",
      "_view_count": null,
      "_view_module": "@jupyter-widgets/controls",
      "_view_module_version": "1.5.0",
      "_view_name": "ProgressView",
      "bar_style": "success",
      "description": "",
      "description_tooltip": null,
      "layout": "IPY_MODEL_eb509ea5b4554ae59d55b7ef23473a6a",
      "max": 440449768,
      "min": 0,
      "orientation": "horizontal",
      "style": "IPY_MODEL_10e057c028604dc9b0ebf6cb0d560751",
      "value": 440449768
     }
    },
    "e5b37b7c3afa412cbed97740a7abc0ba": {
     "model_module": "@jupyter-widgets/base",
     "model_module_version": "1.2.0",
     "model_name": "LayoutModel",
     "state": {
      "_model_module": "@jupyter-widgets/base",
      "_model_module_version": "1.2.0",
      "_model_name": "LayoutModel",
      "_view_count": null,
      "_view_module": "@jupyter-widgets/base",
      "_view_module_version": "1.2.0",
      "_view_name": "LayoutView",
      "align_content": null,
      "align_items": null,
      "align_self": null,
      "border": null,
      "bottom": null,
      "display": null,
      "flex": null,
      "flex_flow": null,
      "grid_area": null,
      "grid_auto_columns": null,
      "grid_auto_flow": null,
      "grid_auto_rows": null,
      "grid_column": null,
      "grid_gap": null,
      "grid_row": null,
      "grid_template_areas": null,
      "grid_template_columns": null,
      "grid_template_rows": null,
      "height": null,
      "justify_content": null,
      "justify_items": null,
      "left": null,
      "margin": null,
      "max_height": null,
      "max_width": null,
      "min_height": null,
      "min_width": null,
      "object_fit": null,
      "object_position": null,
      "order": null,
      "overflow": null,
      "overflow_x": null,
      "overflow_y": null,
      "padding": null,
      "right": null,
      "top": null,
      "visibility": null,
      "width": null
     }
    },
    "e690f0a1004a43de910b969f300fbe3e": {
     "model_module": "@jupyter-widgets/controls",
     "model_module_version": "1.5.0",
     "model_name": "HTMLModel",
     "state": {
      "_dom_classes": [],
      "_model_module": "@jupyter-widgets/controls",
      "_model_module_version": "1.5.0",
      "_model_name": "HTMLModel",
      "_view_count": null,
      "_view_module": "@jupyter-widgets/controls",
      "_view_module_version": "1.5.0",
      "_view_name": "HTMLView",
      "description": "",
      "description_tooltip": null,
      "layout": "IPY_MODEL_8baf020e794e40c2a907b1c0ffea586c",
      "placeholder": "​",
      "style": "IPY_MODEL_3409217788b4493c8a7dd93883a8bdd2",
      "value": "config.json: 100%"
     }
    },
    "e9c710c5607c478382eccb13f5e14f91": {
     "model_module": "@jupyter-widgets/base",
     "model_module_version": "1.2.0",
     "model_name": "LayoutModel",
     "state": {
      "_model_module": "@jupyter-widgets/base",
      "_model_module_version": "1.2.0",
      "_model_name": "LayoutModel",
      "_view_count": null,
      "_view_module": "@jupyter-widgets/base",
      "_view_module_version": "1.2.0",
      "_view_name": "LayoutView",
      "align_content": null,
      "align_items": null,
      "align_self": null,
      "border": null,
      "bottom": null,
      "display": null,
      "flex": null,
      "flex_flow": null,
      "grid_area": null,
      "grid_auto_columns": null,
      "grid_auto_flow": null,
      "grid_auto_rows": null,
      "grid_column": null,
      "grid_gap": null,
      "grid_row": null,
      "grid_template_areas": null,
      "grid_template_columns": null,
      "grid_template_rows": null,
      "height": null,
      "justify_content": null,
      "justify_items": null,
      "left": null,
      "margin": null,
      "max_height": null,
      "max_width": null,
      "min_height": null,
      "min_width": null,
      "object_fit": null,
      "object_position": null,
      "order": null,
      "overflow": null,
      "overflow_x": null,
      "overflow_y": null,
      "padding": null,
      "right": null,
      "top": null,
      "visibility": null,
      "width": null
     }
    },
    "eb509ea5b4554ae59d55b7ef23473a6a": {
     "model_module": "@jupyter-widgets/base",
     "model_module_version": "1.2.0",
     "model_name": "LayoutModel",
     "state": {
      "_model_module": "@jupyter-widgets/base",
      "_model_module_version": "1.2.0",
      "_model_name": "LayoutModel",
      "_view_count": null,
      "_view_module": "@jupyter-widgets/base",
      "_view_module_version": "1.2.0",
      "_view_name": "LayoutView",
      "align_content": null,
      "align_items": null,
      "align_self": null,
      "border": null,
      "bottom": null,
      "display": null,
      "flex": null,
      "flex_flow": null,
      "grid_area": null,
      "grid_auto_columns": null,
      "grid_auto_flow": null,
      "grid_auto_rows": null,
      "grid_column": null,
      "grid_gap": null,
      "grid_row": null,
      "grid_template_areas": null,
      "grid_template_columns": null,
      "grid_template_rows": null,
      "height": null,
      "justify_content": null,
      "justify_items": null,
      "left": null,
      "margin": null,
      "max_height": null,
      "max_width": null,
      "min_height": null,
      "min_width": null,
      "object_fit": null,
      "object_position": null,
      "order": null,
      "overflow": null,
      "overflow_x": null,
      "overflow_y": null,
      "padding": null,
      "right": null,
      "top": null,
      "visibility": null,
      "width": null
     }
    },
    "ebc73ea82703406f8c55ffeb7cf8d6b4": {
     "model_module": "@jupyter-widgets/base",
     "model_module_version": "1.2.0",
     "model_name": "LayoutModel",
     "state": {
      "_model_module": "@jupyter-widgets/base",
      "_model_module_version": "1.2.0",
      "_model_name": "LayoutModel",
      "_view_count": null,
      "_view_module": "@jupyter-widgets/base",
      "_view_module_version": "1.2.0",
      "_view_name": "LayoutView",
      "align_content": null,
      "align_items": null,
      "align_self": null,
      "border": null,
      "bottom": null,
      "display": null,
      "flex": null,
      "flex_flow": null,
      "grid_area": null,
      "grid_auto_columns": null,
      "grid_auto_flow": null,
      "grid_auto_rows": null,
      "grid_column": null,
      "grid_gap": null,
      "grid_row": null,
      "grid_template_areas": null,
      "grid_template_columns": null,
      "grid_template_rows": null,
      "height": null,
      "justify_content": null,
      "justify_items": null,
      "left": null,
      "margin": null,
      "max_height": null,
      "max_width": null,
      "min_height": null,
      "min_width": null,
      "object_fit": null,
      "object_position": null,
      "order": null,
      "overflow": null,
      "overflow_x": null,
      "overflow_y": null,
      "padding": null,
      "right": null,
      "top": null,
      "visibility": null,
      "width": null
     }
    },
    "ecc0d0b6f1204d43b805c53e78163a47": {
     "model_module": "@jupyter-widgets/controls",
     "model_module_version": "1.5.0",
     "model_name": "HTMLModel",
     "state": {
      "_dom_classes": [],
      "_model_module": "@jupyter-widgets/controls",
      "_model_module_version": "1.5.0",
      "_model_name": "HTMLModel",
      "_view_count": null,
      "_view_module": "@jupyter-widgets/controls",
      "_view_module_version": "1.5.0",
      "_view_name": "HTMLView",
      "description": "",
      "description_tooltip": null,
      "layout": "IPY_MODEL_ebc73ea82703406f8c55ffeb7cf8d6b4",
      "placeholder": "​",
      "style": "IPY_MODEL_c1d8831b579c4f9faf0f33bd888168eb",
      "value": "Filter: 100%"
     }
    },
    "efea4ef139b74ae4b67af0d7997a94f9": {
     "model_module": "@jupyter-widgets/controls",
     "model_module_version": "1.5.0",
     "model_name": "DescriptionStyleModel",
     "state": {
      "_model_module": "@jupyter-widgets/controls",
      "_model_module_version": "1.5.0",
      "_model_name": "DescriptionStyleModel",
      "_view_count": null,
      "_view_module": "@jupyter-widgets/base",
      "_view_module_version": "1.2.0",
      "_view_name": "StyleView",
      "description_width": ""
     }
    },
    "f096f4323c754bbdba4c68f25187e218": {
     "model_module": "@jupyter-widgets/controls",
     "model_module_version": "1.5.0",
     "model_name": "DescriptionStyleModel",
     "state": {
      "_model_module": "@jupyter-widgets/controls",
      "_model_module_version": "1.5.0",
      "_model_name": "DescriptionStyleModel",
      "_view_count": null,
      "_view_module": "@jupyter-widgets/base",
      "_view_module_version": "1.2.0",
      "_view_name": "StyleView",
      "description_width": ""
     }
    },
    "fd9f60466fda4f2ebad97c2fbc58be27": {
     "model_module": "@jupyter-widgets/base",
     "model_module_version": "1.2.0",
     "model_name": "LayoutModel",
     "state": {
      "_model_module": "@jupyter-widgets/base",
      "_model_module_version": "1.2.0",
      "_model_name": "LayoutModel",
      "_view_count": null,
      "_view_module": "@jupyter-widgets/base",
      "_view_module_version": "1.2.0",
      "_view_name": "LayoutView",
      "align_content": null,
      "align_items": null,
      "align_self": null,
      "border": null,
      "bottom": null,
      "display": null,
      "flex": null,
      "flex_flow": null,
      "grid_area": null,
      "grid_auto_columns": null,
      "grid_auto_flow": null,
      "grid_auto_rows": null,
      "grid_column": null,
      "grid_gap": null,
      "grid_row": null,
      "grid_template_areas": null,
      "grid_template_columns": null,
      "grid_template_rows": null,
      "height": null,
      "justify_content": null,
      "justify_items": null,
      "left": null,
      "margin": null,
      "max_height": null,
      "max_width": null,
      "min_height": null,
      "min_width": null,
      "object_fit": null,
      "object_position": null,
      "order": null,
      "overflow": null,
      "overflow_x": null,
      "overflow_y": null,
      "padding": null,
      "right": null,
      "top": null,
      "visibility": null,
      "width": null
     }
    }
   }
  }
 },
 "nbformat": 4,
 "nbformat_minor": 1
}
