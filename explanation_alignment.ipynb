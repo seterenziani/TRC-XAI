{
 "cells": [
  {
   "cell_type": "markdown",
   "metadata": {
    "id": "WmPfhD5B7DWL"
   },
   "source": [
    "# Installs"
   ]
  },
  {
   "cell_type": "code",
   "execution_count": 1,
   "metadata": {
    "colab": {
     "base_uri": "https://localhost:8080/"
    },
    "executionInfo": {
     "elapsed": 31191,
     "status": "ok",
     "timestamp": 1715011416404,
     "user": {
      "displayName": "Sofia Terenziani",
      "userId": "07918956272317491448"
     },
     "user_tz": -120
    },
    "id": "fldD0Uxg6-zU",
    "outputId": "390a5bed-3ca1-4e57-b512-b1ad63074643"
   },
   "outputs": [
    {
     "name": "stdout",
     "output_type": "stream",
     "text": [
      "Collecting datasets\n",
      "  Downloading datasets-2.19.1-py3-none-any.whl (542 kB)\n",
      "\u001b[2K     \u001b[90m━━━━━━━━━━━━━━━━━━━━━━━━━━━━━━━━━━━━━━━━\u001b[0m \u001b[32m542.0/542.0 kB\u001b[0m \u001b[31m6.5 MB/s\u001b[0m eta \u001b[36m0:00:00\u001b[0m\n",
      "\u001b[?25hRequirement already satisfied: filelock in /usr/local/lib/python3.10/dist-packages (from datasets) (3.14.0)\n",
      "Requirement already satisfied: numpy>=1.17 in /usr/local/lib/python3.10/dist-packages (from datasets) (1.25.2)\n",
      "Requirement already satisfied: pyarrow>=12.0.0 in /usr/local/lib/python3.10/dist-packages (from datasets) (14.0.2)\n",
      "Requirement already satisfied: pyarrow-hotfix in /usr/local/lib/python3.10/dist-packages (from datasets) (0.6)\n",
      "Collecting dill<0.3.9,>=0.3.0 (from datasets)\n",
      "  Downloading dill-0.3.8-py3-none-any.whl (116 kB)\n",
      "\u001b[2K     \u001b[90m━━━━━━━━━━━━━━━━━━━━━━━━━━━━━━━━━━━━━━━━\u001b[0m \u001b[32m116.3/116.3 kB\u001b[0m \u001b[31m10.0 MB/s\u001b[0m eta \u001b[36m0:00:00\u001b[0m\n",
      "\u001b[?25hRequirement already satisfied: pandas in /usr/local/lib/python3.10/dist-packages (from datasets) (2.0.3)\n",
      "Requirement already satisfied: requests>=2.19.0 in /usr/local/lib/python3.10/dist-packages (from datasets) (2.31.0)\n",
      "Requirement already satisfied: tqdm>=4.62.1 in /usr/local/lib/python3.10/dist-packages (from datasets) (4.66.2)\n",
      "Collecting xxhash (from datasets)\n",
      "  Downloading xxhash-3.4.1-cp310-cp310-manylinux_2_17_x86_64.manylinux2014_x86_64.whl (194 kB)\n",
      "\u001b[2K     \u001b[90m━━━━━━━━━━━━━━━━━━━━━━━━━━━━━━━━━━━━━━━━\u001b[0m \u001b[32m194.1/194.1 kB\u001b[0m \u001b[31m9.6 MB/s\u001b[0m eta \u001b[36m0:00:00\u001b[0m\n",
      "\u001b[?25hCollecting multiprocess (from datasets)\n",
      "  Downloading multiprocess-0.70.16-py310-none-any.whl (134 kB)\n",
      "\u001b[2K     \u001b[90m━━━━━━━━━━━━━━━━━━━━━━━━━━━━━━━━━━━━━━━━\u001b[0m \u001b[32m134.8/134.8 kB\u001b[0m \u001b[31m7.8 MB/s\u001b[0m eta \u001b[36m0:00:00\u001b[0m\n",
      "\u001b[?25hRequirement already satisfied: fsspec[http]<=2024.3.1,>=2023.1.0 in /usr/local/lib/python3.10/dist-packages (from datasets) (2023.6.0)\n",
      "Requirement already satisfied: aiohttp in /usr/local/lib/python3.10/dist-packages (from datasets) (3.9.5)\n",
      "Collecting huggingface-hub>=0.21.2 (from datasets)\n",
      "  Downloading huggingface_hub-0.23.0-py3-none-any.whl (401 kB)\n",
      "\u001b[2K     \u001b[90m━━━━━━━━━━━━━━━━━━━━━━━━━━━━━━━━━━━━━━━━\u001b[0m \u001b[32m401.2/401.2 kB\u001b[0m \u001b[31m9.8 MB/s\u001b[0m eta \u001b[36m0:00:00\u001b[0m\n",
      "\u001b[?25hRequirement already satisfied: packaging in /usr/local/lib/python3.10/dist-packages (from datasets) (24.0)\n",
      "Requirement already satisfied: pyyaml>=5.1 in /usr/local/lib/python3.10/dist-packages (from datasets) (6.0.1)\n",
      "Requirement already satisfied: aiosignal>=1.1.2 in /usr/local/lib/python3.10/dist-packages (from aiohttp->datasets) (1.3.1)\n",
      "Requirement already satisfied: attrs>=17.3.0 in /usr/local/lib/python3.10/dist-packages (from aiohttp->datasets) (23.2.0)\n",
      "Requirement already satisfied: frozenlist>=1.1.1 in /usr/local/lib/python3.10/dist-packages (from aiohttp->datasets) (1.4.1)\n",
      "Requirement already satisfied: multidict<7.0,>=4.5 in /usr/local/lib/python3.10/dist-packages (from aiohttp->datasets) (6.0.5)\n",
      "Requirement already satisfied: yarl<2.0,>=1.0 in /usr/local/lib/python3.10/dist-packages (from aiohttp->datasets) (1.9.4)\n",
      "Requirement already satisfied: async-timeout<5.0,>=4.0 in /usr/local/lib/python3.10/dist-packages (from aiohttp->datasets) (4.0.3)\n",
      "Requirement already satisfied: typing-extensions>=3.7.4.3 in /usr/local/lib/python3.10/dist-packages (from huggingface-hub>=0.21.2->datasets) (4.11.0)\n",
      "Requirement already satisfied: charset-normalizer<4,>=2 in /usr/local/lib/python3.10/dist-packages (from requests>=2.19.0->datasets) (3.3.2)\n",
      "Requirement already satisfied: idna<4,>=2.5 in /usr/local/lib/python3.10/dist-packages (from requests>=2.19.0->datasets) (3.7)\n",
      "Requirement already satisfied: urllib3<3,>=1.21.1 in /usr/local/lib/python3.10/dist-packages (from requests>=2.19.0->datasets) (2.0.7)\n",
      "Requirement already satisfied: certifi>=2017.4.17 in /usr/local/lib/python3.10/dist-packages (from requests>=2.19.0->datasets) (2024.2.2)\n",
      "Requirement already satisfied: python-dateutil>=2.8.2 in /usr/local/lib/python3.10/dist-packages (from pandas->datasets) (2.8.2)\n",
      "Requirement already satisfied: pytz>=2020.1 in /usr/local/lib/python3.10/dist-packages (from pandas->datasets) (2023.4)\n",
      "Requirement already satisfied: tzdata>=2022.1 in /usr/local/lib/python3.10/dist-packages (from pandas->datasets) (2024.1)\n",
      "Requirement already satisfied: six>=1.5 in /usr/local/lib/python3.10/dist-packages (from python-dateutil>=2.8.2->pandas->datasets) (1.16.0)\n",
      "Installing collected packages: xxhash, dill, multiprocess, huggingface-hub, datasets\n",
      "  Attempting uninstall: huggingface-hub\n",
      "    Found existing installation: huggingface-hub 0.20.3\n",
      "    Uninstalling huggingface-hub-0.20.3:\n",
      "      Successfully uninstalled huggingface-hub-0.20.3\n",
      "Successfully installed datasets-2.19.1 dill-0.3.8 huggingface-hub-0.23.0 multiprocess-0.70.16 xxhash-3.4.1\n"
     ]
    }
   ],
   "source": [
    "!pip install datasets"
   ]
  },
  {
   "cell_type": "markdown",
   "metadata": {
    "id": "CUKRamYIQzlq"
   },
   "source": [
    "# Imports"
   ]
  },
  {
   "cell_type": "code",
   "execution_count": 2,
   "metadata": {
    "executionInfo": {
     "elapsed": 1401,
     "status": "ok",
     "timestamp": 1715011417802,
     "user": {
      "displayName": "Sofia Terenziani",
      "userId": "07918956272317491448"
     },
     "user_tz": -120
    },
    "id": "J1_lGgViQ1LP"
   },
   "outputs": [],
   "source": [
    "import pandas as pd\n",
    "import ast\n",
    "from scipy.stats import ttest_ind"
   ]
  },
  {
   "cell_type": "code",
   "execution_count": 3,
   "metadata": {
    "executionInfo": {
     "elapsed": 8554,
     "status": "ok",
     "timestamp": 1715011426353,
     "user": {
      "displayName": "Sofia Terenziani",
      "userId": "07918956272317491448"
     },
     "user_tz": -120
    },
    "id": "NJDvvWr05Jjc"
   },
   "outputs": [],
   "source": [
    "from transformers import AutoTokenizer, BertForSequenceClassification\n",
    "from transformers import BertModel\n",
    "from torch.utils.data import TensorDataset, DataLoader, RandomSampler, SequentialSampler\n",
    "import torch"
   ]
  },
  {
   "cell_type": "code",
   "execution_count": 4,
   "metadata": {
    "executionInfo": {
     "elapsed": 20,
     "status": "ok",
     "timestamp": 1715011426354,
     "user": {
      "displayName": "Sofia Terenziani",
      "userId": "07918956272317491448"
     },
     "user_tz": -120
    },
    "id": "IHsV9ZLzWPUO"
   },
   "outputs": [],
   "source": [
    "import sys\n",
    "from transformers import AutoTokenizer, AutoModelForSequenceClassification"
   ]
  },
  {
   "cell_type": "code",
   "execution_count": 5,
   "metadata": {
    "executionInfo": {
     "elapsed": 19,
     "status": "ok",
     "timestamp": 1715011426354,
     "user": {
      "displayName": "Sofia Terenziani",
      "userId": "07918956272317491448"
     },
     "user_tz": -120
    },
    "id": "DKMl6Ixy6L4q"
   },
   "outputs": [],
   "source": [
    "import numpy as np"
   ]
  },
  {
   "cell_type": "code",
   "execution_count": 7,
   "metadata": {
    "executionInfo": {
     "elapsed": 5,
     "status": "ok",
     "timestamp": 1715011444592,
     "user": {
      "displayName": "Sofia Terenziani",
      "userId": "07918956272317491448"
     },
     "user_tz": -120
    },
    "id": "1Avfpu_z8Jak"
   },
   "outputs": [],
   "source": [
    "device = torch.device(\"cuda\" if torch.cuda.is_available() else \"cpu\")"
   ]
  },
  {
   "cell_type": "markdown",
   "metadata": {
    "id": "7uM3XfAFnqoS"
   },
   "source": [
    "# Import Model"
   ]
  },
  {
   "cell_type": "code",
   "execution_count": 8,
   "metadata": {
    "executionInfo": {
     "elapsed": 749,
     "status": "ok",
     "timestamp": 1715011445337,
     "user": {
      "displayName": "Sofia Terenziani",
      "userId": "07918956272317491448"
     },
     "user_tz": -120
    },
    "id": "9jSvixtsWJ5e"
   },
   "outputs": [],
   "source": [
    "sys.path.append('model/code-bert/')\n",
    "from temporal_relation_classification import TemporalRelationClassification\n",
    "from temporal_relation_classification_config import TemporalRelationClassificationConfig"
   ]
  },
  {
   "cell_type": "code",
   "execution_count": 11,
   "metadata": {
    "colab": {
     "base_uri": "https://localhost:8080/",
     "height": 262,
     "referenced_widgets": [
      "89a9158dd4c7497caa98092b7bbac3e7",
      "7828a5cc7fbe4974a632689b98569fba",
      "1d0431bdf58e4a1d961b72bed39999c1",
      "bffba55b39424dd997d1828a6787915e",
      "68a5ed5ae2f04b30aa9010c49c3e98c3",
      "7363828fa59e422a8f8951f8904e8229",
      "3937537b7ce34ea0801a5cf7e96656f3",
      "9603a200395b499dad1edc3cf8ca97f7",
      "b89ead59e94247ffa158b746b4ce6ccf",
      "64346a81a1794b4092efb8173898e0c1",
      "a6ffc3dd701e41d99f00db5607d0bfb3",
      "38f183fcfc3c41fcb9a0c8cc4ba8cd77",
      "88cfd3346a0946a5a3b834d34e7a4b36",
      "d8806afcc0d44a00b06b8e8b2ad1e7b1",
      "130c77a1dde1478ab44060f6732617a9",
      "0dff92279c244570bdb77bf860521e44",
      "5aa1e6a5b8c04901922e87d95867c21d",
      "8cdb10946e27468a96672cbe64e43dd8",
      "b663468d0c874d78beadbb5594d198c4",
      "866c18418c554b61a32abbd16c8a926d",
      "401fbdf7368b423a994d3c605ce5369e",
      "7a74fa1009764584a71260e3869d1822"
     ]
    },
    "executionInfo": {
     "elapsed": 18924,
     "status": "ok",
     "timestamp": 1715011493124,
     "user": {
      "displayName": "Sofia Terenziani",
      "userId": "07918956272317491448"
     },
     "user_tz": -120
    },
    "id": "BVfUyF0pCVsC",
    "outputId": "76d5c248-b8ed-41d4-ec4f-bf268deb5457"
   },
   "outputs": [
    {
     "name": "stderr",
     "output_type": "stream",
     "text": [
      "/usr/local/lib/python3.10/dist-packages/huggingface_hub/file_download.py:1132: FutureWarning: `resume_download` is deprecated and will be removed in version 1.0.0. Downloads always resume when possible. If you want to force a new download, use `force_download=True`.\n",
      "  warnings.warn(\n",
      "/usr/local/lib/python3.10/dist-packages/huggingface_hub/utils/_token.py:89: UserWarning: \n",
      "The secret `HF_TOKEN` does not exist in your Colab secrets.\n",
      "To authenticate with the Hugging Face Hub, create a token in your settings tab (https://huggingface.co/settings/tokens), set it as secret in your Google Colab and restart your session.\n",
      "You will be able to reuse this secret in all of your notebooks.\n",
      "Please note that authentication is recommended but still optional to access public models or datasets.\n",
      "  warnings.warn(\n"
     ]
    },
    {
     "data": {
      "application/vnd.jupyter.widget-view+json": {
       "model_id": "89a9158dd4c7497caa98092b7bbac3e7",
       "version_major": 2,
       "version_minor": 0
      },
      "text/plain": [
       "config.json:   0%|          | 0.00/570 [00:00<?, ?B/s]"
      ]
     },
     "metadata": {},
     "output_type": "display_data"
    },
    {
     "data": {
      "application/vnd.jupyter.widget-view+json": {
       "model_id": "38f183fcfc3c41fcb9a0c8cc4ba8cd77",
       "version_major": 2,
       "version_minor": 0
      },
      "text/plain": [
       "model.safetensors:   0%|          | 0.00/440M [00:00<?, ?B/s]"
      ]
     },
     "metadata": {},
     "output_type": "display_data"
    },
    {
     "name": "stderr",
     "output_type": "stream",
     "text": [
      "Special tokens have been added in the vocabulary, make sure the associated word embeddings are fine-tuned or trained.\n"
     ]
    }
   ],
   "source": [
    "model_path = \"saved_models/bert-base-uncased-saved-model\"\n",
    "model = TemporalRelationClassification.from_pretrained(model_path)\n",
    "tokenizer = AutoTokenizer.from_pretrained(model_path)"
   ]
  },
  {
   "cell_type": "code",
   "execution_count": 12,
   "metadata": {
    "colab": {
     "base_uri": "https://localhost:8080/"
    },
    "executionInfo": {
     "elapsed": 475,
     "status": "ok",
     "timestamp": 1715011497481,
     "user": {
      "displayName": "Sofia Terenziani",
      "userId": "07918956272317491448"
     },
     "user_tz": -120
    },
    "id": "aAP9CQCrDOdA",
    "outputId": "532e182f-707e-4369-9a80-26ef60e94767"
   },
   "outputs": [
    {
     "data": {
      "text/plain": [
       "Embedding(30526, 768)"
      ]
     },
     "execution_count": 12,
     "metadata": {},
     "output_type": "execute_result"
    }
   ],
   "source": [
    "model.resize_token_embeddings(len(tokenizer))"
   ]
  },
  {
   "cell_type": "markdown",
   "metadata": {
    "id": "5L1i6G3BXTbi"
   },
   "source": [
    "# Original"
   ]
  },
  {
   "cell_type": "markdown",
   "metadata": {
    "id": "ETCQF0_DQwai"
   },
   "source": [
    "## Import Original Datasets"
   ]
  },
  {
   "cell_type": "code",
   "execution_count": 239,
   "metadata": {
    "executionInfo": {
     "elapsed": 330,
     "status": "ok",
     "timestamp": 1715013724240,
     "user": {
      "displayName": "Sofia Terenziani",
      "userId": "07918956272317491448"
     },
     "user_tz": -120
    },
    "id": "DaWnBL7-Mgsz"
   },
   "outputs": [],
   "source": [
    "occlusion = pd.read_csv('results/occlusion/occlusion-og-bert-base.csv')\n",
    "gradients = pd.read_csv('results/gradients/gradients-og-bert-base.csv')"
   ]
  },
  {
   "cell_type": "code",
   "execution_count": 240,
   "metadata": {
    "executionInfo": {
     "elapsed": 2,
     "status": "ok",
     "timestamp": 1715013724240,
     "user": {
      "displayName": "Sofia Terenziani",
      "userId": "07918956272317491448"
     },
     "user_tz": -120
    },
    "id": "NpXGyPwtVA4K"
   },
   "outputs": [],
   "source": [
    "original = pd.read_csv('data/annotated/partitions.csv')\n",
    "counterfactuals = pd.read_csv('data/annotated/counterfactuals.csv')"
   ]
  },
  {
   "cell_type": "code",
   "execution_count": 241,
   "metadata": {
    "executionInfo": {
     "elapsed": 2,
     "status": "ok",
     "timestamp": 1715013724632,
     "user": {
      "displayName": "Sofia Terenziani",
      "userId": "07918956272317491448"
     },
     "user_tz": -120
    },
    "id": "lbIlMTff5Odb"
   },
   "outputs": [],
   "source": [
    "original_predictions = pd.read_csv('results/predictions/predictions-og-bert-base.csv')\n",
    "counterfactual_predictions = pd.read_csv('results/predictions/predictions-cf-bert-base.csv')"
   ]
  },
  {
   "cell_type": "markdown",
   "metadata": {
    "id": "WIqKwvzP6HtH"
   },
   "source": [
    "## Process Datasets"
   ]
  },
  {
   "cell_type": "code",
   "execution_count": 242,
   "metadata": {
    "executionInfo": {
     "elapsed": 392,
     "status": "ok",
     "timestamp": 1715013731664,
     "user": {
      "displayName": "Sofia Terenziani",
      "userId": "07918956272317491448"
     },
     "user_tz": -120
    },
    "id": "LwrdFuNggkoQ"
   },
   "outputs": [],
   "source": [
    "import re\n",
    "def annotate_text(row, column):\n",
    "    context = row['context']\n",
    "    eventA = re.escape(row['eventA'])\n",
    "    eventB = re.escape(row['eventB'])\n",
    "\n",
    "    if len(eventA) > len(eventB):\n",
    "        context = re.sub(eventA, f\"[a1]{row['eventA']}[/a1]\", context)\n",
    "        context = re.sub(eventB, f\"[a2]{row['eventB']}[/a2]\", context)\n",
    "    else:\n",
    "        context = re.sub(eventB, f\"[a2]{row['eventB']}[/a2]\", context)\n",
    "        context = re.sub(eventA, f\"[a1]{row['eventB']}[/a1]\", context)\n",
    "\n",
    "    return context"
   ]
  },
  {
   "cell_type": "code",
   "execution_count": 243,
   "metadata": {
    "executionInfo": {
     "elapsed": 2,
     "status": "ok",
     "timestamp": 1715013732079,
     "user": {
      "displayName": "Sofia Terenziani",
      "userId": "07918956272317491448"
     },
     "user_tz": -120
    },
    "id": "P4YZmif3p9d2"
   },
   "outputs": [],
   "source": [
    "import re\n",
    "def annotate_text_counter(row, column):\n",
    "    context = row['counterfactual']\n",
    "    eventA = re.escape(row['eventA'])\n",
    "    eventB = re.escape(row['eventB'])\n",
    "\n",
    "    # Make sure the longer event is replaced first if they overlap\n",
    "    if len(eventA) > len(eventB):\n",
    "        context = re.sub(eventA, f\"[a1]{row['eventA']}[/a1]\", context)\n",
    "        context = re.sub(eventB, f\"[a2]{row['eventB']}[/a2]\", context)\n",
    "    else:\n",
    "        context = re.sub(eventB, f\"[a2]{row['eventB']}[/a2]\", context)\n",
    "        context = re.sub(eventA, f\"[a1]{row['eventB']}[/a1]\", context)\n",
    "\n",
    "    return context"
   ]
  },
  {
   "cell_type": "code",
   "execution_count": 244,
   "metadata": {
    "executionInfo": {
     "elapsed": 3,
     "status": "ok",
     "timestamp": 1715013732080,
     "user": {
      "displayName": "Sofia Terenziani",
      "userId": "07918956272317491448"
     },
     "user_tz": -120
    },
    "id": "sbU3-3_67cU1"
   },
   "outputs": [],
   "source": [
    "original['annotated_context'] = original.apply(lambda row: annotate_text(row, 'context'), axis=1)\n",
    "counterfactuals['annotated_context'] = counterfactuals.apply(lambda row: annotate_text_counter(row, 'counterfactual'), axis=1)"
   ]
  },
  {
   "cell_type": "code",
   "execution_count": 245,
   "metadata": {
    "executionInfo": {
     "elapsed": 2,
     "status": "ok",
     "timestamp": 1715013732080,
     "user": {
      "displayName": "Sofia Terenziani",
      "userId": "07918956272317491448"
     },
     "user_tz": -120
    },
    "id": "2DgHiJzf7Rul"
   },
   "outputs": [],
   "source": [
    "from datasets import Dataset, DatasetDict\n",
    "dataset = DatasetDict({\n",
    "    \"partition\": Dataset.from_pandas(original),\n",
    "    \"counterfactual\":  Dataset.from_pandas(counterfactuals)\n",
    "})"
   ]
  },
  {
   "cell_type": "code",
   "execution_count": 246,
   "metadata": {
    "executionInfo": {
     "elapsed": 2,
     "status": "ok",
     "timestamp": 1715013732080,
     "user": {
      "displayName": "Sofia Terenziani",
      "userId": "07918956272317491448"
     },
     "user_tz": -120
    },
    "id": "uIV6JEKRtYSl"
   },
   "outputs": [],
   "source": [
    "from transformers import DataCollatorWithPadding\n",
    "data_collator = DataCollatorWithPadding(tokenizer=tokenizer)\n",
    "tokenizer_class = str(type(tokenizer)).strip(\"><'\").split('.')[-1]"
   ]
  },
  {
   "cell_type": "code",
   "execution_count": 247,
   "metadata": {
    "colab": {
     "base_uri": "https://localhost:8080/",
     "height": 81,
     "referenced_widgets": [
      "4da376b5576744d4814efa4747d27edb",
      "2b09469483854204bdf10b706617b30e",
      "abdf0cde20884b1da5f7c5973cbf6ed8",
      "ccbf01b4f58c44959ba1312704a511f0",
      "429878fb16004f819ff5614ab305a545",
      "11cba2a5f4ef431984482565a88de5fa",
      "78603b5800da4303836910019d4e2fc5",
      "d6ac90ff15db4b54978f3eefdd4e85af",
      "70e49ef6a81548a4b368409591589e10",
      "62afcca424df49a69f823db09bec8d4c",
      "81a34ceda19048269b97b76a0f396158",
      "e90e914770de49f8b5ccb2a5e5451bc8",
      "e76d551aa1954076be0fac00f39000c2",
      "06ea984395964112bd9986b2faa91ca7",
      "3bdba5a7885042a1b8ee83c2aa2d0710",
      "75bd761504a64719bc99e77cd4e5f323",
      "53c7971f78904fe3a4a00df8bdbe54fd",
      "3e05265582ce4046b2a13f8ee658c76f",
      "d176b0c1d0854fc281569726f0b7acfe",
      "457983fe7c6f4653b922a6fb58e31b79",
      "60f1cc56dc71479c83ef71a6a38363cf",
      "1a82c5905fd346b3be38e565f017d582"
     ]
    },
    "executionInfo": {
     "elapsed": 836,
     "status": "ok",
     "timestamp": 1715013733355,
     "user": {
      "displayName": "Sofia Terenziani",
      "userId": "07918956272317491448"
     },
     "user_tz": -120
    },
    "id": "iQx36mr-7OXj",
    "outputId": "63030c66-6e91-4f16-c2e2-d2cfe886e62e"
   },
   "outputs": [
    {
     "data": {
      "application/vnd.jupyter.widget-view+json": {
       "model_id": "4da376b5576744d4814efa4747d27edb",
       "version_major": 2,
       "version_minor": 0
      },
      "text/plain": [
       "Map:   0%|          | 0/204 [00:00<?, ? examples/s]"
      ]
     },
     "metadata": {},
     "output_type": "display_data"
    },
    {
     "data": {
      "application/vnd.jupyter.widget-view+json": {
       "model_id": "e90e914770de49f8b5ccb2a5e5451bc8",
       "version_major": 2,
       "version_minor": 0
      },
      "text/plain": [
       "Map:   0%|          | 0/203 [00:00<?, ? examples/s]"
      ]
     },
     "metadata": {},
     "output_type": "display_data"
    }
   ],
   "source": [
    "def preprocess_function(examples):\n",
    "  max_length_value = 508\n",
    "  return tokenizer(examples[\"annotated_context\"], truncation=True, max_length=max_length_value)\n",
    "\n",
    "tokenized_datasets = dataset.map(preprocess_function, batched=True)"
   ]
  },
  {
   "cell_type": "code",
   "execution_count": 250,
   "metadata": {
    "executionInfo": {
     "elapsed": 3,
     "status": "ok",
     "timestamp": 1715013733953,
     "user": {
      "displayName": "Sofia Terenziani",
      "userId": "07918956272317491448"
     },
     "user_tz": -120
    },
    "id": "ypZA0LdCqazh"
   },
   "outputs": [],
   "source": [
    "original['index'] = range(len(original))\n",
    "counterfactual['index'] = range(len(counterfactual))\n",
    "original_predictions['index'] = range(len(original_predictions))\n",
    "counterfactual_predictions['index'] = range(len(counterfactual_predictions))\n",
    "occlusion['index'] = range(len(occlusion))\n",
    "gradients['index'] = range(len(gradients))"
   ]
  },
  {
   "cell_type": "code",
   "execution_count": 252,
   "metadata": {
    "executionInfo": {
     "elapsed": 3,
     "status": "ok",
     "timestamp": 1715013736317,
     "user": {
      "displayName": "Sofia Terenziani",
      "userId": "07918956272317491448"
     },
     "user_tz": -120
    },
    "id": "qp_Z91tFrB_y"
   },
   "outputs": [],
   "source": [
    "merged = original\n",
    "merged['counterfactual'] = counterfactual['counterfactual']\n",
    "merged['pos_partition_counterfactual'] = counterfactual['pos_partition']\n",
    "merged['label_counterfactual'] = counterfactual['new_label']\n",
    "merged['occlusion_saliency'] = occlusion['word_attributions']\n",
    "merged['occlusion_saliency'] = occlusion['word_attributions']\n",
    "merged['gradient_saliency'] = gradients['word_attributions']\n",
    "merged['original_predictions'] = original_predictions['prediction']\n",
    "merged['counterfactual_predictions'] = counterfactual_predictions['prediction']"
   ]
  },
  {
   "cell_type": "code",
   "execution_count": 253,
   "metadata": {
    "executionInfo": {
     "elapsed": 4,
     "status": "ok",
     "timestamp": 1715013736700,
     "user": {
      "displayName": "Sofia Terenziani",
      "userId": "07918956272317491448"
     },
     "user_tz": -120
    },
    "id": "TYZ9F0y0Hbe-"
   },
   "outputs": [],
   "source": [
    "merged['index'] = range(len(merged))"
   ]
  },
  {
   "cell_type": "code",
   "execution_count": 254,
   "metadata": {
    "colab": {
     "base_uri": "https://localhost:8080/"
    },
    "executionInfo": {
     "elapsed": 343,
     "status": "ok",
     "timestamp": 1715013738681,
     "user": {
      "displayName": "Sofia Terenziani",
      "userId": "07918956272317491448"
     },
     "user_tz": -120
    },
    "id": "w-wuNJYQAo9r",
    "outputId": "78890c90-7132-4e6f-c6c9-97e9f265dc1f"
   },
   "outputs": [
    {
     "data": {
      "text/plain": [
       "Index(['id', 'context', 'eventA', 'eventB', 'label_temp', 'label',\n",
       "       'pos_partition', 'annotated_context', 'input_ids', 'token_type_ids',\n",
       "       'attention_mask', 'index', 'counterfactual',\n",
       "       'pos_partition_counterfactual', 'label_counterfactual',\n",
       "       'occlusion_saliency', 'gradient_saliency', 'original_predictions',\n",
       "       'counterfactual_predictions'],\n",
       "      dtype='object')"
      ]
     },
     "execution_count": 254,
     "metadata": {},
     "output_type": "execute_result"
    }
   ],
   "source": [
    "merged.columns"
   ]
  },
  {
   "cell_type": "markdown",
   "metadata": {
    "id": "Ubm5VgIK03fe"
   },
   "source": [
    "## Process Partition + Counterfactuals"
   ]
  },
  {
   "cell_type": "code",
   "execution_count": 255,
   "metadata": {
    "executionInfo": {
     "elapsed": 471,
     "status": "ok",
     "timestamp": 1715013743122,
     "user": {
      "displayName": "Sofia Terenziani",
      "userId": "07918956272317491448"
     },
     "user_tz": -120
    },
    "id": "GhKwhtOr5xWo"
   },
   "outputs": [],
   "source": [
    "check_accuracy_original = (merged['original_predictions'] == merged['label']).mean()\n",
    "check_accuracy_counterfactual = (merged['counterfactual_predictions'] == merged['label_counterfactual']).mean()"
   ]
  },
  {
   "cell_type": "code",
   "execution_count": 256,
   "metadata": {
    "executionInfo": {
     "elapsed": 5,
     "status": "ok",
     "timestamp": 1715013743536,
     "user": {
      "displayName": "Sofia Terenziani",
      "userId": "07918956272317491448"
     },
     "user_tz": -120
    },
    "id": "bUvVWJ9A-HxH"
   },
   "outputs": [],
   "source": [
    "merged['counterfactual_correct'] = merged['label_counterfactual'] == merged['counterfactual_predictions']\n",
    "merged['original_correct'] = merged['label'] == merged['original_predictions']"
   ]
  },
  {
   "cell_type": "code",
   "execution_count": 257,
   "metadata": {
    "colab": {
     "base_uri": "https://localhost:8080/"
    },
    "executionInfo": {
     "elapsed": 5,
     "status": "ok",
     "timestamp": 1715013743537,
     "user": {
      "displayName": "Sofia Terenziani",
      "userId": "07918956272317491448"
     },
     "user_tz": -120
    },
    "id": "kn9yzrjO-SFo",
    "outputId": "aec2d277-32b9-4824-ca1a-505a43cf7573"
   },
   "outputs": [
    {
     "name": "stdout",
     "output_type": "stream",
     "text": [
      "Number of instances where counterfactual true : 80\n",
      "Number of instances where original true : 111\n",
      "Number of instances where both counterfactual_correct and original_correct are True: 33\n",
      "Percentage of instances where both hold: 0.1625615763546798\n"
     ]
    }
   ],
   "source": [
    "count_true_counterfactuals = (merged['counterfactual_correct']).sum()\n",
    "count_true_original = (merged['original_correct']).sum()\n",
    "count_both_true = (merged['counterfactual_correct'] & merged['original_correct']).sum()\n",
    "print(\"Number of instances where counterfactual true :\", count_true_counterfactuals)\n",
    "print(\"Number of instances where original true :\", count_true_original)\n",
    "print(\"Number of instances where both counterfactual_correct and original_correct are True:\", count_both_true)\n",
    "print(\"Percentage of instances where both hold:\", count_both_true/len(counterfactuals))"
   ]
  },
  {
   "cell_type": "code",
   "execution_count": 258,
   "metadata": {
    "executionInfo": {
     "elapsed": 410,
     "status": "ok",
     "timestamp": 1715013745039,
     "user": {
      "displayName": "Sofia Terenziani",
      "userId": "07918956272317491448"
     },
     "user_tz": -120
    },
    "id": "S3NHsjay-W6E"
   },
   "outputs": [],
   "source": [
    "df = merged[merged['counterfactual_correct'] & merged['original_correct']]"
   ]
  },
  {
   "cell_type": "markdown",
   "metadata": {
    "id": "uSSfZPY2vQhy"
   },
   "source": [
    "## Check for: Original + Occlusion"
   ]
  },
  {
   "cell_type": "code",
   "execution_count": 134,
   "metadata": {
    "executionInfo": {
     "elapsed": 2,
     "status": "ok",
     "timestamp": 1715012653783,
     "user": {
      "displayName": "Sofia Terenziani",
      "userId": "07918956272317491448"
     },
     "user_tz": -120
    },
    "id": "nQSkKaYJrOF0"
   },
   "outputs": [],
   "source": [
    "def get_saliency_df(df, index_col, attributions_col):\n",
    "    rows = []\n",
    "    for idx, attrs in zip(df[index_col], df[attributions_col]):\n",
    "        for token, scores in attrs:\n",
    "            avg_score = sum(scores) / len(scores) if scores else 0  # Compute average score, handle empty lists\n",
    "            rows.append({'index': idx, 'token': token, 'score': avg_score})\n",
    "    return pd.DataFrame(rows)"
   ]
  },
  {
   "cell_type": "code",
   "execution_count": 135,
   "metadata": {
    "executionInfo": {
     "elapsed": 3,
     "status": "ok",
     "timestamp": 1715012654157,
     "user": {
      "displayName": "Sofia Terenziani",
      "userId": "07918956272317491448"
     },
     "user_tz": -120
    },
    "id": "FdCaeT5PPYlt"
   },
   "outputs": [],
   "source": [
    "def get_saliency_partition_df(df_method, df_partition):\n",
    "    saliency_partition = pd.merge(df_method, df_partition, on='index', how='left')\n",
    "    saliency_partition['partition'] = saliency_partition.apply(determine_partition, axis=1)\n",
    "    saliency_partition = saliency_partition[['index', 'token', 'score', 'partition']]\n",
    "    return saliency_partition"
   ]
  },
  {
   "cell_type": "code",
   "execution_count": 136,
   "metadata": {
    "executionInfo": {
     "elapsed": 4,
     "status": "ok",
     "timestamp": 1715012654628,
     "user": {
      "displayName": "Sofia Terenziani",
      "userId": "07918956272317491448"
     },
     "user_tz": -120
    },
    "id": "VnvCRGNFX4PX"
   },
   "outputs": [],
   "source": [
    "def apply_ttest(group):\n",
    "    pos_scores = group[group['partition'] == 1]['score']\n",
    "    neg_scores = group[group['partition'] == 0]['score']\n",
    "    if len(pos_scores) > 1 and len(neg_scores) > 1:\n",
    "        stat, p_value = ttest_ind(pos_scores, neg_scores, alternative='greater')\n",
    "        return pd.Series({'t_stat': stat, 'p_value': p_value})\n",
    "    else:\n",
    "        return pd.Series({'t_stat': np.nan, 'p_value': np.nan})\n",
    "\n",
    "def compute_significance_partition(df_saliency_partition):\n",
    "    results = df_saliency_partition.groupby('index').apply(apply_ttest)\n",
    "    results['significantly_higher'] = (results['p_value'] < 0.05)\n",
    "    return results"
   ]
  },
  {
   "cell_type": "code",
   "execution_count": 137,
   "metadata": {
    "executionInfo": {
     "elapsed": 3,
     "status": "ok",
     "timestamp": 1715012656222,
     "user": {
      "displayName": "Sofia Terenziani",
      "userId": "07918956272317491448"
     },
     "user_tz": -120
    },
    "id": "g_DE_qRuX6Iq"
   },
   "outputs": [],
   "source": [
    "def compute_significance_partition(df_saliency_partition):\n",
    "    results = df_saliency_partition.groupby('index').apply(apply_ttest)\n",
    "    results['significantly_higher'] = (results['p_value'] < 0.05)\n",
    "    return results"
   ]
  },
  {
   "cell_type": "code",
   "execution_count": 138,
   "metadata": {
    "executionInfo": {
     "elapsed": 2,
     "status": "ok",
     "timestamp": 1715012656222,
     "user": {
      "displayName": "Sofia Terenziani",
      "userId": "07918956272317491448"
     },
     "user_tz": -120
    },
    "id": "p-SSiWCYX8eR"
   },
   "outputs": [],
   "source": [
    "def get_saliency_df(df, index_col, attributions_col):\n",
    "    rows = []\n",
    "    for idx, attrs in zip(df[index_col], df[attributions_col]):\n",
    "        for attr in attrs:\n",
    "            if isinstance(attr, tuple) and len(attr) == 2:\n",
    "                token, scores = attr\n",
    "                if scores and isinstance(scores, list): \n",
    "                    avg_score = sum(scores) / len(scores)  \n",
    "                else:\n",
    "                    avg_score = 0  \n",
    "                rows.append({'index': idx, 'token': token, 'score': avg_score})\n",
    "            else:\n",
    "                print(f\"Unexpected format in attributions: {attr}\")\n",
    "    return pd.DataFrame(rows)"
   ]
  },
  {
   "cell_type": "code",
   "execution_count": 140,
   "metadata": {
    "executionInfo": {
     "elapsed": 2,
     "status": "ok",
     "timestamp": 1715012657850,
     "user": {
      "displayName": "Sofia Terenziani",
      "userId": "07918956272317491448"
     },
     "user_tz": -120
    },
    "id": "oFY63Cd5SRGQ"
   },
   "outputs": [],
   "source": [
    "def determine_partition_original(row):\n",
    "    special_tokens = {'[SEP]', '[CLS]', '[a1]', '[a2]', '[/a1]', '[/a2]'}\n",
    "    if row['token'] in row['original_pos_partition']: \n",
    "        return 1\n",
    "    else:\n",
    "        return 0  "
   ]
  },
  {
   "cell_type": "code",
   "execution_count": 141,
   "metadata": {
    "executionInfo": {
     "elapsed": 2,
     "status": "ok",
     "timestamp": 1715012659484,
     "user": {
      "displayName": "Sofia Terenziani",
      "userId": "07918956272317491448"
     },
     "user_tz": -120
    },
    "id": "wPWy0KREdj7y"
   },
   "outputs": [],
   "source": [
    "def parse_list_string(s):\n",
    "    s = s.strip(\"[]\")\n",
    "    items = s.split(\"', '\")\n",
    "    if items:\n",
    "        items[0] = items[0].strip(\"'\")\n",
    "        items[-1] = items[-1].strip(\"'\")\n",
    "    return items"
   ]
  },
  {
   "cell_type": "code",
   "execution_count": 142,
   "metadata": {
    "executionInfo": {
     "elapsed": 3,
     "status": "ok",
     "timestamp": 1715012660160,
     "user": {
      "displayName": "Sofia Terenziani",
      "userId": "07918956272317491448"
     },
     "user_tz": -120
    },
    "id": "cLVXSwD0e1G5"
   },
   "outputs": [],
   "source": [
    "def convert_to_list(string):\n",
    "    string = string.strip('{}')\n",
    "    return string.split(', ')"
   ]
  },
  {
   "cell_type": "code",
   "execution_count": 234,
   "metadata": {
    "executionInfo": {
     "elapsed": 721,
     "status": "ok",
     "timestamp": 1715013620191,
     "user": {
      "displayName": "Sofia Terenziani",
      "userId": "07918956272317491448"
     },
     "user_tz": -120
    },
    "id": "g-V3ryltxwk1"
   },
   "outputs": [],
   "source": [
    "def convert_to_list(s):\n",
    "    s = s.strip('{}')  # Remove the curly braces\n",
    "    return [item.strip() for item in s.split(',')]"
   ]
  },
  {
   "cell_type": "code",
   "execution_count": 259,
   "metadata": {
    "executionInfo": {
     "elapsed": 7748,
     "status": "ok",
     "timestamp": 1715013763137,
     "user": {
      "displayName": "Sofia Terenziani",
      "userId": "07918956272317491448"
     },
     "user_tz": -120
    },
    "id": "2D4SO1r-wNBC"
   },
   "outputs": [],
   "source": [
    "occlusion['word_attributions'] = occlusion['word_attributions'].apply(lambda x: ast.literal_eval(x.replace(\"('[\", \"(\\\"[\").replace(\"]',\", \"]\\\",\").replace(\")']\", \")]\")))\n",
    "saliency_occlusion = get_saliency_df(occlusion, 'index', 'word_attributions')"
   ]
  },
  {
   "cell_type": "code",
   "execution_count": 260,
   "metadata": {
    "executionInfo": {
     "elapsed": 17,
     "status": "ok",
     "timestamp": 1715013763137,
     "user": {
      "displayName": "Sofia Terenziani",
      "userId": "07918956272317491448"
     },
     "user_tz": -120
    },
    "id": "cRbJttiGwNBE"
   },
   "outputs": [],
   "source": [
    "saliency_occlusion = df.merge(saliency_occlusion, on='index', how='left')"
   ]
  },
  {
   "cell_type": "code",
   "execution_count": 276,
   "metadata": {
    "executionInfo": {
     "elapsed": 1105,
     "status": "ok",
     "timestamp": 1715014076901,
     "user": {
      "displayName": "Sofia Terenziani",
      "userId": "07918956272317491448"
     },
     "user_tz": -120
    },
    "id": "J3YgG7hzzPn8"
   },
   "outputs": [],
   "source": [
    "occlusion_partition = get_saliency_partition_df(saliency_occlusion, partitions)\n",
    "saliency_occlusion['partition'] = saliency_occlusion.apply(determine_partition, axis=1)\n",
    "saliency_partition = saliency_occlusion[['index', 'token', 'score', 'partition']]"
   ]
  },
  {
   "cell_type": "code",
   "execution_count": 277,
   "metadata": {
    "executionInfo": {
     "elapsed": 379,
     "status": "ok",
     "timestamp": 1715014118401,
     "user": {
      "displayName": "Sofia Terenziani",
      "userId": "07918956272317491448"
     },
     "user_tz": -120
    },
    "id": "NbkzKUOwzhTD"
   },
   "outputs": [],
   "source": [
    "saliencies = df.merge(saliency_partition, on='index', how='left')"
   ]
  },
  {
   "cell_type": "markdown",
   "metadata": {
    "id": "gkWwt4iHS2lB"
   },
   "source": [
    "## Check for: Original + Gradients"
   ]
  },
  {
   "cell_type": "code",
   "execution_count": 155,
   "metadata": {
    "executionInfo": {
     "elapsed": 3,
     "status": "ok",
     "timestamp": 1715012731602,
     "user": {
      "displayName": "Sofia Terenziani",
      "userId": "07918956272317491448"
     },
     "user_tz": -120
    },
    "id": "FZ1FaBAWS2lQ"
   },
   "outputs": [],
   "source": [
    "def get_saliency_df(df, index_col, attributions_col):\n",
    "    rows = []\n",
    "    for idx, attrs in zip(df[index_col], df[attributions_col]):\n",
    "        for token, scores in attrs:\n",
    "            avg_score = sum(scores) / len(scores) if scores else 0  # Compute average score, handle empty lists\n",
    "            rows.append({'index': idx, 'token': token, 'score': avg_score})\n",
    "    return pd.DataFrame(rows)"
   ]
  },
  {
   "cell_type": "code",
   "execution_count": 156,
   "metadata": {
    "executionInfo": {
     "elapsed": 3,
     "status": "ok",
     "timestamp": 1715012731603,
     "user": {
      "displayName": "Sofia Terenziani",
      "userId": "07918956272317491448"
     },
     "user_tz": -120
    },
    "id": "GQwVvaXdS2lQ"
   },
   "outputs": [],
   "source": [
    "def get_saliency_partition_df(df_method, df_partition):\n",
    "    saliency_partition = pd.merge(df_method, df_partition, on='index', how='left')\n",
    "    saliency_partition['partition'] = saliency_partition.apply(determine_partition, axis=1)\n",
    "    saliency_partition = saliency_partition[['index', 'token', 'score', 'partition']]\n",
    "    return saliency_partition"
   ]
  },
  {
   "cell_type": "code",
   "execution_count": 157,
   "metadata": {
    "executionInfo": {
     "elapsed": 2,
     "status": "ok",
     "timestamp": 1715012731933,
     "user": {
      "displayName": "Sofia Terenziani",
      "userId": "07918956272317491448"
     },
     "user_tz": -120
    },
    "id": "UjDHDtC4S2lQ"
   },
   "outputs": [],
   "source": [
    "def apply_ttest(group):\n",
    "    pos_scores = group[group['partition'] == 1]['score']\n",
    "    neg_scores = group[group['partition'] == 0]['score']\n",
    "    if len(pos_scores) > 1 and len(neg_scores) > 1:\n",
    "        stat, p_value = ttest_ind(pos_scores, neg_scores, alternative='greater')\n",
    "        return pd.Series({'t_stat': stat, 'p_value': p_value})\n",
    "    else:\n",
    "        return pd.Series({'t_stat': np.nan, 'p_value': np.nan})\n",
    "\n",
    "def compute_significance_partition(df_saliency_partition):\n",
    "    results = df_saliency_partition.groupby('index').apply(apply_ttest)\n",
    "    results['significantly_higher'] = (results['p_value'] < 0.05)\n",
    "    return results"
   ]
  },
  {
   "cell_type": "code",
   "execution_count": 158,
   "metadata": {
    "executionInfo": {
     "elapsed": 4,
     "status": "ok",
     "timestamp": 1715012732384,
     "user": {
      "displayName": "Sofia Terenziani",
      "userId": "07918956272317491448"
     },
     "user_tz": -120
    },
    "id": "8shXx5HpS2lQ"
   },
   "outputs": [],
   "source": [
    "def compute_significance_partition(df_saliency_partition):\n",
    "    results = df_saliency_partition.groupby('index').apply(apply_ttest)\n",
    "    results['significantly_higher'] = (results['p_value'] < 0.05)\n",
    "    return results"
   ]
  },
  {
   "cell_type": "code",
   "execution_count": 159,
   "metadata": {
    "executionInfo": {
     "elapsed": 4,
     "status": "ok",
     "timestamp": 1715012733679,
     "user": {
      "displayName": "Sofia Terenziani",
      "userId": "07918956272317491448"
     },
     "user_tz": -120
    },
    "id": "om4Pr0MDS2lR"
   },
   "outputs": [],
   "source": [
    "def get_saliency_df(df, index_col, attributions_col):\n",
    "    rows = []\n",
    "    for idx, attrs in zip(df[index_col], df[attributions_col]):\n",
    "        for attr in attrs:\n",
    "            if isinstance(attr, tuple) and len(attr) == 2:\n",
    "                token, scores = attr\n",
    "                rows.append({'index': idx, 'token': token, 'score': scores})\n",
    "            else:\n",
    "                print(f\"Unexpected format in attributions: {attr}\")\n",
    "    return pd.DataFrame(rows)"
   ]
  },
  {
   "cell_type": "code",
   "execution_count": 160,
   "metadata": {
    "executionInfo": {
     "elapsed": 2,
     "status": "ok",
     "timestamp": 1715012734038,
     "user": {
      "displayName": "Sofia Terenziani",
      "userId": "07918956272317491448"
     },
     "user_tz": -120
    },
    "id": "bP5Y9VeWSmeH"
   },
   "outputs": [],
   "source": [
    "def determine_partition(row):\n",
    "    special_tokens = {'[SEP]', '[CLS]', '[a1]', '[a2]', '[/a1]', '[/a2]'}\n",
    "    if row['token'] in row['pos_partition']: \n",
    "        return 1\n",
    "    else:\n",
    "        return 0  "
   ]
  },
  {
   "cell_type": "code",
   "execution_count": 161,
   "metadata": {
    "executionInfo": {
     "elapsed": 2,
     "status": "ok",
     "timestamp": 1715012735393,
     "user": {
      "displayName": "Sofia Terenziani",
      "userId": "07918956272317491448"
     },
     "user_tz": -120
    },
    "id": "yHx7RzlaS2lR"
   },
   "outputs": [],
   "source": [
    "def determine_partition_original(row):\n",
    "    special_tokens = {'[SEP]', '[CLS]', '[a1]', '[a2]', '[/a1]', '[/a2]'}\n",
    "    if row['token'] in row['original_pos_partition']: \n",
    "        return 1\n",
    "    else:\n",
    "        return 0  "
   ]
  },
  {
   "cell_type": "code",
   "execution_count": 162,
   "metadata": {
    "executionInfo": {
     "elapsed": 2,
     "status": "ok",
     "timestamp": 1715012735393,
     "user": {
      "displayName": "Sofia Terenziani",
      "userId": "07918956272317491448"
     },
     "user_tz": -120
    },
    "id": "VwlU--WES2lR"
   },
   "outputs": [],
   "source": [
    "def parse_list_string(s):\n",
    "    s = s.strip(\"[]\")\n",
    "    items = s.split(\"', '\")\n",
    "    if items:\n",
    "        items[0] = items[0].strip(\"'\")\n",
    "        items[-1] = items[-1].strip(\"'\")\n",
    "    return items"
   ]
  },
  {
   "cell_type": "code",
   "execution_count": 163,
   "metadata": {
    "executionInfo": {
     "elapsed": 2,
     "status": "ok",
     "timestamp": 1715012735659,
     "user": {
      "displayName": "Sofia Terenziani",
      "userId": "07918956272317491448"
     },
     "user_tz": -120
    },
    "id": "zhsAcuXjS2lR"
   },
   "outputs": [],
   "source": [
    "def convert_to_list(string):\n",
    "    string = string.strip('{}')\n",
    "    return string.split(', ')"
   ]
  },
  {
   "cell_type": "code",
   "execution_count": 284,
   "metadata": {
    "executionInfo": {
     "elapsed": 2429,
     "status": "ok",
     "timestamp": 1715014331980,
     "user": {
      "displayName": "Sofia Terenziani",
      "userId": "07918956272317491448"
     },
     "user_tz": -120
    },
    "id": "ifHm5vUZS2lR"
   },
   "outputs": [],
   "source": [
    "gradients['word_attributions'] = gradients['word_attributions'].apply(lambda x: ast.literal_eval(x.replace(\"('[\", \"(\\\"[\").replace(\"]',\", \"]\\\",\").replace(\")']\", \")]\")))\n",
    "saliency_gradients = get_saliency_df(gradients, 'index', 'word_attributions')\n",
    "gradients_partition = get_saliency_partition_df(saliency_gradients, original)"
   ]
  },
  {
   "cell_type": "code",
   "execution_count": 285,
   "metadata": {
    "executionInfo": {
     "elapsed": 402,
     "status": "ok",
     "timestamp": 1715014346401,
     "user": {
      "displayName": "Sofia Terenziani",
      "userId": "07918956272317491448"
     },
     "user_tz": -120
    },
    "id": "knDfG6SkS2lR"
   },
   "outputs": [],
   "source": [
    "gradients_df = df.merge(gradients_partition, on='index', how='left')"
   ]
  },
  {
   "cell_type": "code",
   "execution_count": 289,
   "metadata": {
    "executionInfo": {
     "elapsed": 1180,
     "status": "ok",
     "timestamp": 1715014377338,
     "user": {
      "displayName": "Sofia Terenziani",
      "userId": "07918956272317491448"
     },
     "user_tz": -120
    },
    "id": "xB4kUC_1S2lS"
   },
   "outputs": [],
   "source": [
    "gradients_df['pos_partition'] = gradients_df['pos_partition'].apply(convert_to_list)\n",
    "gradients_df['pos_partition'] = gradients_df.apply(determine_partition, axis=1)\n",
    "results = compute_significance_partition(gradients_df)"
   ]
  },
  {
   "cell_type": "code",
   "execution_count": 290,
   "metadata": {
    "executionInfo": {
     "elapsed": 331,
     "status": "ok",
     "timestamp": 1715014384866,
     "user": {
      "displayName": "Sofia Terenziani",
      "userId": "07918956272317491448"
     },
     "user_tz": -120
    },
    "id": "S9FPp1sES2lS"
   },
   "outputs": [],
   "source": [
    "count_true = (results['significantly_higher'] == True).sum()\n",
    "ratio_true = (count_true/len(results))"
   ]
  },
  {
   "cell_type": "code",
   "execution_count": 291,
   "metadata": {
    "colab": {
     "base_uri": "https://localhost:8080/"
    },
    "executionInfo": {
     "elapsed": 399,
     "status": "ok",
     "timestamp": 1715014386255,
     "user": {
      "displayName": "Sofia Terenziani",
      "userId": "07918956272317491448"
     },
     "user_tz": -120
    },
    "id": "S67xa5fOS2lS",
    "outputId": "25eb8d42-8174-4295-9053-5cd19b7751f9"
   },
   "outputs": [
    {
     "name": "stdout",
     "output_type": "stream",
     "text": [
      "Proportion of instances in occlusion, significantly higher:  {0.3939393939393939}\n"
     ]
    }
   ],
   "source": [
    "print(f\"Proportion of instances in occlusion, significantly higher: \", {ratio_true})"
   ]
  },
  {
   "cell_type": "code",
   "execution_count": 292,
   "metadata": {
    "colab": {
     "base_uri": "https://localhost:8080/"
    },
    "executionInfo": {
     "elapsed": 5,
     "status": "ok",
     "timestamp": 1715014387517,
     "user": {
      "displayName": "Sofia Terenziani",
      "userId": "07918956272317491448"
     },
     "user_tz": -120
    },
    "id": "Vu5DWzAiS2lS",
    "outputId": "775ed86d-cf06-4514-d6e2-d52b97e1d754"
   },
   "outputs": [
    {
     "name": "stdout",
     "output_type": "stream",
     "text": [
      "Number of instances in occlusion, significantly higher:  {13}\n"
     ]
    }
   ],
   "source": [
    "print(f\"Number of instances in occlusion, significantly higher: \" , {count_true})"
   ]
  },
  {
   "cell_type": "markdown",
   "metadata": {
    "id": "5L1i6G3BXTbi"
   },
   "source": [
    "# Counterfactuals"
   ]
  },
  {
   "cell_type": "markdown",
   "metadata": {
    "id": "ETCQF0_DQwai"
   },
   "source": [
    "## Import Original Datasets"
   ]
  },
  {
   "cell_type": "code",
   "execution_count": 239,
   "metadata": {
    "executionInfo": {
     "elapsed": 330,
     "status": "ok",
     "timestamp": 1715013724240,
     "user": {
      "displayName": "Sofia Terenziani",
      "userId": "07918956272317491448"
     },
     "user_tz": -120
    },
    "id": "DaWnBL7-Mgsz"
   },
   "outputs": [],
   "source": [
    "occlusion = pd.read_csv('results/occlusion/occlusion-cf-bert-base.csv')\n",
    "gradients = pd.read_csv('results/gradients/gradients-cf-bert-base.csv')"
   ]
  },
  {
   "cell_type": "code",
   "execution_count": 240,
   "metadata": {
    "executionInfo": {
     "elapsed": 2,
     "status": "ok",
     "timestamp": 1715013724240,
     "user": {
      "displayName": "Sofia Terenziani",
      "userId": "07918956272317491448"
     },
     "user_tz": -120
    },
    "id": "NpXGyPwtVA4K"
   },
   "outputs": [],
   "source": [
    "original = pd.read_csv('data/annotated/partitions.csv')\n",
    "counterfactuals = pd.read_csv('data/annotated/counterfactuals.csv')"
   ]
  },
  {
   "cell_type": "code",
   "execution_count": 241,
   "metadata": {
    "executionInfo": {
     "elapsed": 2,
     "status": "ok",
     "timestamp": 1715013724632,
     "user": {
      "displayName": "Sofia Terenziani",
      "userId": "07918956272317491448"
     },
     "user_tz": -120
    },
    "id": "lbIlMTff5Odb"
   },
   "outputs": [],
   "source": [
    "original_predictions = pd.read_csv('results/predictions/predictions-og-bert-base.csv')\n",
    "counterfactual_predictions = pd.read_csv('results/predictions/predictions-cf-bert-base.csv')"
   ]
  },
  {
   "cell_type": "markdown",
   "metadata": {
    "id": "WIqKwvzP6HtH"
   },
   "source": [
    "## Process Datasets"
   ]
  },
  {
   "cell_type": "code",
   "execution_count": 242,
   "metadata": {
    "executionInfo": {
     "elapsed": 392,
     "status": "ok",
     "timestamp": 1715013731664,
     "user": {
      "displayName": "Sofia Terenziani",
      "userId": "07918956272317491448"
     },
     "user_tz": -120
    },
    "id": "LwrdFuNggkoQ"
   },
   "outputs": [],
   "source": [
    "import re\n",
    "def annotate_text(row, column):\n",
    "    context = row['context']\n",
    "    eventA = re.escape(row['eventA'])\n",
    "    eventB = re.escape(row['eventB'])\n",
    "\n",
    "    if len(eventA) > len(eventB):\n",
    "        context = re.sub(eventA, f\"[a1]{row['eventA']}[/a1]\", context)\n",
    "        context = re.sub(eventB, f\"[a2]{row['eventB']}[/a2]\", context)\n",
    "    else:\n",
    "        context = re.sub(eventB, f\"[a2]{row['eventB']}[/a2]\", context)\n",
    "        context = re.sub(eventA, f\"[a1]{row['eventB']}[/a1]\", context)\n",
    "\n",
    "    return context"
   ]
  },
  {
   "cell_type": "code",
   "execution_count": 243,
   "metadata": {
    "executionInfo": {
     "elapsed": 2,
     "status": "ok",
     "timestamp": 1715013732079,
     "user": {
      "displayName": "Sofia Terenziani",
      "userId": "07918956272317491448"
     },
     "user_tz": -120
    },
    "id": "P4YZmif3p9d2"
   },
   "outputs": [],
   "source": [
    "import re\n",
    "def annotate_text_counter(row, column):\n",
    "    context = row['counterfactual']\n",
    "    eventA = re.escape(row['eventA'])\n",
    "    eventB = re.escape(row['eventB'])\n",
    "\n",
    "    # Make sure the longer event is replaced first if they overlap\n",
    "    if len(eventA) > len(eventB):\n",
    "        context = re.sub(eventA, f\"[a1]{row['eventA']}[/a1]\", context)\n",
    "        context = re.sub(eventB, f\"[a2]{row['eventB']}[/a2]\", context)\n",
    "    else:\n",
    "        context = re.sub(eventB, f\"[a2]{row['eventB']}[/a2]\", context)\n",
    "        context = re.sub(eventA, f\"[a1]{row['eventB']}[/a1]\", context)\n",
    "\n",
    "    return context"
   ]
  },
  {
   "cell_type": "code",
   "execution_count": 244,
   "metadata": {
    "executionInfo": {
     "elapsed": 3,
     "status": "ok",
     "timestamp": 1715013732080,
     "user": {
      "displayName": "Sofia Terenziani",
      "userId": "07918956272317491448"
     },
     "user_tz": -120
    },
    "id": "sbU3-3_67cU1"
   },
   "outputs": [],
   "source": [
    "original['annotated_context'] = original.apply(lambda row: annotate_text(row, 'context'), axis=1)\n",
    "counterfactuals['annotated_context'] = counterfactuals.apply(lambda row: annotate_text_counter(row, 'counterfactual'), axis=1)"
   ]
  },
  {
   "cell_type": "code",
   "execution_count": 245,
   "metadata": {
    "executionInfo": {
     "elapsed": 2,
     "status": "ok",
     "timestamp": 1715013732080,
     "user": {
      "displayName": "Sofia Terenziani",
      "userId": "07918956272317491448"
     },
     "user_tz": -120
    },
    "id": "2DgHiJzf7Rul"
   },
   "outputs": [],
   "source": [
    "from datasets import Dataset, DatasetDict\n",
    "dataset = DatasetDict({\n",
    "    \"partition\": Dataset.from_pandas(original),\n",
    "    \"counterfactual\":  Dataset.from_pandas(counterfactuals)\n",
    "})"
   ]
  },
  {
   "cell_type": "code",
   "execution_count": 246,
   "metadata": {
    "executionInfo": {
     "elapsed": 2,
     "status": "ok",
     "timestamp": 1715013732080,
     "user": {
      "displayName": "Sofia Terenziani",
      "userId": "07918956272317491448"
     },
     "user_tz": -120
    },
    "id": "uIV6JEKRtYSl"
   },
   "outputs": [],
   "source": [
    "from transformers import DataCollatorWithPadding\n",
    "data_collator = DataCollatorWithPadding(tokenizer=tokenizer)\n",
    "tokenizer_class = str(type(tokenizer)).strip(\"><'\").split('.')[-1]"
   ]
  },
  {
   "cell_type": "code",
   "execution_count": 247,
   "metadata": {
    "colab": {
     "base_uri": "https://localhost:8080/",
     "height": 81,
     "referenced_widgets": [
      "4da376b5576744d4814efa4747d27edb",
      "2b09469483854204bdf10b706617b30e",
      "abdf0cde20884b1da5f7c5973cbf6ed8",
      "ccbf01b4f58c44959ba1312704a511f0",
      "429878fb16004f819ff5614ab305a545",
      "11cba2a5f4ef431984482565a88de5fa",
      "78603b5800da4303836910019d4e2fc5",
      "d6ac90ff15db4b54978f3eefdd4e85af",
      "70e49ef6a81548a4b368409591589e10",
      "62afcca424df49a69f823db09bec8d4c",
      "81a34ceda19048269b97b76a0f396158",
      "e90e914770de49f8b5ccb2a5e5451bc8",
      "e76d551aa1954076be0fac00f39000c2",
      "06ea984395964112bd9986b2faa91ca7",
      "3bdba5a7885042a1b8ee83c2aa2d0710",
      "75bd761504a64719bc99e77cd4e5f323",
      "53c7971f78904fe3a4a00df8bdbe54fd",
      "3e05265582ce4046b2a13f8ee658c76f",
      "d176b0c1d0854fc281569726f0b7acfe",
      "457983fe7c6f4653b922a6fb58e31b79",
      "60f1cc56dc71479c83ef71a6a38363cf",
      "1a82c5905fd346b3be38e565f017d582"
     ]
    },
    "executionInfo": {
     "elapsed": 836,
     "status": "ok",
     "timestamp": 1715013733355,
     "user": {
      "displayName": "Sofia Terenziani",
      "userId": "07918956272317491448"
     },
     "user_tz": -120
    },
    "id": "iQx36mr-7OXj",
    "outputId": "63030c66-6e91-4f16-c2e2-d2cfe886e62e"
   },
   "outputs": [
    {
     "data": {
      "application/vnd.jupyter.widget-view+json": {
       "model_id": "4da376b5576744d4814efa4747d27edb",
       "version_major": 2,
       "version_minor": 0
      },
      "text/plain": [
       "Map:   0%|          | 0/204 [00:00<?, ? examples/s]"
      ]
     },
     "metadata": {},
     "output_type": "display_data"
    },
    {
     "data": {
      "application/vnd.jupyter.widget-view+json": {
       "model_id": "e90e914770de49f8b5ccb2a5e5451bc8",
       "version_major": 2,
       "version_minor": 0
      },
      "text/plain": [
       "Map:   0%|          | 0/203 [00:00<?, ? examples/s]"
      ]
     },
     "metadata": {},
     "output_type": "display_data"
    }
   ],
   "source": [
    "def preprocess_function(examples):\n",
    "  max_length_value = 508\n",
    "  return tokenizer(examples[\"annotated_context\"], truncation=True, max_length=max_length_value)\n",
    "\n",
    "tokenized_datasets = dataset.map(preprocess_function, batched=True)"
   ]
  },
  {
   "cell_type": "code",
   "execution_count": 250,
   "metadata": {
    "executionInfo": {
     "elapsed": 3,
     "status": "ok",
     "timestamp": 1715013733953,
     "user": {
      "displayName": "Sofia Terenziani",
      "userId": "07918956272317491448"
     },
     "user_tz": -120
    },
    "id": "ypZA0LdCqazh"
   },
   "outputs": [],
   "source": [
    "original['index'] = range(len(original))\n",
    "counterfactual['index'] = range(len(counterfactual))\n",
    "original_predictions['index'] = range(len(original_predictions))\n",
    "counterfactual_predictions['index'] = range(len(counterfactual_predictions))\n",
    "occlusion['index'] = range(len(occlusion))\n",
    "gradients['index'] = range(len(gradients))"
   ]
  },
  {
   "cell_type": "code",
   "execution_count": 252,
   "metadata": {
    "executionInfo": {
     "elapsed": 3,
     "status": "ok",
     "timestamp": 1715013736317,
     "user": {
      "displayName": "Sofia Terenziani",
      "userId": "07918956272317491448"
     },
     "user_tz": -120
    },
    "id": "qp_Z91tFrB_y"
   },
   "outputs": [],
   "source": [
    "merged = original\n",
    "merged['counterfactual'] = counterfactual['counterfactual']\n",
    "merged['pos_partition_counterfactual'] = counterfactual['pos_partition']\n",
    "merged['label_counterfactual'] = counterfactual['new_label']\n",
    "merged['occlusion_saliency'] = occlusion['word_attributions']\n",
    "merged['occlusion_saliency'] = occlusion['word_attributions']\n",
    "merged['gradient_saliency'] = gradients['word_attributions']\n",
    "merged['original_predictions'] = original_predictions['prediction']\n",
    "merged['counterfactual_predictions'] = counterfactual_predictions['prediction']"
   ]
  },
  {
   "cell_type": "code",
   "execution_count": 253,
   "metadata": {
    "executionInfo": {
     "elapsed": 4,
     "status": "ok",
     "timestamp": 1715013736700,
     "user": {
      "displayName": "Sofia Terenziani",
      "userId": "07918956272317491448"
     },
     "user_tz": -120
    },
    "id": "TYZ9F0y0Hbe-"
   },
   "outputs": [],
   "source": [
    "merged['index'] = range(len(merged))"
   ]
  },
  {
   "cell_type": "code",
   "execution_count": 254,
   "metadata": {
    "colab": {
     "base_uri": "https://localhost:8080/"
    },
    "executionInfo": {
     "elapsed": 343,
     "status": "ok",
     "timestamp": 1715013738681,
     "user": {
      "displayName": "Sofia Terenziani",
      "userId": "07918956272317491448"
     },
     "user_tz": -120
    },
    "id": "w-wuNJYQAo9r",
    "outputId": "78890c90-7132-4e6f-c6c9-97e9f265dc1f"
   },
   "outputs": [
    {
     "data": {
      "text/plain": [
       "Index(['id', 'context', 'eventA', 'eventB', 'label_temp', 'label',\n",
       "       'pos_partition', 'annotated_context', 'input_ids', 'token_type_ids',\n",
       "       'attention_mask', 'index', 'counterfactual',\n",
       "       'pos_partition_counterfactual', 'label_counterfactual',\n",
       "       'occlusion_saliency', 'gradient_saliency', 'original_predictions',\n",
       "       'counterfactual_predictions'],\n",
       "      dtype='object')"
      ]
     },
     "execution_count": 254,
     "metadata": {},
     "output_type": "execute_result"
    }
   ],
   "source": [
    "merged.columns"
   ]
  },
  {
   "cell_type": "markdown",
   "metadata": {
    "id": "Ubm5VgIK03fe"
   },
   "source": [
    "## Process Partition + Counterfactuals"
   ]
  },
  {
   "cell_type": "code",
   "execution_count": 255,
   "metadata": {
    "executionInfo": {
     "elapsed": 471,
     "status": "ok",
     "timestamp": 1715013743122,
     "user": {
      "displayName": "Sofia Terenziani",
      "userId": "07918956272317491448"
     },
     "user_tz": -120
    },
    "id": "GhKwhtOr5xWo"
   },
   "outputs": [],
   "source": [
    "check_accuracy_original = (merged['original_predictions'] == merged['label']).mean()\n",
    "check_accuracy_counterfactual = (merged['counterfactual_predictions'] == merged['label_counterfactual']).mean()"
   ]
  },
  {
   "cell_type": "code",
   "execution_count": 256,
   "metadata": {
    "executionInfo": {
     "elapsed": 5,
     "status": "ok",
     "timestamp": 1715013743536,
     "user": {
      "displayName": "Sofia Terenziani",
      "userId": "07918956272317491448"
     },
     "user_tz": -120
    },
    "id": "bUvVWJ9A-HxH"
   },
   "outputs": [],
   "source": [
    "merged['counterfactual_correct'] = merged['label_counterfactual'] == merged['counterfactual_predictions']\n",
    "merged['original_correct'] = merged['label'] == merged['original_predictions']"
   ]
  },
  {
   "cell_type": "code",
   "execution_count": 257,
   "metadata": {
    "colab": {
     "base_uri": "https://localhost:8080/"
    },
    "executionInfo": {
     "elapsed": 5,
     "status": "ok",
     "timestamp": 1715013743537,
     "user": {
      "displayName": "Sofia Terenziani",
      "userId": "07918956272317491448"
     },
     "user_tz": -120
    },
    "id": "kn9yzrjO-SFo",
    "outputId": "aec2d277-32b9-4824-ca1a-505a43cf7573"
   },
   "outputs": [
    {
     "name": "stdout",
     "output_type": "stream",
     "text": [
      "Number of instances where counterfactual true : 80\n",
      "Number of instances where original true : 111\n",
      "Number of instances where both counterfactual_correct and original_correct are True: 33\n",
      "Percentage of instances where both hold: 0.1625615763546798\n"
     ]
    }
   ],
   "source": [
    "count_true_counterfactuals = (merged['counterfactual_correct']).sum()\n",
    "count_true_original = (merged['original_correct']).sum()\n",
    "count_both_true = (merged['counterfactual_correct'] & merged['original_correct']).sum()\n",
    "print(\"Number of instances where counterfactual true :\", count_true_counterfactuals)\n",
    "print(\"Number of instances where original true :\", count_true_original)\n",
    "print(\"Number of instances where both counterfactual_correct and original_correct are True:\", count_both_true)\n",
    "print(\"Percentage of instances where both hold:\", count_both_true/len(counterfactuals))"
   ]
  },
  {
   "cell_type": "code",
   "execution_count": 258,
   "metadata": {
    "executionInfo": {
     "elapsed": 410,
     "status": "ok",
     "timestamp": 1715013745039,
     "user": {
      "displayName": "Sofia Terenziani",
      "userId": "07918956272317491448"
     },
     "user_tz": -120
    },
    "id": "S3NHsjay-W6E"
   },
   "outputs": [],
   "source": [
    "df = merged[merged['counterfactual_correct'] & merged['original_correct']]"
   ]
  },
  {
   "cell_type": "markdown",
   "metadata": {
    "id": "uSSfZPY2vQhy"
   },
   "source": [
    "## Check for: Counterfactuals + Occlusion"
   ]
  },
  {
   "cell_type": "code",
   "execution_count": 134,
   "metadata": {
    "executionInfo": {
     "elapsed": 2,
     "status": "ok",
     "timestamp": 1715012653783,
     "user": {
      "displayName": "Sofia Terenziani",
      "userId": "07918956272317491448"
     },
     "user_tz": -120
    },
    "id": "nQSkKaYJrOF0"
   },
   "outputs": [],
   "source": [
    "def get_saliency_df(df, index_col, attributions_col):\n",
    "    rows = []\n",
    "    for idx, attrs in zip(df[index_col], df[attributions_col]):\n",
    "        for token, scores in attrs:\n",
    "            avg_score = sum(scores) / len(scores) if scores else 0  # Compute average score, handle empty lists\n",
    "            rows.append({'index': idx, 'token': token, 'score': avg_score})\n",
    "    return pd.DataFrame(rows)"
   ]
  },
  {
   "cell_type": "code",
   "execution_count": 135,
   "metadata": {
    "executionInfo": {
     "elapsed": 3,
     "status": "ok",
     "timestamp": 1715012654157,
     "user": {
      "displayName": "Sofia Terenziani",
      "userId": "07918956272317491448"
     },
     "user_tz": -120
    },
    "id": "FdCaeT5PPYlt"
   },
   "outputs": [],
   "source": [
    "def get_saliency_partition_df(df_method, df_partition):\n",
    "    saliency_partition = pd.merge(df_method, df_partition, on='index', how='left')\n",
    "    saliency_partition['partition'] = saliency_partition.apply(determine_partition, axis=1)\n",
    "    saliency_partition = saliency_partition[['index', 'token', 'score', 'partition']]\n",
    "    return saliency_partition"
   ]
  },
  {
   "cell_type": "code",
   "execution_count": 136,
   "metadata": {
    "executionInfo": {
     "elapsed": 4,
     "status": "ok",
     "timestamp": 1715012654628,
     "user": {
      "displayName": "Sofia Terenziani",
      "userId": "07918956272317491448"
     },
     "user_tz": -120
    },
    "id": "VnvCRGNFX4PX"
   },
   "outputs": [],
   "source": [
    "def apply_ttest(group):\n",
    "    pos_scores = group[group['partition'] == 1]['score']\n",
    "    neg_scores = group[group['partition'] == 0]['score']\n",
    "    if len(pos_scores) > 1 and len(neg_scores) > 1:\n",
    "        stat, p_value = ttest_ind(pos_scores, neg_scores, alternative='greater')\n",
    "        return pd.Series({'t_stat': stat, 'p_value': p_value})\n",
    "    else:\n",
    "        return pd.Series({'t_stat': np.nan, 'p_value': np.nan})\n",
    "\n",
    "def compute_significance_partition(df_saliency_partition):\n",
    "    results = df_saliency_partition.groupby('index').apply(apply_ttest)\n",
    "    results['significantly_higher'] = (results['p_value'] < 0.05)\n",
    "    return results"
   ]
  },
  {
   "cell_type": "code",
   "execution_count": 137,
   "metadata": {
    "executionInfo": {
     "elapsed": 3,
     "status": "ok",
     "timestamp": 1715012656222,
     "user": {
      "displayName": "Sofia Terenziani",
      "userId": "07918956272317491448"
     },
     "user_tz": -120
    },
    "id": "g_DE_qRuX6Iq"
   },
   "outputs": [],
   "source": [
    "def compute_significance_partition(df_saliency_partition):\n",
    "    results = df_saliency_partition.groupby('index').apply(apply_ttest)\n",
    "    results['significantly_higher'] = (results['p_value'] < 0.05)\n",
    "    return results"
   ]
  },
  {
   "cell_type": "code",
   "execution_count": 138,
   "metadata": {
    "executionInfo": {
     "elapsed": 2,
     "status": "ok",
     "timestamp": 1715012656222,
     "user": {
      "displayName": "Sofia Terenziani",
      "userId": "07918956272317491448"
     },
     "user_tz": -120
    },
    "id": "p-SSiWCYX8eR"
   },
   "outputs": [],
   "source": [
    "def get_saliency_df(df, index_col, attributions_col):\n",
    "    rows = []\n",
    "    for idx, attrs in zip(df[index_col], df[attributions_col]):\n",
    "        for attr in attrs:\n",
    "            if isinstance(attr, tuple) and len(attr) == 2:\n",
    "                token, scores = attr\n",
    "                if scores and isinstance(scores, list): \n",
    "                    avg_score = sum(scores) / len(scores)  \n",
    "                else:\n",
    "                    avg_score = 0  \n",
    "                rows.append({'index': idx, 'token': token, 'score': avg_score})\n",
    "            else:\n",
    "                print(f\"Unexpected format in attributions: {attr}\")\n",
    "    return pd.DataFrame(rows)"
   ]
  },
  {
   "cell_type": "code",
   "execution_count": 140,
   "metadata": {
    "executionInfo": {
     "elapsed": 2,
     "status": "ok",
     "timestamp": 1715012657850,
     "user": {
      "displayName": "Sofia Terenziani",
      "userId": "07918956272317491448"
     },
     "user_tz": -120
    },
    "id": "oFY63Cd5SRGQ"
   },
   "outputs": [],
   "source": [
    "def determine_partition_original(row):\n",
    "    special_tokens = {'[SEP]', '[CLS]', '[a1]', '[a2]', '[/a1]', '[/a2]'}\n",
    "    if row['token'] in row['original_pos_partition']: \n",
    "        return 1\n",
    "    else:\n",
    "        return 0  "
   ]
  },
  {
   "cell_type": "code",
   "execution_count": 141,
   "metadata": {
    "executionInfo": {
     "elapsed": 2,
     "status": "ok",
     "timestamp": 1715012659484,
     "user": {
      "displayName": "Sofia Terenziani",
      "userId": "07918956272317491448"
     },
     "user_tz": -120
    },
    "id": "wPWy0KREdj7y"
   },
   "outputs": [],
   "source": [
    "def parse_list_string(s):\n",
    "    s = s.strip(\"[]\")\n",
    "    items = s.split(\"', '\")\n",
    "    if items:\n",
    "        items[0] = items[0].strip(\"'\")\n",
    "        items[-1] = items[-1].strip(\"'\")\n",
    "    return items"
   ]
  },
  {
   "cell_type": "code",
   "execution_count": 142,
   "metadata": {
    "executionInfo": {
     "elapsed": 3,
     "status": "ok",
     "timestamp": 1715012660160,
     "user": {
      "displayName": "Sofia Terenziani",
      "userId": "07918956272317491448"
     },
     "user_tz": -120
    },
    "id": "cLVXSwD0e1G5"
   },
   "outputs": [],
   "source": [
    "def convert_to_list(string):\n",
    "    string = string.strip('{}')\n",
    "    return string.split(', ')"
   ]
  },
  {
   "cell_type": "code",
   "execution_count": 234,
   "metadata": {
    "executionInfo": {
     "elapsed": 721,
     "status": "ok",
     "timestamp": 1715013620191,
     "user": {
      "displayName": "Sofia Terenziani",
      "userId": "07918956272317491448"
     },
     "user_tz": -120
    },
    "id": "g-V3ryltxwk1"
   },
   "outputs": [],
   "source": [
    "def convert_to_list(s):\n",
    "    s = s.strip('{}')  # Remove the curly braces\n",
    "    return [item.strip() for item in s.split(',')]"
   ]
  },
  {
   "cell_type": "code",
   "execution_count": 259,
   "metadata": {
    "executionInfo": {
     "elapsed": 7748,
     "status": "ok",
     "timestamp": 1715013763137,
     "user": {
      "displayName": "Sofia Terenziani",
      "userId": "07918956272317491448"
     },
     "user_tz": -120
    },
    "id": "2D4SO1r-wNBC"
   },
   "outputs": [],
   "source": [
    "occlusion['word_attributions'] = occlusion['word_attributions'].apply(lambda x: ast.literal_eval(x.replace(\"('[\", \"(\\\"[\").replace(\"]',\", \"]\\\",\").replace(\")']\", \")]\")))\n",
    "saliency_occlusion = get_saliency_df(occlusion, 'index', 'word_attributions')"
   ]
  },
  {
   "cell_type": "code",
   "execution_count": 260,
   "metadata": {
    "executionInfo": {
     "elapsed": 17,
     "status": "ok",
     "timestamp": 1715013763137,
     "user": {
      "displayName": "Sofia Terenziani",
      "userId": "07918956272317491448"
     },
     "user_tz": -120
    },
    "id": "cRbJttiGwNBE"
   },
   "outputs": [],
   "source": [
    "saliency_occlusion = df.merge(saliency_occlusion, on='index', how='left')"
   ]
  },
  {
   "cell_type": "code",
   "execution_count": 276,
   "metadata": {
    "executionInfo": {
     "elapsed": 1105,
     "status": "ok",
     "timestamp": 1715014076901,
     "user": {
      "displayName": "Sofia Terenziani",
      "userId": "07918956272317491448"
     },
     "user_tz": -120
    },
    "id": "J3YgG7hzzPn8"
   },
   "outputs": [],
   "source": [
    "occlusion_partition = get_saliency_partition_df(saliency_occlusion, partitions)\n",
    "saliency_occlusion['partition'] = saliency_occlusion.apply(determine_partition, axis=1)\n",
    "saliency_partition = saliency_occlusion[['index', 'token', 'score', 'partition']]"
   ]
  },
  {
   "cell_type": "code",
   "execution_count": 277,
   "metadata": {
    "executionInfo": {
     "elapsed": 379,
     "status": "ok",
     "timestamp": 1715014118401,
     "user": {
      "displayName": "Sofia Terenziani",
      "userId": "07918956272317491448"
     },
     "user_tz": -120
    },
    "id": "NbkzKUOwzhTD"
   },
   "outputs": [],
   "source": [
    "saliencies = df.merge(saliency_partition, on='index', how='left')"
   ]
  },
  {
   "cell_type": "markdown",
   "metadata": {
    "id": "gkWwt4iHS2lB"
   },
   "source": [
    "## Check for: Counterfactuals + Gradients"
   ]
  },
  {
   "cell_type": "code",
   "execution_count": 155,
   "metadata": {
    "executionInfo": {
     "elapsed": 3,
     "status": "ok",
     "timestamp": 1715012731602,
     "user": {
      "displayName": "Sofia Terenziani",
      "userId": "07918956272317491448"
     },
     "user_tz": -120
    },
    "id": "FZ1FaBAWS2lQ"
   },
   "outputs": [],
   "source": [
    "def get_saliency_df(df, index_col, attributions_col):\n",
    "    rows = []\n",
    "    for idx, attrs in zip(df[index_col], df[attributions_col]):\n",
    "        for token, scores in attrs:\n",
    "            avg_score = sum(scores) / len(scores) if scores else 0  # Compute average score, handle empty lists\n",
    "            rows.append({'index': idx, 'token': token, 'score': avg_score})\n",
    "    return pd.DataFrame(rows)"
   ]
  },
  {
   "cell_type": "code",
   "execution_count": 156,
   "metadata": {
    "executionInfo": {
     "elapsed": 3,
     "status": "ok",
     "timestamp": 1715012731603,
     "user": {
      "displayName": "Sofia Terenziani",
      "userId": "07918956272317491448"
     },
     "user_tz": -120
    },
    "id": "GQwVvaXdS2lQ"
   },
   "outputs": [],
   "source": [
    "def get_saliency_partition_df(df_method, df_partition):\n",
    "    saliency_partition = pd.merge(df_method, df_partition, on='index', how='left')\n",
    "    saliency_partition['partition'] = saliency_partition.apply(determine_partition, axis=1)\n",
    "    saliency_partition = saliency_partition[['index', 'token', 'score', 'partition']]\n",
    "    return saliency_partition"
   ]
  },
  {
   "cell_type": "code",
   "execution_count": 157,
   "metadata": {
    "executionInfo": {
     "elapsed": 2,
     "status": "ok",
     "timestamp": 1715012731933,
     "user": {
      "displayName": "Sofia Terenziani",
      "userId": "07918956272317491448"
     },
     "user_tz": -120
    },
    "id": "UjDHDtC4S2lQ"
   },
   "outputs": [],
   "source": [
    "def apply_ttest(group):\n",
    "    pos_scores = group[group['partition'] == 1]['score']\n",
    "    neg_scores = group[group['partition'] == 0]['score']\n",
    "    if len(pos_scores) > 1 and len(neg_scores) > 1:\n",
    "        stat, p_value = ttest_ind(pos_scores, neg_scores, alternative='greater')\n",
    "        return pd.Series({'t_stat': stat, 'p_value': p_value})\n",
    "    else:\n",
    "        return pd.Series({'t_stat': np.nan, 'p_value': np.nan})\n",
    "\n",
    "def compute_significance_partition(df_saliency_partition):\n",
    "    results = df_saliency_partition.groupby('index').apply(apply_ttest)\n",
    "    results['significantly_higher'] = (results['p_value'] < 0.05)\n",
    "    return results"
   ]
  },
  {
   "cell_type": "code",
   "execution_count": 158,
   "metadata": {
    "executionInfo": {
     "elapsed": 4,
     "status": "ok",
     "timestamp": 1715012732384,
     "user": {
      "displayName": "Sofia Terenziani",
      "userId": "07918956272317491448"
     },
     "user_tz": -120
    },
    "id": "8shXx5HpS2lQ"
   },
   "outputs": [],
   "source": [
    "def compute_significance_partition(df_saliency_partition):\n",
    "    results = df_saliency_partition.groupby('index').apply(apply_ttest)\n",
    "    results['significantly_higher'] = (results['p_value'] < 0.05)\n",
    "    return results"
   ]
  },
  {
   "cell_type": "code",
   "execution_count": 159,
   "metadata": {
    "executionInfo": {
     "elapsed": 4,
     "status": "ok",
     "timestamp": 1715012733679,
     "user": {
      "displayName": "Sofia Terenziani",
      "userId": "07918956272317491448"
     },
     "user_tz": -120
    },
    "id": "om4Pr0MDS2lR"
   },
   "outputs": [],
   "source": [
    "def get_saliency_df(df, index_col, attributions_col):\n",
    "    rows = []\n",
    "    for idx, attrs in zip(df[index_col], df[attributions_col]):\n",
    "        for attr in attrs:\n",
    "            if isinstance(attr, tuple) and len(attr) == 2:\n",
    "                token, scores = attr\n",
    "                rows.append({'index': idx, 'token': token, 'score': scores})\n",
    "            else:\n",
    "                print(f\"Unexpected format in attributions: {attr}\")\n",
    "    return pd.DataFrame(rows)"
   ]
  },
  {
   "cell_type": "code",
   "execution_count": 160,
   "metadata": {
    "executionInfo": {
     "elapsed": 2,
     "status": "ok",
     "timestamp": 1715012734038,
     "user": {
      "displayName": "Sofia Terenziani",
      "userId": "07918956272317491448"
     },
     "user_tz": -120
    },
    "id": "bP5Y9VeWSmeH"
   },
   "outputs": [],
   "source": [
    "def determine_partition(row):\n",
    "    special_tokens = {'[SEP]', '[CLS]', '[a1]', '[a2]', '[/a1]', '[/a2]'}\n",
    "    if row['token'] in row['pos_partition']: \n",
    "        return 1\n",
    "    else:\n",
    "        return 0  "
   ]
  },
  {
   "cell_type": "code",
   "execution_count": 161,
   "metadata": {
    "executionInfo": {
     "elapsed": 2,
     "status": "ok",
     "timestamp": 1715012735393,
     "user": {
      "displayName": "Sofia Terenziani",
      "userId": "07918956272317491448"
     },
     "user_tz": -120
    },
    "id": "yHx7RzlaS2lR"
   },
   "outputs": [],
   "source": [
    "def determine_partition_original(row):\n",
    "    special_tokens = {'[SEP]', '[CLS]', '[a1]', '[a2]', '[/a1]', '[/a2]'}\n",
    "    if row['token'] in row['original_pos_partition']: \n",
    "        return 1\n",
    "    else:\n",
    "        return 0  "
   ]
  },
  {
   "cell_type": "code",
   "execution_count": 162,
   "metadata": {
    "executionInfo": {
     "elapsed": 2,
     "status": "ok",
     "timestamp": 1715012735393,
     "user": {
      "displayName": "Sofia Terenziani",
      "userId": "07918956272317491448"
     },
     "user_tz": -120
    },
    "id": "VwlU--WES2lR"
   },
   "outputs": [],
   "source": [
    "def parse_list_string(s):\n",
    "    s = s.strip(\"[]\")\n",
    "    items = s.split(\"', '\")\n",
    "    if items:\n",
    "        items[0] = items[0].strip(\"'\")\n",
    "        items[-1] = items[-1].strip(\"'\")\n",
    "    return items"
   ]
  },
  {
   "cell_type": "code",
   "execution_count": 163,
   "metadata": {
    "executionInfo": {
     "elapsed": 2,
     "status": "ok",
     "timestamp": 1715012735659,
     "user": {
      "displayName": "Sofia Terenziani",
      "userId": "07918956272317491448"
     },
     "user_tz": -120
    },
    "id": "zhsAcuXjS2lR"
   },
   "outputs": [],
   "source": [
    "def convert_to_list(string):\n",
    "    string = string.strip('{}')\n",
    "    return string.split(', ')"
   ]
  },
  {
   "cell_type": "code",
   "execution_count": 284,
   "metadata": {
    "executionInfo": {
     "elapsed": 2429,
     "status": "ok",
     "timestamp": 1715014331980,
     "user": {
      "displayName": "Sofia Terenziani",
      "userId": "07918956272317491448"
     },
     "user_tz": -120
    },
    "id": "ifHm5vUZS2lR"
   },
   "outputs": [],
   "source": [
    "gradients['word_attributions'] = gradients['word_attributions'].apply(lambda x: ast.literal_eval(x.replace(\"('[\", \"(\\\"[\").replace(\"]',\", \"]\\\",\").replace(\")']\", \")]\")))\n",
    "saliency_gradients = get_saliency_df(gradients, 'index', 'word_attributions')\n",
    "gradients_partition = get_saliency_partition_df(saliency_gradients, original)"
   ]
  },
  {
   "cell_type": "code",
   "execution_count": 285,
   "metadata": {
    "executionInfo": {
     "elapsed": 402,
     "status": "ok",
     "timestamp": 1715014346401,
     "user": {
      "displayName": "Sofia Terenziani",
      "userId": "07918956272317491448"
     },
     "user_tz": -120
    },
    "id": "knDfG6SkS2lR"
   },
   "outputs": [],
   "source": [
    "gradients_df = df.merge(gradients_partition, on='index', how='left')"
   ]
  },
  {
   "cell_type": "code",
   "execution_count": 289,
   "metadata": {
    "executionInfo": {
     "elapsed": 1180,
     "status": "ok",
     "timestamp": 1715014377338,
     "user": {
      "displayName": "Sofia Terenziani",
      "userId": "07918956272317491448"
     },
     "user_tz": -120
    },
    "id": "xB4kUC_1S2lS"
   },
   "outputs": [],
   "source": [
    "gradients_df['pos_partition'] = gradients_df['pos_partition'].apply(convert_to_list)\n",
    "gradients_df['pos_partition'] = gradients_df.apply(determine_partition, axis=1)\n",
    "results = compute_significance_partition(gradients_df)"
   ]
  },
  {
   "cell_type": "code",
   "execution_count": 290,
   "metadata": {
    "executionInfo": {
     "elapsed": 331,
     "status": "ok",
     "timestamp": 1715014384866,
     "user": {
      "displayName": "Sofia Terenziani",
      "userId": "07918956272317491448"
     },
     "user_tz": -120
    },
    "id": "S9FPp1sES2lS"
   },
   "outputs": [],
   "source": [
    "count_true = (results['significantly_higher'] == True).sum()\n",
    "ratio_true = (count_true/len(results))"
   ]
  },
  {
   "cell_type": "code",
   "execution_count": 291,
   "metadata": {
    "colab": {
     "base_uri": "https://localhost:8080/"
    },
    "executionInfo": {
     "elapsed": 399,
     "status": "ok",
     "timestamp": 1715014386255,
     "user": {
      "displayName": "Sofia Terenziani",
      "userId": "07918956272317491448"
     },
     "user_tz": -120
    },
    "id": "S67xa5fOS2lS",
    "outputId": "25eb8d42-8174-4295-9053-5cd19b7751f9"
   },
   "outputs": [
    {
     "name": "stdout",
     "output_type": "stream",
     "text": [
      "Proportion of instances in occlusion, significantly higher:  {0.3939393939393939}\n"
     ]
    }
   ],
   "source": [
    "print(f\"Proportion of instances in occlusion, significantly higher: \", {ratio_true})"
   ]
  },
  {
   "cell_type": "code",
   "execution_count": 292,
   "metadata": {
    "colab": {
     "base_uri": "https://localhost:8080/"
    },
    "executionInfo": {
     "elapsed": 5,
     "status": "ok",
     "timestamp": 1715014387517,
     "user": {
      "displayName": "Sofia Terenziani",
      "userId": "07918956272317491448"
     },
     "user_tz": -120
    },
    "id": "Vu5DWzAiS2lS",
    "outputId": "775ed86d-cf06-4514-d6e2-d52b97e1d754"
   },
   "outputs": [
    {
     "name": "stdout",
     "output_type": "stream",
     "text": [
      "Number of instances in occlusion, significantly higher:  {13}\n"
     ]
    }
   ],
   "source": [
    "print(f\"Number of instances in occlusion, significantly higher: \" , {count_true})"
   ]
  }
 ],
 "metadata": {
  "colab": {
   "authorship_tag": "ABX9TyNf8yadI04FOpxncrKMxRx8",
   "provenance": []
  },
  "kernelspec": {
   "display_name": "Python 3 (ipykernel)",
   "language": "python",
   "name": "python3"
  },
  "language_info": {
   "codemirror_mode": {
    "name": "ipython",
    "version": 3
   },
   "file_extension": ".py",
   "mimetype": "text/x-python",
   "name": "python",
   "nbconvert_exporter": "python",
   "pygments_lexer": "ipython3",
   "version": "3.11.5"
  },
  "widgets": {
   "application/vnd.jupyter.widget-state+json": {
    "01e11ebacb6641f1854cf3c958f61c85": {
     "model_module": "@jupyter-widgets/controls",
     "model_module_version": "1.5.0",
     "model_name": "DescriptionStyleModel",
     "state": {
      "_model_module": "@jupyter-widgets/controls",
      "_model_module_version": "1.5.0",
      "_model_name": "DescriptionStyleModel",
      "_view_count": null,
      "_view_module": "@jupyter-widgets/base",
      "_view_module_version": "1.2.0",
      "_view_name": "StyleView",
      "description_width": ""
     }
    },
    "037dcbd80357477a8c9f3b8c86f6ac46": {
     "model_module": "@jupyter-widgets/controls",
     "model_module_version": "1.5.0",
     "model_name": "ProgressStyleModel",
     "state": {
      "_model_module": "@jupyter-widgets/controls",
      "_model_module_version": "1.5.0",
      "_model_name": "ProgressStyleModel",
      "_view_count": null,
      "_view_module": "@jupyter-widgets/base",
      "_view_module_version": "1.2.0",
      "_view_name": "StyleView",
      "bar_color": null,
      "description_width": ""
     }
    },
    "06ea984395964112bd9986b2faa91ca7": {
     "model_module": "@jupyter-widgets/controls",
     "model_module_version": "1.5.0",
     "model_name": "FloatProgressModel",
     "state": {
      "_dom_classes": [],
      "_model_module": "@jupyter-widgets/controls",
      "_model_module_version": "1.5.0",
      "_model_name": "FloatProgressModel",
      "_view_count": null,
      "_view_module": "@jupyter-widgets/controls",
      "_view_module_version": "1.5.0",
      "_view_name": "ProgressView",
      "bar_style": "success",
      "description": "",
      "description_tooltip": null,
      "layout": "IPY_MODEL_d176b0c1d0854fc281569726f0b7acfe",
      "max": 203,
      "min": 0,
      "orientation": "horizontal",
      "style": "IPY_MODEL_457983fe7c6f4653b922a6fb58e31b79",
      "value": 203
     }
    },
    "07967c1a52ff498b9b97f8e21951207b": {
     "model_module": "@jupyter-widgets/controls",
     "model_module_version": "1.5.0",
     "model_name": "ProgressStyleModel",
     "state": {
      "_model_module": "@jupyter-widgets/controls",
      "_model_module_version": "1.5.0",
      "_model_name": "ProgressStyleModel",
      "_view_count": null,
      "_view_module": "@jupyter-widgets/base",
      "_view_module_version": "1.2.0",
      "_view_name": "StyleView",
      "bar_color": null,
      "description_width": ""
     }
    },
    "09306acf314e4fefb06ebb57ada26e43": {
     "model_module": "@jupyter-widgets/controls",
     "model_module_version": "1.5.0",
     "model_name": "FloatProgressModel",
     "state": {
      "_dom_classes": [],
      "_model_module": "@jupyter-widgets/controls",
      "_model_module_version": "1.5.0",
      "_model_name": "FloatProgressModel",
      "_view_count": null,
      "_view_module": "@jupyter-widgets/controls",
      "_view_module_version": "1.5.0",
      "_view_name": "ProgressView",
      "bar_style": "success",
      "description": "",
      "description_tooltip": null,
      "layout": "IPY_MODEL_2df993e966f1444ba3f34bd9aaf2bace",
      "max": 203,
      "min": 0,
      "orientation": "horizontal",
      "style": "IPY_MODEL_e5ca349291a84d0b969ee1941525fcea",
      "value": 203
     }
    },
    "0dff92279c244570bdb77bf860521e44": {
     "model_module": "@jupyter-widgets/base",
     "model_module_version": "1.2.0",
     "model_name": "LayoutModel",
     "state": {
      "_model_module": "@jupyter-widgets/base",
      "_model_module_version": "1.2.0",
      "_model_name": "LayoutModel",
      "_view_count": null,
      "_view_module": "@jupyter-widgets/base",
      "_view_module_version": "1.2.0",
      "_view_name": "LayoutView",
      "align_content": null,
      "align_items": null,
      "align_self": null,
      "border": null,
      "bottom": null,
      "display": null,
      "flex": null,
      "flex_flow": null,
      "grid_area": null,
      "grid_auto_columns": null,
      "grid_auto_flow": null,
      "grid_auto_rows": null,
      "grid_column": null,
      "grid_gap": null,
      "grid_row": null,
      "grid_template_areas": null,
      "grid_template_columns": null,
      "grid_template_rows": null,
      "height": null,
      "justify_content": null,
      "justify_items": null,
      "left": null,
      "margin": null,
      "max_height": null,
      "max_width": null,
      "min_height": null,
      "min_width": null,
      "object_fit": null,
      "object_position": null,
      "order": null,
      "overflow": null,
      "overflow_x": null,
      "overflow_y": null,
      "padding": null,
      "right": null,
      "top": null,
      "visibility": null,
      "width": null
     }
    },
    "11cba2a5f4ef431984482565a88de5fa": {
     "model_module": "@jupyter-widgets/base",
     "model_module_version": "1.2.0",
     "model_name": "LayoutModel",
     "state": {
      "_model_module": "@jupyter-widgets/base",
      "_model_module_version": "1.2.0",
      "_model_name": "LayoutModel",
      "_view_count": null,
      "_view_module": "@jupyter-widgets/base",
      "_view_module_version": "1.2.0",
      "_view_name": "LayoutView",
      "align_content": null,
      "align_items": null,
      "align_self": null,
      "border": null,
      "bottom": null,
      "display": null,
      "flex": null,
      "flex_flow": null,
      "grid_area": null,
      "grid_auto_columns": null,
      "grid_auto_flow": null,
      "grid_auto_rows": null,
      "grid_column": null,
      "grid_gap": null,
      "grid_row": null,
      "grid_template_areas": null,
      "grid_template_columns": null,
      "grid_template_rows": null,
      "height": null,
      "justify_content": null,
      "justify_items": null,
      "left": null,
      "margin": null,
      "max_height": null,
      "max_width": null,
      "min_height": null,
      "min_width": null,
      "object_fit": null,
      "object_position": null,
      "order": null,
      "overflow": null,
      "overflow_x": null,
      "overflow_y": null,
      "padding": null,
      "right": null,
      "top": null,
      "visibility": null,
      "width": null
     }
    },
    "121be51e9e7649a494a0d3edc3cf38dc": {
     "model_module": "@jupyter-widgets/base",
     "model_module_version": "1.2.0",
     "model_name": "LayoutModel",
     "state": {
      "_model_module": "@jupyter-widgets/base",
      "_model_module_version": "1.2.0",
      "_model_name": "LayoutModel",
      "_view_count": null,
      "_view_module": "@jupyter-widgets/base",
      "_view_module_version": "1.2.0",
      "_view_name": "LayoutView",
      "align_content": null,
      "align_items": null,
      "align_self": null,
      "border": null,
      "bottom": null,
      "display": null,
      "flex": null,
      "flex_flow": null,
      "grid_area": null,
      "grid_auto_columns": null,
      "grid_auto_flow": null,
      "grid_auto_rows": null,
      "grid_column": null,
      "grid_gap": null,
      "grid_row": null,
      "grid_template_areas": null,
      "grid_template_columns": null,
      "grid_template_rows": null,
      "height": null,
      "justify_content": null,
      "justify_items": null,
      "left": null,
      "margin": null,
      "max_height": null,
      "max_width": null,
      "min_height": null,
      "min_width": null,
      "object_fit": null,
      "object_position": null,
      "order": null,
      "overflow": null,
      "overflow_x": null,
      "overflow_y": null,
      "padding": null,
      "right": null,
      "top": null,
      "visibility": null,
      "width": null
     }
    },
    "130c77a1dde1478ab44060f6732617a9": {
     "model_module": "@jupyter-widgets/controls",
     "model_module_version": "1.5.0",
     "model_name": "HTMLModel",
     "state": {
      "_dom_classes": [],
      "_model_module": "@jupyter-widgets/controls",
      "_model_module_version": "1.5.0",
      "_model_name": "HTMLModel",
      "_view_count": null,
      "_view_module": "@jupyter-widgets/controls",
      "_view_module_version": "1.5.0",
      "_view_name": "HTMLView",
      "description": "",
      "description_tooltip": null,
      "layout": "IPY_MODEL_401fbdf7368b423a994d3c605ce5369e",
      "placeholder": "​",
      "style": "IPY_MODEL_7a74fa1009764584a71260e3869d1822",
      "value": " 440M/440M [00:05&lt;00:00, 72.0MB/s]"
     }
    },
    "16780193be7c4158a8546f118c7f3a16": {
     "model_module": "@jupyter-widgets/controls",
     "model_module_version": "1.5.0",
     "model_name": "DescriptionStyleModel",
     "state": {
      "_model_module": "@jupyter-widgets/controls",
      "_model_module_version": "1.5.0",
      "_model_name": "DescriptionStyleModel",
      "_view_count": null,
      "_view_module": "@jupyter-widgets/base",
      "_view_module_version": "1.2.0",
      "_view_name": "StyleView",
      "description_width": ""
     }
    },
    "1a82c5905fd346b3be38e565f017d582": {
     "model_module": "@jupyter-widgets/controls",
     "model_module_version": "1.5.0",
     "model_name": "DescriptionStyleModel",
     "state": {
      "_model_module": "@jupyter-widgets/controls",
      "_model_module_version": "1.5.0",
      "_model_name": "DescriptionStyleModel",
      "_view_count": null,
      "_view_module": "@jupyter-widgets/base",
      "_view_module_version": "1.2.0",
      "_view_name": "StyleView",
      "description_width": ""
     }
    },
    "1d0431bdf58e4a1d961b72bed39999c1": {
     "model_module": "@jupyter-widgets/controls",
     "model_module_version": "1.5.0",
     "model_name": "FloatProgressModel",
     "state": {
      "_dom_classes": [],
      "_model_module": "@jupyter-widgets/controls",
      "_model_module_version": "1.5.0",
      "_model_name": "FloatProgressModel",
      "_view_count": null,
      "_view_module": "@jupyter-widgets/controls",
      "_view_module_version": "1.5.0",
      "_view_name": "ProgressView",
      "bar_style": "success",
      "description": "",
      "description_tooltip": null,
      "layout": "IPY_MODEL_9603a200395b499dad1edc3cf8ca97f7",
      "max": 570,
      "min": 0,
      "orientation": "horizontal",
      "style": "IPY_MODEL_b89ead59e94247ffa158b746b4ce6ccf",
      "value": 570
     }
    },
    "1ddc59aeab0c4952864cf4a99af64f97": {
     "model_module": "@jupyter-widgets/controls",
     "model_module_version": "1.5.0",
     "model_name": "FloatProgressModel",
     "state": {
      "_dom_classes": [],
      "_model_module": "@jupyter-widgets/controls",
      "_model_module_version": "1.5.0",
      "_model_name": "FloatProgressModel",
      "_view_count": null,
      "_view_module": "@jupyter-widgets/controls",
      "_view_module_version": "1.5.0",
      "_view_name": "ProgressView",
      "bar_style": "success",
      "description": "",
      "description_tooltip": null,
      "layout": "IPY_MODEL_3bedb4c1788543bd82cc5641c9f29c95",
      "max": 204,
      "min": 0,
      "orientation": "horizontal",
      "style": "IPY_MODEL_037dcbd80357477a8c9f3b8c86f6ac46",
      "value": 204
     }
    },
    "1e731ab405b8432e93d416d8dc6498a3": {
     "model_module": "@jupyter-widgets/controls",
     "model_module_version": "1.5.0",
     "model_name": "HTMLModel",
     "state": {
      "_dom_classes": [],
      "_model_module": "@jupyter-widgets/controls",
      "_model_module_version": "1.5.0",
      "_model_name": "HTMLModel",
      "_view_count": null,
      "_view_module": "@jupyter-widgets/controls",
      "_view_module_version": "1.5.0",
      "_view_name": "HTMLView",
      "description": "",
      "description_tooltip": null,
      "layout": "IPY_MODEL_9d5367a1d829439ebec1723e64d2d042",
      "placeholder": "​",
      "style": "IPY_MODEL_be173ce303d94ba2adb740a43d7338dc",
      "value": "Map: 100%"
     }
    },
    "28bb1549bda64a1ebf06c7c05eca8468": {
     "model_module": "@jupyter-widgets/base",
     "model_module_version": "1.2.0",
     "model_name": "LayoutModel",
     "state": {
      "_model_module": "@jupyter-widgets/base",
      "_model_module_version": "1.2.0",
      "_model_name": "LayoutModel",
      "_view_count": null,
      "_view_module": "@jupyter-widgets/base",
      "_view_module_version": "1.2.0",
      "_view_name": "LayoutView",
      "align_content": null,
      "align_items": null,
      "align_self": null,
      "border": null,
      "bottom": null,
      "display": null,
      "flex": null,
      "flex_flow": null,
      "grid_area": null,
      "grid_auto_columns": null,
      "grid_auto_flow": null,
      "grid_auto_rows": null,
      "grid_column": null,
      "grid_gap": null,
      "grid_row": null,
      "grid_template_areas": null,
      "grid_template_columns": null,
      "grid_template_rows": null,
      "height": null,
      "justify_content": null,
      "justify_items": null,
      "left": null,
      "margin": null,
      "max_height": null,
      "max_width": null,
      "min_height": null,
      "min_width": null,
      "object_fit": null,
      "object_position": null,
      "order": null,
      "overflow": null,
      "overflow_x": null,
      "overflow_y": null,
      "padding": null,
      "right": null,
      "top": null,
      "visibility": null,
      "width": null
     }
    },
    "29683267ab124a5f8ed6b7f6be0965e2": {
     "model_module": "@jupyter-widgets/controls",
     "model_module_version": "1.5.0",
     "model_name": "DescriptionStyleModel",
     "state": {
      "_model_module": "@jupyter-widgets/controls",
      "_model_module_version": "1.5.0",
      "_model_name": "DescriptionStyleModel",
      "_view_count": null,
      "_view_module": "@jupyter-widgets/base",
      "_view_module_version": "1.2.0",
      "_view_name": "StyleView",
      "description_width": ""
     }
    },
    "2b09469483854204bdf10b706617b30e": {
     "model_module": "@jupyter-widgets/controls",
     "model_module_version": "1.5.0",
     "model_name": "HTMLModel",
     "state": {
      "_dom_classes": [],
      "_model_module": "@jupyter-widgets/controls",
      "_model_module_version": "1.5.0",
      "_model_name": "HTMLModel",
      "_view_count": null,
      "_view_module": "@jupyter-widgets/controls",
      "_view_module_version": "1.5.0",
      "_view_name": "HTMLView",
      "description": "",
      "description_tooltip": null,
      "layout": "IPY_MODEL_11cba2a5f4ef431984482565a88de5fa",
      "placeholder": "​",
      "style": "IPY_MODEL_78603b5800da4303836910019d4e2fc5",
      "value": "Map: 100%"
     }
    },
    "2b3b75b13009464f886cac6f350352a1": {
     "model_module": "@jupyter-widgets/base",
     "model_module_version": "1.2.0",
     "model_name": "LayoutModel",
     "state": {
      "_model_module": "@jupyter-widgets/base",
      "_model_module_version": "1.2.0",
      "_model_name": "LayoutModel",
      "_view_count": null,
      "_view_module": "@jupyter-widgets/base",
      "_view_module_version": "1.2.0",
      "_view_name": "LayoutView",
      "align_content": null,
      "align_items": null,
      "align_self": null,
      "border": null,
      "bottom": null,
      "display": null,
      "flex": null,
      "flex_flow": null,
      "grid_area": null,
      "grid_auto_columns": null,
      "grid_auto_flow": null,
      "grid_auto_rows": null,
      "grid_column": null,
      "grid_gap": null,
      "grid_row": null,
      "grid_template_areas": null,
      "grid_template_columns": null,
      "grid_template_rows": null,
      "height": null,
      "justify_content": null,
      "justify_items": null,
      "left": null,
      "margin": null,
      "max_height": null,
      "max_width": null,
      "min_height": null,
      "min_width": null,
      "object_fit": null,
      "object_position": null,
      "order": null,
      "overflow": null,
      "overflow_x": null,
      "overflow_y": null,
      "padding": null,
      "right": null,
      "top": null,
      "visibility": null,
      "width": null
     }
    },
    "2df993e966f1444ba3f34bd9aaf2bace": {
     "model_module": "@jupyter-widgets/base",
     "model_module_version": "1.2.0",
     "model_name": "LayoutModel",
     "state": {
      "_model_module": "@jupyter-widgets/base",
      "_model_module_version": "1.2.0",
      "_model_name": "LayoutModel",
      "_view_count": null,
      "_view_module": "@jupyter-widgets/base",
      "_view_module_version": "1.2.0",
      "_view_name": "LayoutView",
      "align_content": null,
      "align_items": null,
      "align_self": null,
      "border": null,
      "bottom": null,
      "display": null,
      "flex": null,
      "flex_flow": null,
      "grid_area": null,
      "grid_auto_columns": null,
      "grid_auto_flow": null,
      "grid_auto_rows": null,
      "grid_column": null,
      "grid_gap": null,
      "grid_row": null,
      "grid_template_areas": null,
      "grid_template_columns": null,
      "grid_template_rows": null,
      "height": null,
      "justify_content": null,
      "justify_items": null,
      "left": null,
      "margin": null,
      "max_height": null,
      "max_width": null,
      "min_height": null,
      "min_width": null,
      "object_fit": null,
      "object_position": null,
      "order": null,
      "overflow": null,
      "overflow_x": null,
      "overflow_y": null,
      "padding": null,
      "right": null,
      "top": null,
      "visibility": null,
      "width": null
     }
    },
    "2e2b5941b76e427eaa27939e881fc3ee": {
     "model_module": "@jupyter-widgets/controls",
     "model_module_version": "1.5.0",
     "model_name": "HBoxModel",
     "state": {
      "_dom_classes": [],
      "_model_module": "@jupyter-widgets/controls",
      "_model_module_version": "1.5.0",
      "_model_name": "HBoxModel",
      "_view_count": null,
      "_view_module": "@jupyter-widgets/controls",
      "_view_module_version": "1.5.0",
      "_view_name": "HBoxView",
      "box_style": "",
      "children": [
       "IPY_MODEL_e7dcf3a832d840568d595756a84fe12c",
       "IPY_MODEL_1ddc59aeab0c4952864cf4a99af64f97",
       "IPY_MODEL_6a59c7c40943476da0f29411fe7fc3a8"
      ],
      "layout": "IPY_MODEL_f14f845c0b17407ab03c174b055c519e"
     }
    },
    "38f183fcfc3c41fcb9a0c8cc4ba8cd77": {
     "model_module": "@jupyter-widgets/controls",
     "model_module_version": "1.5.0",
     "model_name": "HBoxModel",
     "state": {
      "_dom_classes": [],
      "_model_module": "@jupyter-widgets/controls",
      "_model_module_version": "1.5.0",
      "_model_name": "HBoxModel",
      "_view_count": null,
      "_view_module": "@jupyter-widgets/controls",
      "_view_module_version": "1.5.0",
      "_view_name": "HBoxView",
      "box_style": "",
      "children": [
       "IPY_MODEL_88cfd3346a0946a5a3b834d34e7a4b36",
       "IPY_MODEL_d8806afcc0d44a00b06b8e8b2ad1e7b1",
       "IPY_MODEL_130c77a1dde1478ab44060f6732617a9"
      ],
      "layout": "IPY_MODEL_0dff92279c244570bdb77bf860521e44"
     }
    },
    "3937537b7ce34ea0801a5cf7e96656f3": {
     "model_module": "@jupyter-widgets/controls",
     "model_module_version": "1.5.0",
     "model_name": "DescriptionStyleModel",
     "state": {
      "_model_module": "@jupyter-widgets/controls",
      "_model_module_version": "1.5.0",
      "_model_name": "DescriptionStyleModel",
      "_view_count": null,
      "_view_module": "@jupyter-widgets/base",
      "_view_module_version": "1.2.0",
      "_view_name": "StyleView",
      "description_width": ""
     }
    },
    "3bdba5a7885042a1b8ee83c2aa2d0710": {
     "model_module": "@jupyter-widgets/controls",
     "model_module_version": "1.5.0",
     "model_name": "HTMLModel",
     "state": {
      "_dom_classes": [],
      "_model_module": "@jupyter-widgets/controls",
      "_model_module_version": "1.5.0",
      "_model_name": "HTMLModel",
      "_view_count": null,
      "_view_module": "@jupyter-widgets/controls",
      "_view_module_version": "1.5.0",
      "_view_name": "HTMLView",
      "description": "",
      "description_tooltip": null,
      "layout": "IPY_MODEL_60f1cc56dc71479c83ef71a6a38363cf",
      "placeholder": "​",
      "style": "IPY_MODEL_1a82c5905fd346b3be38e565f017d582",
      "value": " 203/203 [00:00&lt;00:00, 580.43 examples/s]"
     }
    },
    "3bedb4c1788543bd82cc5641c9f29c95": {
     "model_module": "@jupyter-widgets/base",
     "model_module_version": "1.2.0",
     "model_name": "LayoutModel",
     "state": {
      "_model_module": "@jupyter-widgets/base",
      "_model_module_version": "1.2.0",
      "_model_name": "LayoutModel",
      "_view_count": null,
      "_view_module": "@jupyter-widgets/base",
      "_view_module_version": "1.2.0",
      "_view_name": "LayoutView",
      "align_content": null,
      "align_items": null,
      "align_self": null,
      "border": null,
      "bottom": null,
      "display": null,
      "flex": null,
      "flex_flow": null,
      "grid_area": null,
      "grid_auto_columns": null,
      "grid_auto_flow": null,
      "grid_auto_rows": null,
      "grid_column": null,
      "grid_gap": null,
      "grid_row": null,
      "grid_template_areas": null,
      "grid_template_columns": null,
      "grid_template_rows": null,
      "height": null,
      "justify_content": null,
      "justify_items": null,
      "left": null,
      "margin": null,
      "max_height": null,
      "max_width": null,
      "min_height": null,
      "min_width": null,
      "object_fit": null,
      "object_position": null,
      "order": null,
      "overflow": null,
      "overflow_x": null,
      "overflow_y": null,
      "padding": null,
      "right": null,
      "top": null,
      "visibility": null,
      "width": null
     }
    },
    "3d53d7c2aa794f61b14f0aa8ee8197c0": {
     "model_module": "@jupyter-widgets/base",
     "model_module_version": "1.2.0",
     "model_name": "LayoutModel",
     "state": {
      "_model_module": "@jupyter-widgets/base",
      "_model_module_version": "1.2.0",
      "_model_name": "LayoutModel",
      "_view_count": null,
      "_view_module": "@jupyter-widgets/base",
      "_view_module_version": "1.2.0",
      "_view_name": "LayoutView",
      "align_content": null,
      "align_items": null,
      "align_self": null,
      "border": null,
      "bottom": null,
      "display": null,
      "flex": null,
      "flex_flow": null,
      "grid_area": null,
      "grid_auto_columns": null,
      "grid_auto_flow": null,
      "grid_auto_rows": null,
      "grid_column": null,
      "grid_gap": null,
      "grid_row": null,
      "grid_template_areas": null,
      "grid_template_columns": null,
      "grid_template_rows": null,
      "height": null,
      "justify_content": null,
      "justify_items": null,
      "left": null,
      "margin": null,
      "max_height": null,
      "max_width": null,
      "min_height": null,
      "min_width": null,
      "object_fit": null,
      "object_position": null,
      "order": null,
      "overflow": null,
      "overflow_x": null,
      "overflow_y": null,
      "padding": null,
      "right": null,
      "top": null,
      "visibility": null,
      "width": null
     }
    },
    "3e05265582ce4046b2a13f8ee658c76f": {
     "model_module": "@jupyter-widgets/controls",
     "model_module_version": "1.5.0",
     "model_name": "DescriptionStyleModel",
     "state": {
      "_model_module": "@jupyter-widgets/controls",
      "_model_module_version": "1.5.0",
      "_model_name": "DescriptionStyleModel",
      "_view_count": null,
      "_view_module": "@jupyter-widgets/base",
      "_view_module_version": "1.2.0",
      "_view_name": "StyleView",
      "description_width": ""
     }
    },
    "3e7e69d9ac024e8ab140b2698773a80e": {
     "model_module": "@jupyter-widgets/controls",
     "model_module_version": "1.5.0",
     "model_name": "FloatProgressModel",
     "state": {
      "_dom_classes": [],
      "_model_module": "@jupyter-widgets/controls",
      "_model_module_version": "1.5.0",
      "_model_name": "FloatProgressModel",
      "_view_count": null,
      "_view_module": "@jupyter-widgets/controls",
      "_view_module_version": "1.5.0",
      "_view_name": "ProgressView",
      "bar_style": "success",
      "description": "",
      "description_tooltip": null,
      "layout": "IPY_MODEL_781d7f53f02b41058b87c0dad138cb29",
      "max": 204,
      "min": 0,
      "orientation": "horizontal",
      "style": "IPY_MODEL_c11ba4e161b74c7486f0aa3f2aec24c0",
      "value": 204
     }
    },
    "401fbdf7368b423a994d3c605ce5369e": {
     "model_module": "@jupyter-widgets/base",
     "model_module_version": "1.2.0",
     "model_name": "LayoutModel",
     "state": {
      "_model_module": "@jupyter-widgets/base",
      "_model_module_version": "1.2.0",
      "_model_name": "LayoutModel",
      "_view_count": null,
      "_view_module": "@jupyter-widgets/base",
      "_view_module_version": "1.2.0",
      "_view_name": "LayoutView",
      "align_content": null,
      "align_items": null,
      "align_self": null,
      "border": null,
      "bottom": null,
      "display": null,
      "flex": null,
      "flex_flow": null,
      "grid_area": null,
      "grid_auto_columns": null,
      "grid_auto_flow": null,
      "grid_auto_rows": null,
      "grid_column": null,
      "grid_gap": null,
      "grid_row": null,
      "grid_template_areas": null,
      "grid_template_columns": null,
      "grid_template_rows": null,
      "height": null,
      "justify_content": null,
      "justify_items": null,
      "left": null,
      "margin": null,
      "max_height": null,
      "max_width": null,
      "min_height": null,
      "min_width": null,
      "object_fit": null,
      "object_position": null,
      "order": null,
      "overflow": null,
      "overflow_x": null,
      "overflow_y": null,
      "padding": null,
      "right": null,
      "top": null,
      "visibility": null,
      "width": null
     }
    },
    "429878fb16004f819ff5614ab305a545": {
     "model_module": "@jupyter-widgets/base",
     "model_module_version": "1.2.0",
     "model_name": "LayoutModel",
     "state": {
      "_model_module": "@jupyter-widgets/base",
      "_model_module_version": "1.2.0",
      "_model_name": "LayoutModel",
      "_view_count": null,
      "_view_module": "@jupyter-widgets/base",
      "_view_module_version": "1.2.0",
      "_view_name": "LayoutView",
      "align_content": null,
      "align_items": null,
      "align_self": null,
      "border": null,
      "bottom": null,
      "display": null,
      "flex": null,
      "flex_flow": null,
      "grid_area": null,
      "grid_auto_columns": null,
      "grid_auto_flow": null,
      "grid_auto_rows": null,
      "grid_column": null,
      "grid_gap": null,
      "grid_row": null,
      "grid_template_areas": null,
      "grid_template_columns": null,
      "grid_template_rows": null,
      "height": null,
      "justify_content": null,
      "justify_items": null,
      "left": null,
      "margin": null,
      "max_height": null,
      "max_width": null,
      "min_height": null,
      "min_width": null,
      "object_fit": null,
      "object_position": null,
      "order": null,
      "overflow": null,
      "overflow_x": null,
      "overflow_y": null,
      "padding": null,
      "right": null,
      "top": null,
      "visibility": null,
      "width": null
     }
    },
    "457983fe7c6f4653b922a6fb58e31b79": {
     "model_module": "@jupyter-widgets/controls",
     "model_module_version": "1.5.0",
     "model_name": "ProgressStyleModel",
     "state": {
      "_model_module": "@jupyter-widgets/controls",
      "_model_module_version": "1.5.0",
      "_model_name": "ProgressStyleModel",
      "_view_count": null,
      "_view_module": "@jupyter-widgets/base",
      "_view_module_version": "1.2.0",
      "_view_name": "StyleView",
      "bar_color": null,
      "description_width": ""
     }
    },
    "460645a462b245d7965d950a90809783": {
     "model_module": "@jupyter-widgets/controls",
     "model_module_version": "1.5.0",
     "model_name": "HTMLModel",
     "state": {
      "_dom_classes": [],
      "_model_module": "@jupyter-widgets/controls",
      "_model_module_version": "1.5.0",
      "_model_name": "HTMLModel",
      "_view_count": null,
      "_view_module": "@jupyter-widgets/controls",
      "_view_module_version": "1.5.0",
      "_view_name": "HTMLView",
      "description": "",
      "description_tooltip": null,
      "layout": "IPY_MODEL_c3ea368e19cc45be9778174259538757",
      "placeholder": "​",
      "style": "IPY_MODEL_7a4d7fbc9d0a4727b1308c9af5c5bdff",
      "value": "Filter: 100%"
     }
    },
    "4a71191d06b44abebc21161cfe37c922": {
     "model_module": "@jupyter-widgets/base",
     "model_module_version": "1.2.0",
     "model_name": "LayoutModel",
     "state": {
      "_model_module": "@jupyter-widgets/base",
      "_model_module_version": "1.2.0",
      "_model_name": "LayoutModel",
      "_view_count": null,
      "_view_module": "@jupyter-widgets/base",
      "_view_module_version": "1.2.0",
      "_view_name": "LayoutView",
      "align_content": null,
      "align_items": null,
      "align_self": null,
      "border": null,
      "bottom": null,
      "display": null,
      "flex": null,
      "flex_flow": null,
      "grid_area": null,
      "grid_auto_columns": null,
      "grid_auto_flow": null,
      "grid_auto_rows": null,
      "grid_column": null,
      "grid_gap": null,
      "grid_row": null,
      "grid_template_areas": null,
      "grid_template_columns": null,
      "grid_template_rows": null,
      "height": null,
      "justify_content": null,
      "justify_items": null,
      "left": null,
      "margin": null,
      "max_height": null,
      "max_width": null,
      "min_height": null,
      "min_width": null,
      "object_fit": null,
      "object_position": null,
      "order": null,
      "overflow": null,
      "overflow_x": null,
      "overflow_y": null,
      "padding": null,
      "right": null,
      "top": null,
      "visibility": null,
      "width": null
     }
    },
    "4da376b5576744d4814efa4747d27edb": {
     "model_module": "@jupyter-widgets/controls",
     "model_module_version": "1.5.0",
     "model_name": "HBoxModel",
     "state": {
      "_dom_classes": [],
      "_model_module": "@jupyter-widgets/controls",
      "_model_module_version": "1.5.0",
      "_model_name": "HBoxModel",
      "_view_count": null,
      "_view_module": "@jupyter-widgets/controls",
      "_view_module_version": "1.5.0",
      "_view_name": "HBoxView",
      "box_style": "",
      "children": [
       "IPY_MODEL_2b09469483854204bdf10b706617b30e",
       "IPY_MODEL_abdf0cde20884b1da5f7c5973cbf6ed8",
       "IPY_MODEL_ccbf01b4f58c44959ba1312704a511f0"
      ],
      "layout": "IPY_MODEL_429878fb16004f819ff5614ab305a545"
     }
    },
    "4fb21d228d8b4a5dbf6503bab83e3144": {
     "model_module": "@jupyter-widgets/controls",
     "model_module_version": "1.5.0",
     "model_name": "DescriptionStyleModel",
     "state": {
      "_model_module": "@jupyter-widgets/controls",
      "_model_module_version": "1.5.0",
      "_model_name": "DescriptionStyleModel",
      "_view_count": null,
      "_view_module": "@jupyter-widgets/base",
      "_view_module_version": "1.2.0",
      "_view_name": "StyleView",
      "description_width": ""
     }
    },
    "4fc0ede9f6a54bc3b89dccb58555d8e5": {
     "model_module": "@jupyter-widgets/controls",
     "model_module_version": "1.5.0",
     "model_name": "HTMLModel",
     "state": {
      "_dom_classes": [],
      "_model_module": "@jupyter-widgets/controls",
      "_model_module_version": "1.5.0",
      "_model_name": "HTMLModel",
      "_view_count": null,
      "_view_module": "@jupyter-widgets/controls",
      "_view_module_version": "1.5.0",
      "_view_name": "HTMLView",
      "description": "",
      "description_tooltip": null,
      "layout": "IPY_MODEL_7e3160e706fb46b0b1e1f3a7b097b895",
      "placeholder": "​",
      "style": "IPY_MODEL_73ff6c9c677145168ee3eff16eaf6ed2",
      "value": " 204/204 [00:00&lt;00:00, 580.04 examples/s]"
     }
    },
    "53c7971f78904fe3a4a00df8bdbe54fd": {
     "model_module": "@jupyter-widgets/base",
     "model_module_version": "1.2.0",
     "model_name": "LayoutModel",
     "state": {
      "_model_module": "@jupyter-widgets/base",
      "_model_module_version": "1.2.0",
      "_model_name": "LayoutModel",
      "_view_count": null,
      "_view_module": "@jupyter-widgets/base",
      "_view_module_version": "1.2.0",
      "_view_name": "LayoutView",
      "align_content": null,
      "align_items": null,
      "align_self": null,
      "border": null,
      "bottom": null,
      "display": null,
      "flex": null,
      "flex_flow": null,
      "grid_area": null,
      "grid_auto_columns": null,
      "grid_auto_flow": null,
      "grid_auto_rows": null,
      "grid_column": null,
      "grid_gap": null,
      "grid_row": null,
      "grid_template_areas": null,
      "grid_template_columns": null,
      "grid_template_rows": null,
      "height": null,
      "justify_content": null,
      "justify_items": null,
      "left": null,
      "margin": null,
      "max_height": null,
      "max_width": null,
      "min_height": null,
      "min_width": null,
      "object_fit": null,
      "object_position": null,
      "order": null,
      "overflow": null,
      "overflow_x": null,
      "overflow_y": null,
      "padding": null,
      "right": null,
      "top": null,
      "visibility": null,
      "width": null
     }
    },
    "56b81dded4014576a0ef682a7b7ad1c5": {
     "model_module": "@jupyter-widgets/controls",
     "model_module_version": "1.5.0",
     "model_name": "HTMLModel",
     "state": {
      "_dom_classes": [],
      "_model_module": "@jupyter-widgets/controls",
      "_model_module_version": "1.5.0",
      "_model_name": "HTMLModel",
      "_view_count": null,
      "_view_module": "@jupyter-widgets/controls",
      "_view_module_version": "1.5.0",
      "_view_name": "HTMLView",
      "description": "",
      "description_tooltip": null,
      "layout": "IPY_MODEL_e8da85b18c7a40dfab42245eaa9d7b79",
      "placeholder": "​",
      "style": "IPY_MODEL_b26ad891a4424ac080529bfb107c20b8",
      "value": " 204/204 [00:00&lt;00:00, 862.78 examples/s]"
     }
    },
    "59dc9c3658d44bbda3945b3a28dea215": {
     "model_module": "@jupyter-widgets/base",
     "model_module_version": "1.2.0",
     "model_name": "LayoutModel",
     "state": {
      "_model_module": "@jupyter-widgets/base",
      "_model_module_version": "1.2.0",
      "_model_name": "LayoutModel",
      "_view_count": null,
      "_view_module": "@jupyter-widgets/base",
      "_view_module_version": "1.2.0",
      "_view_name": "LayoutView",
      "align_content": null,
      "align_items": null,
      "align_self": null,
      "border": null,
      "bottom": null,
      "display": null,
      "flex": null,
      "flex_flow": null,
      "grid_area": null,
      "grid_auto_columns": null,
      "grid_auto_flow": null,
      "grid_auto_rows": null,
      "grid_column": null,
      "grid_gap": null,
      "grid_row": null,
      "grid_template_areas": null,
      "grid_template_columns": null,
      "grid_template_rows": null,
      "height": null,
      "justify_content": null,
      "justify_items": null,
      "left": null,
      "margin": null,
      "max_height": null,
      "max_width": null,
      "min_height": null,
      "min_width": null,
      "object_fit": null,
      "object_position": null,
      "order": null,
      "overflow": null,
      "overflow_x": null,
      "overflow_y": null,
      "padding": null,
      "right": null,
      "top": null,
      "visibility": null,
      "width": null
     }
    },
    "5aa1e6a5b8c04901922e87d95867c21d": {
     "model_module": "@jupyter-widgets/base",
     "model_module_version": "1.2.0",
     "model_name": "LayoutModel",
     "state": {
      "_model_module": "@jupyter-widgets/base",
      "_model_module_version": "1.2.0",
      "_model_name": "LayoutModel",
      "_view_count": null,
      "_view_module": "@jupyter-widgets/base",
      "_view_module_version": "1.2.0",
      "_view_name": "LayoutView",
      "align_content": null,
      "align_items": null,
      "align_self": null,
      "border": null,
      "bottom": null,
      "display": null,
      "flex": null,
      "flex_flow": null,
      "grid_area": null,
      "grid_auto_columns": null,
      "grid_auto_flow": null,
      "grid_auto_rows": null,
      "grid_column": null,
      "grid_gap": null,
      "grid_row": null,
      "grid_template_areas": null,
      "grid_template_columns": null,
      "grid_template_rows": null,
      "height": null,
      "justify_content": null,
      "justify_items": null,
      "left": null,
      "margin": null,
      "max_height": null,
      "max_width": null,
      "min_height": null,
      "min_width": null,
      "object_fit": null,
      "object_position": null,
      "order": null,
      "overflow": null,
      "overflow_x": null,
      "overflow_y": null,
      "padding": null,
      "right": null,
      "top": null,
      "visibility": null,
      "width": null
     }
    },
    "60f1cc56dc71479c83ef71a6a38363cf": {
     "model_module": "@jupyter-widgets/base",
     "model_module_version": "1.2.0",
     "model_name": "LayoutModel",
     "state": {
      "_model_module": "@jupyter-widgets/base",
      "_model_module_version": "1.2.0",
      "_model_name": "LayoutModel",
      "_view_count": null,
      "_view_module": "@jupyter-widgets/base",
      "_view_module_version": "1.2.0",
      "_view_name": "LayoutView",
      "align_content": null,
      "align_items": null,
      "align_self": null,
      "border": null,
      "bottom": null,
      "display": null,
      "flex": null,
      "flex_flow": null,
      "grid_area": null,
      "grid_auto_columns": null,
      "grid_auto_flow": null,
      "grid_auto_rows": null,
      "grid_column": null,
      "grid_gap": null,
      "grid_row": null,
      "grid_template_areas": null,
      "grid_template_columns": null,
      "grid_template_rows": null,
      "height": null,
      "justify_content": null,
      "justify_items": null,
      "left": null,
      "margin": null,
      "max_height": null,
      "max_width": null,
      "min_height": null,
      "min_width": null,
      "object_fit": null,
      "object_position": null,
      "order": null,
      "overflow": null,
      "overflow_x": null,
      "overflow_y": null,
      "padding": null,
      "right": null,
      "top": null,
      "visibility": null,
      "width": null
     }
    },
    "625a74cc3e374987a5d0a02c4584b37c": {
     "model_module": "@jupyter-widgets/base",
     "model_module_version": "1.2.0",
     "model_name": "LayoutModel",
     "state": {
      "_model_module": "@jupyter-widgets/base",
      "_model_module_version": "1.2.0",
      "_model_name": "LayoutModel",
      "_view_count": null,
      "_view_module": "@jupyter-widgets/base",
      "_view_module_version": "1.2.0",
      "_view_name": "LayoutView",
      "align_content": null,
      "align_items": null,
      "align_self": null,
      "border": null,
      "bottom": null,
      "display": null,
      "flex": null,
      "flex_flow": null,
      "grid_area": null,
      "grid_auto_columns": null,
      "grid_auto_flow": null,
      "grid_auto_rows": null,
      "grid_column": null,
      "grid_gap": null,
      "grid_row": null,
      "grid_template_areas": null,
      "grid_template_columns": null,
      "grid_template_rows": null,
      "height": null,
      "justify_content": null,
      "justify_items": null,
      "left": null,
      "margin": null,
      "max_height": null,
      "max_width": null,
      "min_height": null,
      "min_width": null,
      "object_fit": null,
      "object_position": null,
      "order": null,
      "overflow": null,
      "overflow_x": null,
      "overflow_y": null,
      "padding": null,
      "right": null,
      "top": null,
      "visibility": null,
      "width": null
     }
    },
    "62afcca424df49a69f823db09bec8d4c": {
     "model_module": "@jupyter-widgets/base",
     "model_module_version": "1.2.0",
     "model_name": "LayoutModel",
     "state": {
      "_model_module": "@jupyter-widgets/base",
      "_model_module_version": "1.2.0",
      "_model_name": "LayoutModel",
      "_view_count": null,
      "_view_module": "@jupyter-widgets/base",
      "_view_module_version": "1.2.0",
      "_view_name": "LayoutView",
      "align_content": null,
      "align_items": null,
      "align_self": null,
      "border": null,
      "bottom": null,
      "display": null,
      "flex": null,
      "flex_flow": null,
      "grid_area": null,
      "grid_auto_columns": null,
      "grid_auto_flow": null,
      "grid_auto_rows": null,
      "grid_column": null,
      "grid_gap": null,
      "grid_row": null,
      "grid_template_areas": null,
      "grid_template_columns": null,
      "grid_template_rows": null,
      "height": null,
      "justify_content": null,
      "justify_items": null,
      "left": null,
      "margin": null,
      "max_height": null,
      "max_width": null,
      "min_height": null,
      "min_width": null,
      "object_fit": null,
      "object_position": null,
      "order": null,
      "overflow": null,
      "overflow_x": null,
      "overflow_y": null,
      "padding": null,
      "right": null,
      "top": null,
      "visibility": null,
      "width": null
     }
    },
    "63f7d88d6e4042119c3d1f1a2e552a6e": {
     "model_module": "@jupyter-widgets/controls",
     "model_module_version": "1.5.0",
     "model_name": "FloatProgressModel",
     "state": {
      "_dom_classes": [],
      "_model_module": "@jupyter-widgets/controls",
      "_model_module_version": "1.5.0",
      "_model_name": "FloatProgressModel",
      "_view_count": null,
      "_view_module": "@jupyter-widgets/controls",
      "_view_module_version": "1.5.0",
      "_view_name": "ProgressView",
      "bar_style": "success",
      "description": "",
      "description_tooltip": null,
      "layout": "IPY_MODEL_625a74cc3e374987a5d0a02c4584b37c",
      "max": 204,
      "min": 0,
      "orientation": "horizontal",
      "style": "IPY_MODEL_a116c78dab68405da43af1c91d5abef5",
      "value": 204
     }
    },
    "64346a81a1794b4092efb8173898e0c1": {
     "model_module": "@jupyter-widgets/base",
     "model_module_version": "1.2.0",
     "model_name": "LayoutModel",
     "state": {
      "_model_module": "@jupyter-widgets/base",
      "_model_module_version": "1.2.0",
      "_model_name": "LayoutModel",
      "_view_count": null,
      "_view_module": "@jupyter-widgets/base",
      "_view_module_version": "1.2.0",
      "_view_name": "LayoutView",
      "align_content": null,
      "align_items": null,
      "align_self": null,
      "border": null,
      "bottom": null,
      "display": null,
      "flex": null,
      "flex_flow": null,
      "grid_area": null,
      "grid_auto_columns": null,
      "grid_auto_flow": null,
      "grid_auto_rows": null,
      "grid_column": null,
      "grid_gap": null,
      "grid_row": null,
      "grid_template_areas": null,
      "grid_template_columns": null,
      "grid_template_rows": null,
      "height": null,
      "justify_content": null,
      "justify_items": null,
      "left": null,
      "margin": null,
      "max_height": null,
      "max_width": null,
      "min_height": null,
      "min_width": null,
      "object_fit": null,
      "object_position": null,
      "order": null,
      "overflow": null,
      "overflow_x": null,
      "overflow_y": null,
      "padding": null,
      "right": null,
      "top": null,
      "visibility": null,
      "width": null
     }
    },
    "68a5ed5ae2f04b30aa9010c49c3e98c3": {
     "model_module": "@jupyter-widgets/base",
     "model_module_version": "1.2.0",
     "model_name": "LayoutModel",
     "state": {
      "_model_module": "@jupyter-widgets/base",
      "_model_module_version": "1.2.0",
      "_model_name": "LayoutModel",
      "_view_count": null,
      "_view_module": "@jupyter-widgets/base",
      "_view_module_version": "1.2.0",
      "_view_name": "LayoutView",
      "align_content": null,
      "align_items": null,
      "align_self": null,
      "border": null,
      "bottom": null,
      "display": null,
      "flex": null,
      "flex_flow": null,
      "grid_area": null,
      "grid_auto_columns": null,
      "grid_auto_flow": null,
      "grid_auto_rows": null,
      "grid_column": null,
      "grid_gap": null,
      "grid_row": null,
      "grid_template_areas": null,
      "grid_template_columns": null,
      "grid_template_rows": null,
      "height": null,
      "justify_content": null,
      "justify_items": null,
      "left": null,
      "margin": null,
      "max_height": null,
      "max_width": null,
      "min_height": null,
      "min_width": null,
      "object_fit": null,
      "object_position": null,
      "order": null,
      "overflow": null,
      "overflow_x": null,
      "overflow_y": null,
      "padding": null,
      "right": null,
      "top": null,
      "visibility": null,
      "width": null
     }
    },
    "6a59c7c40943476da0f29411fe7fc3a8": {
     "model_module": "@jupyter-widgets/controls",
     "model_module_version": "1.5.0",
     "model_name": "HTMLModel",
     "state": {
      "_dom_classes": [],
      "_model_module": "@jupyter-widgets/controls",
      "_model_module_version": "1.5.0",
      "_model_name": "HTMLModel",
      "_view_count": null,
      "_view_module": "@jupyter-widgets/controls",
      "_view_module_version": "1.5.0",
      "_view_name": "HTMLView",
      "description": "",
      "description_tooltip": null,
      "layout": "IPY_MODEL_4a71191d06b44abebc21161cfe37c922",
      "placeholder": "​",
      "style": "IPY_MODEL_a0d642093f6e499b99ef96614b99e039",
      "value": " 204/204 [00:00&lt;00:00, 1199.21 examples/s]"
     }
    },
    "6cd6318b6a00415dada0a1696808d62a": {
     "model_module": "@jupyter-widgets/controls",
     "model_module_version": "1.5.0",
     "model_name": "HBoxModel",
     "state": {
      "_dom_classes": [],
      "_model_module": "@jupyter-widgets/controls",
      "_model_module_version": "1.5.0",
      "_model_name": "HBoxModel",
      "_view_count": null,
      "_view_module": "@jupyter-widgets/controls",
      "_view_module_version": "1.5.0",
      "_view_name": "HBoxView",
      "box_style": "",
      "children": [
       "IPY_MODEL_93dc4b00dd064a60a0c91b19d31d541d",
       "IPY_MODEL_e17becaccfd14513baceff07b303afcc",
       "IPY_MODEL_9f8f646a55c8458da0e566644bfde3a7"
      ],
      "layout": "IPY_MODEL_ac06654dac0348838681c2da6a7eec6a"
     }
    },
    "6d5cef5013724577b70d876e5a05a23f": {
     "model_module": "@jupyter-widgets/base",
     "model_module_version": "1.2.0",
     "model_name": "LayoutModel",
     "state": {
      "_model_module": "@jupyter-widgets/base",
      "_model_module_version": "1.2.0",
      "_model_name": "LayoutModel",
      "_view_count": null,
      "_view_module": "@jupyter-widgets/base",
      "_view_module_version": "1.2.0",
      "_view_name": "LayoutView",
      "align_content": null,
      "align_items": null,
      "align_self": null,
      "border": null,
      "bottom": null,
      "display": null,
      "flex": null,
      "flex_flow": null,
      "grid_area": null,
      "grid_auto_columns": null,
      "grid_auto_flow": null,
      "grid_auto_rows": null,
      "grid_column": null,
      "grid_gap": null,
      "grid_row": null,
      "grid_template_areas": null,
      "grid_template_columns": null,
      "grid_template_rows": null,
      "height": null,
      "justify_content": null,
      "justify_items": null,
      "left": null,
      "margin": null,
      "max_height": null,
      "max_width": null,
      "min_height": null,
      "min_width": null,
      "object_fit": null,
      "object_position": null,
      "order": null,
      "overflow": null,
      "overflow_x": null,
      "overflow_y": null,
      "padding": null,
      "right": null,
      "top": null,
      "visibility": null,
      "width": null
     }
    },
    "70e49ef6a81548a4b368409591589e10": {
     "model_module": "@jupyter-widgets/controls",
     "model_module_version": "1.5.0",
     "model_name": "ProgressStyleModel",
     "state": {
      "_model_module": "@jupyter-widgets/controls",
      "_model_module_version": "1.5.0",
      "_model_name": "ProgressStyleModel",
      "_view_count": null,
      "_view_module": "@jupyter-widgets/base",
      "_view_module_version": "1.2.0",
      "_view_name": "StyleView",
      "bar_color": null,
      "description_width": ""
     }
    },
    "7363828fa59e422a8f8951f8904e8229": {
     "model_module": "@jupyter-widgets/base",
     "model_module_version": "1.2.0",
     "model_name": "LayoutModel",
     "state": {
      "_model_module": "@jupyter-widgets/base",
      "_model_module_version": "1.2.0",
      "_model_name": "LayoutModel",
      "_view_count": null,
      "_view_module": "@jupyter-widgets/base",
      "_view_module_version": "1.2.0",
      "_view_name": "LayoutView",
      "align_content": null,
      "align_items": null,
      "align_self": null,
      "border": null,
      "bottom": null,
      "display": null,
      "flex": null,
      "flex_flow": null,
      "grid_area": null,
      "grid_auto_columns": null,
      "grid_auto_flow": null,
      "grid_auto_rows": null,
      "grid_column": null,
      "grid_gap": null,
      "grid_row": null,
      "grid_template_areas": null,
      "grid_template_columns": null,
      "grid_template_rows": null,
      "height": null,
      "justify_content": null,
      "justify_items": null,
      "left": null,
      "margin": null,
      "max_height": null,
      "max_width": null,
      "min_height": null,
      "min_width": null,
      "object_fit": null,
      "object_position": null,
      "order": null,
      "overflow": null,
      "overflow_x": null,
      "overflow_y": null,
      "padding": null,
      "right": null,
      "top": null,
      "visibility": null,
      "width": null
     }
    },
    "73ff6c9c677145168ee3eff16eaf6ed2": {
     "model_module": "@jupyter-widgets/controls",
     "model_module_version": "1.5.0",
     "model_name": "DescriptionStyleModel",
     "state": {
      "_model_module": "@jupyter-widgets/controls",
      "_model_module_version": "1.5.0",
      "_model_name": "DescriptionStyleModel",
      "_view_count": null,
      "_view_module": "@jupyter-widgets/base",
      "_view_module_version": "1.2.0",
      "_view_name": "StyleView",
      "description_width": ""
     }
    },
    "75bd761504a64719bc99e77cd4e5f323": {
     "model_module": "@jupyter-widgets/base",
     "model_module_version": "1.2.0",
     "model_name": "LayoutModel",
     "state": {
      "_model_module": "@jupyter-widgets/base",
      "_model_module_version": "1.2.0",
      "_model_name": "LayoutModel",
      "_view_count": null,
      "_view_module": "@jupyter-widgets/base",
      "_view_module_version": "1.2.0",
      "_view_name": "LayoutView",
      "align_content": null,
      "align_items": null,
      "align_self": null,
      "border": null,
      "bottom": null,
      "display": null,
      "flex": null,
      "flex_flow": null,
      "grid_area": null,
      "grid_auto_columns": null,
      "grid_auto_flow": null,
      "grid_auto_rows": null,
      "grid_column": null,
      "grid_gap": null,
      "grid_row": null,
      "grid_template_areas": null,
      "grid_template_columns": null,
      "grid_template_rows": null,
      "height": null,
      "justify_content": null,
      "justify_items": null,
      "left": null,
      "margin": null,
      "max_height": null,
      "max_width": null,
      "min_height": null,
      "min_width": null,
      "object_fit": null,
      "object_position": null,
      "order": null,
      "overflow": null,
      "overflow_x": null,
      "overflow_y": null,
      "padding": null,
      "right": null,
      "top": null,
      "visibility": null,
      "width": null
     }
    },
    "781d7f53f02b41058b87c0dad138cb29": {
     "model_module": "@jupyter-widgets/base",
     "model_module_version": "1.2.0",
     "model_name": "LayoutModel",
     "state": {
      "_model_module": "@jupyter-widgets/base",
      "_model_module_version": "1.2.0",
      "_model_name": "LayoutModel",
      "_view_count": null,
      "_view_module": "@jupyter-widgets/base",
      "_view_module_version": "1.2.0",
      "_view_name": "LayoutView",
      "align_content": null,
      "align_items": null,
      "align_self": null,
      "border": null,
      "bottom": null,
      "display": null,
      "flex": null,
      "flex_flow": null,
      "grid_area": null,
      "grid_auto_columns": null,
      "grid_auto_flow": null,
      "grid_auto_rows": null,
      "grid_column": null,
      "grid_gap": null,
      "grid_row": null,
      "grid_template_areas": null,
      "grid_template_columns": null,
      "grid_template_rows": null,
      "height": null,
      "justify_content": null,
      "justify_items": null,
      "left": null,
      "margin": null,
      "max_height": null,
      "max_width": null,
      "min_height": null,
      "min_width": null,
      "object_fit": null,
      "object_position": null,
      "order": null,
      "overflow": null,
      "overflow_x": null,
      "overflow_y": null,
      "padding": null,
      "right": null,
      "top": null,
      "visibility": null,
      "width": null
     }
    },
    "7828a5cc7fbe4974a632689b98569fba": {
     "model_module": "@jupyter-widgets/controls",
     "model_module_version": "1.5.0",
     "model_name": "HTMLModel",
     "state": {
      "_dom_classes": [],
      "_model_module": "@jupyter-widgets/controls",
      "_model_module_version": "1.5.0",
      "_model_name": "HTMLModel",
      "_view_count": null,
      "_view_module": "@jupyter-widgets/controls",
      "_view_module_version": "1.5.0",
      "_view_name": "HTMLView",
      "description": "",
      "description_tooltip": null,
      "layout": "IPY_MODEL_7363828fa59e422a8f8951f8904e8229",
      "placeholder": "​",
      "style": "IPY_MODEL_3937537b7ce34ea0801a5cf7e96656f3",
      "value": "config.json: 100%"
     }
    },
    "78603b5800da4303836910019d4e2fc5": {
     "model_module": "@jupyter-widgets/controls",
     "model_module_version": "1.5.0",
     "model_name": "DescriptionStyleModel",
     "state": {
      "_model_module": "@jupyter-widgets/controls",
      "_model_module_version": "1.5.0",
      "_model_name": "DescriptionStyleModel",
      "_view_count": null,
      "_view_module": "@jupyter-widgets/base",
      "_view_module_version": "1.2.0",
      "_view_name": "StyleView",
      "description_width": ""
     }
    },
    "7a4d7fbc9d0a4727b1308c9af5c5bdff": {
     "model_module": "@jupyter-widgets/controls",
     "model_module_version": "1.5.0",
     "model_name": "DescriptionStyleModel",
     "state": {
      "_model_module": "@jupyter-widgets/controls",
      "_model_module_version": "1.5.0",
      "_model_name": "DescriptionStyleModel",
      "_view_count": null,
      "_view_module": "@jupyter-widgets/base",
      "_view_module_version": "1.2.0",
      "_view_name": "StyleView",
      "description_width": ""
     }
    },
    "7a74fa1009764584a71260e3869d1822": {
     "model_module": "@jupyter-widgets/controls",
     "model_module_version": "1.5.0",
     "model_name": "DescriptionStyleModel",
     "state": {
      "_model_module": "@jupyter-widgets/controls",
      "_model_module_version": "1.5.0",
      "_model_name": "DescriptionStyleModel",
      "_view_count": null,
      "_view_module": "@jupyter-widgets/base",
      "_view_module_version": "1.2.0",
      "_view_name": "StyleView",
      "description_width": ""
     }
    },
    "7ac81bb5b7454cee868b63f565740a99": {
     "model_module": "@jupyter-widgets/controls",
     "model_module_version": "1.5.0",
     "model_name": "DescriptionStyleModel",
     "state": {
      "_model_module": "@jupyter-widgets/controls",
      "_model_module_version": "1.5.0",
      "_model_name": "DescriptionStyleModel",
      "_view_count": null,
      "_view_module": "@jupyter-widgets/base",
      "_view_module_version": "1.2.0",
      "_view_name": "StyleView",
      "description_width": ""
     }
    },
    "7ca933b7d4e041d5b40ef210d47464d8": {
     "model_module": "@jupyter-widgets/base",
     "model_module_version": "1.2.0",
     "model_name": "LayoutModel",
     "state": {
      "_model_module": "@jupyter-widgets/base",
      "_model_module_version": "1.2.0",
      "_model_name": "LayoutModel",
      "_view_count": null,
      "_view_module": "@jupyter-widgets/base",
      "_view_module_version": "1.2.0",
      "_view_name": "LayoutView",
      "align_content": null,
      "align_items": null,
      "align_self": null,
      "border": null,
      "bottom": null,
      "display": null,
      "flex": null,
      "flex_flow": null,
      "grid_area": null,
      "grid_auto_columns": null,
      "grid_auto_flow": null,
      "grid_auto_rows": null,
      "grid_column": null,
      "grid_gap": null,
      "grid_row": null,
      "grid_template_areas": null,
      "grid_template_columns": null,
      "grid_template_rows": null,
      "height": null,
      "justify_content": null,
      "justify_items": null,
      "left": null,
      "margin": null,
      "max_height": null,
      "max_width": null,
      "min_height": null,
      "min_width": null,
      "object_fit": null,
      "object_position": null,
      "order": null,
      "overflow": null,
      "overflow_x": null,
      "overflow_y": null,
      "padding": null,
      "right": null,
      "top": null,
      "visibility": null,
      "width": null
     }
    },
    "7d3ae90a70ac46a4bdefbf66b49ff990": {
     "model_module": "@jupyter-widgets/controls",
     "model_module_version": "1.5.0",
     "model_name": "ProgressStyleModel",
     "state": {
      "_model_module": "@jupyter-widgets/controls",
      "_model_module_version": "1.5.0",
      "_model_name": "ProgressStyleModel",
      "_view_count": null,
      "_view_module": "@jupyter-widgets/base",
      "_view_module_version": "1.2.0",
      "_view_name": "StyleView",
      "bar_color": null,
      "description_width": ""
     }
    },
    "7dd735d3e8d34af08292f81ea77585e4": {
     "model_module": "@jupyter-widgets/controls",
     "model_module_version": "1.5.0",
     "model_name": "HTMLModel",
     "state": {
      "_dom_classes": [],
      "_model_module": "@jupyter-widgets/controls",
      "_model_module_version": "1.5.0",
      "_model_name": "HTMLModel",
      "_view_count": null,
      "_view_module": "@jupyter-widgets/controls",
      "_view_module_version": "1.5.0",
      "_view_name": "HTMLView",
      "description": "",
      "description_tooltip": null,
      "layout": "IPY_MODEL_121be51e9e7649a494a0d3edc3cf38dc",
      "placeholder": "​",
      "style": "IPY_MODEL_fab75f4eab5d43ad98f1a5c00dba2f09",
      "value": " 203/203 [00:00&lt;00:00, 1242.54 examples/s]"
     }
    },
    "7e3160e706fb46b0b1e1f3a7b097b895": {
     "model_module": "@jupyter-widgets/base",
     "model_module_version": "1.2.0",
     "model_name": "LayoutModel",
     "state": {
      "_model_module": "@jupyter-widgets/base",
      "_model_module_version": "1.2.0",
      "_model_name": "LayoutModel",
      "_view_count": null,
      "_view_module": "@jupyter-widgets/base",
      "_view_module_version": "1.2.0",
      "_view_name": "LayoutView",
      "align_content": null,
      "align_items": null,
      "align_self": null,
      "border": null,
      "bottom": null,
      "display": null,
      "flex": null,
      "flex_flow": null,
      "grid_area": null,
      "grid_auto_columns": null,
      "grid_auto_flow": null,
      "grid_auto_rows": null,
      "grid_column": null,
      "grid_gap": null,
      "grid_row": null,
      "grid_template_areas": null,
      "grid_template_columns": null,
      "grid_template_rows": null,
      "height": null,
      "justify_content": null,
      "justify_items": null,
      "left": null,
      "margin": null,
      "max_height": null,
      "max_width": null,
      "min_height": null,
      "min_width": null,
      "object_fit": null,
      "object_position": null,
      "order": null,
      "overflow": null,
      "overflow_x": null,
      "overflow_y": null,
      "padding": null,
      "right": null,
      "top": null,
      "visibility": null,
      "width": null
     }
    },
    "7e45f50ba9a241adb2bc9786dd66e141": {
     "model_module": "@jupyter-widgets/base",
     "model_module_version": "1.2.0",
     "model_name": "LayoutModel",
     "state": {
      "_model_module": "@jupyter-widgets/base",
      "_model_module_version": "1.2.0",
      "_model_name": "LayoutModel",
      "_view_count": null,
      "_view_module": "@jupyter-widgets/base",
      "_view_module_version": "1.2.0",
      "_view_name": "LayoutView",
      "align_content": null,
      "align_items": null,
      "align_self": null,
      "border": null,
      "bottom": null,
      "display": null,
      "flex": null,
      "flex_flow": null,
      "grid_area": null,
      "grid_auto_columns": null,
      "grid_auto_flow": null,
      "grid_auto_rows": null,
      "grid_column": null,
      "grid_gap": null,
      "grid_row": null,
      "grid_template_areas": null,
      "grid_template_columns": null,
      "grid_template_rows": null,
      "height": null,
      "justify_content": null,
      "justify_items": null,
      "left": null,
      "margin": null,
      "max_height": null,
      "max_width": null,
      "min_height": null,
      "min_width": null,
      "object_fit": null,
      "object_position": null,
      "order": null,
      "overflow": null,
      "overflow_x": null,
      "overflow_y": null,
      "padding": null,
      "right": null,
      "top": null,
      "visibility": null,
      "width": null
     }
    },
    "81a34ceda19048269b97b76a0f396158": {
     "model_module": "@jupyter-widgets/controls",
     "model_module_version": "1.5.0",
     "model_name": "DescriptionStyleModel",
     "state": {
      "_model_module": "@jupyter-widgets/controls",
      "_model_module_version": "1.5.0",
      "_model_name": "DescriptionStyleModel",
      "_view_count": null,
      "_view_module": "@jupyter-widgets/base",
      "_view_module_version": "1.2.0",
      "_view_name": "StyleView",
      "description_width": ""
     }
    },
    "866c18418c554b61a32abbd16c8a926d": {
     "model_module": "@jupyter-widgets/controls",
     "model_module_version": "1.5.0",
     "model_name": "ProgressStyleModel",
     "state": {
      "_model_module": "@jupyter-widgets/controls",
      "_model_module_version": "1.5.0",
      "_model_name": "ProgressStyleModel",
      "_view_count": null,
      "_view_module": "@jupyter-widgets/base",
      "_view_module_version": "1.2.0",
      "_view_name": "StyleView",
      "bar_color": null,
      "description_width": ""
     }
    },
    "88cfd3346a0946a5a3b834d34e7a4b36": {
     "model_module": "@jupyter-widgets/controls",
     "model_module_version": "1.5.0",
     "model_name": "HTMLModel",
     "state": {
      "_dom_classes": [],
      "_model_module": "@jupyter-widgets/controls",
      "_model_module_version": "1.5.0",
      "_model_name": "HTMLModel",
      "_view_count": null,
      "_view_module": "@jupyter-widgets/controls",
      "_view_module_version": "1.5.0",
      "_view_name": "HTMLView",
      "description": "",
      "description_tooltip": null,
      "layout": "IPY_MODEL_5aa1e6a5b8c04901922e87d95867c21d",
      "placeholder": "​",
      "style": "IPY_MODEL_8cdb10946e27468a96672cbe64e43dd8",
      "value": "model.safetensors: 100%"
     }
    },
    "89a9158dd4c7497caa98092b7bbac3e7": {
     "model_module": "@jupyter-widgets/controls",
     "model_module_version": "1.5.0",
     "model_name": "HBoxModel",
     "state": {
      "_dom_classes": [],
      "_model_module": "@jupyter-widgets/controls",
      "_model_module_version": "1.5.0",
      "_model_name": "HBoxModel",
      "_view_count": null,
      "_view_module": "@jupyter-widgets/controls",
      "_view_module_version": "1.5.0",
      "_view_name": "HBoxView",
      "box_style": "",
      "children": [
       "IPY_MODEL_7828a5cc7fbe4974a632689b98569fba",
       "IPY_MODEL_1d0431bdf58e4a1d961b72bed39999c1",
       "IPY_MODEL_bffba55b39424dd997d1828a6787915e"
      ],
      "layout": "IPY_MODEL_68a5ed5ae2f04b30aa9010c49c3e98c3"
     }
    },
    "8cdb10946e27468a96672cbe64e43dd8": {
     "model_module": "@jupyter-widgets/controls",
     "model_module_version": "1.5.0",
     "model_name": "DescriptionStyleModel",
     "state": {
      "_model_module": "@jupyter-widgets/controls",
      "_model_module_version": "1.5.0",
      "_model_name": "DescriptionStyleModel",
      "_view_count": null,
      "_view_module": "@jupyter-widgets/base",
      "_view_module_version": "1.2.0",
      "_view_name": "StyleView",
      "description_width": ""
     }
    },
    "8eb89ba401c74f24affba9d0a88198db": {
     "model_module": "@jupyter-widgets/controls",
     "model_module_version": "1.5.0",
     "model_name": "HBoxModel",
     "state": {
      "_dom_classes": [],
      "_model_module": "@jupyter-widgets/controls",
      "_model_module_version": "1.5.0",
      "_model_name": "HBoxModel",
      "_view_count": null,
      "_view_module": "@jupyter-widgets/controls",
      "_view_module_version": "1.5.0",
      "_view_name": "HBoxView",
      "box_style": "",
      "children": [
       "IPY_MODEL_1e731ab405b8432e93d416d8dc6498a3",
       "IPY_MODEL_3e7e69d9ac024e8ab140b2698773a80e",
       "IPY_MODEL_4fc0ede9f6a54bc3b89dccb58555d8e5"
      ],
      "layout": "IPY_MODEL_b214d9a698544128a92de787e7b77ea7"
     }
    },
    "91a33dd853b4483cbe9c3bde3abcdb61": {
     "model_module": "@jupyter-widgets/controls",
     "model_module_version": "1.5.0",
     "model_name": "HTMLModel",
     "state": {
      "_dom_classes": [],
      "_model_module": "@jupyter-widgets/controls",
      "_model_module_version": "1.5.0",
      "_model_name": "HTMLModel",
      "_view_count": null,
      "_view_module": "@jupyter-widgets/controls",
      "_view_module_version": "1.5.0",
      "_view_name": "HTMLView",
      "description": "",
      "description_tooltip": null,
      "layout": "IPY_MODEL_ad89248521ff41908ed23bee69233c11",
      "placeholder": "​",
      "style": "IPY_MODEL_7ac81bb5b7454cee868b63f565740a99",
      "value": " 203/203 [00:00&lt;00:00, 560.87 examples/s]"
     }
    },
    "93dc4b00dd064a60a0c91b19d31d541d": {
     "model_module": "@jupyter-widgets/controls",
     "model_module_version": "1.5.0",
     "model_name": "HTMLModel",
     "state": {
      "_dom_classes": [],
      "_model_module": "@jupyter-widgets/controls",
      "_model_module_version": "1.5.0",
      "_model_name": "HTMLModel",
      "_view_count": null,
      "_view_module": "@jupyter-widgets/controls",
      "_view_module_version": "1.5.0",
      "_view_name": "HTMLView",
      "description": "",
      "description_tooltip": null,
      "layout": "IPY_MODEL_59dc9c3658d44bbda3945b3a28dea215",
      "placeholder": "​",
      "style": "IPY_MODEL_4fb21d228d8b4a5dbf6503bab83e3144",
      "value": "Filter: 100%"
     }
    },
    "93f6339bb77d4739877a373b027d5aaa": {
     "model_module": "@jupyter-widgets/base",
     "model_module_version": "1.2.0",
     "model_name": "LayoutModel",
     "state": {
      "_model_module": "@jupyter-widgets/base",
      "_model_module_version": "1.2.0",
      "_model_name": "LayoutModel",
      "_view_count": null,
      "_view_module": "@jupyter-widgets/base",
      "_view_module_version": "1.2.0",
      "_view_name": "LayoutView",
      "align_content": null,
      "align_items": null,
      "align_self": null,
      "border": null,
      "bottom": null,
      "display": null,
      "flex": null,
      "flex_flow": null,
      "grid_area": null,
      "grid_auto_columns": null,
      "grid_auto_flow": null,
      "grid_auto_rows": null,
      "grid_column": null,
      "grid_gap": null,
      "grid_row": null,
      "grid_template_areas": null,
      "grid_template_columns": null,
      "grid_template_rows": null,
      "height": null,
      "justify_content": null,
      "justify_items": null,
      "left": null,
      "margin": null,
      "max_height": null,
      "max_width": null,
      "min_height": null,
      "min_width": null,
      "object_fit": null,
      "object_position": null,
      "order": null,
      "overflow": null,
      "overflow_x": null,
      "overflow_y": null,
      "padding": null,
      "right": null,
      "top": null,
      "visibility": null,
      "width": null
     }
    },
    "95fc0391f9e6489ca626330b2a624979": {
     "model_module": "@jupyter-widgets/controls",
     "model_module_version": "1.5.0",
     "model_name": "HBoxModel",
     "state": {
      "_dom_classes": [],
      "_model_module": "@jupyter-widgets/controls",
      "_model_module_version": "1.5.0",
      "_model_name": "HBoxModel",
      "_view_count": null,
      "_view_module": "@jupyter-widgets/controls",
      "_view_module_version": "1.5.0",
      "_view_name": "HBoxView",
      "box_style": "",
      "children": [
       "IPY_MODEL_9d9ac7df5ba24a1087b1a04a8507bef0",
       "IPY_MODEL_09306acf314e4fefb06ebb57ada26e43",
       "IPY_MODEL_91a33dd853b4483cbe9c3bde3abcdb61"
      ],
      "layout": "IPY_MODEL_f7924e87c5234f1d9e99b97657efce82"
     }
    },
    "9603a200395b499dad1edc3cf8ca97f7": {
     "model_module": "@jupyter-widgets/base",
     "model_module_version": "1.2.0",
     "model_name": "LayoutModel",
     "state": {
      "_model_module": "@jupyter-widgets/base",
      "_model_module_version": "1.2.0",
      "_model_name": "LayoutModel",
      "_view_count": null,
      "_view_module": "@jupyter-widgets/base",
      "_view_module_version": "1.2.0",
      "_view_name": "LayoutView",
      "align_content": null,
      "align_items": null,
      "align_self": null,
      "border": null,
      "bottom": null,
      "display": null,
      "flex": null,
      "flex_flow": null,
      "grid_area": null,
      "grid_auto_columns": null,
      "grid_auto_flow": null,
      "grid_auto_rows": null,
      "grid_column": null,
      "grid_gap": null,
      "grid_row": null,
      "grid_template_areas": null,
      "grid_template_columns": null,
      "grid_template_rows": null,
      "height": null,
      "justify_content": null,
      "justify_items": null,
      "left": null,
      "margin": null,
      "max_height": null,
      "max_width": null,
      "min_height": null,
      "min_width": null,
      "object_fit": null,
      "object_position": null,
      "order": null,
      "overflow": null,
      "overflow_x": null,
      "overflow_y": null,
      "padding": null,
      "right": null,
      "top": null,
      "visibility": null,
      "width": null
     }
    },
    "9d5367a1d829439ebec1723e64d2d042": {
     "model_module": "@jupyter-widgets/base",
     "model_module_version": "1.2.0",
     "model_name": "LayoutModel",
     "state": {
      "_model_module": "@jupyter-widgets/base",
      "_model_module_version": "1.2.0",
      "_model_name": "LayoutModel",
      "_view_count": null,
      "_view_module": "@jupyter-widgets/base",
      "_view_module_version": "1.2.0",
      "_view_name": "LayoutView",
      "align_content": null,
      "align_items": null,
      "align_self": null,
      "border": null,
      "bottom": null,
      "display": null,
      "flex": null,
      "flex_flow": null,
      "grid_area": null,
      "grid_auto_columns": null,
      "grid_auto_flow": null,
      "grid_auto_rows": null,
      "grid_column": null,
      "grid_gap": null,
      "grid_row": null,
      "grid_template_areas": null,
      "grid_template_columns": null,
      "grid_template_rows": null,
      "height": null,
      "justify_content": null,
      "justify_items": null,
      "left": null,
      "margin": null,
      "max_height": null,
      "max_width": null,
      "min_height": null,
      "min_width": null,
      "object_fit": null,
      "object_position": null,
      "order": null,
      "overflow": null,
      "overflow_x": null,
      "overflow_y": null,
      "padding": null,
      "right": null,
      "top": null,
      "visibility": null,
      "width": null
     }
    },
    "9d9ac7df5ba24a1087b1a04a8507bef0": {
     "model_module": "@jupyter-widgets/controls",
     "model_module_version": "1.5.0",
     "model_name": "HTMLModel",
     "state": {
      "_dom_classes": [],
      "_model_module": "@jupyter-widgets/controls",
      "_model_module_version": "1.5.0",
      "_model_name": "HTMLModel",
      "_view_count": null,
      "_view_module": "@jupyter-widgets/controls",
      "_view_module_version": "1.5.0",
      "_view_name": "HTMLView",
      "description": "",
      "description_tooltip": null,
      "layout": "IPY_MODEL_7ca933b7d4e041d5b40ef210d47464d8",
      "placeholder": "​",
      "style": "IPY_MODEL_01e11ebacb6641f1854cf3c958f61c85",
      "value": "Map: 100%"
     }
    },
    "9f8f646a55c8458da0e566644bfde3a7": {
     "model_module": "@jupyter-widgets/controls",
     "model_module_version": "1.5.0",
     "model_name": "HTMLModel",
     "state": {
      "_dom_classes": [],
      "_model_module": "@jupyter-widgets/controls",
      "_model_module_version": "1.5.0",
      "_model_name": "HTMLModel",
      "_view_count": null,
      "_view_module": "@jupyter-widgets/controls",
      "_view_module_version": "1.5.0",
      "_view_name": "HTMLView",
      "description": "",
      "description_tooltip": null,
      "layout": "IPY_MODEL_e89bd04afd3d4c36a2db4ddeea1e69b0",
      "placeholder": "​",
      "style": "IPY_MODEL_29683267ab124a5f8ed6b7f6be0965e2",
      "value": " 203/203 [00:00&lt;00:00, 841.35 examples/s]"
     }
    },
    "a0d642093f6e499b99ef96614b99e039": {
     "model_module": "@jupyter-widgets/controls",
     "model_module_version": "1.5.0",
     "model_name": "DescriptionStyleModel",
     "state": {
      "_model_module": "@jupyter-widgets/controls",
      "_model_module_version": "1.5.0",
      "_model_name": "DescriptionStyleModel",
      "_view_count": null,
      "_view_module": "@jupyter-widgets/base",
      "_view_module_version": "1.2.0",
      "_view_name": "StyleView",
      "description_width": ""
     }
    },
    "a116c78dab68405da43af1c91d5abef5": {
     "model_module": "@jupyter-widgets/controls",
     "model_module_version": "1.5.0",
     "model_name": "ProgressStyleModel",
     "state": {
      "_model_module": "@jupyter-widgets/controls",
      "_model_module_version": "1.5.0",
      "_model_name": "ProgressStyleModel",
      "_view_count": null,
      "_view_module": "@jupyter-widgets/base",
      "_view_module_version": "1.2.0",
      "_view_name": "StyleView",
      "bar_color": null,
      "description_width": ""
     }
    },
    "a6ffc3dd701e41d99f00db5607d0bfb3": {
     "model_module": "@jupyter-widgets/controls",
     "model_module_version": "1.5.0",
     "model_name": "DescriptionStyleModel",
     "state": {
      "_model_module": "@jupyter-widgets/controls",
      "_model_module_version": "1.5.0",
      "_model_name": "DescriptionStyleModel",
      "_view_count": null,
      "_view_module": "@jupyter-widgets/base",
      "_view_module_version": "1.2.0",
      "_view_name": "StyleView",
      "description_width": ""
     }
    },
    "abdf0cde20884b1da5f7c5973cbf6ed8": {
     "model_module": "@jupyter-widgets/controls",
     "model_module_version": "1.5.0",
     "model_name": "FloatProgressModel",
     "state": {
      "_dom_classes": [],
      "_model_module": "@jupyter-widgets/controls",
      "_model_module_version": "1.5.0",
      "_model_name": "FloatProgressModel",
      "_view_count": null,
      "_view_module": "@jupyter-widgets/controls",
      "_view_module_version": "1.5.0",
      "_view_name": "ProgressView",
      "bar_style": "success",
      "description": "",
      "description_tooltip": null,
      "layout": "IPY_MODEL_d6ac90ff15db4b54978f3eefdd4e85af",
      "max": 204,
      "min": 0,
      "orientation": "horizontal",
      "style": "IPY_MODEL_70e49ef6a81548a4b368409591589e10",
      "value": 204
     }
    },
    "ac06654dac0348838681c2da6a7eec6a": {
     "model_module": "@jupyter-widgets/base",
     "model_module_version": "1.2.0",
     "model_name": "LayoutModel",
     "state": {
      "_model_module": "@jupyter-widgets/base",
      "_model_module_version": "1.2.0",
      "_model_name": "LayoutModel",
      "_view_count": null,
      "_view_module": "@jupyter-widgets/base",
      "_view_module_version": "1.2.0",
      "_view_name": "LayoutView",
      "align_content": null,
      "align_items": null,
      "align_self": null,
      "border": null,
      "bottom": null,
      "display": null,
      "flex": null,
      "flex_flow": null,
      "grid_area": null,
      "grid_auto_columns": null,
      "grid_auto_flow": null,
      "grid_auto_rows": null,
      "grid_column": null,
      "grid_gap": null,
      "grid_row": null,
      "grid_template_areas": null,
      "grid_template_columns": null,
      "grid_template_rows": null,
      "height": null,
      "justify_content": null,
      "justify_items": null,
      "left": null,
      "margin": null,
      "max_height": null,
      "max_width": null,
      "min_height": null,
      "min_width": null,
      "object_fit": null,
      "object_position": null,
      "order": null,
      "overflow": null,
      "overflow_x": null,
      "overflow_y": null,
      "padding": null,
      "right": null,
      "top": null,
      "visibility": null,
      "width": null
     }
    },
    "ad89248521ff41908ed23bee69233c11": {
     "model_module": "@jupyter-widgets/base",
     "model_module_version": "1.2.0",
     "model_name": "LayoutModel",
     "state": {
      "_model_module": "@jupyter-widgets/base",
      "_model_module_version": "1.2.0",
      "_model_name": "LayoutModel",
      "_view_count": null,
      "_view_module": "@jupyter-widgets/base",
      "_view_module_version": "1.2.0",
      "_view_name": "LayoutView",
      "align_content": null,
      "align_items": null,
      "align_self": null,
      "border": null,
      "bottom": null,
      "display": null,
      "flex": null,
      "flex_flow": null,
      "grid_area": null,
      "grid_auto_columns": null,
      "grid_auto_flow": null,
      "grid_auto_rows": null,
      "grid_column": null,
      "grid_gap": null,
      "grid_row": null,
      "grid_template_areas": null,
      "grid_template_columns": null,
      "grid_template_rows": null,
      "height": null,
      "justify_content": null,
      "justify_items": null,
      "left": null,
      "margin": null,
      "max_height": null,
      "max_width": null,
      "min_height": null,
      "min_width": null,
      "object_fit": null,
      "object_position": null,
      "order": null,
      "overflow": null,
      "overflow_x": null,
      "overflow_y": null,
      "padding": null,
      "right": null,
      "top": null,
      "visibility": null,
      "width": null
     }
    },
    "b214d9a698544128a92de787e7b77ea7": {
     "model_module": "@jupyter-widgets/base",
     "model_module_version": "1.2.0",
     "model_name": "LayoutModel",
     "state": {
      "_model_module": "@jupyter-widgets/base",
      "_model_module_version": "1.2.0",
      "_model_name": "LayoutModel",
      "_view_count": null,
      "_view_module": "@jupyter-widgets/base",
      "_view_module_version": "1.2.0",
      "_view_name": "LayoutView",
      "align_content": null,
      "align_items": null,
      "align_self": null,
      "border": null,
      "bottom": null,
      "display": null,
      "flex": null,
      "flex_flow": null,
      "grid_area": null,
      "grid_auto_columns": null,
      "grid_auto_flow": null,
      "grid_auto_rows": null,
      "grid_column": null,
      "grid_gap": null,
      "grid_row": null,
      "grid_template_areas": null,
      "grid_template_columns": null,
      "grid_template_rows": null,
      "height": null,
      "justify_content": null,
      "justify_items": null,
      "left": null,
      "margin": null,
      "max_height": null,
      "max_width": null,
      "min_height": null,
      "min_width": null,
      "object_fit": null,
      "object_position": null,
      "order": null,
      "overflow": null,
      "overflow_x": null,
      "overflow_y": null,
      "padding": null,
      "right": null,
      "top": null,
      "visibility": null,
      "width": null
     }
    },
    "b26ad891a4424ac080529bfb107c20b8": {
     "model_module": "@jupyter-widgets/controls",
     "model_module_version": "1.5.0",
     "model_name": "DescriptionStyleModel",
     "state": {
      "_model_module": "@jupyter-widgets/controls",
      "_model_module_version": "1.5.0",
      "_model_name": "DescriptionStyleModel",
      "_view_count": null,
      "_view_module": "@jupyter-widgets/base",
      "_view_module_version": "1.2.0",
      "_view_name": "StyleView",
      "description_width": ""
     }
    },
    "b663468d0c874d78beadbb5594d198c4": {
     "model_module": "@jupyter-widgets/base",
     "model_module_version": "1.2.0",
     "model_name": "LayoutModel",
     "state": {
      "_model_module": "@jupyter-widgets/base",
      "_model_module_version": "1.2.0",
      "_model_name": "LayoutModel",
      "_view_count": null,
      "_view_module": "@jupyter-widgets/base",
      "_view_module_version": "1.2.0",
      "_view_name": "LayoutView",
      "align_content": null,
      "align_items": null,
      "align_self": null,
      "border": null,
      "bottom": null,
      "display": null,
      "flex": null,
      "flex_flow": null,
      "grid_area": null,
      "grid_auto_columns": null,
      "grid_auto_flow": null,
      "grid_auto_rows": null,
      "grid_column": null,
      "grid_gap": null,
      "grid_row": null,
      "grid_template_areas": null,
      "grid_template_columns": null,
      "grid_template_rows": null,
      "height": null,
      "justify_content": null,
      "justify_items": null,
      "left": null,
      "margin": null,
      "max_height": null,
      "max_width": null,
      "min_height": null,
      "min_width": null,
      "object_fit": null,
      "object_position": null,
      "order": null,
      "overflow": null,
      "overflow_x": null,
      "overflow_y": null,
      "padding": null,
      "right": null,
      "top": null,
      "visibility": null,
      "width": null
     }
    },
    "b89ead59e94247ffa158b746b4ce6ccf": {
     "model_module": "@jupyter-widgets/controls",
     "model_module_version": "1.5.0",
     "model_name": "ProgressStyleModel",
     "state": {
      "_model_module": "@jupyter-widgets/controls",
      "_model_module_version": "1.5.0",
      "_model_name": "ProgressStyleModel",
      "_view_count": null,
      "_view_module": "@jupyter-widgets/base",
      "_view_module_version": "1.2.0",
      "_view_name": "StyleView",
      "bar_color": null,
      "description_width": ""
     }
    },
    "be173ce303d94ba2adb740a43d7338dc": {
     "model_module": "@jupyter-widgets/controls",
     "model_module_version": "1.5.0",
     "model_name": "DescriptionStyleModel",
     "state": {
      "_model_module": "@jupyter-widgets/controls",
      "_model_module_version": "1.5.0",
      "_model_name": "DescriptionStyleModel",
      "_view_count": null,
      "_view_module": "@jupyter-widgets/base",
      "_view_module_version": "1.2.0",
      "_view_name": "StyleView",
      "description_width": ""
     }
    },
    "bffba55b39424dd997d1828a6787915e": {
     "model_module": "@jupyter-widgets/controls",
     "model_module_version": "1.5.0",
     "model_name": "HTMLModel",
     "state": {
      "_dom_classes": [],
      "_model_module": "@jupyter-widgets/controls",
      "_model_module_version": "1.5.0",
      "_model_name": "HTMLModel",
      "_view_count": null,
      "_view_module": "@jupyter-widgets/controls",
      "_view_module_version": "1.5.0",
      "_view_name": "HTMLView",
      "description": "",
      "description_tooltip": null,
      "layout": "IPY_MODEL_64346a81a1794b4092efb8173898e0c1",
      "placeholder": "​",
      "style": "IPY_MODEL_a6ffc3dd701e41d99f00db5607d0bfb3",
      "value": " 570/570 [00:00&lt;00:00, 29.6kB/s]"
     }
    },
    "c11ba4e161b74c7486f0aa3f2aec24c0": {
     "model_module": "@jupyter-widgets/controls",
     "model_module_version": "1.5.0",
     "model_name": "ProgressStyleModel",
     "state": {
      "_model_module": "@jupyter-widgets/controls",
      "_model_module_version": "1.5.0",
      "_model_name": "ProgressStyleModel",
      "_view_count": null,
      "_view_module": "@jupyter-widgets/base",
      "_view_module_version": "1.2.0",
      "_view_name": "StyleView",
      "bar_color": null,
      "description_width": ""
     }
    },
    "c3ea368e19cc45be9778174259538757": {
     "model_module": "@jupyter-widgets/base",
     "model_module_version": "1.2.0",
     "model_name": "LayoutModel",
     "state": {
      "_model_module": "@jupyter-widgets/base",
      "_model_module_version": "1.2.0",
      "_model_name": "LayoutModel",
      "_view_count": null,
      "_view_module": "@jupyter-widgets/base",
      "_view_module_version": "1.2.0",
      "_view_name": "LayoutView",
      "align_content": null,
      "align_items": null,
      "align_self": null,
      "border": null,
      "bottom": null,
      "display": null,
      "flex": null,
      "flex_flow": null,
      "grid_area": null,
      "grid_auto_columns": null,
      "grid_auto_flow": null,
      "grid_auto_rows": null,
      "grid_column": null,
      "grid_gap": null,
      "grid_row": null,
      "grid_template_areas": null,
      "grid_template_columns": null,
      "grid_template_rows": null,
      "height": null,
      "justify_content": null,
      "justify_items": null,
      "left": null,
      "margin": null,
      "max_height": null,
      "max_width": null,
      "min_height": null,
      "min_width": null,
      "object_fit": null,
      "object_position": null,
      "order": null,
      "overflow": null,
      "overflow_x": null,
      "overflow_y": null,
      "padding": null,
      "right": null,
      "top": null,
      "visibility": null,
      "width": null
     }
    },
    "c60b948e40eb4bd09eb80b0c94e02cd0": {
     "model_module": "@jupyter-widgets/controls",
     "model_module_version": "1.5.0",
     "model_name": "DescriptionStyleModel",
     "state": {
      "_model_module": "@jupyter-widgets/controls",
      "_model_module_version": "1.5.0",
      "_model_name": "DescriptionStyleModel",
      "_view_count": null,
      "_view_module": "@jupyter-widgets/base",
      "_view_module_version": "1.2.0",
      "_view_name": "StyleView",
      "description_width": ""
     }
    },
    "ccbf01b4f58c44959ba1312704a511f0": {
     "model_module": "@jupyter-widgets/controls",
     "model_module_version": "1.5.0",
     "model_name": "HTMLModel",
     "state": {
      "_dom_classes": [],
      "_model_module": "@jupyter-widgets/controls",
      "_model_module_version": "1.5.0",
      "_model_name": "HTMLModel",
      "_view_count": null,
      "_view_module": "@jupyter-widgets/controls",
      "_view_module_version": "1.5.0",
      "_view_name": "HTMLView",
      "description": "",
      "description_tooltip": null,
      "layout": "IPY_MODEL_62afcca424df49a69f823db09bec8d4c",
      "placeholder": "​",
      "style": "IPY_MODEL_81a34ceda19048269b97b76a0f396158",
      "value": " 204/204 [00:00&lt;00:00, 595.50 examples/s]"
     }
    },
    "d176b0c1d0854fc281569726f0b7acfe": {
     "model_module": "@jupyter-widgets/base",
     "model_module_version": "1.2.0",
     "model_name": "LayoutModel",
     "state": {
      "_model_module": "@jupyter-widgets/base",
      "_model_module_version": "1.2.0",
      "_model_name": "LayoutModel",
      "_view_count": null,
      "_view_module": "@jupyter-widgets/base",
      "_view_module_version": "1.2.0",
      "_view_name": "LayoutView",
      "align_content": null,
      "align_items": null,
      "align_self": null,
      "border": null,
      "bottom": null,
      "display": null,
      "flex": null,
      "flex_flow": null,
      "grid_area": null,
      "grid_auto_columns": null,
      "grid_auto_flow": null,
      "grid_auto_rows": null,
      "grid_column": null,
      "grid_gap": null,
      "grid_row": null,
      "grid_template_areas": null,
      "grid_template_columns": null,
      "grid_template_rows": null,
      "height": null,
      "justify_content": null,
      "justify_items": null,
      "left": null,
      "margin": null,
      "max_height": null,
      "max_width": null,
      "min_height": null,
      "min_width": null,
      "object_fit": null,
      "object_position": null,
      "order": null,
      "overflow": null,
      "overflow_x": null,
      "overflow_y": null,
      "padding": null,
      "right": null,
      "top": null,
      "visibility": null,
      "width": null
     }
    },
    "d6ac90ff15db4b54978f3eefdd4e85af": {
     "model_module": "@jupyter-widgets/base",
     "model_module_version": "1.2.0",
     "model_name": "LayoutModel",
     "state": {
      "_model_module": "@jupyter-widgets/base",
      "_model_module_version": "1.2.0",
      "_model_name": "LayoutModel",
      "_view_count": null,
      "_view_module": "@jupyter-widgets/base",
      "_view_module_version": "1.2.0",
      "_view_name": "LayoutView",
      "align_content": null,
      "align_items": null,
      "align_self": null,
      "border": null,
      "bottom": null,
      "display": null,
      "flex": null,
      "flex_flow": null,
      "grid_area": null,
      "grid_auto_columns": null,
      "grid_auto_flow": null,
      "grid_auto_rows": null,
      "grid_column": null,
      "grid_gap": null,
      "grid_row": null,
      "grid_template_areas": null,
      "grid_template_columns": null,
      "grid_template_rows": null,
      "height": null,
      "justify_content": null,
      "justify_items": null,
      "left": null,
      "margin": null,
      "max_height": null,
      "max_width": null,
      "min_height": null,
      "min_width": null,
      "object_fit": null,
      "object_position": null,
      "order": null,
      "overflow": null,
      "overflow_x": null,
      "overflow_y": null,
      "padding": null,
      "right": null,
      "top": null,
      "visibility": null,
      "width": null
     }
    },
    "d6df6c6e44b043bea943c26c71f72cd7": {
     "model_module": "@jupyter-widgets/controls",
     "model_module_version": "1.5.0",
     "model_name": "HBoxModel",
     "state": {
      "_dom_classes": [],
      "_model_module": "@jupyter-widgets/controls",
      "_model_module_version": "1.5.0",
      "_model_name": "HBoxModel",
      "_view_count": null,
      "_view_module": "@jupyter-widgets/controls",
      "_view_module_version": "1.5.0",
      "_view_name": "HBoxView",
      "box_style": "",
      "children": [
       "IPY_MODEL_460645a462b245d7965d950a90809783",
       "IPY_MODEL_ee5115317412421796d299e8274b75fc",
       "IPY_MODEL_7dd735d3e8d34af08292f81ea77585e4"
      ],
      "layout": "IPY_MODEL_28bb1549bda64a1ebf06c7c05eca8468"
     }
    },
    "d8806afcc0d44a00b06b8e8b2ad1e7b1": {
     "model_module": "@jupyter-widgets/controls",
     "model_module_version": "1.5.0",
     "model_name": "FloatProgressModel",
     "state": {
      "_dom_classes": [],
      "_model_module": "@jupyter-widgets/controls",
      "_model_module_version": "1.5.0",
      "_model_name": "FloatProgressModel",
      "_view_count": null,
      "_view_module": "@jupyter-widgets/controls",
      "_view_module_version": "1.5.0",
      "_view_name": "ProgressView",
      "bar_style": "success",
      "description": "",
      "description_tooltip": null,
      "layout": "IPY_MODEL_b663468d0c874d78beadbb5594d198c4",
      "max": 440449768,
      "min": 0,
      "orientation": "horizontal",
      "style": "IPY_MODEL_866c18418c554b61a32abbd16c8a926d",
      "value": 440449768
     }
    },
    "e17becaccfd14513baceff07b303afcc": {
     "model_module": "@jupyter-widgets/controls",
     "model_module_version": "1.5.0",
     "model_name": "FloatProgressModel",
     "state": {
      "_dom_classes": [],
      "_model_module": "@jupyter-widgets/controls",
      "_model_module_version": "1.5.0",
      "_model_name": "FloatProgressModel",
      "_view_count": null,
      "_view_module": "@jupyter-widgets/controls",
      "_view_module_version": "1.5.0",
      "_view_name": "ProgressView",
      "bar_style": "success",
      "description": "",
      "description_tooltip": null,
      "layout": "IPY_MODEL_2b3b75b13009464f886cac6f350352a1",
      "max": 203,
      "min": 0,
      "orientation": "horizontal",
      "style": "IPY_MODEL_07967c1a52ff498b9b97f8e21951207b",
      "value": 203
     }
    },
    "e5ca349291a84d0b969ee1941525fcea": {
     "model_module": "@jupyter-widgets/controls",
     "model_module_version": "1.5.0",
     "model_name": "ProgressStyleModel",
     "state": {
      "_model_module": "@jupyter-widgets/controls",
      "_model_module_version": "1.5.0",
      "_model_name": "ProgressStyleModel",
      "_view_count": null,
      "_view_module": "@jupyter-widgets/base",
      "_view_module_version": "1.2.0",
      "_view_name": "StyleView",
      "bar_color": null,
      "description_width": ""
     }
    },
    "e76d551aa1954076be0fac00f39000c2": {
     "model_module": "@jupyter-widgets/controls",
     "model_module_version": "1.5.0",
     "model_name": "HTMLModel",
     "state": {
      "_dom_classes": [],
      "_model_module": "@jupyter-widgets/controls",
      "_model_module_version": "1.5.0",
      "_model_name": "HTMLModel",
      "_view_count": null,
      "_view_module": "@jupyter-widgets/controls",
      "_view_module_version": "1.5.0",
      "_view_name": "HTMLView",
      "description": "",
      "description_tooltip": null,
      "layout": "IPY_MODEL_53c7971f78904fe3a4a00df8bdbe54fd",
      "placeholder": "​",
      "style": "IPY_MODEL_3e05265582ce4046b2a13f8ee658c76f",
      "value": "Map: 100%"
     }
    },
    "e7dcf3a832d840568d595756a84fe12c": {
     "model_module": "@jupyter-widgets/controls",
     "model_module_version": "1.5.0",
     "model_name": "HTMLModel",
     "state": {
      "_dom_classes": [],
      "_model_module": "@jupyter-widgets/controls",
      "_model_module_version": "1.5.0",
      "_model_name": "HTMLModel",
      "_view_count": null,
      "_view_module": "@jupyter-widgets/controls",
      "_view_module_version": "1.5.0",
      "_view_name": "HTMLView",
      "description": "",
      "description_tooltip": null,
      "layout": "IPY_MODEL_3d53d7c2aa794f61b14f0aa8ee8197c0",
      "placeholder": "​",
      "style": "IPY_MODEL_16780193be7c4158a8546f118c7f3a16",
      "value": "Filter: 100%"
     }
    },
    "e89bd04afd3d4c36a2db4ddeea1e69b0": {
     "model_module": "@jupyter-widgets/base",
     "model_module_version": "1.2.0",
     "model_name": "LayoutModel",
     "state": {
      "_model_module": "@jupyter-widgets/base",
      "_model_module_version": "1.2.0",
      "_model_name": "LayoutModel",
      "_view_count": null,
      "_view_module": "@jupyter-widgets/base",
      "_view_module_version": "1.2.0",
      "_view_name": "LayoutView",
      "align_content": null,
      "align_items": null,
      "align_self": null,
      "border": null,
      "bottom": null,
      "display": null,
      "flex": null,
      "flex_flow": null,
      "grid_area": null,
      "grid_auto_columns": null,
      "grid_auto_flow": null,
      "grid_auto_rows": null,
      "grid_column": null,
      "grid_gap": null,
      "grid_row": null,
      "grid_template_areas": null,
      "grid_template_columns": null,
      "grid_template_rows": null,
      "height": null,
      "justify_content": null,
      "justify_items": null,
      "left": null,
      "margin": null,
      "max_height": null,
      "max_width": null,
      "min_height": null,
      "min_width": null,
      "object_fit": null,
      "object_position": null,
      "order": null,
      "overflow": null,
      "overflow_x": null,
      "overflow_y": null,
      "padding": null,
      "right": null,
      "top": null,
      "visibility": null,
      "width": null
     }
    },
    "e8da85b18c7a40dfab42245eaa9d7b79": {
     "model_module": "@jupyter-widgets/base",
     "model_module_version": "1.2.0",
     "model_name": "LayoutModel",
     "state": {
      "_model_module": "@jupyter-widgets/base",
      "_model_module_version": "1.2.0",
      "_model_name": "LayoutModel",
      "_view_count": null,
      "_view_module": "@jupyter-widgets/base",
      "_view_module_version": "1.2.0",
      "_view_name": "LayoutView",
      "align_content": null,
      "align_items": null,
      "align_self": null,
      "border": null,
      "bottom": null,
      "display": null,
      "flex": null,
      "flex_flow": null,
      "grid_area": null,
      "grid_auto_columns": null,
      "grid_auto_flow": null,
      "grid_auto_rows": null,
      "grid_column": null,
      "grid_gap": null,
      "grid_row": null,
      "grid_template_areas": null,
      "grid_template_columns": null,
      "grid_template_rows": null,
      "height": null,
      "justify_content": null,
      "justify_items": null,
      "left": null,
      "margin": null,
      "max_height": null,
      "max_width": null,
      "min_height": null,
      "min_width": null,
      "object_fit": null,
      "object_position": null,
      "order": null,
      "overflow": null,
      "overflow_x": null,
      "overflow_y": null,
      "padding": null,
      "right": null,
      "top": null,
      "visibility": null,
      "width": null
     }
    },
    "e90e914770de49f8b5ccb2a5e5451bc8": {
     "model_module": "@jupyter-widgets/controls",
     "model_module_version": "1.5.0",
     "model_name": "HBoxModel",
     "state": {
      "_dom_classes": [],
      "_model_module": "@jupyter-widgets/controls",
      "_model_module_version": "1.5.0",
      "_model_name": "HBoxModel",
      "_view_count": null,
      "_view_module": "@jupyter-widgets/controls",
      "_view_module_version": "1.5.0",
      "_view_name": "HBoxView",
      "box_style": "",
      "children": [
       "IPY_MODEL_e76d551aa1954076be0fac00f39000c2",
       "IPY_MODEL_06ea984395964112bd9986b2faa91ca7",
       "IPY_MODEL_3bdba5a7885042a1b8ee83c2aa2d0710"
      ],
      "layout": "IPY_MODEL_75bd761504a64719bc99e77cd4e5f323"
     }
    },
    "ee5115317412421796d299e8274b75fc": {
     "model_module": "@jupyter-widgets/controls",
     "model_module_version": "1.5.0",
     "model_name": "FloatProgressModel",
     "state": {
      "_dom_classes": [],
      "_model_module": "@jupyter-widgets/controls",
      "_model_module_version": "1.5.0",
      "_model_name": "FloatProgressModel",
      "_view_count": null,
      "_view_module": "@jupyter-widgets/controls",
      "_view_module_version": "1.5.0",
      "_view_name": "ProgressView",
      "bar_style": "success",
      "description": "",
      "description_tooltip": null,
      "layout": "IPY_MODEL_7e45f50ba9a241adb2bc9786dd66e141",
      "max": 203,
      "min": 0,
      "orientation": "horizontal",
      "style": "IPY_MODEL_7d3ae90a70ac46a4bdefbf66b49ff990",
      "value": 203
     }
    },
    "f14f845c0b17407ab03c174b055c519e": {
     "model_module": "@jupyter-widgets/base",
     "model_module_version": "1.2.0",
     "model_name": "LayoutModel",
     "state": {
      "_model_module": "@jupyter-widgets/base",
      "_model_module_version": "1.2.0",
      "_model_name": "LayoutModel",
      "_view_count": null,
      "_view_module": "@jupyter-widgets/base",
      "_view_module_version": "1.2.0",
      "_view_name": "LayoutView",
      "align_content": null,
      "align_items": null,
      "align_self": null,
      "border": null,
      "bottom": null,
      "display": null,
      "flex": null,
      "flex_flow": null,
      "grid_area": null,
      "grid_auto_columns": null,
      "grid_auto_flow": null,
      "grid_auto_rows": null,
      "grid_column": null,
      "grid_gap": null,
      "grid_row": null,
      "grid_template_areas": null,
      "grid_template_columns": null,
      "grid_template_rows": null,
      "height": null,
      "justify_content": null,
      "justify_items": null,
      "left": null,
      "margin": null,
      "max_height": null,
      "max_width": null,
      "min_height": null,
      "min_width": null,
      "object_fit": null,
      "object_position": null,
      "order": null,
      "overflow": null,
      "overflow_x": null,
      "overflow_y": null,
      "padding": null,
      "right": null,
      "top": null,
      "visibility": null,
      "width": null
     }
    },
    "f4236e20e8d146cdb1fb818c4827c053": {
     "model_module": "@jupyter-widgets/controls",
     "model_module_version": "1.5.0",
     "model_name": "HTMLModel",
     "state": {
      "_dom_classes": [],
      "_model_module": "@jupyter-widgets/controls",
      "_model_module_version": "1.5.0",
      "_model_name": "HTMLModel",
      "_view_count": null,
      "_view_module": "@jupyter-widgets/controls",
      "_view_module_version": "1.5.0",
      "_view_name": "HTMLView",
      "description": "",
      "description_tooltip": null,
      "layout": "IPY_MODEL_93f6339bb77d4739877a373b027d5aaa",
      "placeholder": "​",
      "style": "IPY_MODEL_c60b948e40eb4bd09eb80b0c94e02cd0",
      "value": "Filter: 100%"
     }
    },
    "f7924e87c5234f1d9e99b97657efce82": {
     "model_module": "@jupyter-widgets/base",
     "model_module_version": "1.2.0",
     "model_name": "LayoutModel",
     "state": {
      "_model_module": "@jupyter-widgets/base",
      "_model_module_version": "1.2.0",
      "_model_name": "LayoutModel",
      "_view_count": null,
      "_view_module": "@jupyter-widgets/base",
      "_view_module_version": "1.2.0",
      "_view_name": "LayoutView",
      "align_content": null,
      "align_items": null,
      "align_self": null,
      "border": null,
      "bottom": null,
      "display": null,
      "flex": null,
      "flex_flow": null,
      "grid_area": null,
      "grid_auto_columns": null,
      "grid_auto_flow": null,
      "grid_auto_rows": null,
      "grid_column": null,
      "grid_gap": null,
      "grid_row": null,
      "grid_template_areas": null,
      "grid_template_columns": null,
      "grid_template_rows": null,
      "height": null,
      "justify_content": null,
      "justify_items": null,
      "left": null,
      "margin": null,
      "max_height": null,
      "max_width": null,
      "min_height": null,
      "min_width": null,
      "object_fit": null,
      "object_position": null,
      "order": null,
      "overflow": null,
      "overflow_x": null,
      "overflow_y": null,
      "padding": null,
      "right": null,
      "top": null,
      "visibility": null,
      "width": null
     }
    },
    "f9798ac2e60d4b64b1b7c9eca800af5e": {
     "model_module": "@jupyter-widgets/controls",
     "model_module_version": "1.5.0",
     "model_name": "HBoxModel",
     "state": {
      "_dom_classes": [],
      "_model_module": "@jupyter-widgets/controls",
      "_model_module_version": "1.5.0",
      "_model_name": "HBoxModel",
      "_view_count": null,
      "_view_module": "@jupyter-widgets/controls",
      "_view_module_version": "1.5.0",
      "_view_name": "HBoxView",
      "box_style": "",
      "children": [
       "IPY_MODEL_f4236e20e8d146cdb1fb818c4827c053",
       "IPY_MODEL_63f7d88d6e4042119c3d1f1a2e552a6e",
       "IPY_MODEL_56b81dded4014576a0ef682a7b7ad1c5"
      ],
      "layout": "IPY_MODEL_6d5cef5013724577b70d876e5a05a23f"
     }
    },
    "fab75f4eab5d43ad98f1a5c00dba2f09": {
     "model_module": "@jupyter-widgets/controls",
     "model_module_version": "1.5.0",
     "model_name": "DescriptionStyleModel",
     "state": {
      "_model_module": "@jupyter-widgets/controls",
      "_model_module_version": "1.5.0",
      "_model_name": "DescriptionStyleModel",
      "_view_count": null,
      "_view_module": "@jupyter-widgets/base",
      "_view_module_version": "1.2.0",
      "_view_name": "StyleView",
      "description_width": ""
     }
    }
   }
  }
 },
 "nbformat": 4,
 "nbformat_minor": 1
}
