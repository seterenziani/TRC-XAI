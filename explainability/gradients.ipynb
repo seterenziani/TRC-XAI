{
 "cells": [
  {
   "cell_type": "markdown",
   "metadata": {
    "id": "pMhiaGWWUVT4"
   },
   "source": [
    "## Installs"
   ]
  },
  {
   "cell_type": "code",
   "execution_count": null,
   "metadata": {
    "colab": {
     "base_uri": "https://localhost:8080/"
    },
    "executionInfo": {
     "elapsed": 54500,
     "status": "ok",
     "timestamp": 1715002875358,
     "user": {
      "displayName": "Sofia Terenziani",
      "userId": "07918956272317491448"
     },
     "user_tz": -120
    },
    "id": "eXpgEa6yURfF",
    "outputId": "7fd6b39b-657d-411d-b73a-5bb93d67145e"
   },
   "outputs": [],
   "source": [
    "!pip install captum"
   ]
  },
  {
   "cell_type": "code",
   "execution_count": null,
   "metadata": {
    "colab": {
     "base_uri": "https://localhost:8080/"
    },
    "executionInfo": {
     "elapsed": 7062,
     "status": "ok",
     "timestamp": 1715002882414,
     "user": {
      "displayName": "Sofia Terenziani",
      "userId": "07918956272317491448"
     },
     "user_tz": -120
    },
    "id": "DsKvR39sUXIw",
    "outputId": "15223ceb-0771-42b1-9f89-663202e2d0f8"
   },
   "outputs": [],
   "source": [
    "#!pip install datasets"
   ]
  },
  {
   "cell_type": "markdown",
   "metadata": {
    "id": "rPFsPhtzUZId"
   },
   "source": [
    "## Imports"
   ]
  },
  {
   "cell_type": "code",
   "execution_count": null,
   "metadata": {
    "id": "FQzjFGHRTS_o"
   },
   "outputs": [],
   "source": [
    "import pandas as pd"
   ]
  },
  {
   "cell_type": "code",
   "execution_count": null,
   "metadata": {
    "id": "8aLVCDC0UTYH"
   },
   "outputs": [],
   "source": [
    "from transformers import AutoTokenizer, BertForSequenceClassification\n",
    "from torch.utils.data import TensorDataset, DataLoader, RandomSampler, SequentialSampler\n",
    "import torch\n",
    "from captum.attr import LayerIntegratedGradients\n",
    "from captum.attr import visualization as viz"
   ]
  },
  {
   "cell_type": "code",
   "execution_count": null,
   "metadata": {
    "id": "6qTQ44M2FfBq"
   },
   "outputs": [],
   "source": [
    "import torch\n",
    "import torch.nn as nn"
   ]
  },
  {
   "cell_type": "code",
   "execution_count": null,
   "metadata": {
    "id": "tyv7bTWdvB9Y"
   },
   "outputs": [],
   "source": [
    "import re"
   ]
  },
  {
   "cell_type": "code",
   "execution_count": null,
   "metadata": {
    "id": "FSyuPXa72AeR"
   },
   "outputs": [],
   "source": [
    "from datasets import load_dataset, DatasetDict, Dataset"
   ]
  },
  {
   "cell_type": "code",
   "execution_count": null,
   "metadata": {},
   "outputs": [],
   "source": [
    "import os \n",
    "directory = \"gradients\"\n",
    "parent_dir = \"../results\"\n",
    "path = os.path.join(parent_dir, directory) "
   ]
  },
  {
   "cell_type": "markdown",
   "metadata": {
    "id": "7uM3XfAFnqoS"
   },
   "source": [
    "## Import Model"
   ]
  },
  {
   "cell_type": "code",
   "execution_count": null,
   "metadata": {
    "id": "r82C1xLXd4Xp"
   },
   "outputs": [],
   "source": [
    "import sys\n",
    "sys.path.append('../model/code-bert/')\n",
    "from temporal_relation_classification import TemporalRelationClassification\n",
    "from temporal_relation_classification_config import TemporalRelationClassificationConfig"
   ]
  },
  {
   "cell_type": "code",
   "execution_count": null,
   "metadata": {
    "colab": {
     "base_uri": "https://localhost:8080/",
     "height": 262,
     "referenced_widgets": [
      "06802104db944743acba34f29683a6ad",
      "e690f0a1004a43de910b969f300fbe3e",
      "336c6193533e4723b1129bd382b6ac42",
      "c9585e1e147e48c080acd16bb22ba5f8",
      "e9c710c5607c478382eccb13f5e14f91",
      "8baf020e794e40c2a907b1c0ffea586c",
      "3409217788b4493c8a7dd93883a8bdd2",
      "2d3371bc9d944cad897afad21eac4809",
      "4a455270fd2c434c96729363d8dd3d29",
      "d52d3fc4efa440aca23a37bcbb6d7b84",
      "f096f4323c754bbdba4c68f25187e218",
      "08035fd7b283445ebe059534aebedd72",
      "36514668b5064a768b15b10eee1fbadc",
      "dbef01a9327741e7ae8339a903b1ba16",
      "d4c8277dcccb4914827cf4a9884d9d49",
      "37680d81a870499090851efcbd54fe30",
      "54850ba116a04a97bc996154a8c68bf8",
      "558658772b7a47a9a8cd49c4d5bff70a",
      "eb509ea5b4554ae59d55b7ef23473a6a",
      "10e057c028604dc9b0ebf6cb0d560751",
      "bf34783fbc3c44bf8b14404abf5d0bd0",
      "06f8b1e44d714e0c8a4e4222b7dcf8a3"
     ]
    },
    "executionInfo": {
     "elapsed": 13559,
     "status": "ok",
     "timestamp": 1715002932789,
     "user": {
      "displayName": "Sofia Terenziani",
      "userId": "07918956272317491448"
     },
     "user_tz": -120
    },
    "id": "BVfUyF0pCVsC",
    "outputId": "c1797aeb-3363-4bb8-f15e-6fb8eb87f5c0"
   },
   "outputs": [],
   "source": [
    "model_path = \"../saved_models/bert-base-uncased-saved-model\"\n",
    "model = TemporalRelationClassification.from_pretrained(model_path)\n",
    "tokenizer = AutoTokenizer.from_pretrained(model_path)"
   ]
  },
  {
   "cell_type": "code",
   "execution_count": null,
   "metadata": {
    "colab": {
     "base_uri": "https://localhost:8080/"
    },
    "executionInfo": {
     "elapsed": 6,
     "status": "ok",
     "timestamp": 1715002934892,
     "user": {
      "displayName": "Sofia Terenziani",
      "userId": "07918956272317491448"
     },
     "user_tz": -120
    },
    "id": "aAP9CQCrDOdA",
    "outputId": "f90bad05-cd24-4726-dbeb-b7837ad09345"
   },
   "outputs": [],
   "source": [
    "model.resize_token_embeddings(len(tokenizer))"
   ]
  },
  {
   "cell_type": "markdown",
   "metadata": {
    "id": "hdVAbx_m1Z4R"
   },
   "source": [
    "## Initialise Model"
   ]
  },
  {
   "cell_type": "code",
   "execution_count": null,
   "metadata": {
    "id": "_75D5QgI1cAl"
   },
   "outputs": [],
   "source": [
    "device = torch.device(\"cuda\" if torch.cuda.is_available() else \"cpu\")"
   ]
  },
  {
   "cell_type": "code",
   "execution_count": null,
   "metadata": {
    "colab": {
     "base_uri": "https://localhost:8080/"
    },
    "executionInfo": {
     "elapsed": 5,
     "status": "ok",
     "timestamp": 1715002937360,
     "user": {
      "displayName": "Sofia Terenziani",
      "userId": "07918956272317491448"
     },
     "user_tz": -120
    },
    "id": "Cjzt72GDxS3k",
    "outputId": "ed807c5b-fbe7-4f95-f91f-2c97ec13b430"
   },
   "outputs": [],
   "source": [
    "model.to(device)"
   ]
  },
  {
   "cell_type": "code",
   "execution_count": null,
   "metadata": {
    "colab": {
     "base_uri": "https://localhost:8080/"
    },
    "executionInfo": {
     "elapsed": 3,
     "status": "ok",
     "timestamp": 1715002937360,
     "user": {
      "displayName": "Sofia Terenziani",
      "userId": "07918956272317491448"
     },
     "user_tz": -120
    },
    "id": "uqk4w8OC1eXi",
    "outputId": "a70edc2c-c1bf-4a7d-9866-c57f57308ed0"
   },
   "outputs": [],
   "source": [
    "model.eval()"
   ]
  },
  {
   "cell_type": "markdown",
   "metadata": {
    "id": "fF_4S3yvVdNw"
   },
   "source": [
    "## Import Dataset"
   ]
  },
  {
   "cell_type": "code",
   "execution_count": null,
   "metadata": {
    "executionInfo": {
     "elapsed": 265,
     "status": "ok",
     "timestamp": 1715006089526,
     "user": {
      "displayName": "Sofia Terenziani",
      "userId": "07918956272317491448"
     },
     "user_tz": -120
    },
    "id": "NpXGyPwtVA4K"
   },
   "outputs": [],
   "source": [
    "original = pd.read_csv('../data/annotated/partitions.csv')\n",
    "counterfactuals = pd.read_csv('../data/annotated/counterfactuals.csv')"
   ]
  },
  {
   "cell_type": "markdown",
   "metadata": {
    "id": "KuQ14riRecTZ"
   },
   "source": [
    "## Compute Gradients Original"
   ]
  },
  {
   "cell_type": "code",
   "execution_count": null,
   "metadata": {
    "executionInfo": {
     "elapsed": 3,
     "status": "ok",
     "timestamp": 1715006113046,
     "user": {
      "displayName": "Sofia Terenziani",
      "userId": "07918956272317491448"
     },
     "user_tz": -120
    },
    "id": "LwrdFuNggkoQ"
   },
   "outputs": [],
   "source": [
    "import re\n",
    "def annotate_text(row, column):\n",
    "    context = row['context']\n",
    "    eventA = re.escape(row['eventA'])\n",
    "    eventB = re.escape(row['eventB'])\n",
    "\n",
    "    # Make sure the longer event is replaced first if they overlap\n",
    "    if len(eventA) > len(eventB):\n",
    "        context = re.sub(eventA, f\"[a1]{row['eventA']}[/a1]\", context)\n",
    "        context = re.sub(eventB, f\"[a2]{row['eventB']}[/a2]\", context)\n",
    "    else:\n",
    "        context = re.sub(eventB, f\"[a2]{row['eventB']}[/a2]\", context)\n",
    "        context = re.sub(eventA, f\"[a1]{row['eventB']}[/a1]\", context)\n",
    "\n",
    "    return context"
   ]
  },
  {
   "cell_type": "code",
   "execution_count": null,
   "metadata": {
    "executionInfo": {
     "elapsed": 2,
     "status": "ok",
     "timestamp": 1715006113393,
     "user": {
      "displayName": "Sofia Terenziani",
      "userId": "07918956272317491448"
     },
     "user_tz": -120
    },
    "id": "56TNhXYeee64"
   },
   "outputs": [],
   "source": [
    "original['annotated_context'] = original.apply(lambda row: annotate_text(row, 'context'), axis=1)"
   ]
  },
  {
   "cell_type": "code",
   "execution_count": null,
   "metadata": {
    "executionInfo": {
     "elapsed": 2,
     "status": "ok",
     "timestamp": 1715006113744,
     "user": {
      "displayName": "Sofia Terenziani",
      "userId": "07918956272317491448"
     },
     "user_tz": -120
    },
    "id": "_KAj5cCW_YX4"
   },
   "outputs": [],
   "source": [
    "from datasets import Dataset, DatasetDict\n",
    "dataset = DatasetDict({\n",
    "    \"original\": Dataset.from_pandas(original),\n",
    "})"
   ]
  },
  {
   "cell_type": "code",
   "execution_count": null,
   "metadata": {
    "executionInfo": {
     "elapsed": 274,
     "status": "ok",
     "timestamp": 1715006114436,
     "user": {
      "displayName": "Sofia Terenziani",
      "userId": "07918956272317491448"
     },
     "user_tz": -120
    },
    "id": "uIV6JEKRtYSl"
   },
   "outputs": [],
   "source": [
    "from transformers import DataCollatorWithPadding\n",
    "data_collator = DataCollatorWithPadding(tokenizer=tokenizer)\n",
    "tokenizer_class = str(type(tokenizer)).strip(\"><'\").split('.')[-1]"
   ]
  },
  {
   "cell_type": "code",
   "execution_count": null,
   "metadata": {
    "colab": {
     "base_uri": "https://localhost:8080/",
     "height": 49,
     "referenced_widgets": [
      "0b1ee6054779429d9ad7512bee854337",
      "a1ec74b4f4804de2b43e517e7f7a332e",
      "cac94e975e3f4d33b132784c35244f85",
      "7940e26ae6e94d01b8bdaed062299631",
      "0dd9f680c3a345459c863dd79ff6fe70",
      "3ad16e92d7cf412799fdefe7e731a5fb",
      "b7e97f6a99734ec295a7a5ec05f4f335",
      "fd9f60466fda4f2ebad97c2fbc58be27",
      "19b6e92ae6ac4bec88c9d75d49bb5cc2",
      "334964d6e8bc47d2a7fab7667e0cdbbb",
      "097709770f48452ba1418486bec0f0b8"
     ]
    },
    "executionInfo": {
     "elapsed": 6,
     "status": "ok",
     "timestamp": 1715006114857,
     "user": {
      "displayName": "Sofia Terenziani",
      "userId": "07918956272317491448"
     },
     "user_tz": -120
    },
    "id": "drJJcbV2tl9l",
    "outputId": "d5800186-691d-492e-c77e-03f35cfefc2b"
   },
   "outputs": [],
   "source": [
    "def preprocess_function(examples):\n",
    "  max_length_value = 508\n",
    "  return tokenizer(examples[\"annotated_context\"], truncation=True, max_length=max_length_value)\n",
    "\n",
    "tokenized_datasets = dataset.map(preprocess_function, batched=True)"
   ]
  },
  {
   "cell_type": "code",
   "execution_count": null,
   "metadata": {
    "executionInfo": {
     "elapsed": 3,
     "status": "ok",
     "timestamp": 1715006117530,
     "user": {
      "displayName": "Sofia Terenziani",
      "userId": "07918956272317491448"
     },
     "user_tz": -120
    },
    "id": "eGP9RHctedtw"
   },
   "outputs": [],
   "source": [
    "def predict(inputs, token_type_ids):\n",
    "    output = model(inputs, token_type_ids=token_type_ids)\n",
    "    logits = output[0]\n",
    "    max_logits = logits.max(dim=1).values\n",
    "    return max_logits"
   ]
  },
  {
   "cell_type": "code",
   "execution_count": null,
   "metadata": {
    "executionInfo": {
     "elapsed": 2,
     "status": "ok",
     "timestamp": 1715006118908,
     "user": {
      "displayName": "Sofia Terenziani",
      "userId": "07918956272317491448"
     },
     "user_tz": -120
    },
    "id": "avTjVPVkhN9H"
   },
   "outputs": [],
   "source": [
    "def create_baseline(input_ids, attention_mask):\n",
    "    baseline_attention_mask = torch.ones_like(attention_mask).to(device)\n",
    "    baseline_input_ids = torch.zeros_like(input_ids).to(device)\n",
    "\n",
    "    special_token_ids = {30522, 30523, 30524, 30525}\n",
    "    special_tokens_mask = torch.isin(input_ids, torch.tensor(list(special_token_ids), device=device))\n",
    "    baseline_input_ids[special_tokens_mask] = input_ids[special_tokens_mask]\n",
    "    return baseline_input_ids, baseline_attention_mask #baseline_token_type_ids"
   ]
  },
  {
   "cell_type": "code",
   "execution_count": null,
   "metadata": {
    "executionInfo": {
     "elapsed": 2,
     "status": "ok",
     "timestamp": 1715006119171,
     "user": {
      "displayName": "Sofia Terenziani",
      "userId": "07918956272317491448"
     },
     "user_tz": -120
    },
    "id": "rddskbZ1fbsQ"
   },
   "outputs": [],
   "source": [
    "lig = LayerIntegratedGradients(predict, model.bert.embeddings)"
   ]
  },
  {
   "cell_type": "code",
   "execution_count": null,
   "metadata": {
    "executionInfo": {
     "elapsed": 3,
     "status": "ok",
     "timestamp": 1715006120481,
     "user": {
      "displayName": "Sofia Terenziani",
      "userId": "07918956272317491448"
     },
     "user_tz": -120
    },
    "id": "jQcko6g4gzFJ"
   },
   "outputs": [],
   "source": [
    "def gradient_sensitivity(model, input_ids, attention_mask):\n",
    "    model.eval()\n",
    "    baseline_input_ids, baseline_attention_mask = create_baseline(input_ids, attention_mask)\n",
    "\n",
    "    attributions, delta = lig.attribute(inputs=(input_ids, attention_mask),\n",
    "                                         baselines=(baseline_input_ids, baseline_attention_mask),\n",
    "                                         n_steps=10,  \n",
    "                                         return_convergence_delta=True)\n",
    "\n",
    "    attributions = attributions.sum(dim=-1).squeeze(0)  \n",
    "    attributions = attributions / torch.norm(attributions) \n",
    "\n",
    "    return attributions  "
   ]
  },
  {
   "cell_type": "code",
   "execution_count": null,
   "metadata": {
    "executionInfo": {
     "elapsed": 3,
     "status": "ok",
     "timestamp": 1715006120741,
     "user": {
      "displayName": "Sofia Terenziani",
      "userId": "07918956272317491448"
     },
     "user_tz": -120
    },
    "id": "rDuLLvWqlFQs"
   },
   "outputs": [],
   "source": [
    "def tokenisation(text, tokenizer, device='cuda'):\n",
    "    special_tokens_dict = {'additional_special_tokens': ['[a1]', '[/a1]', '[a2]', '[/a2]']}\n",
    "    tokenizer = AutoTokenizer.from_pretrained('bert-base-uncased')\n",
    "    tokenizer.add_special_tokens(special_tokens_dict)\n",
    "\n",
    "    encoded_input = tokenizer(text, max_length=508, truncation=True, padding='max_length', return_tensors='pt')\n",
    "    input_ids = encoded_input['input_ids'].to(device)\n",
    "    attention_mask = encoded_input.get('attention_mask', None).to(device) if encoded_input.get('attention_mask', None) is not None else None\n",
    "    token_type_ids = encoded_input.get('token_type_ids', None).to(device) if encoded_input.get('token_type_ids', None) is not None else None\n",
    "    return input_ids, attention_mask, token_type_ids"
   ]
  },
  {
   "cell_type": "code",
   "execution_count": null,
   "metadata": {
    "colab": {
     "base_uri": "https://localhost:8080/"
    },
    "executionInfo": {
     "elapsed": 2590208,
     "status": "ok",
     "timestamp": 1715008713959,
     "user": {
      "displayName": "Sofia Terenziani",
      "userId": "07918956272317491448"
     },
     "user_tz": -120
    },
    "id": "Nid5goYqiBRE",
    "outputId": "19f5963b-e4d8-44ad-b620-2412719fff0d"
   },
   "outputs": [],
   "source": [
    "gradients_details = []\n",
    "for index, row in original.iterrows():\n",
    "    print(index)\n",
    "    text = row['annotated_context']\n",
    "    input_ids, attention_mask, token_type_ids = tokenisation(text, tokenizer, device)\n",
    "    attributions = gradient_sensitivity(model, input_ids, attention_mask)\n",
    "    attributions_list = attributions.detach().cpu().numpy().tolist()\n",
    "    tokens = tokenizer.convert_ids_to_tokens(input_ids[0])\n",
    "    word_attributions = list(zip(tokens, attributions_list))  # Ensure this pairs tokens with their attributions correctly\n",
    "\n",
    "    gradients_details.append({\n",
    "        \"index\": index,\n",
    "        \"text\": text,\n",
    "        \"word_attributions\": word_attributions\n",
    "    })\n"
   ]
  },
  {
   "cell_type": "code",
   "execution_count": null,
   "metadata": {
    "colab": {
     "base_uri": "https://localhost:8080/"
    },
    "executionInfo": {
     "elapsed": 5,
     "status": "ok",
     "timestamp": 1715008713960,
     "user": {
      "displayName": "Sofia Terenziani",
      "userId": "07918956272317491448"
     },
     "user_tz": -120
    },
    "id": "NNnqrfKbgv2-",
    "outputId": "c7a313b6-e67f-4a71-d2ff-7d00aa7f1daa"
   },
   "outputs": [],
   "source": [
    "gradients_df = pd.DataFrame(gradients_details)\n",
    "print(gradients_df)"
   ]
  },
  {
   "cell_type": "code",
   "execution_count": null,
   "metadata": {
    "executionInfo": {
     "elapsed": 4,
     "status": "ok",
     "timestamp": 1715008713960,
     "user": {
      "displayName": "Sofia Terenziani",
      "userId": "07918956272317491448"
     },
     "user_tz": -120
    },
    "id": "pniLr5RUhT6Z"
   },
   "outputs": [],
   "source": [
    "original['index'] = original.index\n",
    "gradients_df['index'] =  gradients_df.index\n",
    "original = original.reset_index(drop=True)\n",
    "gradients_df['label'] = df_filtered['label']"
   ]
  },
  {
   "cell_type": "code",
   "execution_count": null,
   "metadata": {
    "executionInfo": {
     "elapsed": 274,
     "status": "ok",
     "timestamp": 1715008714231,
     "user": {
      "displayName": "Sofia Terenziani",
      "userId": "07918956272317491448"
     },
     "user_tz": -120
    },
    "id": "tBfMJkczhT6b"
   },
   "outputs": [],
   "source": [
    "gradients_df.to_csv('../results/gradients/gradients-og-bert-base.csv', index=False)"
   ]
  },
  {
   "cell_type": "markdown",
   "metadata": {
    "id": "HxdGrJSYuAkS"
   },
   "source": []
  },
  {
   "cell_type": "markdown",
   "metadata": {
    "id": "kxLhgjwTuAv4"
   },
   "source": [
    "## Compute Gradients Counterfactuals"
   ]
  },
  {
   "cell_type": "code",
   "execution_count": null,
   "metadata": {
    "executionInfo": {
     "elapsed": 11,
     "status": "ok",
     "timestamp": 1715008714232,
     "user": {
      "displayName": "Sofia Terenziani",
      "userId": "07918956272317491448"
     },
     "user_tz": -120
    },
    "id": "LhKzjuuHuAv4"
   },
   "outputs": [],
   "source": [
    "import re\n",
    "def annotate_text(row, column):\n",
    "    context = row['counterfactual']\n",
    "    eventA = re.escape(row['eventA'])\n",
    "    eventB = re.escape(row['eventB'])\n",
    "\n",
    "    # Make sure the longer event is replaced first if they overlap\n",
    "    if len(eventA) > len(eventB):\n",
    "        context = re.sub(eventA, f\"[a1]{row['eventA']}[/a1]\", context)\n",
    "        context = re.sub(eventB, f\"[a2]{row['eventB']}[/a2]\", context)\n",
    "    else:\n",
    "        context = re.sub(eventB, f\"[a2]{row['eventB']}[/a2]\", context)\n",
    "        context = re.sub(eventA, f\"[a1]{row['eventB']}[/a1]\", context)\n",
    "\n",
    "    return context"
   ]
  },
  {
   "cell_type": "code",
   "execution_count": null,
   "metadata": {
    "executionInfo": {
     "elapsed": 10,
     "status": "ok",
     "timestamp": 1715008714232,
     "user": {
      "displayName": "Sofia Terenziani",
      "userId": "07918956272317491448"
     },
     "user_tz": -120
    },
    "id": "6po_4V6KuAv5"
   },
   "outputs": [],
   "source": [
    "counterfactuals['annotated_context'] = counterfactuals.apply(lambda row: annotate_text(row, 'counterfactual'), axis=1)"
   ]
  },
  {
   "cell_type": "code",
   "execution_count": null,
   "metadata": {
    "executionInfo": {
     "elapsed": 9,
     "status": "ok",
     "timestamp": 1715008714232,
     "user": {
      "displayName": "Sofia Terenziani",
      "userId": "07918956272317491448"
     },
     "user_tz": -120
    },
    "id": "zL5rBO_YuAv5"
   },
   "outputs": [],
   "source": [
    "from datasets import Dataset, DatasetDict\n",
    "dataset = DatasetDict({\n",
    "    \"counterfactual\": Dataset.from_pandas(df_filtered_counterfactuals),\n",
    "})"
   ]
  },
  {
   "cell_type": "code",
   "execution_count": null,
   "metadata": {
    "executionInfo": {
     "elapsed": 9,
     "status": "ok",
     "timestamp": 1715008714232,
     "user": {
      "displayName": "Sofia Terenziani",
      "userId": "07918956272317491448"
     },
     "user_tz": -120
    },
    "id": "Eej_uEtquAv5"
   },
   "outputs": [],
   "source": [
    "from transformers import DataCollatorWithPadding\n",
    "data_collator = DataCollatorWithPadding(tokenizer=tokenizer)\n",
    "tokenizer_class = str(type(tokenizer)).strip(\"><'\").split('.')[-1]"
   ]
  },
  {
   "cell_type": "code",
   "execution_count": null,
   "metadata": {
    "colab": {
     "base_uri": "https://localhost:8080/",
     "height": 49,
     "referenced_widgets": [
      "4eedb5b3c66a4203a1633659f13c0735",
      "3eaa8d352bdc4f0f80e7b2073eaae7c0",
      "734c3dc94951409699838ca3c8dcf62a",
      "666bc7c948c54b57a8cdff9b5367b172",
      "97d40e7ad7e3457e95f1be7e814b082e",
      "c897e4888cce4ef294e1ae8ab7023069",
      "4fd2e0d9f6b04b03b08f0af6557c4721",
      "ad650e734f0a42278f734a54f3f2bd63",
      "3c1a8b3785b547f7b2438201c2ec139e",
      "ad24b2a0afa14168b1f8d5f2eadd52e5",
      "3b4a7190456e49689acb77ffd8133bf1"
     ]
    },
    "executionInfo": {
     "elapsed": 7,
     "status": "ok",
     "timestamp": 1715008714232,
     "user": {
      "displayName": "Sofia Terenziani",
      "userId": "07918956272317491448"
     },
     "user_tz": -120
    },
    "id": "A5oDq6bMuAv5",
    "outputId": "5e9dca14-bc72-4ee7-8163-7da14a648b05"
   },
   "outputs": [],
   "source": [
    "def preprocess_function(examples):\n",
    "  max_length_value = 508\n",
    "  return tokenizer(examples[\"annotated_context\"], truncation=True, max_length=max_length_value)\n",
    "\n",
    "tokenized_datasets = dataset.map(preprocess_function, batched=True)"
   ]
  },
  {
   "cell_type": "code",
   "execution_count": null,
   "metadata": {
    "executionInfo": {
     "elapsed": 10,
     "status": "ok",
     "timestamp": 1715008714490,
     "user": {
      "displayName": "Sofia Terenziani",
      "userId": "07918956272317491448"
     },
     "user_tz": -120
    },
    "id": "zwUga_qQuAv6"
   },
   "outputs": [],
   "source": [
    "def predict(inputs, token_type_ids):\n",
    "    output = model(inputs, token_type_ids=token_type_ids)\n",
    "    logits = output[0]\n",
    "    max_logits = logits.max(dim=1).values\n",
    "    return max_logits"
   ]
  },
  {
   "cell_type": "code",
   "execution_count": null,
   "metadata": {
    "executionInfo": {
     "elapsed": 10,
     "status": "ok",
     "timestamp": 1715008714490,
     "user": {
      "displayName": "Sofia Terenziani",
      "userId": "07918956272317491448"
     },
     "user_tz": -120
    },
    "id": "wj6FLAY-uAv7"
   },
   "outputs": [],
   "source": [
    "def create_baseline(input_ids, attention_mask):\n",
    "    baseline_attention_mask = torch.ones_like(attention_mask).to(device)\n",
    "    #baseline_token_type_ids = torch.zeros_like(token_type_ids).to(device)\n",
    "    baseline_input_ids = torch.zeros_like(input_ids).to(device)\n",
    "\n",
    "    special_token_ids = {30522, 30523, 30524, 30525}\n",
    "    special_tokens_mask = torch.isin(input_ids, torch.tensor(list(special_token_ids), device=device))\n",
    "    baseline_input_ids[special_tokens_mask] = input_ids[special_tokens_mask]\n",
    "    return baseline_input_ids, baseline_attention_mask #baseline_token_type_ids"
   ]
  },
  {
   "cell_type": "code",
   "execution_count": null,
   "metadata": {
    "executionInfo": {
     "elapsed": 10,
     "status": "ok",
     "timestamp": 1715008714491,
     "user": {
      "displayName": "Sofia Terenziani",
      "userId": "07918956272317491448"
     },
     "user_tz": -120
    },
    "id": "c8P8bq-MuAv7"
   },
   "outputs": [],
   "source": [
    "lig = LayerIntegratedGradients(predict, model.bert.embeddings)"
   ]
  },
  {
   "cell_type": "code",
   "execution_count": null,
   "metadata": {
    "executionInfo": {
     "elapsed": 9,
     "status": "ok",
     "timestamp": 1715008714491,
     "user": {
      "displayName": "Sofia Terenziani",
      "userId": "07918956272317491448"
     },
     "user_tz": -120
    },
    "id": "LQF2lB0EuAv7"
   },
   "outputs": [],
   "source": [
    "def gradient_sensitivity(model, input_ids, attention_mask):\n",
    "    model.eval()\n",
    "    baseline_input_ids, baseline_attention_mask = create_baseline(input_ids, attention_mask)\n",
    "\n",
    "    attributions, delta = lig.attribute(inputs=(input_ids, attention_mask),\n",
    "                                         baselines=(baseline_input_ids, baseline_attention_mask),\n",
    "                                         n_steps=10,  # More steps for smoother integration\n",
    "                                         return_convergence_delta=True)\n",
    "    # Sum over the embedding dimension and normalize\n",
    "    attributions = attributions.sum(dim=-1).squeeze(0)  # Ensure it reduces to the number of tokens\n",
    "    attributions = attributions / torch.norm(attributions)  # Normalization\n",
    "\n",
    "    return attributions  # Convert to list for easier processing later"
   ]
  },
  {
   "cell_type": "code",
   "execution_count": null,
   "metadata": {
    "executionInfo": {
     "elapsed": 9,
     "status": "ok",
     "timestamp": 1715008714491,
     "user": {
      "displayName": "Sofia Terenziani",
      "userId": "07918956272317491448"
     },
     "user_tz": -120
    },
    "id": "kJm5GWLruAv7"
   },
   "outputs": [],
   "source": [
    "def tokenisation(text, tokenizer, device='cuda'):\n",
    "    special_tokens_dict = {'additional_special_tokens': ['[a1]', '[/a1]', '[a2]', '[/a2]']}\n",
    "    tokenizer = AutoTokenizer.from_pretrained('bert-base-uncased')\n",
    "    tokenizer.add_special_tokens(special_tokens_dict)\n",
    "\n",
    "    encoded_input = tokenizer(text, max_length=508, truncation=True, padding='max_length', return_tensors='pt')\n",
    "    input_ids = encoded_input['input_ids'].to(device)\n",
    "    attention_mask = encoded_input.get('attention_mask', None).to(device) if encoded_input.get('attention_mask', None) is not None else None\n",
    "    token_type_ids = encoded_input.get('token_type_ids', None).to(device) if encoded_input.get('token_type_ids', None) is not None else None\n",
    "    return input_ids, attention_mask, token_type_ids"
   ]
  },
  {
   "cell_type": "code",
   "execution_count": null,
   "metadata": {
    "colab": {
     "base_uri": "https://localhost:8080/"
    },
    "id": "b-3ayX4muAv8",
    "outputId": "13982800-260c-4534-e8c2-ba3316093560"
   },
   "outputs": [],
   "source": [
    "gradients_details_counterfactuals = []\n",
    "for index, row in counterfactuals.iterrows():\n",
    "    print(index)\n",
    "    text = row['annotated_context']\n",
    "    input_ids, attention_mask, token_type_ids = tokenisation(text, tokenizer, device)\n",
    "    attributions = gradient_sensitivity(model, input_ids, attention_mask)\n",
    "    attributions_list = attributions.detach().cpu().numpy().tolist()\n",
    "    tokens = tokenizer.convert_ids_to_tokens(input_ids[0])\n",
    "    word_attributions = list(zip(tokens, attributions_list))  # Ensure this pairs tokens with their attributions correctly\n",
    "\n",
    "    gradients_details_counterfactuals.append({\n",
    "        \"index\": index,\n",
    "        \"text\": text,\n",
    "        \"word_attributions\": word_attributions\n",
    "    })\n"
   ]
  },
  {
   "cell_type": "code",
   "execution_count": null,
   "metadata": {
    "id": "v3jNW1aouAv8"
   },
   "outputs": [],
   "source": [
    "gradients_counterfactual_df = pd.DataFrame(gradients_details_counterfactuals)\n",
    "print(gradients_counterfactual_df)"
   ]
  },
  {
   "cell_type": "code",
   "execution_count": null,
   "metadata": {
    "id": "3KIGscoLuAv8"
   },
   "outputs": [],
   "source": [
    "counterfactuals['index'] = counterfactuals.index\n",
    "gradients_counterfactual_df['index'] =  gradients_counterfactual_df.index\n",
    "counterfactuals = counterfactuals.reset_index(drop=True)"
   ]
  },
  {
   "cell_type": "code",
   "execution_count": null,
   "metadata": {
    "id": "6iwKwdmyuAv8"
   },
   "outputs": [],
   "source": [
    "gradients_counterfactual_df['label'] = df_counter['label']"
   ]
  },
  {
   "cell_type": "code",
   "execution_count": null,
   "metadata": {
    "id": "ExGHrJLeuAv9"
   },
   "outputs": [],
   "source": [
    "gradients_counterfactual_df.to_csv('../results/gradients/gradients-cf-bert-base.csv', index=False)"
   ]
  },
  {
   "cell_type": "markdown",
   "metadata": {
    "id": "5Uyjj051L54L"
   },
   "source": [
    "## Visualise Instance"
   ]
  },
  {
   "cell_type": "code",
   "execution_count": null,
   "metadata": {
    "colab": {
     "base_uri": "https://localhost:8080/",
     "height": 272
    },
    "executionInfo": {
     "elapsed": 6,
     "status": "ok",
     "timestamp": 1714316207232,
     "user": {
      "displayName": "Sofia Terenziani",
      "userId": "07918956272317491448"
     },
     "user_tz": -120
    },
    "id": "CbEDkrd7L7mH",
    "outputId": "8369a100-85c2-462a-8439-ccaf5eb9ebd6"
   },
   "outputs": [],
   "source": [
    "from IPython.display import HTML, display\n",
    "import pandas as pd\n",
    "\n",
    "instance = gradients_df.loc[1, 'word_attributions']\n",
    "tokens, raw_attributions = zip(*instance)\n",
    "attributions = [ __builtins__.sum(attrs) for attrs in raw_attributions] #/len(attrs)\n",
    "\n",
    "def visualize_attributions(tokens, attributions):\n",
    "    attributions = [float(i) for i in attributions] \n",
    "    min_attribution = min(attributions)\n",
    "    max_attribution = max(attributions)\n",
    "    attributions = [(attr - min_attribution) / (max_attribution - min_attribution) for attr in attributions]\n",
    "\n",
    "    html_string = \"<p><b>Attributions:</b><br>\"\n",
    "    for token, attr in zip(tokens, attributions):\n",
    "        color = f\"{int(300 * (1 - attr))}\" \n",
    "        html_string += f\"<span style='background-color:rgb(255,{color},{color})'>{token}</span> \"\n",
    "\n",
    "    html_string += \"</p>\"\n",
    "    display(HTML(html_string))\n",
    "\n",
    "visualize_attributions(tokens, attributions)"
   ]
  }
 ],
 "metadata": {
  "accelerator": "GPU",
  "colab": {
   "authorship_tag": "ABX9TyOplXfKCl0TXLugUTuxtq6A",
   "gpuType": "T4",
   "machine_shape": "hm",
   "provenance": []
  },
  "kernelspec": {
   "display_name": "Python 3 (ipykernel)",
   "language": "python",
   "name": "python3"
  },
  "language_info": {
   "codemirror_mode": {
    "name": "ipython",
    "version": 3
   },
   "file_extension": ".py",
   "mimetype": "text/x-python",
   "name": "python",
   "nbconvert_exporter": "python",
   "pygments_lexer": "ipython3",
   "version": "3.11.5"
  },
  "widgets": {
   "application/vnd.jupyter.widget-state+json": {
    "06802104db944743acba34f29683a6ad": {
     "model_module": "@jupyter-widgets/controls",
     "model_module_version": "1.5.0",
     "model_name": "HBoxModel",
     "state": {
      "_dom_classes": [],
      "_model_module": "@jupyter-widgets/controls",
      "_model_module_version": "1.5.0",
      "_model_name": "HBoxModel",
      "_view_count": null,
      "_view_module": "@jupyter-widgets/controls",
      "_view_module_version": "1.5.0",
      "_view_name": "HBoxView",
      "box_style": "",
      "children": [
       "IPY_MODEL_e690f0a1004a43de910b969f300fbe3e",
       "IPY_MODEL_336c6193533e4723b1129bd382b6ac42",
       "IPY_MODEL_c9585e1e147e48c080acd16bb22ba5f8"
      ],
      "layout": "IPY_MODEL_e9c710c5607c478382eccb13f5e14f91"
     }
    },
    "06f8b1e44d714e0c8a4e4222b7dcf8a3": {
     "model_module": "@jupyter-widgets/controls",
     "model_module_version": "1.5.0",
     "model_name": "DescriptionStyleModel",
     "state": {
      "_model_module": "@jupyter-widgets/controls",
      "_model_module_version": "1.5.0",
      "_model_name": "DescriptionStyleModel",
      "_view_count": null,
      "_view_module": "@jupyter-widgets/base",
      "_view_module_version": "1.2.0",
      "_view_name": "StyleView",
      "description_width": ""
     }
    },
    "08035fd7b283445ebe059534aebedd72": {
     "model_module": "@jupyter-widgets/controls",
     "model_module_version": "1.5.0",
     "model_name": "HBoxModel",
     "state": {
      "_dom_classes": [],
      "_model_module": "@jupyter-widgets/controls",
      "_model_module_version": "1.5.0",
      "_model_name": "HBoxModel",
      "_view_count": null,
      "_view_module": "@jupyter-widgets/controls",
      "_view_module_version": "1.5.0",
      "_view_name": "HBoxView",
      "box_style": "",
      "children": [
       "IPY_MODEL_36514668b5064a768b15b10eee1fbadc",
       "IPY_MODEL_dbef01a9327741e7ae8339a903b1ba16",
       "IPY_MODEL_d4c8277dcccb4914827cf4a9884d9d49"
      ],
      "layout": "IPY_MODEL_37680d81a870499090851efcbd54fe30"
     }
    },
    "097709770f48452ba1418486bec0f0b8": {
     "model_module": "@jupyter-widgets/controls",
     "model_module_version": "1.5.0",
     "model_name": "DescriptionStyleModel",
     "state": {
      "_model_module": "@jupyter-widgets/controls",
      "_model_module_version": "1.5.0",
      "_model_name": "DescriptionStyleModel",
      "_view_count": null,
      "_view_module": "@jupyter-widgets/base",
      "_view_module_version": "1.2.0",
      "_view_name": "StyleView",
      "description_width": ""
     }
    },
    "0b1ee6054779429d9ad7512bee854337": {
     "model_module": "@jupyter-widgets/controls",
     "model_module_version": "1.5.0",
     "model_name": "HBoxModel",
     "state": {
      "_dom_classes": [],
      "_model_module": "@jupyter-widgets/controls",
      "_model_module_version": "1.5.0",
      "_model_name": "HBoxModel",
      "_view_count": null,
      "_view_module": "@jupyter-widgets/controls",
      "_view_module_version": "1.5.0",
      "_view_name": "HBoxView",
      "box_style": "",
      "children": [
       "IPY_MODEL_a1ec74b4f4804de2b43e517e7f7a332e",
       "IPY_MODEL_cac94e975e3f4d33b132784c35244f85",
       "IPY_MODEL_7940e26ae6e94d01b8bdaed062299631"
      ],
      "layout": "IPY_MODEL_0dd9f680c3a345459c863dd79ff6fe70"
     }
    },
    "0c88489a0836442bb989d9bda806f2d5": {
     "model_module": "@jupyter-widgets/base",
     "model_module_version": "1.2.0",
     "model_name": "LayoutModel",
     "state": {
      "_model_module": "@jupyter-widgets/base",
      "_model_module_version": "1.2.0",
      "_model_name": "LayoutModel",
      "_view_count": null,
      "_view_module": "@jupyter-widgets/base",
      "_view_module_version": "1.2.0",
      "_view_name": "LayoutView",
      "align_content": null,
      "align_items": null,
      "align_self": null,
      "border": null,
      "bottom": null,
      "display": null,
      "flex": null,
      "flex_flow": null,
      "grid_area": null,
      "grid_auto_columns": null,
      "grid_auto_flow": null,
      "grid_auto_rows": null,
      "grid_column": null,
      "grid_gap": null,
      "grid_row": null,
      "grid_template_areas": null,
      "grid_template_columns": null,
      "grid_template_rows": null,
      "height": null,
      "justify_content": null,
      "justify_items": null,
      "left": null,
      "margin": null,
      "max_height": null,
      "max_width": null,
      "min_height": null,
      "min_width": null,
      "object_fit": null,
      "object_position": null,
      "order": null,
      "overflow": null,
      "overflow_x": null,
      "overflow_y": null,
      "padding": null,
      "right": null,
      "top": null,
      "visibility": null,
      "width": null
     }
    },
    "0dd9f680c3a345459c863dd79ff6fe70": {
     "model_module": "@jupyter-widgets/base",
     "model_module_version": "1.2.0",
     "model_name": "LayoutModel",
     "state": {
      "_model_module": "@jupyter-widgets/base",
      "_model_module_version": "1.2.0",
      "_model_name": "LayoutModel",
      "_view_count": null,
      "_view_module": "@jupyter-widgets/base",
      "_view_module_version": "1.2.0",
      "_view_name": "LayoutView",
      "align_content": null,
      "align_items": null,
      "align_self": null,
      "border": null,
      "bottom": null,
      "display": null,
      "flex": null,
      "flex_flow": null,
      "grid_area": null,
      "grid_auto_columns": null,
      "grid_auto_flow": null,
      "grid_auto_rows": null,
      "grid_column": null,
      "grid_gap": null,
      "grid_row": null,
      "grid_template_areas": null,
      "grid_template_columns": null,
      "grid_template_rows": null,
      "height": null,
      "justify_content": null,
      "justify_items": null,
      "left": null,
      "margin": null,
      "max_height": null,
      "max_width": null,
      "min_height": null,
      "min_width": null,
      "object_fit": null,
      "object_position": null,
      "order": null,
      "overflow": null,
      "overflow_x": null,
      "overflow_y": null,
      "padding": null,
      "right": null,
      "top": null,
      "visibility": null,
      "width": null
     }
    },
    "10e057c028604dc9b0ebf6cb0d560751": {
     "model_module": "@jupyter-widgets/controls",
     "model_module_version": "1.5.0",
     "model_name": "ProgressStyleModel",
     "state": {
      "_model_module": "@jupyter-widgets/controls",
      "_model_module_version": "1.5.0",
      "_model_name": "ProgressStyleModel",
      "_view_count": null,
      "_view_module": "@jupyter-widgets/base",
      "_view_module_version": "1.2.0",
      "_view_name": "StyleView",
      "bar_color": null,
      "description_width": ""
     }
    },
    "19b6e92ae6ac4bec88c9d75d49bb5cc2": {
     "model_module": "@jupyter-widgets/controls",
     "model_module_version": "1.5.0",
     "model_name": "ProgressStyleModel",
     "state": {
      "_model_module": "@jupyter-widgets/controls",
      "_model_module_version": "1.5.0",
      "_model_name": "ProgressStyleModel",
      "_view_count": null,
      "_view_module": "@jupyter-widgets/base",
      "_view_module_version": "1.2.0",
      "_view_name": "StyleView",
      "bar_color": null,
      "description_width": ""
     }
    },
    "1fe6b75c6b52402bab46a4d0a40f3515": {
     "model_module": "@jupyter-widgets/controls",
     "model_module_version": "1.5.0",
     "model_name": "DescriptionStyleModel",
     "state": {
      "_model_module": "@jupyter-widgets/controls",
      "_model_module_version": "1.5.0",
      "_model_name": "DescriptionStyleModel",
      "_view_count": null,
      "_view_module": "@jupyter-widgets/base",
      "_view_module_version": "1.2.0",
      "_view_name": "StyleView",
      "description_width": ""
     }
    },
    "240586e1a3c2447c80c00d65a02dab5f": {
     "model_module": "@jupyter-widgets/controls",
     "model_module_version": "1.5.0",
     "model_name": "FloatProgressModel",
     "state": {
      "_dom_classes": [],
      "_model_module": "@jupyter-widgets/controls",
      "_model_module_version": "1.5.0",
      "_model_name": "FloatProgressModel",
      "_view_count": null,
      "_view_module": "@jupyter-widgets/controls",
      "_view_module_version": "1.5.0",
      "_view_name": "ProgressView",
      "bar_style": "success",
      "description": "",
      "description_tooltip": null,
      "layout": "IPY_MODEL_4c0d7edd2b2f4d108bc80999e6190ecf",
      "max": 196,
      "min": 0,
      "orientation": "horizontal",
      "style": "IPY_MODEL_421fdc4c88554d9d9c4207693344c7f5",
      "value": 196
     }
    },
    "2d3371bc9d944cad897afad21eac4809": {
     "model_module": "@jupyter-widgets/base",
     "model_module_version": "1.2.0",
     "model_name": "LayoutModel",
     "state": {
      "_model_module": "@jupyter-widgets/base",
      "_model_module_version": "1.2.0",
      "_model_name": "LayoutModel",
      "_view_count": null,
      "_view_module": "@jupyter-widgets/base",
      "_view_module_version": "1.2.0",
      "_view_name": "LayoutView",
      "align_content": null,
      "align_items": null,
      "align_self": null,
      "border": null,
      "bottom": null,
      "display": null,
      "flex": null,
      "flex_flow": null,
      "grid_area": null,
      "grid_auto_columns": null,
      "grid_auto_flow": null,
      "grid_auto_rows": null,
      "grid_column": null,
      "grid_gap": null,
      "grid_row": null,
      "grid_template_areas": null,
      "grid_template_columns": null,
      "grid_template_rows": null,
      "height": null,
      "justify_content": null,
      "justify_items": null,
      "left": null,
      "margin": null,
      "max_height": null,
      "max_width": null,
      "min_height": null,
      "min_width": null,
      "object_fit": null,
      "object_position": null,
      "order": null,
      "overflow": null,
      "overflow_x": null,
      "overflow_y": null,
      "padding": null,
      "right": null,
      "top": null,
      "visibility": null,
      "width": null
     }
    },
    "334964d6e8bc47d2a7fab7667e0cdbbb": {
     "model_module": "@jupyter-widgets/base",
     "model_module_version": "1.2.0",
     "model_name": "LayoutModel",
     "state": {
      "_model_module": "@jupyter-widgets/base",
      "_model_module_version": "1.2.0",
      "_model_name": "LayoutModel",
      "_view_count": null,
      "_view_module": "@jupyter-widgets/base",
      "_view_module_version": "1.2.0",
      "_view_name": "LayoutView",
      "align_content": null,
      "align_items": null,
      "align_self": null,
      "border": null,
      "bottom": null,
      "display": null,
      "flex": null,
      "flex_flow": null,
      "grid_area": null,
      "grid_auto_columns": null,
      "grid_auto_flow": null,
      "grid_auto_rows": null,
      "grid_column": null,
      "grid_gap": null,
      "grid_row": null,
      "grid_template_areas": null,
      "grid_template_columns": null,
      "grid_template_rows": null,
      "height": null,
      "justify_content": null,
      "justify_items": null,
      "left": null,
      "margin": null,
      "max_height": null,
      "max_width": null,
      "min_height": null,
      "min_width": null,
      "object_fit": null,
      "object_position": null,
      "order": null,
      "overflow": null,
      "overflow_x": null,
      "overflow_y": null,
      "padding": null,
      "right": null,
      "top": null,
      "visibility": null,
      "width": null
     }
    },
    "336c6193533e4723b1129bd382b6ac42": {
     "model_module": "@jupyter-widgets/controls",
     "model_module_version": "1.5.0",
     "model_name": "FloatProgressModel",
     "state": {
      "_dom_classes": [],
      "_model_module": "@jupyter-widgets/controls",
      "_model_module_version": "1.5.0",
      "_model_name": "FloatProgressModel",
      "_view_count": null,
      "_view_module": "@jupyter-widgets/controls",
      "_view_module_version": "1.5.0",
      "_view_name": "ProgressView",
      "bar_style": "success",
      "description": "",
      "description_tooltip": null,
      "layout": "IPY_MODEL_2d3371bc9d944cad897afad21eac4809",
      "max": 570,
      "min": 0,
      "orientation": "horizontal",
      "style": "IPY_MODEL_4a455270fd2c434c96729363d8dd3d29",
      "value": 570
     }
    },
    "3409217788b4493c8a7dd93883a8bdd2": {
     "model_module": "@jupyter-widgets/controls",
     "model_module_version": "1.5.0",
     "model_name": "DescriptionStyleModel",
     "state": {
      "_model_module": "@jupyter-widgets/controls",
      "_model_module_version": "1.5.0",
      "_model_name": "DescriptionStyleModel",
      "_view_count": null,
      "_view_module": "@jupyter-widgets/base",
      "_view_module_version": "1.2.0",
      "_view_name": "StyleView",
      "description_width": ""
     }
    },
    "36514668b5064a768b15b10eee1fbadc": {
     "model_module": "@jupyter-widgets/controls",
     "model_module_version": "1.5.0",
     "model_name": "HTMLModel",
     "state": {
      "_dom_classes": [],
      "_model_module": "@jupyter-widgets/controls",
      "_model_module_version": "1.5.0",
      "_model_name": "HTMLModel",
      "_view_count": null,
      "_view_module": "@jupyter-widgets/controls",
      "_view_module_version": "1.5.0",
      "_view_name": "HTMLView",
      "description": "",
      "description_tooltip": null,
      "layout": "IPY_MODEL_54850ba116a04a97bc996154a8c68bf8",
      "placeholder": "​",
      "style": "IPY_MODEL_558658772b7a47a9a8cd49c4d5bff70a",
      "value": "model.safetensors: 100%"
     }
    },
    "37680d81a870499090851efcbd54fe30": {
     "model_module": "@jupyter-widgets/base",
     "model_module_version": "1.2.0",
     "model_name": "LayoutModel",
     "state": {
      "_model_module": "@jupyter-widgets/base",
      "_model_module_version": "1.2.0",
      "_model_name": "LayoutModel",
      "_view_count": null,
      "_view_module": "@jupyter-widgets/base",
      "_view_module_version": "1.2.0",
      "_view_name": "LayoutView",
      "align_content": null,
      "align_items": null,
      "align_self": null,
      "border": null,
      "bottom": null,
      "display": null,
      "flex": null,
      "flex_flow": null,
      "grid_area": null,
      "grid_auto_columns": null,
      "grid_auto_flow": null,
      "grid_auto_rows": null,
      "grid_column": null,
      "grid_gap": null,
      "grid_row": null,
      "grid_template_areas": null,
      "grid_template_columns": null,
      "grid_template_rows": null,
      "height": null,
      "justify_content": null,
      "justify_items": null,
      "left": null,
      "margin": null,
      "max_height": null,
      "max_width": null,
      "min_height": null,
      "min_width": null,
      "object_fit": null,
      "object_position": null,
      "order": null,
      "overflow": null,
      "overflow_x": null,
      "overflow_y": null,
      "padding": null,
      "right": null,
      "top": null,
      "visibility": null,
      "width": null
     }
    },
    "383693ca645247279aa58f49cb569401": {
     "model_module": "@jupyter-widgets/controls",
     "model_module_version": "1.5.0",
     "model_name": "HTMLModel",
     "state": {
      "_dom_classes": [],
      "_model_module": "@jupyter-widgets/controls",
      "_model_module_version": "1.5.0",
      "_model_name": "HTMLModel",
      "_view_count": null,
      "_view_module": "@jupyter-widgets/controls",
      "_view_module_version": "1.5.0",
      "_view_name": "HTMLView",
      "description": "",
      "description_tooltip": null,
      "layout": "IPY_MODEL_ba77d9e698c24fd9b779e291b9f72d43",
      "placeholder": "​",
      "style": "IPY_MODEL_1fe6b75c6b52402bab46a4d0a40f3515",
      "value": " 204/204 [00:00&lt;00:00, 1978.25 examples/s]"
     }
    },
    "3ad16e92d7cf412799fdefe7e731a5fb": {
     "model_module": "@jupyter-widgets/base",
     "model_module_version": "1.2.0",
     "model_name": "LayoutModel",
     "state": {
      "_model_module": "@jupyter-widgets/base",
      "_model_module_version": "1.2.0",
      "_model_name": "LayoutModel",
      "_view_count": null,
      "_view_module": "@jupyter-widgets/base",
      "_view_module_version": "1.2.0",
      "_view_name": "LayoutView",
      "align_content": null,
      "align_items": null,
      "align_self": null,
      "border": null,
      "bottom": null,
      "display": null,
      "flex": null,
      "flex_flow": null,
      "grid_area": null,
      "grid_auto_columns": null,
      "grid_auto_flow": null,
      "grid_auto_rows": null,
      "grid_column": null,
      "grid_gap": null,
      "grid_row": null,
      "grid_template_areas": null,
      "grid_template_columns": null,
      "grid_template_rows": null,
      "height": null,
      "justify_content": null,
      "justify_items": null,
      "left": null,
      "margin": null,
      "max_height": null,
      "max_width": null,
      "min_height": null,
      "min_width": null,
      "object_fit": null,
      "object_position": null,
      "order": null,
      "overflow": null,
      "overflow_x": null,
      "overflow_y": null,
      "padding": null,
      "right": null,
      "top": null,
      "visibility": null,
      "width": null
     }
    },
    "3b4a7190456e49689acb77ffd8133bf1": {
     "model_module": "@jupyter-widgets/controls",
     "model_module_version": "1.5.0",
     "model_name": "DescriptionStyleModel",
     "state": {
      "_model_module": "@jupyter-widgets/controls",
      "_model_module_version": "1.5.0",
      "_model_name": "DescriptionStyleModel",
      "_view_count": null,
      "_view_module": "@jupyter-widgets/base",
      "_view_module_version": "1.2.0",
      "_view_name": "StyleView",
      "description_width": ""
     }
    },
    "3c1a8b3785b547f7b2438201c2ec139e": {
     "model_module": "@jupyter-widgets/controls",
     "model_module_version": "1.5.0",
     "model_name": "ProgressStyleModel",
     "state": {
      "_model_module": "@jupyter-widgets/controls",
      "_model_module_version": "1.5.0",
      "_model_name": "ProgressStyleModel",
      "_view_count": null,
      "_view_module": "@jupyter-widgets/base",
      "_view_module_version": "1.2.0",
      "_view_name": "StyleView",
      "bar_color": null,
      "description_width": ""
     }
    },
    "3eaa8d352bdc4f0f80e7b2073eaae7c0": {
     "model_module": "@jupyter-widgets/controls",
     "model_module_version": "1.5.0",
     "model_name": "HTMLModel",
     "state": {
      "_dom_classes": [],
      "_model_module": "@jupyter-widgets/controls",
      "_model_module_version": "1.5.0",
      "_model_name": "HTMLModel",
      "_view_count": null,
      "_view_module": "@jupyter-widgets/controls",
      "_view_module_version": "1.5.0",
      "_view_name": "HTMLView",
      "description": "",
      "description_tooltip": null,
      "layout": "IPY_MODEL_c897e4888cce4ef294e1ae8ab7023069",
      "placeholder": "​",
      "style": "IPY_MODEL_4fd2e0d9f6b04b03b08f0af6557c4721",
      "value": "Map: 100%"
     }
    },
    "421fdc4c88554d9d9c4207693344c7f5": {
     "model_module": "@jupyter-widgets/controls",
     "model_module_version": "1.5.0",
     "model_name": "ProgressStyleModel",
     "state": {
      "_model_module": "@jupyter-widgets/controls",
      "_model_module_version": "1.5.0",
      "_model_name": "ProgressStyleModel",
      "_view_count": null,
      "_view_module": "@jupyter-widgets/base",
      "_view_module_version": "1.2.0",
      "_view_name": "StyleView",
      "bar_color": null,
      "description_width": ""
     }
    },
    "441ffec8ed91408cbc17b78eec3176aa": {
     "model_module": "@jupyter-widgets/controls",
     "model_module_version": "1.5.0",
     "model_name": "HTMLModel",
     "state": {
      "_dom_classes": [],
      "_model_module": "@jupyter-widgets/controls",
      "_model_module_version": "1.5.0",
      "_model_name": "HTMLModel",
      "_view_count": null,
      "_view_module": "@jupyter-widgets/controls",
      "_view_module_version": "1.5.0",
      "_view_name": "HTMLView",
      "description": "",
      "description_tooltip": null,
      "layout": "IPY_MODEL_b6148ed0dcab413c8aa583a931f72b94",
      "placeholder": "​",
      "style": "IPY_MODEL_efea4ef139b74ae4b67af0d7997a94f9",
      "value": "Filter: 100%"
     }
    },
    "4a455270fd2c434c96729363d8dd3d29": {
     "model_module": "@jupyter-widgets/controls",
     "model_module_version": "1.5.0",
     "model_name": "ProgressStyleModel",
     "state": {
      "_model_module": "@jupyter-widgets/controls",
      "_model_module_version": "1.5.0",
      "_model_name": "ProgressStyleModel",
      "_view_count": null,
      "_view_module": "@jupyter-widgets/base",
      "_view_module_version": "1.2.0",
      "_view_name": "StyleView",
      "bar_color": null,
      "description_width": ""
     }
    },
    "4c0d7edd2b2f4d108bc80999e6190ecf": {
     "model_module": "@jupyter-widgets/base",
     "model_module_version": "1.2.0",
     "model_name": "LayoutModel",
     "state": {
      "_model_module": "@jupyter-widgets/base",
      "_model_module_version": "1.2.0",
      "_model_name": "LayoutModel",
      "_view_count": null,
      "_view_module": "@jupyter-widgets/base",
      "_view_module_version": "1.2.0",
      "_view_name": "LayoutView",
      "align_content": null,
      "align_items": null,
      "align_self": null,
      "border": null,
      "bottom": null,
      "display": null,
      "flex": null,
      "flex_flow": null,
      "grid_area": null,
      "grid_auto_columns": null,
      "grid_auto_flow": null,
      "grid_auto_rows": null,
      "grid_column": null,
      "grid_gap": null,
      "grid_row": null,
      "grid_template_areas": null,
      "grid_template_columns": null,
      "grid_template_rows": null,
      "height": null,
      "justify_content": null,
      "justify_items": null,
      "left": null,
      "margin": null,
      "max_height": null,
      "max_width": null,
      "min_height": null,
      "min_width": null,
      "object_fit": null,
      "object_position": null,
      "order": null,
      "overflow": null,
      "overflow_x": null,
      "overflow_y": null,
      "padding": null,
      "right": null,
      "top": null,
      "visibility": null,
      "width": null
     }
    },
    "4eedb5b3c66a4203a1633659f13c0735": {
     "model_module": "@jupyter-widgets/controls",
     "model_module_version": "1.5.0",
     "model_name": "HBoxModel",
     "state": {
      "_dom_classes": [],
      "_model_module": "@jupyter-widgets/controls",
      "_model_module_version": "1.5.0",
      "_model_name": "HBoxModel",
      "_view_count": null,
      "_view_module": "@jupyter-widgets/controls",
      "_view_module_version": "1.5.0",
      "_view_name": "HBoxView",
      "box_style": "",
      "children": [
       "IPY_MODEL_3eaa8d352bdc4f0f80e7b2073eaae7c0",
       "IPY_MODEL_734c3dc94951409699838ca3c8dcf62a",
       "IPY_MODEL_666bc7c948c54b57a8cdff9b5367b172"
      ],
      "layout": "IPY_MODEL_97d40e7ad7e3457e95f1be7e814b082e"
     }
    },
    "4fd2e0d9f6b04b03b08f0af6557c4721": {
     "model_module": "@jupyter-widgets/controls",
     "model_module_version": "1.5.0",
     "model_name": "DescriptionStyleModel",
     "state": {
      "_model_module": "@jupyter-widgets/controls",
      "_model_module_version": "1.5.0",
      "_model_name": "DescriptionStyleModel",
      "_view_count": null,
      "_view_module": "@jupyter-widgets/base",
      "_view_module_version": "1.2.0",
      "_view_name": "StyleView",
      "description_width": ""
     }
    },
    "54850ba116a04a97bc996154a8c68bf8": {
     "model_module": "@jupyter-widgets/base",
     "model_module_version": "1.2.0",
     "model_name": "LayoutModel",
     "state": {
      "_model_module": "@jupyter-widgets/base",
      "_model_module_version": "1.2.0",
      "_model_name": "LayoutModel",
      "_view_count": null,
      "_view_module": "@jupyter-widgets/base",
      "_view_module_version": "1.2.0",
      "_view_name": "LayoutView",
      "align_content": null,
      "align_items": null,
      "align_self": null,
      "border": null,
      "bottom": null,
      "display": null,
      "flex": null,
      "flex_flow": null,
      "grid_area": null,
      "grid_auto_columns": null,
      "grid_auto_flow": null,
      "grid_auto_rows": null,
      "grid_column": null,
      "grid_gap": null,
      "grid_row": null,
      "grid_template_areas": null,
      "grid_template_columns": null,
      "grid_template_rows": null,
      "height": null,
      "justify_content": null,
      "justify_items": null,
      "left": null,
      "margin": null,
      "max_height": null,
      "max_width": null,
      "min_height": null,
      "min_width": null,
      "object_fit": null,
      "object_position": null,
      "order": null,
      "overflow": null,
      "overflow_x": null,
      "overflow_y": null,
      "padding": null,
      "right": null,
      "top": null,
      "visibility": null,
      "width": null
     }
    },
    "555d51a35c264a4581c15affe885876b": {
     "model_module": "@jupyter-widgets/controls",
     "model_module_version": "1.5.0",
     "model_name": "ProgressStyleModel",
     "state": {
      "_model_module": "@jupyter-widgets/controls",
      "_model_module_version": "1.5.0",
      "_model_name": "ProgressStyleModel",
      "_view_count": null,
      "_view_module": "@jupyter-widgets/base",
      "_view_module_version": "1.2.0",
      "_view_name": "StyleView",
      "bar_color": null,
      "description_width": ""
     }
    },
    "558658772b7a47a9a8cd49c4d5bff70a": {
     "model_module": "@jupyter-widgets/controls",
     "model_module_version": "1.5.0",
     "model_name": "DescriptionStyleModel",
     "state": {
      "_model_module": "@jupyter-widgets/controls",
      "_model_module_version": "1.5.0",
      "_model_name": "DescriptionStyleModel",
      "_view_count": null,
      "_view_module": "@jupyter-widgets/base",
      "_view_module_version": "1.2.0",
      "_view_name": "StyleView",
      "description_width": ""
     }
    },
    "666bc7c948c54b57a8cdff9b5367b172": {
     "model_module": "@jupyter-widgets/controls",
     "model_module_version": "1.5.0",
     "model_name": "HTMLModel",
     "state": {
      "_dom_classes": [],
      "_model_module": "@jupyter-widgets/controls",
      "_model_module_version": "1.5.0",
      "_model_name": "HTMLModel",
      "_view_count": null,
      "_view_module": "@jupyter-widgets/controls",
      "_view_module_version": "1.5.0",
      "_view_name": "HTMLView",
      "description": "",
      "description_tooltip": null,
      "layout": "IPY_MODEL_ad24b2a0afa14168b1f8d5f2eadd52e5",
      "placeholder": "​",
      "style": "IPY_MODEL_3b4a7190456e49689acb77ffd8133bf1",
      "value": " 196/196 [00:00&lt;00:00, 1925.08 examples/s]"
     }
    },
    "6fc15047acf34fa3a5a435b461ed0149": {
     "model_module": "@jupyter-widgets/controls",
     "model_module_version": "1.5.0",
     "model_name": "HBoxModel",
     "state": {
      "_dom_classes": [],
      "_model_module": "@jupyter-widgets/controls",
      "_model_module_version": "1.5.0",
      "_model_name": "HBoxModel",
      "_view_count": null,
      "_view_module": "@jupyter-widgets/controls",
      "_view_module_version": "1.5.0",
      "_view_name": "HBoxView",
      "box_style": "",
      "children": [
       "IPY_MODEL_ecc0d0b6f1204d43b805c53e78163a47",
       "IPY_MODEL_8acd9298f261453a93d041f21516bdc8",
       "IPY_MODEL_383693ca645247279aa58f49cb569401"
      ],
      "layout": "IPY_MODEL_e5b37b7c3afa412cbed97740a7abc0ba"
     }
    },
    "6fdfd3b243454a49b0b60d79a000281e": {
     "model_module": "@jupyter-widgets/base",
     "model_module_version": "1.2.0",
     "model_name": "LayoutModel",
     "state": {
      "_model_module": "@jupyter-widgets/base",
      "_model_module_version": "1.2.0",
      "_model_name": "LayoutModel",
      "_view_count": null,
      "_view_module": "@jupyter-widgets/base",
      "_view_module_version": "1.2.0",
      "_view_name": "LayoutView",
      "align_content": null,
      "align_items": null,
      "align_self": null,
      "border": null,
      "bottom": null,
      "display": null,
      "flex": null,
      "flex_flow": null,
      "grid_area": null,
      "grid_auto_columns": null,
      "grid_auto_flow": null,
      "grid_auto_rows": null,
      "grid_column": null,
      "grid_gap": null,
      "grid_row": null,
      "grid_template_areas": null,
      "grid_template_columns": null,
      "grid_template_rows": null,
      "height": null,
      "justify_content": null,
      "justify_items": null,
      "left": null,
      "margin": null,
      "max_height": null,
      "max_width": null,
      "min_height": null,
      "min_width": null,
      "object_fit": null,
      "object_position": null,
      "order": null,
      "overflow": null,
      "overflow_x": null,
      "overflow_y": null,
      "padding": null,
      "right": null,
      "top": null,
      "visibility": null,
      "width": null
     }
    },
    "71aac63a8c5e4c2ba9242f5cd12e0dc2": {
     "model_module": "@jupyter-widgets/controls",
     "model_module_version": "1.5.0",
     "model_name": "DescriptionStyleModel",
     "state": {
      "_model_module": "@jupyter-widgets/controls",
      "_model_module_version": "1.5.0",
      "_model_name": "DescriptionStyleModel",
      "_view_count": null,
      "_view_module": "@jupyter-widgets/base",
      "_view_module_version": "1.2.0",
      "_view_name": "StyleView",
      "description_width": ""
     }
    },
    "734c3dc94951409699838ca3c8dcf62a": {
     "model_module": "@jupyter-widgets/controls",
     "model_module_version": "1.5.0",
     "model_name": "FloatProgressModel",
     "state": {
      "_dom_classes": [],
      "_model_module": "@jupyter-widgets/controls",
      "_model_module_version": "1.5.0",
      "_model_name": "FloatProgressModel",
      "_view_count": null,
      "_view_module": "@jupyter-widgets/controls",
      "_view_module_version": "1.5.0",
      "_view_name": "ProgressView",
      "bar_style": "success",
      "description": "",
      "description_tooltip": null,
      "layout": "IPY_MODEL_ad650e734f0a42278f734a54f3f2bd63",
      "max": 196,
      "min": 0,
      "orientation": "horizontal",
      "style": "IPY_MODEL_3c1a8b3785b547f7b2438201c2ec139e",
      "value": 196
     }
    },
    "7940e26ae6e94d01b8bdaed062299631": {
     "model_module": "@jupyter-widgets/controls",
     "model_module_version": "1.5.0",
     "model_name": "HTMLModel",
     "state": {
      "_dom_classes": [],
      "_model_module": "@jupyter-widgets/controls",
      "_model_module_version": "1.5.0",
      "_model_name": "HTMLModel",
      "_view_count": null,
      "_view_module": "@jupyter-widgets/controls",
      "_view_module_version": "1.5.0",
      "_view_name": "HTMLView",
      "description": "",
      "description_tooltip": null,
      "layout": "IPY_MODEL_334964d6e8bc47d2a7fab7667e0cdbbb",
      "placeholder": "​",
      "style": "IPY_MODEL_097709770f48452ba1418486bec0f0b8",
      "value": " 204/204 [00:00&lt;00:00, 1960.73 examples/s]"
     }
    },
    "8acd9298f261453a93d041f21516bdc8": {
     "model_module": "@jupyter-widgets/controls",
     "model_module_version": "1.5.0",
     "model_name": "FloatProgressModel",
     "state": {
      "_dom_classes": [],
      "_model_module": "@jupyter-widgets/controls",
      "_model_module_version": "1.5.0",
      "_model_name": "FloatProgressModel",
      "_view_count": null,
      "_view_module": "@jupyter-widgets/controls",
      "_view_module_version": "1.5.0",
      "_view_name": "ProgressView",
      "bar_style": "success",
      "description": "",
      "description_tooltip": null,
      "layout": "IPY_MODEL_0c88489a0836442bb989d9bda806f2d5",
      "max": 204,
      "min": 0,
      "orientation": "horizontal",
      "style": "IPY_MODEL_555d51a35c264a4581c15affe885876b",
      "value": 204
     }
    },
    "8baf020e794e40c2a907b1c0ffea586c": {
     "model_module": "@jupyter-widgets/base",
     "model_module_version": "1.2.0",
     "model_name": "LayoutModel",
     "state": {
      "_model_module": "@jupyter-widgets/base",
      "_model_module_version": "1.2.0",
      "_model_name": "LayoutModel",
      "_view_count": null,
      "_view_module": "@jupyter-widgets/base",
      "_view_module_version": "1.2.0",
      "_view_name": "LayoutView",
      "align_content": null,
      "align_items": null,
      "align_self": null,
      "border": null,
      "bottom": null,
      "display": null,
      "flex": null,
      "flex_flow": null,
      "grid_area": null,
      "grid_auto_columns": null,
      "grid_auto_flow": null,
      "grid_auto_rows": null,
      "grid_column": null,
      "grid_gap": null,
      "grid_row": null,
      "grid_template_areas": null,
      "grid_template_columns": null,
      "grid_template_rows": null,
      "height": null,
      "justify_content": null,
      "justify_items": null,
      "left": null,
      "margin": null,
      "max_height": null,
      "max_width": null,
      "min_height": null,
      "min_width": null,
      "object_fit": null,
      "object_position": null,
      "order": null,
      "overflow": null,
      "overflow_x": null,
      "overflow_y": null,
      "padding": null,
      "right": null,
      "top": null,
      "visibility": null,
      "width": null
     }
    },
    "97d40e7ad7e3457e95f1be7e814b082e": {
     "model_module": "@jupyter-widgets/base",
     "model_module_version": "1.2.0",
     "model_name": "LayoutModel",
     "state": {
      "_model_module": "@jupyter-widgets/base",
      "_model_module_version": "1.2.0",
      "_model_name": "LayoutModel",
      "_view_count": null,
      "_view_module": "@jupyter-widgets/base",
      "_view_module_version": "1.2.0",
      "_view_name": "LayoutView",
      "align_content": null,
      "align_items": null,
      "align_self": null,
      "border": null,
      "bottom": null,
      "display": null,
      "flex": null,
      "flex_flow": null,
      "grid_area": null,
      "grid_auto_columns": null,
      "grid_auto_flow": null,
      "grid_auto_rows": null,
      "grid_column": null,
      "grid_gap": null,
      "grid_row": null,
      "grid_template_areas": null,
      "grid_template_columns": null,
      "grid_template_rows": null,
      "height": null,
      "justify_content": null,
      "justify_items": null,
      "left": null,
      "margin": null,
      "max_height": null,
      "max_width": null,
      "min_height": null,
      "min_width": null,
      "object_fit": null,
      "object_position": null,
      "order": null,
      "overflow": null,
      "overflow_x": null,
      "overflow_y": null,
      "padding": null,
      "right": null,
      "top": null,
      "visibility": null,
      "width": null
     }
    },
    "a0516644c3cf4e3e9b073be67e2b5fc2": {
     "model_module": "@jupyter-widgets/controls",
     "model_module_version": "1.5.0",
     "model_name": "HBoxModel",
     "state": {
      "_dom_classes": [],
      "_model_module": "@jupyter-widgets/controls",
      "_model_module_version": "1.5.0",
      "_model_name": "HBoxModel",
      "_view_count": null,
      "_view_module": "@jupyter-widgets/controls",
      "_view_module_version": "1.5.0",
      "_view_name": "HBoxView",
      "box_style": "",
      "children": [
       "IPY_MODEL_441ffec8ed91408cbc17b78eec3176aa",
       "IPY_MODEL_240586e1a3c2447c80c00d65a02dab5f",
       "IPY_MODEL_ab8beab017fd46e1a5b4aa6c01233903"
      ],
      "layout": "IPY_MODEL_d006e4915b9c48fc94cfbfff14343ad1"
     }
    },
    "a1ec74b4f4804de2b43e517e7f7a332e": {
     "model_module": "@jupyter-widgets/controls",
     "model_module_version": "1.5.0",
     "model_name": "HTMLModel",
     "state": {
      "_dom_classes": [],
      "_model_module": "@jupyter-widgets/controls",
      "_model_module_version": "1.5.0",
      "_model_name": "HTMLModel",
      "_view_count": null,
      "_view_module": "@jupyter-widgets/controls",
      "_view_module_version": "1.5.0",
      "_view_name": "HTMLView",
      "description": "",
      "description_tooltip": null,
      "layout": "IPY_MODEL_3ad16e92d7cf412799fdefe7e731a5fb",
      "placeholder": "​",
      "style": "IPY_MODEL_b7e97f6a99734ec295a7a5ec05f4f335",
      "value": "Map: 100%"
     }
    },
    "ab8beab017fd46e1a5b4aa6c01233903": {
     "model_module": "@jupyter-widgets/controls",
     "model_module_version": "1.5.0",
     "model_name": "HTMLModel",
     "state": {
      "_dom_classes": [],
      "_model_module": "@jupyter-widgets/controls",
      "_model_module_version": "1.5.0",
      "_model_name": "HTMLModel",
      "_view_count": null,
      "_view_module": "@jupyter-widgets/controls",
      "_view_module_version": "1.5.0",
      "_view_name": "HTMLView",
      "description": "",
      "description_tooltip": null,
      "layout": "IPY_MODEL_6fdfd3b243454a49b0b60d79a000281e",
      "placeholder": "​",
      "style": "IPY_MODEL_71aac63a8c5e4c2ba9242f5cd12e0dc2",
      "value": " 196/196 [00:00&lt;00:00, 1961.13 examples/s]"
     }
    },
    "ad24b2a0afa14168b1f8d5f2eadd52e5": {
     "model_module": "@jupyter-widgets/base",
     "model_module_version": "1.2.0",
     "model_name": "LayoutModel",
     "state": {
      "_model_module": "@jupyter-widgets/base",
      "_model_module_version": "1.2.0",
      "_model_name": "LayoutModel",
      "_view_count": null,
      "_view_module": "@jupyter-widgets/base",
      "_view_module_version": "1.2.0",
      "_view_name": "LayoutView",
      "align_content": null,
      "align_items": null,
      "align_self": null,
      "border": null,
      "bottom": null,
      "display": null,
      "flex": null,
      "flex_flow": null,
      "grid_area": null,
      "grid_auto_columns": null,
      "grid_auto_flow": null,
      "grid_auto_rows": null,
      "grid_column": null,
      "grid_gap": null,
      "grid_row": null,
      "grid_template_areas": null,
      "grid_template_columns": null,
      "grid_template_rows": null,
      "height": null,
      "justify_content": null,
      "justify_items": null,
      "left": null,
      "margin": null,
      "max_height": null,
      "max_width": null,
      "min_height": null,
      "min_width": null,
      "object_fit": null,
      "object_position": null,
      "order": null,
      "overflow": null,
      "overflow_x": null,
      "overflow_y": null,
      "padding": null,
      "right": null,
      "top": null,
      "visibility": null,
      "width": null
     }
    },
    "ad650e734f0a42278f734a54f3f2bd63": {
     "model_module": "@jupyter-widgets/base",
     "model_module_version": "1.2.0",
     "model_name": "LayoutModel",
     "state": {
      "_model_module": "@jupyter-widgets/base",
      "_model_module_version": "1.2.0",
      "_model_name": "LayoutModel",
      "_view_count": null,
      "_view_module": "@jupyter-widgets/base",
      "_view_module_version": "1.2.0",
      "_view_name": "LayoutView",
      "align_content": null,
      "align_items": null,
      "align_self": null,
      "border": null,
      "bottom": null,
      "display": null,
      "flex": null,
      "flex_flow": null,
      "grid_area": null,
      "grid_auto_columns": null,
      "grid_auto_flow": null,
      "grid_auto_rows": null,
      "grid_column": null,
      "grid_gap": null,
      "grid_row": null,
      "grid_template_areas": null,
      "grid_template_columns": null,
      "grid_template_rows": null,
      "height": null,
      "justify_content": null,
      "justify_items": null,
      "left": null,
      "margin": null,
      "max_height": null,
      "max_width": null,
      "min_height": null,
      "min_width": null,
      "object_fit": null,
      "object_position": null,
      "order": null,
      "overflow": null,
      "overflow_x": null,
      "overflow_y": null,
      "padding": null,
      "right": null,
      "top": null,
      "visibility": null,
      "width": null
     }
    },
    "b6148ed0dcab413c8aa583a931f72b94": {
     "model_module": "@jupyter-widgets/base",
     "model_module_version": "1.2.0",
     "model_name": "LayoutModel",
     "state": {
      "_model_module": "@jupyter-widgets/base",
      "_model_module_version": "1.2.0",
      "_model_name": "LayoutModel",
      "_view_count": null,
      "_view_module": "@jupyter-widgets/base",
      "_view_module_version": "1.2.0",
      "_view_name": "LayoutView",
      "align_content": null,
      "align_items": null,
      "align_self": null,
      "border": null,
      "bottom": null,
      "display": null,
      "flex": null,
      "flex_flow": null,
      "grid_area": null,
      "grid_auto_columns": null,
      "grid_auto_flow": null,
      "grid_auto_rows": null,
      "grid_column": null,
      "grid_gap": null,
      "grid_row": null,
      "grid_template_areas": null,
      "grid_template_columns": null,
      "grid_template_rows": null,
      "height": null,
      "justify_content": null,
      "justify_items": null,
      "left": null,
      "margin": null,
      "max_height": null,
      "max_width": null,
      "min_height": null,
      "min_width": null,
      "object_fit": null,
      "object_position": null,
      "order": null,
      "overflow": null,
      "overflow_x": null,
      "overflow_y": null,
      "padding": null,
      "right": null,
      "top": null,
      "visibility": null,
      "width": null
     }
    },
    "b7e97f6a99734ec295a7a5ec05f4f335": {
     "model_module": "@jupyter-widgets/controls",
     "model_module_version": "1.5.0",
     "model_name": "DescriptionStyleModel",
     "state": {
      "_model_module": "@jupyter-widgets/controls",
      "_model_module_version": "1.5.0",
      "_model_name": "DescriptionStyleModel",
      "_view_count": null,
      "_view_module": "@jupyter-widgets/base",
      "_view_module_version": "1.2.0",
      "_view_name": "StyleView",
      "description_width": ""
     }
    },
    "ba77d9e698c24fd9b779e291b9f72d43": {
     "model_module": "@jupyter-widgets/base",
     "model_module_version": "1.2.0",
     "model_name": "LayoutModel",
     "state": {
      "_model_module": "@jupyter-widgets/base",
      "_model_module_version": "1.2.0",
      "_model_name": "LayoutModel",
      "_view_count": null,
      "_view_module": "@jupyter-widgets/base",
      "_view_module_version": "1.2.0",
      "_view_name": "LayoutView",
      "align_content": null,
      "align_items": null,
      "align_self": null,
      "border": null,
      "bottom": null,
      "display": null,
      "flex": null,
      "flex_flow": null,
      "grid_area": null,
      "grid_auto_columns": null,
      "grid_auto_flow": null,
      "grid_auto_rows": null,
      "grid_column": null,
      "grid_gap": null,
      "grid_row": null,
      "grid_template_areas": null,
      "grid_template_columns": null,
      "grid_template_rows": null,
      "height": null,
      "justify_content": null,
      "justify_items": null,
      "left": null,
      "margin": null,
      "max_height": null,
      "max_width": null,
      "min_height": null,
      "min_width": null,
      "object_fit": null,
      "object_position": null,
      "order": null,
      "overflow": null,
      "overflow_x": null,
      "overflow_y": null,
      "padding": null,
      "right": null,
      "top": null,
      "visibility": null,
      "width": null
     }
    },
    "bf34783fbc3c44bf8b14404abf5d0bd0": {
     "model_module": "@jupyter-widgets/base",
     "model_module_version": "1.2.0",
     "model_name": "LayoutModel",
     "state": {
      "_model_module": "@jupyter-widgets/base",
      "_model_module_version": "1.2.0",
      "_model_name": "LayoutModel",
      "_view_count": null,
      "_view_module": "@jupyter-widgets/base",
      "_view_module_version": "1.2.0",
      "_view_name": "LayoutView",
      "align_content": null,
      "align_items": null,
      "align_self": null,
      "border": null,
      "bottom": null,
      "display": null,
      "flex": null,
      "flex_flow": null,
      "grid_area": null,
      "grid_auto_columns": null,
      "grid_auto_flow": null,
      "grid_auto_rows": null,
      "grid_column": null,
      "grid_gap": null,
      "grid_row": null,
      "grid_template_areas": null,
      "grid_template_columns": null,
      "grid_template_rows": null,
      "height": null,
      "justify_content": null,
      "justify_items": null,
      "left": null,
      "margin": null,
      "max_height": null,
      "max_width": null,
      "min_height": null,
      "min_width": null,
      "object_fit": null,
      "object_position": null,
      "order": null,
      "overflow": null,
      "overflow_x": null,
      "overflow_y": null,
      "padding": null,
      "right": null,
      "top": null,
      "visibility": null,
      "width": null
     }
    },
    "c1d8831b579c4f9faf0f33bd888168eb": {
     "model_module": "@jupyter-widgets/controls",
     "model_module_version": "1.5.0",
     "model_name": "DescriptionStyleModel",
     "state": {
      "_model_module": "@jupyter-widgets/controls",
      "_model_module_version": "1.5.0",
      "_model_name": "DescriptionStyleModel",
      "_view_count": null,
      "_view_module": "@jupyter-widgets/base",
      "_view_module_version": "1.2.0",
      "_view_name": "StyleView",
      "description_width": ""
     }
    },
    "c897e4888cce4ef294e1ae8ab7023069": {
     "model_module": "@jupyter-widgets/base",
     "model_module_version": "1.2.0",
     "model_name": "LayoutModel",
     "state": {
      "_model_module": "@jupyter-widgets/base",
      "_model_module_version": "1.2.0",
      "_model_name": "LayoutModel",
      "_view_count": null,
      "_view_module": "@jupyter-widgets/base",
      "_view_module_version": "1.2.0",
      "_view_name": "LayoutView",
      "align_content": null,
      "align_items": null,
      "align_self": null,
      "border": null,
      "bottom": null,
      "display": null,
      "flex": null,
      "flex_flow": null,
      "grid_area": null,
      "grid_auto_columns": null,
      "grid_auto_flow": null,
      "grid_auto_rows": null,
      "grid_column": null,
      "grid_gap": null,
      "grid_row": null,
      "grid_template_areas": null,
      "grid_template_columns": null,
      "grid_template_rows": null,
      "height": null,
      "justify_content": null,
      "justify_items": null,
      "left": null,
      "margin": null,
      "max_height": null,
      "max_width": null,
      "min_height": null,
      "min_width": null,
      "object_fit": null,
      "object_position": null,
      "order": null,
      "overflow": null,
      "overflow_x": null,
      "overflow_y": null,
      "padding": null,
      "right": null,
      "top": null,
      "visibility": null,
      "width": null
     }
    },
    "c9585e1e147e48c080acd16bb22ba5f8": {
     "model_module": "@jupyter-widgets/controls",
     "model_module_version": "1.5.0",
     "model_name": "HTMLModel",
     "state": {
      "_dom_classes": [],
      "_model_module": "@jupyter-widgets/controls",
      "_model_module_version": "1.5.0",
      "_model_name": "HTMLModel",
      "_view_count": null,
      "_view_module": "@jupyter-widgets/controls",
      "_view_module_version": "1.5.0",
      "_view_name": "HTMLView",
      "description": "",
      "description_tooltip": null,
      "layout": "IPY_MODEL_d52d3fc4efa440aca23a37bcbb6d7b84",
      "placeholder": "​",
      "style": "IPY_MODEL_f096f4323c754bbdba4c68f25187e218",
      "value": " 570/570 [00:00&lt;00:00, 51.5kB/s]"
     }
    },
    "cac94e975e3f4d33b132784c35244f85": {
     "model_module": "@jupyter-widgets/controls",
     "model_module_version": "1.5.0",
     "model_name": "FloatProgressModel",
     "state": {
      "_dom_classes": [],
      "_model_module": "@jupyter-widgets/controls",
      "_model_module_version": "1.5.0",
      "_model_name": "FloatProgressModel",
      "_view_count": null,
      "_view_module": "@jupyter-widgets/controls",
      "_view_module_version": "1.5.0",
      "_view_name": "ProgressView",
      "bar_style": "success",
      "description": "",
      "description_tooltip": null,
      "layout": "IPY_MODEL_fd9f60466fda4f2ebad97c2fbc58be27",
      "max": 204,
      "min": 0,
      "orientation": "horizontal",
      "style": "IPY_MODEL_19b6e92ae6ac4bec88c9d75d49bb5cc2",
      "value": 204
     }
    },
    "d006e4915b9c48fc94cfbfff14343ad1": {
     "model_module": "@jupyter-widgets/base",
     "model_module_version": "1.2.0",
     "model_name": "LayoutModel",
     "state": {
      "_model_module": "@jupyter-widgets/base",
      "_model_module_version": "1.2.0",
      "_model_name": "LayoutModel",
      "_view_count": null,
      "_view_module": "@jupyter-widgets/base",
      "_view_module_version": "1.2.0",
      "_view_name": "LayoutView",
      "align_content": null,
      "align_items": null,
      "align_self": null,
      "border": null,
      "bottom": null,
      "display": null,
      "flex": null,
      "flex_flow": null,
      "grid_area": null,
      "grid_auto_columns": null,
      "grid_auto_flow": null,
      "grid_auto_rows": null,
      "grid_column": null,
      "grid_gap": null,
      "grid_row": null,
      "grid_template_areas": null,
      "grid_template_columns": null,
      "grid_template_rows": null,
      "height": null,
      "justify_content": null,
      "justify_items": null,
      "left": null,
      "margin": null,
      "max_height": null,
      "max_width": null,
      "min_height": null,
      "min_width": null,
      "object_fit": null,
      "object_position": null,
      "order": null,
      "overflow": null,
      "overflow_x": null,
      "overflow_y": null,
      "padding": null,
      "right": null,
      "top": null,
      "visibility": null,
      "width": null
     }
    },
    "d4c8277dcccb4914827cf4a9884d9d49": {
     "model_module": "@jupyter-widgets/controls",
     "model_module_version": "1.5.0",
     "model_name": "HTMLModel",
     "state": {
      "_dom_classes": [],
      "_model_module": "@jupyter-widgets/controls",
      "_model_module_version": "1.5.0",
      "_model_name": "HTMLModel",
      "_view_count": null,
      "_view_module": "@jupyter-widgets/controls",
      "_view_module_version": "1.5.0",
      "_view_name": "HTMLView",
      "description": "",
      "description_tooltip": null,
      "layout": "IPY_MODEL_bf34783fbc3c44bf8b14404abf5d0bd0",
      "placeholder": "​",
      "style": "IPY_MODEL_06f8b1e44d714e0c8a4e4222b7dcf8a3",
      "value": " 440M/440M [00:03&lt;00:00, 141MB/s]"
     }
    },
    "d52d3fc4efa440aca23a37bcbb6d7b84": {
     "model_module": "@jupyter-widgets/base",
     "model_module_version": "1.2.0",
     "model_name": "LayoutModel",
     "state": {
      "_model_module": "@jupyter-widgets/base",
      "_model_module_version": "1.2.0",
      "_model_name": "LayoutModel",
      "_view_count": null,
      "_view_module": "@jupyter-widgets/base",
      "_view_module_version": "1.2.0",
      "_view_name": "LayoutView",
      "align_content": null,
      "align_items": null,
      "align_self": null,
      "border": null,
      "bottom": null,
      "display": null,
      "flex": null,
      "flex_flow": null,
      "grid_area": null,
      "grid_auto_columns": null,
      "grid_auto_flow": null,
      "grid_auto_rows": null,
      "grid_column": null,
      "grid_gap": null,
      "grid_row": null,
      "grid_template_areas": null,
      "grid_template_columns": null,
      "grid_template_rows": null,
      "height": null,
      "justify_content": null,
      "justify_items": null,
      "left": null,
      "margin": null,
      "max_height": null,
      "max_width": null,
      "min_height": null,
      "min_width": null,
      "object_fit": null,
      "object_position": null,
      "order": null,
      "overflow": null,
      "overflow_x": null,
      "overflow_y": null,
      "padding": null,
      "right": null,
      "top": null,
      "visibility": null,
      "width": null
     }
    },
    "dbef01a9327741e7ae8339a903b1ba16": {
     "model_module": "@jupyter-widgets/controls",
     "model_module_version": "1.5.0",
     "model_name": "FloatProgressModel",
     "state": {
      "_dom_classes": [],
      "_model_module": "@jupyter-widgets/controls",
      "_model_module_version": "1.5.0",
      "_model_name": "FloatProgressModel",
      "_view_count": null,
      "_view_module": "@jupyter-widgets/controls",
      "_view_module_version": "1.5.0",
      "_view_name": "ProgressView",
      "bar_style": "success",
      "description": "",
      "description_tooltip": null,
      "layout": "IPY_MODEL_eb509ea5b4554ae59d55b7ef23473a6a",
      "max": 440449768,
      "min": 0,
      "orientation": "horizontal",
      "style": "IPY_MODEL_10e057c028604dc9b0ebf6cb0d560751",
      "value": 440449768
     }
    },
    "e5b37b7c3afa412cbed97740a7abc0ba": {
     "model_module": "@jupyter-widgets/base",
     "model_module_version": "1.2.0",
     "model_name": "LayoutModel",
     "state": {
      "_model_module": "@jupyter-widgets/base",
      "_model_module_version": "1.2.0",
      "_model_name": "LayoutModel",
      "_view_count": null,
      "_view_module": "@jupyter-widgets/base",
      "_view_module_version": "1.2.0",
      "_view_name": "LayoutView",
      "align_content": null,
      "align_items": null,
      "align_self": null,
      "border": null,
      "bottom": null,
      "display": null,
      "flex": null,
      "flex_flow": null,
      "grid_area": null,
      "grid_auto_columns": null,
      "grid_auto_flow": null,
      "grid_auto_rows": null,
      "grid_column": null,
      "grid_gap": null,
      "grid_row": null,
      "grid_template_areas": null,
      "grid_template_columns": null,
      "grid_template_rows": null,
      "height": null,
      "justify_content": null,
      "justify_items": null,
      "left": null,
      "margin": null,
      "max_height": null,
      "max_width": null,
      "min_height": null,
      "min_width": null,
      "object_fit": null,
      "object_position": null,
      "order": null,
      "overflow": null,
      "overflow_x": null,
      "overflow_y": null,
      "padding": null,
      "right": null,
      "top": null,
      "visibility": null,
      "width": null
     }
    },
    "e690f0a1004a43de910b969f300fbe3e": {
     "model_module": "@jupyter-widgets/controls",
     "model_module_version": "1.5.0",
     "model_name": "HTMLModel",
     "state": {
      "_dom_classes": [],
      "_model_module": "@jupyter-widgets/controls",
      "_model_module_version": "1.5.0",
      "_model_name": "HTMLModel",
      "_view_count": null,
      "_view_module": "@jupyter-widgets/controls",
      "_view_module_version": "1.5.0",
      "_view_name": "HTMLView",
      "description": "",
      "description_tooltip": null,
      "layout": "IPY_MODEL_8baf020e794e40c2a907b1c0ffea586c",
      "placeholder": "​",
      "style": "IPY_MODEL_3409217788b4493c8a7dd93883a8bdd2",
      "value": "config.json: 100%"
     }
    },
    "e9c710c5607c478382eccb13f5e14f91": {
     "model_module": "@jupyter-widgets/base",
     "model_module_version": "1.2.0",
     "model_name": "LayoutModel",
     "state": {
      "_model_module": "@jupyter-widgets/base",
      "_model_module_version": "1.2.0",
      "_model_name": "LayoutModel",
      "_view_count": null,
      "_view_module": "@jupyter-widgets/base",
      "_view_module_version": "1.2.0",
      "_view_name": "LayoutView",
      "align_content": null,
      "align_items": null,
      "align_self": null,
      "border": null,
      "bottom": null,
      "display": null,
      "flex": null,
      "flex_flow": null,
      "grid_area": null,
      "grid_auto_columns": null,
      "grid_auto_flow": null,
      "grid_auto_rows": null,
      "grid_column": null,
      "grid_gap": null,
      "grid_row": null,
      "grid_template_areas": null,
      "grid_template_columns": null,
      "grid_template_rows": null,
      "height": null,
      "justify_content": null,
      "justify_items": null,
      "left": null,
      "margin": null,
      "max_height": null,
      "max_width": null,
      "min_height": null,
      "min_width": null,
      "object_fit": null,
      "object_position": null,
      "order": null,
      "overflow": null,
      "overflow_x": null,
      "overflow_y": null,
      "padding": null,
      "right": null,
      "top": null,
      "visibility": null,
      "width": null
     }
    },
    "eb509ea5b4554ae59d55b7ef23473a6a": {
     "model_module": "@jupyter-widgets/base",
     "model_module_version": "1.2.0",
     "model_name": "LayoutModel",
     "state": {
      "_model_module": "@jupyter-widgets/base",
      "_model_module_version": "1.2.0",
      "_model_name": "LayoutModel",
      "_view_count": null,
      "_view_module": "@jupyter-widgets/base",
      "_view_module_version": "1.2.0",
      "_view_name": "LayoutView",
      "align_content": null,
      "align_items": null,
      "align_self": null,
      "border": null,
      "bottom": null,
      "display": null,
      "flex": null,
      "flex_flow": null,
      "grid_area": null,
      "grid_auto_columns": null,
      "grid_auto_flow": null,
      "grid_auto_rows": null,
      "grid_column": null,
      "grid_gap": null,
      "grid_row": null,
      "grid_template_areas": null,
      "grid_template_columns": null,
      "grid_template_rows": null,
      "height": null,
      "justify_content": null,
      "justify_items": null,
      "left": null,
      "margin": null,
      "max_height": null,
      "max_width": null,
      "min_height": null,
      "min_width": null,
      "object_fit": null,
      "object_position": null,
      "order": null,
      "overflow": null,
      "overflow_x": null,
      "overflow_y": null,
      "padding": null,
      "right": null,
      "top": null,
      "visibility": null,
      "width": null
     }
    },
    "ebc73ea82703406f8c55ffeb7cf8d6b4": {
     "model_module": "@jupyter-widgets/base",
     "model_module_version": "1.2.0",
     "model_name": "LayoutModel",
     "state": {
      "_model_module": "@jupyter-widgets/base",
      "_model_module_version": "1.2.0",
      "_model_name": "LayoutModel",
      "_view_count": null,
      "_view_module": "@jupyter-widgets/base",
      "_view_module_version": "1.2.0",
      "_view_name": "LayoutView",
      "align_content": null,
      "align_items": null,
      "align_self": null,
      "border": null,
      "bottom": null,
      "display": null,
      "flex": null,
      "flex_flow": null,
      "grid_area": null,
      "grid_auto_columns": null,
      "grid_auto_flow": null,
      "grid_auto_rows": null,
      "grid_column": null,
      "grid_gap": null,
      "grid_row": null,
      "grid_template_areas": null,
      "grid_template_columns": null,
      "grid_template_rows": null,
      "height": null,
      "justify_content": null,
      "justify_items": null,
      "left": null,
      "margin": null,
      "max_height": null,
      "max_width": null,
      "min_height": null,
      "min_width": null,
      "object_fit": null,
      "object_position": null,
      "order": null,
      "overflow": null,
      "overflow_x": null,
      "overflow_y": null,
      "padding": null,
      "right": null,
      "top": null,
      "visibility": null,
      "width": null
     }
    },
    "ecc0d0b6f1204d43b805c53e78163a47": {
     "model_module": "@jupyter-widgets/controls",
     "model_module_version": "1.5.0",
     "model_name": "HTMLModel",
     "state": {
      "_dom_classes": [],
      "_model_module": "@jupyter-widgets/controls",
      "_model_module_version": "1.5.0",
      "_model_name": "HTMLModel",
      "_view_count": null,
      "_view_module": "@jupyter-widgets/controls",
      "_view_module_version": "1.5.0",
      "_view_name": "HTMLView",
      "description": "",
      "description_tooltip": null,
      "layout": "IPY_MODEL_ebc73ea82703406f8c55ffeb7cf8d6b4",
      "placeholder": "​",
      "style": "IPY_MODEL_c1d8831b579c4f9faf0f33bd888168eb",
      "value": "Filter: 100%"
     }
    },
    "efea4ef139b74ae4b67af0d7997a94f9": {
     "model_module": "@jupyter-widgets/controls",
     "model_module_version": "1.5.0",
     "model_name": "DescriptionStyleModel",
     "state": {
      "_model_module": "@jupyter-widgets/controls",
      "_model_module_version": "1.5.0",
      "_model_name": "DescriptionStyleModel",
      "_view_count": null,
      "_view_module": "@jupyter-widgets/base",
      "_view_module_version": "1.2.0",
      "_view_name": "StyleView",
      "description_width": ""
     }
    },
    "f096f4323c754bbdba4c68f25187e218": {
     "model_module": "@jupyter-widgets/controls",
     "model_module_version": "1.5.0",
     "model_name": "DescriptionStyleModel",
     "state": {
      "_model_module": "@jupyter-widgets/controls",
      "_model_module_version": "1.5.0",
      "_model_name": "DescriptionStyleModel",
      "_view_count": null,
      "_view_module": "@jupyter-widgets/base",
      "_view_module_version": "1.2.0",
      "_view_name": "StyleView",
      "description_width": ""
     }
    },
    "fd9f60466fda4f2ebad97c2fbc58be27": {
     "model_module": "@jupyter-widgets/base",
     "model_module_version": "1.2.0",
     "model_name": "LayoutModel",
     "state": {
      "_model_module": "@jupyter-widgets/base",
      "_model_module_version": "1.2.0",
      "_model_name": "LayoutModel",
      "_view_count": null,
      "_view_module": "@jupyter-widgets/base",
      "_view_module_version": "1.2.0",
      "_view_name": "LayoutView",
      "align_content": null,
      "align_items": null,
      "align_self": null,
      "border": null,
      "bottom": null,
      "display": null,
      "flex": null,
      "flex_flow": null,
      "grid_area": null,
      "grid_auto_columns": null,
      "grid_auto_flow": null,
      "grid_auto_rows": null,
      "grid_column": null,
      "grid_gap": null,
      "grid_row": null,
      "grid_template_areas": null,
      "grid_template_columns": null,
      "grid_template_rows": null,
      "height": null,
      "justify_content": null,
      "justify_items": null,
      "left": null,
      "margin": null,
      "max_height": null,
      "max_width": null,
      "min_height": null,
      "min_width": null,
      "object_fit": null,
      "object_position": null,
      "order": null,
      "overflow": null,
      "overflow_x": null,
      "overflow_y": null,
      "padding": null,
      "right": null,
      "top": null,
      "visibility": null,
      "width": null
     }
    }
   }
  }
 },
 "nbformat": 4,
 "nbformat_minor": 1
}
