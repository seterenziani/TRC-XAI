{
 "cells": [
  {
   "cell_type": "markdown",
   "metadata": {
    "id": "SULo1e0p0KQF"
   },
   "source": [
    "# Preprocessing Data"
   ]
  },
  {
   "cell_type": "markdown",
   "metadata": {
    "id": "LhENDICG0PP5"
   },
   "source": [
    "## Imports"
   ]
  },
  {
   "cell_type": "code",
   "execution_count": null,
   "metadata": {
    "id": "ZZiroDm20UML"
   },
   "outputs": [],
   "source": [
    "import os\n",
    "import pandas as pd\n",
    "import xml.etree.ElementTree as ET\n",
    "from xml.etree.ElementTree import tostring\n",
    "import matplotlib.pyplot as plt\n",
    "import csv"
   ]
  },
  {
   "cell_type": "markdown",
   "metadata": {
    "id": "M5MyJDc80VQt"
   },
   "source": [
    "## Reading Raw Matres"
   ]
  },
  {
   "cell_type": "code",
   "execution_count": null,
   "metadata": {
    "id": "qmpVorSo5eov"
   },
   "outputs": [],
   "source": [
    "directory_path_timebank = 'data/raw/timebank.txt'\n",
    "directory_path_platinum = 'data/raw/platinum.txt'\n",
    "directory_path_aquaint = 'data/raw/aquaint.txt'"
   ]
  },
  {
   "cell_type": "code",
   "execution_count": null,
   "metadata": {
    "id": "n_6u83byGG2y"
   },
   "outputs": [],
   "source": [
    "directory_path_timebank_tmlr = 'data/raw/timebank/'\n",
    "directory_path_platinum_tmlr = 'data/raw/platinum/'\n",
    "directory_path_aquaint_tmlr = 'data/raw/aquaint/'"
   ]
  },
  {
   "cell_type": "code",
   "execution_count": null,
   "metadata": {
    "id": "TuPn4MLz-Gu3"
   },
   "outputs": [],
   "source": [
    "def read_data(file_path):\n",
    "    data = []\n",
    "    with open(file_path, 'r', encoding='utf-8') as file:\n",
    "        reader = csv.reader(file, delimiter='\\t')\n",
    "        next(reader)\n",
    "        for row in reader:\n",
    "            if len(row) == 6:  # Ensure the row has the correct number of columns\n",
    "                entry = {\n",
    "                    'docid': row[0],\n",
    "                    'verb1': row[1],\n",
    "                    'verb2': row[2],\n",
    "                    'eiid1': row[3],\n",
    "                    'eiid2': row[4],\n",
    "                    'relation': row[5]\n",
    "                }\n",
    "                data.append(entry)\n",
    "    return data"
   ]
  },
  {
   "cell_type": "code",
   "execution_count": null,
   "metadata": {
    "id": "KjNLNxE4_aKy"
   },
   "outputs": [],
   "source": [
    "def read_matres_data_to_dataframe(file_path):\n",
    "    try:\n",
    "        df = pd.read_csv(file_path, delimiter='\\t', header=None, names=['docid', 'verb1', 'verb2', 'eiid1', 'eiid2', 'relation'], encoding='utf-8')\n",
    "        df = df.applymap(lambda x: x.strip() if isinstance(x, str) else x)\n",
    "\n",
    "        return df\n",
    "    except Exception as e:\n",
    "        print(f\"Error reading or processing file into DataFrame: {e}\")\n",
    "        return None"
   ]
  },
  {
   "cell_type": "code",
   "execution_count": null,
   "metadata": {
    "id": "m5Dlw0nl-NBw"
   },
   "outputs": [],
   "source": [
    "timebank = read_matres_data_to_dataframe(directory_path_timebank)\n",
    "platinum = read_matres_data_to_dataframe(directory_path_platinum)\n",
    "aquaint = read_matres_data_to_dataframe(directory_path_aquaint)"
   ]
  },
  {
   "cell_type": "code",
   "execution_count": null,
   "metadata": {
    "id": "WVfwIjL-F-4c"
   },
   "outputs": [],
   "source": [
    "def extract_clean_text(root):\n",
    "    text_element = root.find('.//TEXT')\n",
    "    return ''.join(text_element.itertext())"
   ]
  },
  {
   "cell_type": "code",
   "execution_count": null,
   "metadata": {
    "colab": {
     "base_uri": "https://localhost:8080/"
    },
    "id": "iZ_WobvIJOGH",
    "outputId": "7636fef7-59f8-45e1-921f-902daa4dd25f"
   },
   "outputs": [],
   "source": [
    "for index, row in timebank.iterrows():\n",
    "    file_path = os.path.join(directory_path_timebank_tmlr, f\"{row['docid']}.tml\")\n",
    "    if os.path.exists(file_path):\n",
    "        try:\n",
    "            tree = ET.parse(file_path)\n",
    "            root = tree.getroot()\n",
    "            context = extract_clean_text(root)\n",
    "            timebank.at[index, 'context'] = context.strip()  # strip() to remove leading/trailing whitespace\n",
    "        except ET.ParseError as e:\n",
    "            print(f\"Error parsing XML: {e}\")\n",
    "        except Exception as e:\n",
    "            print(f\"Unexpected error: {e}\")\n",
    "    else:\n",
    "        print(f\"File does not exist: {file_path}\")"
   ]
  },
  {
   "cell_type": "code",
   "execution_count": null,
   "metadata": {
    "colab": {
     "base_uri": "https://localhost:8080/"
    },
    "id": "7e060yVrKN4S",
    "outputId": "29a8f0e9-2aa0-4c1b-b925-d28dea45456b"
   },
   "outputs": [],
   "source": [
    "for index, row in platinum.iterrows():\n",
    "    file_path = os.path.join(directory_path_platinum_tmlr, f\"{row['docid']}.tml\")\n",
    "    if os.path.exists(file_path):\n",
    "        try:\n",
    "            tree = ET.parse(file_path)\n",
    "            root = tree.getroot()\n",
    "            context = extract_clean_text(root)\n",
    "            platinum.at[index, 'context'] = context.strip()  # strip() to remove leading/trailing whitespace\n",
    "        except ET.ParseError as e:\n",
    "            print(f\"Error parsing XML: {e}\")\n",
    "        except Exception as e:\n",
    "            print(f\"Unexpected error: {e}\")\n",
    "    else:\n",
    "        print(f\"File does not exist: {file_path}\")"
   ]
  },
  {
   "cell_type": "code",
   "execution_count": null,
   "metadata": {
    "colab": {
     "base_uri": "https://localhost:8080/"
    },
    "id": "D_8pk-s8KcnH",
    "outputId": "3353d5bb-11e2-4294-fc87-163815a96f6e"
   },
   "outputs": [],
   "source": [
    "for index, row in aquaint.iterrows():\n",
    "    file_path = os.path.join(directory_path_aquaint_tmlr, f\"{row['docid']}.tml\")\n",
    "    if os.path.exists(file_path):\n",
    "        try:\n",
    "            tree = ET.parse(file_path)\n",
    "            root = tree.getroot()\n",
    "            context = extract_clean_text(root)\n",
    "            aquaint.at[index, 'context'] = context.strip()  # strip() to remove leading/trailing whitespace\n",
    "        except ET.ParseError as e:\n",
    "            print(f\"Error parsing XML: {e}\")\n",
    "        except Exception as e:\n",
    "            print(f\"Unexpected error: {e}\")\n",
    "    else:\n",
    "        print(f\"File does not exist: {file_path}\")"
   ]
  },
  {
   "cell_type": "markdown",
   "metadata": {
    "id": "9cjsqivseV1Y"
   },
   "source": [
    "## Processing Raw Matres"
   ]
  },
  {
   "cell_type": "code",
   "execution_count": null,
   "metadata": {
    "id": "IdvWG7GPXndS"
   },
   "outputs": [],
   "source": [
    "platinum_equal = platinum[platinum['relation'] == 'EQUAL'].copy()\n",
    "platinum_equal['verb1'], platinum_equal['verb2'] = platinum_equal['verb2'], platinum_equal['verb1']\n",
    "platinum = pd.concat([platinum, platinum_equal], ignore_index=True)"
   ]
  },
  {
   "cell_type": "code",
   "execution_count": null,
   "metadata": {
    "id": "-PTt_rdEXwBG"
   },
   "outputs": [],
   "source": [
    "aquaint_equal = aquaint[aquaint['relation'] == 'EQUAL'].copy()\n",
    "aquaint_equal['verb1'], aquaint_equal['verb2'] = aquaint_equal['verb2'], aquaint_equal['verb1']\n",
    "aquaint = pd.concat([aquaint, platinum_equal], ignore_index=True)"
   ]
  },
  {
   "cell_type": "code",
   "execution_count": null,
   "metadata": {
    "id": "Cky3vgtGX1um"
   },
   "outputs": [],
   "source": [
    "timebank_equal = timebank[timebank['relation'] == 'EQUAL'].copy()\n",
    "timebank_equal['verb1'], timebank_equal['verb2'] = timebank_equal['verb2'], timebank_equal['verb1']\n",
    "timebank = pd.concat([timebank, platinum_equal], ignore_index=True)"
   ]
  },
  {
   "cell_type": "code",
   "execution_count": null,
   "metadata": {
    "colab": {
     "base_uri": "https://localhost:8080/"
    },
    "id": "mQ1eDNcLX7Gc",
    "outputId": "e0623d4a-fb14-4822-8717-5ae8ebc72224"
   },
   "outputs": [],
   "source": [
    "print(timebank['relation'].value_counts())\n",
    "print(aquaint['relation'].value_counts())\n",
    "print(platinum['relation'].value_counts())"
   ]
  },
  {
   "cell_type": "code",
   "execution_count": null,
   "metadata": {
    "id": "Q60EiAr8K2tc"
   },
   "outputs": [],
   "source": [
    "#platinum.to_csv('data/interim/platinum.csv', index=False)\n",
    "#aquaint.to_csv('data/interim/aquaint.csv', index=False)\n",
    "#timebank.to_csv('data/interim/timebank.csv', index=False)"
   ]
  },
  {
   "cell_type": "markdown",
   "metadata": {
    "id": "MmahznMAXe5F"
   },
   "source": [
    "## Split Data"
   ]
  },
  {
   "cell_type": "code",
   "execution_count": null,
   "metadata": {
    "id": "xsgD3w5wwzYL"
   },
   "outputs": [],
   "source": [
    "train = pd.concat([timebank, aquaint], ignore_index=True)\n",
    "test = platinum"
   ]
  },
  {
   "cell_type": "code",
   "execution_count": null,
   "metadata": {
    "colab": {
     "base_uri": "https://localhost:8080/"
    },
    "id": "MMKZoHbvW7uD",
    "outputId": "b84dcd28-a725-4974-b4da-32d6022d7aad"
   },
   "outputs": [],
   "source": [
    "print(train['relation'].value_counts())\n",
    "print(test['relation'].value_counts())"
   ]
  },
  {
   "cell_type": "markdown",
   "metadata": {
    "id": "c4QRYHqlWkb6"
   },
   "source": [
    "## Process Split Data"
   ]
  },
  {
   "cell_type": "code",
   "execution_count": null,
   "metadata": {
    "id": "MRSjh6MPV1-b"
   },
   "outputs": [],
   "source": [
    "label_mapping = {\n",
    "    'BEFORE': 0,\n",
    "    'AFTER': 1,\n",
    "    'EQUAL': 2,\n",
    "    'VAGUE': 3\n",
    "}"
   ]
  },
  {
   "cell_type": "code",
   "execution_count": null,
   "metadata": {
    "colab": {
     "base_uri": "https://localhost:8080/"
    },
    "id": "6J3deD_NV4vC",
    "outputId": "e0c150be-4793-4d0a-ab5d-fe9c487c868a"
   },
   "outputs": [],
   "source": [
    "train['label'] = train['relation'].map(label_mapping)\n",
    "test['label'] = test['relation'].map(label_mapping)"
   ]
  },
  {
   "cell_type": "code",
   "execution_count": null,
   "metadata": {
    "id": "lpqvSyruifni"
   },
   "outputs": [],
   "source": [
    "def process(df):\n",
    "    processed = []\n",
    "    for i, row in df.iterrows():\n",
    "        context = row['context']\n",
    "        eventA = row['verb1']\n",
    "        eventB = row['verb2']\n",
    "        relation = row['relation']\n",
    "        label = row['label']\n",
    "        id = row['docid']\n",
    "\n",
    "    #input = f\"{context} [SEP] {eventA} [SEP] {eventB}\"\n",
    "        processed.append({\n",
    "            'id' : id,\n",
    "            'context' : context,\n",
    "            'eventA' : eventA,\n",
    "            'eventB' : eventB,\n",
    "            'label_temp' : relation,\n",
    "            'label' : label\n",
    "          })\n",
    "    dataset = pd.DataFrame(processed)\n",
    "    return dataset"
   ]
  },
  {
   "cell_type": "code",
   "execution_count": null,
   "metadata": {
    "id": "DMB-TDYci6Vo"
   },
   "outputs": [],
   "source": [
    "processed_train = process(train)\n",
    "processed_test = process(test)"
   ]
  },
  {
   "cell_type": "code",
   "execution_count": null,
   "metadata": {
    "id": "bJMHDF9ig9uY"
   },
   "outputs": [],
   "source": [
    "processed_train.to_csv('data/processed/train.csv', index=False)\n",
    "processed_test.to_csv('data/processed/test.csv', index=False)"
   ]
  }
 ],
 "metadata": {
  "colab": {
   "collapsed_sections": [
    "LhENDICG0PP5",
    "HUoc7auM4d6X"
   ],
   "provenance": []
  },
  "kernelspec": {
   "display_name": "Python 3 (ipykernel)",
   "language": "python",
   "name": "python3"
  },
  "language_info": {
   "codemirror_mode": {
    "name": "ipython",
    "version": 3
   },
   "file_extension": ".py",
   "mimetype": "text/x-python",
   "name": "python",
   "nbconvert_exporter": "python",
   "pygments_lexer": "ipython3",
   "version": "3.11.5"
  },
  "widgets": {
   "application/vnd.jupyter.widget-state+json": {
    "00eb741baed045588e25b9bc107f6312": {
     "model_module": "@jupyter-widgets/controls",
     "model_module_version": "1.5.0",
     "model_name": "DescriptionStyleModel",
     "state": {
      "_model_module": "@jupyter-widgets/controls",
      "_model_module_version": "1.5.0",
      "_model_name": "DescriptionStyleModel",
      "_view_count": null,
      "_view_module": "@jupyter-widgets/base",
      "_view_module_version": "1.2.0",
      "_view_name": "StyleView",
      "description_width": ""
     }
    },
    "0eda0941fe064cb78a7612e274816bc3": {
     "model_module": "@jupyter-widgets/controls",
     "model_module_version": "1.5.0",
     "model_name": "HTMLModel",
     "state": {
      "_dom_classes": [],
      "_model_module": "@jupyter-widgets/controls",
      "_model_module_version": "1.5.0",
      "_model_name": "HTMLModel",
      "_view_count": null,
      "_view_module": "@jupyter-widgets/controls",
      "_view_module_version": "1.5.0",
      "_view_name": "HTMLView",
      "description": "",
      "description_tooltip": null,
      "layout": "IPY_MODEL_2f5004064dd84c25845113dd014f7d0b",
      "placeholder": "​",
      "style": "IPY_MODEL_5a1ccce3a374476f9ec20038897fb70d",
      "value": "Downloading: 100%"
     }
    },
    "17fa29a123584491a91eb740e2d9344f": {
     "model_module": "@jupyter-widgets/controls",
     "model_module_version": "1.5.0",
     "model_name": "FloatProgressModel",
     "state": {
      "_dom_classes": [],
      "_model_module": "@jupyter-widgets/controls",
      "_model_module_version": "1.5.0",
      "_model_name": "FloatProgressModel",
      "_view_count": null,
      "_view_module": "@jupyter-widgets/controls",
      "_view_module_version": "1.5.0",
      "_view_name": "ProgressView",
      "bar_style": "success",
      "description": "",
      "description_tooltip": null,
      "layout": "IPY_MODEL_7bf9ce92908b439099bde8940f6e6aae",
      "max": 231508,
      "min": 0,
      "orientation": "horizontal",
      "style": "IPY_MODEL_d19c51312984488ca3f8120f9c5fc9e4",
      "value": 231508
     }
    },
    "2f5004064dd84c25845113dd014f7d0b": {
     "model_module": "@jupyter-widgets/base",
     "model_module_version": "1.2.0",
     "model_name": "LayoutModel",
     "state": {
      "_model_module": "@jupyter-widgets/base",
      "_model_module_version": "1.2.0",
      "_model_name": "LayoutModel",
      "_view_count": null,
      "_view_module": "@jupyter-widgets/base",
      "_view_module_version": "1.2.0",
      "_view_name": "LayoutView",
      "align_content": null,
      "align_items": null,
      "align_self": null,
      "border": null,
      "bottom": null,
      "display": null,
      "flex": null,
      "flex_flow": null,
      "grid_area": null,
      "grid_auto_columns": null,
      "grid_auto_flow": null,
      "grid_auto_rows": null,
      "grid_column": null,
      "grid_gap": null,
      "grid_row": null,
      "grid_template_areas": null,
      "grid_template_columns": null,
      "grid_template_rows": null,
      "height": null,
      "justify_content": null,
      "justify_items": null,
      "left": null,
      "margin": null,
      "max_height": null,
      "max_width": null,
      "min_height": null,
      "min_width": null,
      "object_fit": null,
      "object_position": null,
      "order": null,
      "overflow": null,
      "overflow_x": null,
      "overflow_y": null,
      "padding": null,
      "right": null,
      "top": null,
      "visibility": null,
      "width": null
     }
    },
    "341e95e370e445e091fa5bf0f3bbbddd": {
     "model_module": "@jupyter-widgets/controls",
     "model_module_version": "1.5.0",
     "model_name": "HBoxModel",
     "state": {
      "_dom_classes": [],
      "_model_module": "@jupyter-widgets/controls",
      "_model_module_version": "1.5.0",
      "_model_name": "HBoxModel",
      "_view_count": null,
      "_view_module": "@jupyter-widgets/controls",
      "_view_module_version": "1.5.0",
      "_view_name": "HBoxView",
      "box_style": "",
      "children": [
       "IPY_MODEL_d435550e894d415a9b4aede574d8209f",
       "IPY_MODEL_17fa29a123584491a91eb740e2d9344f",
       "IPY_MODEL_913de37efc494a0a9c5511c6b1e2641f"
      ],
      "layout": "IPY_MODEL_59cc5e24af3c4503aa2c19eb20c9101c"
     }
    },
    "3d927dae7ec643a39f3bc824f34c8907": {
     "model_module": "@jupyter-widgets/base",
     "model_module_version": "1.2.0",
     "model_name": "LayoutModel",
     "state": {
      "_model_module": "@jupyter-widgets/base",
      "_model_module_version": "1.2.0",
      "_model_name": "LayoutModel",
      "_view_count": null,
      "_view_module": "@jupyter-widgets/base",
      "_view_module_version": "1.2.0",
      "_view_name": "LayoutView",
      "align_content": null,
      "align_items": null,
      "align_self": null,
      "border": null,
      "bottom": null,
      "display": null,
      "flex": null,
      "flex_flow": null,
      "grid_area": null,
      "grid_auto_columns": null,
      "grid_auto_flow": null,
      "grid_auto_rows": null,
      "grid_column": null,
      "grid_gap": null,
      "grid_row": null,
      "grid_template_areas": null,
      "grid_template_columns": null,
      "grid_template_rows": null,
      "height": null,
      "justify_content": null,
      "justify_items": null,
      "left": null,
      "margin": null,
      "max_height": null,
      "max_width": null,
      "min_height": null,
      "min_width": null,
      "object_fit": null,
      "object_position": null,
      "order": null,
      "overflow": null,
      "overflow_x": null,
      "overflow_y": null,
      "padding": null,
      "right": null,
      "top": null,
      "visibility": null,
      "width": null
     }
    },
    "59cc5e24af3c4503aa2c19eb20c9101c": {
     "model_module": "@jupyter-widgets/base",
     "model_module_version": "1.2.0",
     "model_name": "LayoutModel",
     "state": {
      "_model_module": "@jupyter-widgets/base",
      "_model_module_version": "1.2.0",
      "_model_name": "LayoutModel",
      "_view_count": null,
      "_view_module": "@jupyter-widgets/base",
      "_view_module_version": "1.2.0",
      "_view_name": "LayoutView",
      "align_content": null,
      "align_items": null,
      "align_self": null,
      "border": null,
      "bottom": null,
      "display": null,
      "flex": null,
      "flex_flow": null,
      "grid_area": null,
      "grid_auto_columns": null,
      "grid_auto_flow": null,
      "grid_auto_rows": null,
      "grid_column": null,
      "grid_gap": null,
      "grid_row": null,
      "grid_template_areas": null,
      "grid_template_columns": null,
      "grid_template_rows": null,
      "height": null,
      "justify_content": null,
      "justify_items": null,
      "left": null,
      "margin": null,
      "max_height": null,
      "max_width": null,
      "min_height": null,
      "min_width": null,
      "object_fit": null,
      "object_position": null,
      "order": null,
      "overflow": null,
      "overflow_x": null,
      "overflow_y": null,
      "padding": null,
      "right": null,
      "top": null,
      "visibility": null,
      "width": null
     }
    },
    "5a1ccce3a374476f9ec20038897fb70d": {
     "model_module": "@jupyter-widgets/controls",
     "model_module_version": "1.5.0",
     "model_name": "DescriptionStyleModel",
     "state": {
      "_model_module": "@jupyter-widgets/controls",
      "_model_module_version": "1.5.0",
      "_model_name": "DescriptionStyleModel",
      "_view_count": null,
      "_view_module": "@jupyter-widgets/base",
      "_view_module_version": "1.2.0",
      "_view_name": "StyleView",
      "description_width": ""
     }
    },
    "61fcf17c3676460e9c0fa8183c70dd79": {
     "model_module": "@jupyter-widgets/base",
     "model_module_version": "1.2.0",
     "model_name": "LayoutModel",
     "state": {
      "_model_module": "@jupyter-widgets/base",
      "_model_module_version": "1.2.0",
      "_model_name": "LayoutModel",
      "_view_count": null,
      "_view_module": "@jupyter-widgets/base",
      "_view_module_version": "1.2.0",
      "_view_name": "LayoutView",
      "align_content": null,
      "align_items": null,
      "align_self": null,
      "border": null,
      "bottom": null,
      "display": null,
      "flex": null,
      "flex_flow": null,
      "grid_area": null,
      "grid_auto_columns": null,
      "grid_auto_flow": null,
      "grid_auto_rows": null,
      "grid_column": null,
      "grid_gap": null,
      "grid_row": null,
      "grid_template_areas": null,
      "grid_template_columns": null,
      "grid_template_rows": null,
      "height": null,
      "justify_content": null,
      "justify_items": null,
      "left": null,
      "margin": null,
      "max_height": null,
      "max_width": null,
      "min_height": null,
      "min_width": null,
      "object_fit": null,
      "object_position": null,
      "order": null,
      "overflow": null,
      "overflow_x": null,
      "overflow_y": null,
      "padding": null,
      "right": null,
      "top": null,
      "visibility": null,
      "width": null
     }
    },
    "68b50eb6d4854198873ea9ee8c2fc142": {
     "model_module": "@jupyter-widgets/base",
     "model_module_version": "1.2.0",
     "model_name": "LayoutModel",
     "state": {
      "_model_module": "@jupyter-widgets/base",
      "_model_module_version": "1.2.0",
      "_model_name": "LayoutModel",
      "_view_count": null,
      "_view_module": "@jupyter-widgets/base",
      "_view_module_version": "1.2.0",
      "_view_name": "LayoutView",
      "align_content": null,
      "align_items": null,
      "align_self": null,
      "border": null,
      "bottom": null,
      "display": null,
      "flex": null,
      "flex_flow": null,
      "grid_area": null,
      "grid_auto_columns": null,
      "grid_auto_flow": null,
      "grid_auto_rows": null,
      "grid_column": null,
      "grid_gap": null,
      "grid_row": null,
      "grid_template_areas": null,
      "grid_template_columns": null,
      "grid_template_rows": null,
      "height": null,
      "justify_content": null,
      "justify_items": null,
      "left": null,
      "margin": null,
      "max_height": null,
      "max_width": null,
      "min_height": null,
      "min_width": null,
      "object_fit": null,
      "object_position": null,
      "order": null,
      "overflow": null,
      "overflow_x": null,
      "overflow_y": null,
      "padding": null,
      "right": null,
      "top": null,
      "visibility": null,
      "width": null
     }
    },
    "76b422bade8a411a989fb5e61d11b11b": {
     "model_module": "@jupyter-widgets/controls",
     "model_module_version": "1.5.0",
     "model_name": "HBoxModel",
     "state": {
      "_dom_classes": [],
      "_model_module": "@jupyter-widgets/controls",
      "_model_module_version": "1.5.0",
      "_model_name": "HBoxModel",
      "_view_count": null,
      "_view_module": "@jupyter-widgets/controls",
      "_view_module_version": "1.5.0",
      "_view_name": "HBoxView",
      "box_style": "",
      "children": [
       "IPY_MODEL_0eda0941fe064cb78a7612e274816bc3",
       "IPY_MODEL_f47d3b1f4d1f4c3daea869f5e9c6e42c",
       "IPY_MODEL_b73341eb0c684feca9656d0e0f3bdfcf"
      ],
      "layout": "IPY_MODEL_3d927dae7ec643a39f3bc824f34c8907"
     }
    },
    "7bf9ce92908b439099bde8940f6e6aae": {
     "model_module": "@jupyter-widgets/base",
     "model_module_version": "1.2.0",
     "model_name": "LayoutModel",
     "state": {
      "_model_module": "@jupyter-widgets/base",
      "_model_module_version": "1.2.0",
      "_model_name": "LayoutModel",
      "_view_count": null,
      "_view_module": "@jupyter-widgets/base",
      "_view_module_version": "1.2.0",
      "_view_name": "LayoutView",
      "align_content": null,
      "align_items": null,
      "align_self": null,
      "border": null,
      "bottom": null,
      "display": null,
      "flex": null,
      "flex_flow": null,
      "grid_area": null,
      "grid_auto_columns": null,
      "grid_auto_flow": null,
      "grid_auto_rows": null,
      "grid_column": null,
      "grid_gap": null,
      "grid_row": null,
      "grid_template_areas": null,
      "grid_template_columns": null,
      "grid_template_rows": null,
      "height": null,
      "justify_content": null,
      "justify_items": null,
      "left": null,
      "margin": null,
      "max_height": null,
      "max_width": null,
      "min_height": null,
      "min_width": null,
      "object_fit": null,
      "object_position": null,
      "order": null,
      "overflow": null,
      "overflow_x": null,
      "overflow_y": null,
      "padding": null,
      "right": null,
      "top": null,
      "visibility": null,
      "width": null
     }
    },
    "7c0b996646084c92ae8e637f0fbaae71": {
     "model_module": "@jupyter-widgets/controls",
     "model_module_version": "1.5.0",
     "model_name": "ProgressStyleModel",
     "state": {
      "_model_module": "@jupyter-widgets/controls",
      "_model_module_version": "1.5.0",
      "_model_name": "ProgressStyleModel",
      "_view_count": null,
      "_view_module": "@jupyter-widgets/base",
      "_view_module_version": "1.2.0",
      "_view_name": "StyleView",
      "bar_color": null,
      "description_width": ""
     }
    },
    "913de37efc494a0a9c5511c6b1e2641f": {
     "model_module": "@jupyter-widgets/controls",
     "model_module_version": "1.5.0",
     "model_name": "HTMLModel",
     "state": {
      "_dom_classes": [],
      "_model_module": "@jupyter-widgets/controls",
      "_model_module_version": "1.5.0",
      "_model_name": "HTMLModel",
      "_view_count": null,
      "_view_module": "@jupyter-widgets/controls",
      "_view_module_version": "1.5.0",
      "_view_name": "HTMLView",
      "description": "",
      "description_tooltip": null,
      "layout": "IPY_MODEL_61fcf17c3676460e9c0fa8183c70dd79",
      "placeholder": "​",
      "style": "IPY_MODEL_f888725a684b4591b0a7cd132100ff03",
      "value": " 226k/226k [00:00&lt;00:00, 3.46MB/s]"
     }
    },
    "b73341eb0c684feca9656d0e0f3bdfcf": {
     "model_module": "@jupyter-widgets/controls",
     "model_module_version": "1.5.0",
     "model_name": "HTMLModel",
     "state": {
      "_dom_classes": [],
      "_model_module": "@jupyter-widgets/controls",
      "_model_module_version": "1.5.0",
      "_model_name": "HTMLModel",
      "_view_count": null,
      "_view_module": "@jupyter-widgets/controls",
      "_view_module_version": "1.5.0",
      "_view_name": "HTMLView",
      "description": "",
      "description_tooltip": null,
      "layout": "IPY_MODEL_d6f8f4a090f346569cc604386af5e04b",
      "placeholder": "​",
      "style": "IPY_MODEL_bb442b49ec8e4a31ad542e8f61660ea4",
      "value": " 285/285 [00:00&lt;00:00, 10.8kB/s]"
     }
    },
    "bb442b49ec8e4a31ad542e8f61660ea4": {
     "model_module": "@jupyter-widgets/controls",
     "model_module_version": "1.5.0",
     "model_name": "DescriptionStyleModel",
     "state": {
      "_model_module": "@jupyter-widgets/controls",
      "_model_module_version": "1.5.0",
      "_model_name": "DescriptionStyleModel",
      "_view_count": null,
      "_view_module": "@jupyter-widgets/base",
      "_view_module_version": "1.2.0",
      "_view_name": "StyleView",
      "description_width": ""
     }
    },
    "c12d7248cc684ae0b112bf146b8fe3d4": {
     "model_module": "@jupyter-widgets/base",
     "model_module_version": "1.2.0",
     "model_name": "LayoutModel",
     "state": {
      "_model_module": "@jupyter-widgets/base",
      "_model_module_version": "1.2.0",
      "_model_name": "LayoutModel",
      "_view_count": null,
      "_view_module": "@jupyter-widgets/base",
      "_view_module_version": "1.2.0",
      "_view_name": "LayoutView",
      "align_content": null,
      "align_items": null,
      "align_self": null,
      "border": null,
      "bottom": null,
      "display": null,
      "flex": null,
      "flex_flow": null,
      "grid_area": null,
      "grid_auto_columns": null,
      "grid_auto_flow": null,
      "grid_auto_rows": null,
      "grid_column": null,
      "grid_gap": null,
      "grid_row": null,
      "grid_template_areas": null,
      "grid_template_columns": null,
      "grid_template_rows": null,
      "height": null,
      "justify_content": null,
      "justify_items": null,
      "left": null,
      "margin": null,
      "max_height": null,
      "max_width": null,
      "min_height": null,
      "min_width": null,
      "object_fit": null,
      "object_position": null,
      "order": null,
      "overflow": null,
      "overflow_x": null,
      "overflow_y": null,
      "padding": null,
      "right": null,
      "top": null,
      "visibility": null,
      "width": null
     }
    },
    "d19c51312984488ca3f8120f9c5fc9e4": {
     "model_module": "@jupyter-widgets/controls",
     "model_module_version": "1.5.0",
     "model_name": "ProgressStyleModel",
     "state": {
      "_model_module": "@jupyter-widgets/controls",
      "_model_module_version": "1.5.0",
      "_model_name": "ProgressStyleModel",
      "_view_count": null,
      "_view_module": "@jupyter-widgets/base",
      "_view_module_version": "1.2.0",
      "_view_name": "StyleView",
      "bar_color": null,
      "description_width": ""
     }
    },
    "d435550e894d415a9b4aede574d8209f": {
     "model_module": "@jupyter-widgets/controls",
     "model_module_version": "1.5.0",
     "model_name": "HTMLModel",
     "state": {
      "_dom_classes": [],
      "_model_module": "@jupyter-widgets/controls",
      "_model_module_version": "1.5.0",
      "_model_name": "HTMLModel",
      "_view_count": null,
      "_view_module": "@jupyter-widgets/controls",
      "_view_module_version": "1.5.0",
      "_view_name": "HTMLView",
      "description": "",
      "description_tooltip": null,
      "layout": "IPY_MODEL_68b50eb6d4854198873ea9ee8c2fc142",
      "placeholder": "​",
      "style": "IPY_MODEL_00eb741baed045588e25b9bc107f6312",
      "value": "Downloading: 100%"
     }
    },
    "d6f8f4a090f346569cc604386af5e04b": {
     "model_module": "@jupyter-widgets/base",
     "model_module_version": "1.2.0",
     "model_name": "LayoutModel",
     "state": {
      "_model_module": "@jupyter-widgets/base",
      "_model_module_version": "1.2.0",
      "_model_name": "LayoutModel",
      "_view_count": null,
      "_view_module": "@jupyter-widgets/base",
      "_view_module_version": "1.2.0",
      "_view_name": "LayoutView",
      "align_content": null,
      "align_items": null,
      "align_self": null,
      "border": null,
      "bottom": null,
      "display": null,
      "flex": null,
      "flex_flow": null,
      "grid_area": null,
      "grid_auto_columns": null,
      "grid_auto_flow": null,
      "grid_auto_rows": null,
      "grid_column": null,
      "grid_gap": null,
      "grid_row": null,
      "grid_template_areas": null,
      "grid_template_columns": null,
      "grid_template_rows": null,
      "height": null,
      "justify_content": null,
      "justify_items": null,
      "left": null,
      "margin": null,
      "max_height": null,
      "max_width": null,
      "min_height": null,
      "min_width": null,
      "object_fit": null,
      "object_position": null,
      "order": null,
      "overflow": null,
      "overflow_x": null,
      "overflow_y": null,
      "padding": null,
      "right": null,
      "top": null,
      "visibility": null,
      "width": null
     }
    },
    "f47d3b1f4d1f4c3daea869f5e9c6e42c": {
     "model_module": "@jupyter-widgets/controls",
     "model_module_version": "1.5.0",
     "model_name": "FloatProgressModel",
     "state": {
      "_dom_classes": [],
      "_model_module": "@jupyter-widgets/controls",
      "_model_module_version": "1.5.0",
      "_model_name": "FloatProgressModel",
      "_view_count": null,
      "_view_module": "@jupyter-widgets/controls",
      "_view_module_version": "1.5.0",
      "_view_name": "ProgressView",
      "bar_style": "success",
      "description": "",
      "description_tooltip": null,
      "layout": "IPY_MODEL_c12d7248cc684ae0b112bf146b8fe3d4",
      "max": 285,
      "min": 0,
      "orientation": "horizontal",
      "style": "IPY_MODEL_7c0b996646084c92ae8e637f0fbaae71",
      "value": 285
     }
    },
    "f888725a684b4591b0a7cd132100ff03": {
     "model_module": "@jupyter-widgets/controls",
     "model_module_version": "1.5.0",
     "model_name": "DescriptionStyleModel",
     "state": {
      "_model_module": "@jupyter-widgets/controls",
      "_model_module_version": "1.5.0",
      "_model_name": "DescriptionStyleModel",
      "_view_count": null,
      "_view_module": "@jupyter-widgets/base",
      "_view_module_version": "1.2.0",
      "_view_name": "StyleView",
      "description_width": ""
     }
    }
   }
  }
 },
 "nbformat": 4,
 "nbformat_minor": 1
}
